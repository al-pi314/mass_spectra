{
 "cells": [
  {
   "cell_type": "code",
   "execution_count": 35,
   "metadata": {},
   "outputs": [],
   "source": [
    "import pickle\n",
    "import gensim\n",
    "from spec2vec import Spec2Vec\n",
    "import os\n",
    "import numpy as np"
   ]
  },
  {
   "cell_type": "markdown",
   "metadata": {},
   "source": [
    "### Example on training documents"
   ]
  },
  {
   "cell_type": "code",
   "execution_count": 2,
   "metadata": {},
   "outputs": [],
   "source": [
    "documents = pickle.load(open(\"./models/tbdms/preprocessed/documents.pickle\", \"rb\"))"
   ]
  },
  {
   "cell_type": "code",
   "execution_count": 3,
   "metadata": {},
   "outputs": [],
   "source": [
    "model = gensim.models.Word2Vec.load(\"./models/tbdms/spec2vec.model\")\n",
    "model = Spec2Vec(model)"
   ]
  },
  {
   "cell_type": "code",
   "execution_count": 4,
   "metadata": {},
   "outputs": [
    {
     "data": {
      "text/plain": [
       "array([15.86876743,  6.17050898, -4.49228144,  5.22535405, -0.61781243,\n",
       "       14.28316867,  8.40395679, 11.2233543 ,  3.61851081, -7.97188171])"
      ]
     },
     "execution_count": 4,
     "metadata": {},
     "output_type": "execute_result"
    }
   ],
   "source": [
    "embedding = model._calculate_embedding(documents[0])\n",
    "embedding[0:10]"
   ]
  },
  {
   "cell_type": "markdown",
   "metadata": {},
   "source": [
    "### Example on new data"
   ]
  },
  {
   "cell_type": "code",
   "execution_count": 51,
   "metadata": {},
   "outputs": [],
   "source": [
    "from spec2vec_train import preprocess_file"
   ]
  },
  {
   "cell_type": "code",
   "execution_count": 68,
   "metadata": {},
   "outputs": [],
   "source": [
    "model = gensim.models.Word2Vec.load(\"./models/tms/spec2vec.model\")\n",
    "model = Spec2Vec(model)"
   ]
  },
  {
   "cell_type": "code",
   "execution_count": 62,
   "metadata": {},
   "outputs": [],
   "source": [
    "FILE = \"./dataset/Test dataset_TMS_RAW.mgf\"\n",
    "assert os.path.isfile(FILE), f\"File not found: {FILE}\""
   ]
  },
  {
   "cell_type": "code",
   "execution_count": 63,
   "metadata": {},
   "outputs": [],
   "source": [
    "spectra_documents = preprocess_file(FILE)"
   ]
  },
  {
   "cell_type": "code",
   "execution_count": 69,
   "metadata": {},
   "outputs": [],
   "source": [
    "spectra_documents_by_inchikey = {}\n",
    "for sd in spectra_documents:\n",
    "    inchikey = sd.metadata.get(\"inchikey\")\n",
    "    if inchikey not in spectra_documents_by_inchikey:\n",
    "        spectra_documents_by_inchikey[inchikey] = []\n",
    "    spectra_documents_by_inchikey[inchikey].append(sd)"
   ]
  },
  {
   "cell_type": "code",
   "execution_count": 70,
   "metadata": {},
   "outputs": [],
   "source": [
    "spectra_embedding_by_inchikey = {}\n",
    "for inchikey, spectra in spectra_documents_by_inchikey.items():\n",
    "    spectra_embedding_by_inchikey[inchikey] = []\n",
    "    for spectrum in spectra:\n",
    "        spectra_embedding_by_inchikey[inchikey].append(model._calculate_embedding(spectrum))"
   ]
  },
  {
   "cell_type": "code",
   "execution_count": 71,
   "metadata": {},
   "outputs": [
    {
     "name": "stdout",
     "output_type": "stream",
     "text": [
      "Molecule VFFKJOXNCSJSAQ-UHFFFAOYSA-N Self-Similarity: Mean 0.882, Std 0.056\n",
      "Molecule HVEKDTUCYABGMC-UHFFFAOYSA-N Self-Similarity: Mean 0.851, Std 0.044\n",
      "Molecule NPHRHHQEJSRYEL-UHFFFAOYSA-N Self-Similarity: Mean 0.867, Std 0.039\n",
      "Molecule BJXLZKDWKXQNLP-UHFFFAOYSA-N Self-Similarity: Mean 0.913, Std 0.021\n",
      "Molecule YCAAUQGUAZTIAV-UHFFFAOYSA-N Self-Similarity: Mean 0.909, Std 0.034\n",
      "Molecule HKLDVWRZQFKYDQ-UHFFFAOYSA-N Self-Similarity: Mean 0.864, Std 0.039\n",
      "Molecule PSQXOOHLZAOXOZ-UHFFFAOYSA-N Self-Similarity: Mean 0.873, Std 0.033\n",
      "Molecule VBYNSEKUVOESSR-UHFFFAOYSA-N Self-Similarity: Mean 0.954, Std 0.013\n",
      "Molecule UGFXQBRWNPEHCX-UHFFFAOYSA-N Self-Similarity: Mean 0.895, Std 0.028\n",
      "Molecule MIGZCFOSPQOHRU-UHFFFAOYSA-N Self-Similarity: Mean 0.892, Std 0.026\n",
      "Molecule KYRPPPKHGUJSMB-UHFFFAOYSA-N Self-Similarity: Mean 0.793, Std 0.069\n",
      "Molecule BNAGIDDOEKUJRZ-UHFFFAOYSA-N Self-Similarity: Mean 0.872, Std 0.038\n",
      "Molecule LMFAUEGOCMAFIW-KZNAEPCWSA-N Self-Similarity: Mean 0.890, Std 0.024\n",
      "Molecule RGKVWYYYEGUOIV-UHFFFAOYSA-N Self-Similarity: Mean 0.977, Std 0.005\n",
      "Molecule DBCLHKSGLLGXOV-VMBXEPDQSA-N Self-Similarity: Mean 0.789, Std 0.152\n",
      "Molecule FWZOFSHJDAIJQE-UHFFFAOYSA-N Self-Similarity: Mean 0.964, Std 0.015\n",
      "Molecule PXHFJGOVGANQGI-UHFFFAOYSA-N Self-Similarity: Mean 0.660, Std 0.181\n",
      "Molecule INBPVSVUSZJONB-UHFFFAOYSA-N Self-Similarity: Mean 0.873, Std 0.070\n",
      "Molecule GIVUCFXWKODBAK-UHFFFAOYSA-N Self-Similarity: Mean 0.783, Std 0.089\n",
      "Molecule XPRNUJURPHIMGP-UHFFFAOYSA-N Self-Similarity: Mean 0.947, Std 0.023\n",
      "Molecule GEHYZCCVQVOFAF-UHFFFAOYSA-N Self-Similarity: Mean 0.776, Std 0.118\n",
      "Molecule IDFBYESAJYWJBH-UHFFFAOYSA-N Self-Similarity: Mean 0.822, Std 0.080\n",
      "Molecule MQLOUZABELCNEO-UHFFFAOYSA-N Self-Similarity: Mean 0.924, Std 0.028\n",
      "Molecule ROPQHZHERNEWKT-UHFFFAOYSA-N Self-Similarity: Mean 0.873, Std 0.043\n",
      "Molecule KWWCXUJAQYFSOX-UHFFFAOYSA-N Self-Similarity: Mean 0.867, Std 0.040\n",
      "Molecule LIHYYCYTHAQUBB-ZHACJKMWSA-N Self-Similarity: Mean 0.922, Std 0.032\n",
      "Molecule ORYOBNFVKJSNIY-UHFFFAOYSA-N Self-Similarity: Mean 0.653, Std 0.132\n",
      "Molecule BTQKAITUJUXGFH-VAWYXSNFSA-N Self-Similarity: Mean 0.912, Std 0.034\n",
      "Molecule RKLSIGFDXPECDB-FMIVXFBMSA-N Self-Similarity: Mean 0.906, Std 0.045\n",
      "Molecule GQEUJJBKENEAJT-UHFFFAOYSA-N Self-Similarity: Mean 0.917, Std 0.057\n",
      "Molecule HGGWBFIRNWOJCL-CPDXTSBQSA-N Self-Similarity: Mean 0.919, Std 0.051\n",
      "Molecule YXSPGYZGGCSNLG-HUVRVWIJSA-N Self-Similarity: Mean 0.925, Std 0.065\n",
      "Molecule KDRYIYOOJWDQSO-UHFFFAOYSA-N Self-Similarity: Mean 0.914, Std 0.040\n",
      "Molecule QRHBCFKYEXYRSP-UHFFFAOYSA-N Self-Similarity: Mean 0.900, Std 0.063\n",
      "Molecule FFBHECTVCXGRJZ-WLNPFYQQSA-N Self-Similarity: Mean 0.874, Std 0.092\n",
      "Molecule YNHGEJGZDSFBFR-QWQRBHLCSA-N Self-Similarity: Mean 0.917, Std 0.064\n",
      "Molecule SJQAAFBSGVNPLH-NMTVEPIMSA-N Self-Similarity: Mean 0.947, Std 0.010\n",
      "Molecule DTNUAPPJOHKDLL-CKOZHMEPSA-N Self-Similarity: Mean 0.941, Std 0.016\n",
      "Molecule ZVJAPQQJUJEYQQ-UHFFFAOYSA-N Self-Similarity: Mean 0.927, Std 0.027\n",
      "Molecule JUAPWTFCWWWDBI-UHFFFAOYSA-N Self-Similarity: Mean 0.889, Std 0.041\n",
      "Molecule MOCCIDNUAYOGDC-UHFFFAOYSA-N Self-Similarity: Mean 0.946, Std 0.014\n",
      "Molecule QXHYKHFHPKTYEM-UHFFFAOYSA-N Self-Similarity: Mean 0.882, Std 0.045\n",
      "Molecule OXRXHVOYKUKNIG-UHFFFAOYSA-N Self-Similarity: Mean 0.909, Std 0.021\n",
      "Molecule NPCNOAKRSXSMMU-UHFFFAOYSA-N Self-Similarity: Mean 0.887, Std 0.033\n",
      "Molecule JKUQZBVIXXCWFD-UHFFFAOYSA-N Self-Similarity: Mean 0.879, Std 0.041\n",
      "Molecule QLYRBMOIASOCGV-UHFFFAOYSA-N Self-Similarity: Mean 0.871, Std 0.036\n",
      "Molecule IRXVVRLNZOQOJO-UHFFFAOYSA-N Self-Similarity: Mean 0.960, Std 0.018\n",
      "Molecule PPHRTNQQVJGADT-UHFFFAOYSA-N Self-Similarity: Mean 0.941, Std 0.016\n",
      "Molecule GTGKBFOBUMVRJJ-UHFFFAOYSA-N Self-Similarity: Mean 0.940, Std 0.032\n",
      "Molecule MFXACGIZUAOASK-UHFFFAOYSA-N Self-Similarity: Mean 0.934, Std 0.030\n",
      "Molecule RSLZDERHFHGDPI-UHFFFAOYSA-N Self-Similarity: Mean 0.956, Std 0.014\n",
      "Molecule YEMFMDBPQCCXNP-UHFFFAOYSA-N Self-Similarity: Mean 0.911, Std 0.038\n",
      "Molecule VGYQPKLQPQJSQU-UHFFFAOYSA-N Self-Similarity: Mean 0.924, Std 0.029\n",
      "Molecule JFPSLJJGWCHYOE-WOJBJXKFSA-N Self-Similarity: Mean 0.957, Std 0.017\n",
      "Molecule VUNXPEWGQXFNOL-UHFFFAOYSA-N Self-Similarity: Mean 0.905, Std 0.033\n",
      "Molecule XUJNUPZNBXSUAH-UHFFFAOYSA-N Self-Similarity: Mean 0.795, Std 0.080\n",
      "Molecule WFUBCGWWJFKFLF-VROINQGHSA-N Self-Similarity: Mean 0.942, Std 0.015\n",
      "Molecule MCKRDIGCTGOZEH-PJZCFIFPSA-N Self-Similarity: Mean 0.908, Std 0.148\n",
      "Molecule FRJOUBWXHQBBER-UHFFFAOYSA-N Self-Similarity: Mean 0.944, Std 0.026\n",
      "Molecule QLAHMUJINXIWJF-UHFFFAOYSA-N Self-Similarity: Mean 0.893, Std 0.049\n",
      "Molecule LWNHNPGKBMBUMJ-UHFFFAOYSA-N Self-Similarity: Mean 0.948, Std 0.041\n",
      "Molecule OSFCWYASCHJZMP-UHFFFAOYSA-N Self-Similarity: Mean 0.928, Std 0.036\n",
      "Molecule PDSIABXKNPJZII-UHFFFAOYSA-N Self-Similarity: Mean 0.875, Std 0.074\n",
      "Molecule XUEOCFZWDHNGHJ-UHFFFAOYSA-N Self-Similarity: Mean 0.919, Std 0.031\n",
      "Molecule IFAYXYNVSUANMR-UHFFFAOYSA-N Self-Similarity: Mean 0.842, Std 0.061\n",
      "Molecule MHFZALBJHBFZGD-UHFFFAOYSA-N Self-Similarity: Mean 0.944, Std 0.026\n",
      "Molecule JSFCCKSDYCPABE-UHFFFAOYSA-N Self-Similarity: Mean 0.906, Std 0.043\n",
      "Molecule DKNNFJNJDNSVFA-UHFFFAOYSA-N Self-Similarity: Mean 0.956, Std 0.013\n",
      "Molecule HYTDUAPLYVHNHI-UHFFFAOYSA-N Self-Similarity: Mean 0.876, Std 0.035\n",
      "Molecule VFGAVMGYDWDESE-UHFFFAOYSA-N Self-Similarity: Mean 0.970, Std 0.012\n",
      "Molecule LGVXTVHRVKVONW-UHFFFAOYSA-N Self-Similarity: Mean 0.887, Std 0.097\n",
      "Molecule CALTXIVPFWCXLO-UHFFFAOYSA-N Self-Similarity: Mean 0.904, Std 0.054\n",
      "Molecule DVGSOFSBBKDKRU-UHFFFAOYSA-N Self-Similarity: Mean 0.966, Std 0.019\n",
      "Molecule ZBFVOPVQUXWTHM-IYBDPMFKSA-N Self-Similarity: Mean 0.946, Std 0.021\n",
      "Molecule WWCXSUHALKENOU-UHFFFAOYSA-N Self-Similarity: Mean 0.919, Std 0.063\n",
      "Molecule XJVQJFLZKCKXME-UHFFFAOYSA-N Self-Similarity: Mean 0.938, Std 0.015\n",
      "Molecule WPXCRSHJFPAABC-UHFFFAOYSA-N Self-Similarity: Mean 0.915, Std 0.041\n",
      "Molecule PYZYLQABQPEYLJ-UHFFFAOYSA-N Self-Similarity: Mean 0.899, Std 0.051\n",
      "Molecule AWZDROKRYZXWBO-UHFFFAOYSA-N Self-Similarity: Mean 0.981, Std 0.006\n",
      "Molecule RXSDDUCBUIPWHI-UHFFFAOYSA-N Self-Similarity: Mean 0.965, Std 0.015\n",
      "Molecule WGFFZYSWLVJOLB-JIAAILLZSA-N Self-Similarity: Mean 0.968, Std 0.013\n",
      "Molecule SWMSCMLNYFGEGN-UHFFFAOYSA-N Self-Similarity: Mean 0.961, Std 0.014\n",
      "Molecule HBWAMRSFAPVOKZ-UHFFFAOYSA-N Self-Similarity: Mean 0.941, Std 0.043\n",
      "Molecule LIOWAHOEWXQIBQ-DHIUTWEWSA-N Self-Similarity: Mean 0.951, Std 0.025\n",
      "Molecule XENYTWNWCUAUNS-UHFFFAOYSA-N Self-Similarity: Mean 0.923, Std 0.042\n",
      "Molecule MINUVEZJGAUWIM-UHFFFAOYSA-N Self-Similarity: Mean 0.914, Std 0.030\n",
      "Molecule RLALMBCUXILXIS-UHFFFAOYSA-N Self-Similarity: Mean 0.934, Std 0.022\n",
      "Molecule FMKIONJYFQPTEK-UHFFFAOYSA-N Self-Similarity: Mean 0.865, Std 0.044\n",
      "Molecule XQWGKUAAVPCOIL-UHFFFAOYSA-N Self-Similarity: Mean 0.913, Std 0.028\n",
      "Molecule BBEGFCAURGDHGF-UHFFFAOYSA-N Self-Similarity: Mean 0.894, Std 0.033\n",
      "Molecule ZQMHGGSWTZOAQG-UHFFFAOYSA-N Self-Similarity: Mean 0.935, Std 0.018\n",
      "Molecule QDIUYYLSOCFDSV-UHFFFAOYSA-N Self-Similarity: Mean 0.924, Std 0.040\n",
      "Molecule WSLGZLMLNGBXHT-UHFFFAOYSA-N Self-Similarity: Mean 0.922, Std 0.041\n",
      "Molecule FGUPIRMFRPPBOR-UHFFFAOYSA-N Self-Similarity: Mean 0.897, Std 0.049\n",
      "Molecule WJUROLKZHWTVGC-DJCPXJLLSA-N Self-Similarity: Mean 0.963, Std 0.011\n",
      "Molecule NLUDHDUQAJYEEH-IZZNHLLZSA-N Self-Similarity: Mean 0.889, Std 0.043\n",
      "Molecule MASDFXZJIDNRTR-UHFFFAOYSA-N Self-Similarity: Mean 0.889, Std 0.070\n",
      "Molecule MBEDINMZZORSJN-LLVKDONJSA-N Self-Similarity: Mean 0.896, Std 0.025\n",
      "Molecule JZGPZUIFYWMNKG-UHFFFAOYSA-N Self-Similarity: Mean 0.811, Std 0.058\n",
      "Molecule ZCJXSXDUVKVLEK-LSDHHAIUSA-N Self-Similarity: Mean 0.823, Std 0.080\n",
      "Molecule WMWBCQXPKSQMOK-KRWDZBQOSA-N Self-Similarity: Mean 0.782, Std 0.063\n",
      "Molecule IGGUCRXZVNSOMJ-UHFFFAOYSA-N Self-Similarity: Mean 0.837, Std 0.056\n",
      "Molecule NUTIXYUHENBVIH-UHFFFAOYSA-N Self-Similarity: Mean 0.690, Std 0.118\n",
      "Molecule NNTLHFPJNYNRSX-YLRLDMTISA-N Self-Similarity: Mean 0.957, Std 0.013\n",
      "Molecule GMPNHCUCOIPOSA-GRRKTJPFSA-N Self-Similarity: Mean 0.959, Std 0.010\n",
      "Molecule DPYZEXQNXZRNLI-AVKZSNRNSA-N Self-Similarity: Mean 0.970, Std 0.009\n"
     ]
    }
   ],
   "source": [
    "# Example that embeddings of the same molecule are not identical, but similar.\n",
    "def cosine_similarity(a, b):\n",
    "    return np.dot(a, b) / (np.linalg.norm(a) * np.linalg.norm(b))\n",
    "\n",
    "for inchikey in spectra_embedding_by_inchikey.keys():\n",
    "    molecule_embeddings = spectra_embedding_by_inchikey[inchikey]\n",
    "    similarities = []\n",
    "    for i in range(len(molecule_embeddings)):\n",
    "        for j in range(i+1, len(molecule_embeddings)):\n",
    "            similarity = cosine_similarity(molecule_embeddings[i], molecule_embeddings[j])\n",
    "            similarities.append(similarity)\n",
    "    similarities = np.array(similarities)\n",
    "\n",
    "    print(f\"Molecule {inchikey} Self-Similarity: Mean {similarities.mean():.3f}, Std {similarities.std():.3f}\")"
   ]
  }
 ],
 "metadata": {
  "kernelspec": {
   "display_name": "ijs",
   "language": "python",
   "name": "python3"
  },
  "language_info": {
   "codemirror_mode": {
    "name": "ipython",
    "version": 3
   },
   "file_extension": ".py",
   "mimetype": "text/x-python",
   "name": "python",
   "nbconvert_exporter": "python",
   "pygments_lexer": "ipython3",
   "version": "3.9.16"
  },
  "orig_nbformat": 4
 },
 "nbformat": 4,
 "nbformat_minor": 2
}
