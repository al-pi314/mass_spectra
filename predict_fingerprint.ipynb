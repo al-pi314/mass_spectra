{
 "cells": [
  {
   "cell_type": "markdown",
   "metadata": {},
   "source": [
    "## This Jupyter notebook is used to predict the fingerprint of a given spec2vec embedding."
   ]
  },
  {
   "cell_type": "code",
   "execution_count": 31,
   "metadata": {},
   "outputs": [],
   "source": [
    "import pandas as pd\n",
    "from sklearn.ensemble import RandomForestClassifier\n",
    "from sklearn.model_selection import KFold\n",
    "from sklearn.multiclass import OneVsRestClassifier\n",
    "from sklearn.multioutput import MultiOutputClassifier\n",
    "from sklearn.metrics import label_ranking_loss\n",
    "import pickle\n",
    "RANDOM_STATE = 25082023"
   ]
  },
  {
   "cell_type": "code",
   "execution_count": 4,
   "metadata": {},
   "outputs": [
    {
     "name": "stdout",
     "output_type": "stream",
     "text": [
      "(105, 192)\n"
     ]
    },
    {
     "data": {
      "text/html": [
       "<div>\n",
       "<style scoped>\n",
       "    .dataframe tbody tr th:only-of-type {\n",
       "        vertical-align: middle;\n",
       "    }\n",
       "\n",
       "    .dataframe tbody tr th {\n",
       "        vertical-align: top;\n",
       "    }\n",
       "\n",
       "    .dataframe thead th {\n",
       "        text-align: right;\n",
       "    }\n",
       "</style>\n",
       "<table border=\"1\" class=\"dataframe\">\n",
       "  <thead>\n",
       "    <tr style=\"text-align: right;\">\n",
       "      <th></th>\n",
       "      <th>0</th>\n",
       "      <th>1</th>\n",
       "      <th>2</th>\n",
       "      <th>3</th>\n",
       "      <th>4</th>\n",
       "      <th>5</th>\n",
       "      <th>6</th>\n",
       "      <th>7</th>\n",
       "      <th>8</th>\n",
       "      <th>9</th>\n",
       "      <th>...</th>\n",
       "      <th>182</th>\n",
       "      <th>183</th>\n",
       "      <th>184</th>\n",
       "      <th>185</th>\n",
       "      <th>186</th>\n",
       "      <th>187</th>\n",
       "      <th>188</th>\n",
       "      <th>189</th>\n",
       "      <th>190</th>\n",
       "      <th>191</th>\n",
       "    </tr>\n",
       "    <tr>\n",
       "      <th>inchikey</th>\n",
       "      <th></th>\n",
       "      <th></th>\n",
       "      <th></th>\n",
       "      <th></th>\n",
       "      <th></th>\n",
       "      <th></th>\n",
       "      <th></th>\n",
       "      <th></th>\n",
       "      <th></th>\n",
       "      <th></th>\n",
       "      <th></th>\n",
       "      <th></th>\n",
       "      <th></th>\n",
       "      <th></th>\n",
       "      <th></th>\n",
       "      <th></th>\n",
       "      <th></th>\n",
       "      <th></th>\n",
       "      <th></th>\n",
       "      <th></th>\n",
       "      <th></th>\n",
       "    </tr>\n",
       "  </thead>\n",
       "  <tbody>\n",
       "    <tr>\n",
       "      <th>FWZOFSHJDAIJQE-UHFFFAOYSA-N</th>\n",
       "      <td>False</td>\n",
       "      <td>False</td>\n",
       "      <td>False</td>\n",
       "      <td>False</td>\n",
       "      <td>False</td>\n",
       "      <td>False</td>\n",
       "      <td>False</td>\n",
       "      <td>False</td>\n",
       "      <td>False</td>\n",
       "      <td>False</td>\n",
       "      <td>...</td>\n",
       "      <td>False</td>\n",
       "      <td>False</td>\n",
       "      <td>False</td>\n",
       "      <td>False</td>\n",
       "      <td>False</td>\n",
       "      <td>False</td>\n",
       "      <td>False</td>\n",
       "      <td>False</td>\n",
       "      <td>False</td>\n",
       "      <td>False</td>\n",
       "    </tr>\n",
       "    <tr>\n",
       "      <th>VUNXPEWGQXFNOL-UHFFFAOYSA-N</th>\n",
       "      <td>False</td>\n",
       "      <td>False</td>\n",
       "      <td>False</td>\n",
       "      <td>False</td>\n",
       "      <td>False</td>\n",
       "      <td>False</td>\n",
       "      <td>False</td>\n",
       "      <td>False</td>\n",
       "      <td>False</td>\n",
       "      <td>False</td>\n",
       "      <td>...</td>\n",
       "      <td>False</td>\n",
       "      <td>False</td>\n",
       "      <td>False</td>\n",
       "      <td>False</td>\n",
       "      <td>False</td>\n",
       "      <td>False</td>\n",
       "      <td>False</td>\n",
       "      <td>False</td>\n",
       "      <td>False</td>\n",
       "      <td>False</td>\n",
       "    </tr>\n",
       "    <tr>\n",
       "      <th>JFPSLJJGWCHYOE-WOJBJXKFSA-N</th>\n",
       "      <td>False</td>\n",
       "      <td>False</td>\n",
       "      <td>False</td>\n",
       "      <td>False</td>\n",
       "      <td>False</td>\n",
       "      <td>False</td>\n",
       "      <td>False</td>\n",
       "      <td>False</td>\n",
       "      <td>False</td>\n",
       "      <td>False</td>\n",
       "      <td>...</td>\n",
       "      <td>False</td>\n",
       "      <td>False</td>\n",
       "      <td>False</td>\n",
       "      <td>False</td>\n",
       "      <td>False</td>\n",
       "      <td>False</td>\n",
       "      <td>False</td>\n",
       "      <td>False</td>\n",
       "      <td>False</td>\n",
       "      <td>False</td>\n",
       "    </tr>\n",
       "    <tr>\n",
       "      <th>VGYQPKLQPQJSQU-UHFFFAOYSA-N</th>\n",
       "      <td>False</td>\n",
       "      <td>False</td>\n",
       "      <td>False</td>\n",
       "      <td>False</td>\n",
       "      <td>False</td>\n",
       "      <td>False</td>\n",
       "      <td>False</td>\n",
       "      <td>False</td>\n",
       "      <td>False</td>\n",
       "      <td>False</td>\n",
       "      <td>...</td>\n",
       "      <td>False</td>\n",
       "      <td>False</td>\n",
       "      <td>False</td>\n",
       "      <td>False</td>\n",
       "      <td>False</td>\n",
       "      <td>False</td>\n",
       "      <td>False</td>\n",
       "      <td>False</td>\n",
       "      <td>False</td>\n",
       "      <td>False</td>\n",
       "    </tr>\n",
       "    <tr>\n",
       "      <th>NLUDHDUQAJYEEH-IZZNHLLZSA-N</th>\n",
       "      <td>False</td>\n",
       "      <td>False</td>\n",
       "      <td>False</td>\n",
       "      <td>False</td>\n",
       "      <td>False</td>\n",
       "      <td>False</td>\n",
       "      <td>False</td>\n",
       "      <td>False</td>\n",
       "      <td>False</td>\n",
       "      <td>False</td>\n",
       "      <td>...</td>\n",
       "      <td>False</td>\n",
       "      <td>False</td>\n",
       "      <td>False</td>\n",
       "      <td>False</td>\n",
       "      <td>False</td>\n",
       "      <td>False</td>\n",
       "      <td>False</td>\n",
       "      <td>False</td>\n",
       "      <td>False</td>\n",
       "      <td>False</td>\n",
       "    </tr>\n",
       "  </tbody>\n",
       "</table>\n",
       "<p>5 rows × 192 columns</p>\n",
       "</div>"
      ],
      "text/plain": [
       "                                 0      1      2      3      4      5      6  \\\n",
       "inchikey                                                                       \n",
       "FWZOFSHJDAIJQE-UHFFFAOYSA-N  False  False  False  False  False  False  False   \n",
       "VUNXPEWGQXFNOL-UHFFFAOYSA-N  False  False  False  False  False  False  False   \n",
       "JFPSLJJGWCHYOE-WOJBJXKFSA-N  False  False  False  False  False  False  False   \n",
       "VGYQPKLQPQJSQU-UHFFFAOYSA-N  False  False  False  False  False  False  False   \n",
       "NLUDHDUQAJYEEH-IZZNHLLZSA-N  False  False  False  False  False  False  False   \n",
       "\n",
       "                                 7      8      9  ...    182    183    184  \\\n",
       "inchikey                                          ...                        \n",
       "FWZOFSHJDAIJQE-UHFFFAOYSA-N  False  False  False  ...  False  False  False   \n",
       "VUNXPEWGQXFNOL-UHFFFAOYSA-N  False  False  False  ...  False  False  False   \n",
       "JFPSLJJGWCHYOE-WOJBJXKFSA-N  False  False  False  ...  False  False  False   \n",
       "VGYQPKLQPQJSQU-UHFFFAOYSA-N  False  False  False  ...  False  False  False   \n",
       "NLUDHDUQAJYEEH-IZZNHLLZSA-N  False  False  False  ...  False  False  False   \n",
       "\n",
       "                               185    186    187    188    189    190    191  \n",
       "inchikey                                                                      \n",
       "FWZOFSHJDAIJQE-UHFFFAOYSA-N  False  False  False  False  False  False  False  \n",
       "VUNXPEWGQXFNOL-UHFFFAOYSA-N  False  False  False  False  False  False  False  \n",
       "JFPSLJJGWCHYOE-WOJBJXKFSA-N  False  False  False  False  False  False  False  \n",
       "VGYQPKLQPQJSQU-UHFFFAOYSA-N  False  False  False  False  False  False  False  \n",
       "NLUDHDUQAJYEEH-IZZNHLLZSA-N  False  False  False  False  False  False  False  \n",
       "\n",
       "[5 rows x 192 columns]"
      ]
     },
     "execution_count": 4,
     "metadata": {},
     "output_type": "execute_result"
    }
   ],
   "source": [
    "fingerprints = pd.read_csv(\"./embeddings/tms_maccs_fingerprint.csv\")\n",
    "fingerprints = fingerprints.drop(columns=[\"Name\", \"InChI\"])\n",
    "fingerprints = fingerprints.set_index(\"InChI Key\")\n",
    "fingerprints.index.name = \"inchikey\"\n",
    "fingerprints = fingerprints.astype(bool)\n",
    "print(fingerprints.shape)\n",
    "fingerprints.head()"
   ]
  },
  {
   "cell_type": "code",
   "execution_count": 5,
   "metadata": {},
   "outputs": [
    {
     "name": "stdout",
     "output_type": "stream",
     "text": [
      "Mean true indicators:  36.23809523809524\n",
      "Std true indicators:  17.869464613349937\n",
      "Min true indicators:  21\n",
      "Max true indicators:  192\n"
     ]
    }
   ],
   "source": [
    "# Simple indicator analysis\n",
    "print(\"Mean true indicators: \", fingerprints.sum(axis=1).mean())\n",
    "print(\"Std true indicators: \", fingerprints.sum(axis=1).std())\n",
    "print(\"Min true indicators: \", fingerprints.sum(axis=1).min())\n",
    "print(\"Max true indicators: \", fingerprints.sum(axis=1).max())"
   ]
  },
  {
   "cell_type": "code",
   "execution_count": 6,
   "metadata": {},
   "outputs": [
    {
     "data": {
      "text/plain": [
       "(0.8112599206349206, 0.18874007936507942)"
      ]
     },
     "execution_count": 6,
     "metadata": {},
     "output_type": "execute_result"
    }
   ],
   "source": [
    "true_class_weight = 1 - fingerprints.sum(axis=1).mean() / fingerprints.shape[1]\n",
    "false_class_weight = 1 - true_class_weight\n",
    "true_class_weight, false_class_weight"
   ]
  },
  {
   "cell_type": "code",
   "execution_count": 7,
   "metadata": {},
   "outputs": [
    {
     "name": "stdout",
     "output_type": "stream",
     "text": [
      "Nan values:  0\n"
     ]
    }
   ],
   "source": [
    "# Validate fingerprint\n",
    "print(\"Nan values: \", fingerprints.isna().sum().sum())"
   ]
  },
  {
   "cell_type": "code",
   "execution_count": 8,
   "metadata": {},
   "outputs": [
    {
     "name": "stdout",
     "output_type": "stream",
     "text": [
      "(3144, 300)\n"
     ]
    },
    {
     "data": {
      "text/html": [
       "<div>\n",
       "<style scoped>\n",
       "    .dataframe tbody tr th:only-of-type {\n",
       "        vertical-align: middle;\n",
       "    }\n",
       "\n",
       "    .dataframe tbody tr th {\n",
       "        vertical-align: top;\n",
       "    }\n",
       "\n",
       "    .dataframe thead th {\n",
       "        text-align: right;\n",
       "    }\n",
       "</style>\n",
       "<table border=\"1\" class=\"dataframe\">\n",
       "  <thead>\n",
       "    <tr style=\"text-align: right;\">\n",
       "      <th></th>\n",
       "      <th>0</th>\n",
       "      <th>1</th>\n",
       "      <th>2</th>\n",
       "      <th>3</th>\n",
       "      <th>4</th>\n",
       "      <th>5</th>\n",
       "      <th>6</th>\n",
       "      <th>7</th>\n",
       "      <th>8</th>\n",
       "      <th>9</th>\n",
       "      <th>...</th>\n",
       "      <th>290</th>\n",
       "      <th>291</th>\n",
       "      <th>292</th>\n",
       "      <th>293</th>\n",
       "      <th>294</th>\n",
       "      <th>295</th>\n",
       "      <th>296</th>\n",
       "      <th>297</th>\n",
       "      <th>298</th>\n",
       "      <th>299</th>\n",
       "    </tr>\n",
       "    <tr>\n",
       "      <th>inchikey</th>\n",
       "      <th></th>\n",
       "      <th></th>\n",
       "      <th></th>\n",
       "      <th></th>\n",
       "      <th></th>\n",
       "      <th></th>\n",
       "      <th></th>\n",
       "      <th></th>\n",
       "      <th></th>\n",
       "      <th></th>\n",
       "      <th></th>\n",
       "      <th></th>\n",
       "      <th></th>\n",
       "      <th></th>\n",
       "      <th></th>\n",
       "      <th></th>\n",
       "      <th></th>\n",
       "      <th></th>\n",
       "      <th></th>\n",
       "      <th></th>\n",
       "      <th></th>\n",
       "    </tr>\n",
       "  </thead>\n",
       "  <tbody>\n",
       "    <tr>\n",
       "      <th>VFFKJOXNCSJSAQ-UHFFFAOYSA-N</th>\n",
       "      <td>15.387566</td>\n",
       "      <td>-0.466594</td>\n",
       "      <td>128.212979</td>\n",
       "      <td>-51.784879</td>\n",
       "      <td>50.710794</td>\n",
       "      <td>100.454237</td>\n",
       "      <td>37.555077</td>\n",
       "      <td>-105.826131</td>\n",
       "      <td>31.051446</td>\n",
       "      <td>62.338263</td>\n",
       "      <td>...</td>\n",
       "      <td>-17.074715</td>\n",
       "      <td>131.993879</td>\n",
       "      <td>-11.480879</td>\n",
       "      <td>-94.839212</td>\n",
       "      <td>-45.291035</td>\n",
       "      <td>87.989262</td>\n",
       "      <td>-229.266169</td>\n",
       "      <td>58.848309</td>\n",
       "      <td>-28.095784</td>\n",
       "      <td>15.842633</td>\n",
       "    </tr>\n",
       "    <tr>\n",
       "      <th>VFFKJOXNCSJSAQ-UHFFFAOYSA-N</th>\n",
       "      <td>113.821430</td>\n",
       "      <td>78.168829</td>\n",
       "      <td>-6.747713</td>\n",
       "      <td>81.789962</td>\n",
       "      <td>203.772493</td>\n",
       "      <td>109.101307</td>\n",
       "      <td>9.375376</td>\n",
       "      <td>14.774937</td>\n",
       "      <td>-70.287549</td>\n",
       "      <td>35.959517</td>\n",
       "      <td>...</td>\n",
       "      <td>13.594595</td>\n",
       "      <td>-115.270300</td>\n",
       "      <td>-111.846199</td>\n",
       "      <td>111.038387</td>\n",
       "      <td>15.181126</td>\n",
       "      <td>30.404949</td>\n",
       "      <td>-152.397945</td>\n",
       "      <td>20.853796</td>\n",
       "      <td>-23.316306</td>\n",
       "      <td>37.147708</td>\n",
       "    </tr>\n",
       "    <tr>\n",
       "      <th>VFFKJOXNCSJSAQ-UHFFFAOYSA-N</th>\n",
       "      <td>83.186291</td>\n",
       "      <td>-41.029504</td>\n",
       "      <td>31.763091</td>\n",
       "      <td>35.200038</td>\n",
       "      <td>-35.305679</td>\n",
       "      <td>101.729320</td>\n",
       "      <td>56.067705</td>\n",
       "      <td>-25.064136</td>\n",
       "      <td>40.739751</td>\n",
       "      <td>75.361117</td>\n",
       "      <td>...</td>\n",
       "      <td>1.274054</td>\n",
       "      <td>74.557059</td>\n",
       "      <td>32.747522</td>\n",
       "      <td>23.077897</td>\n",
       "      <td>85.837911</td>\n",
       "      <td>-11.749879</td>\n",
       "      <td>-120.201318</td>\n",
       "      <td>82.090422</td>\n",
       "      <td>35.842974</td>\n",
       "      <td>29.058200</td>\n",
       "    </tr>\n",
       "    <tr>\n",
       "      <th>VFFKJOXNCSJSAQ-UHFFFAOYSA-N</th>\n",
       "      <td>118.817710</td>\n",
       "      <td>-64.274214</td>\n",
       "      <td>38.892811</td>\n",
       "      <td>49.980126</td>\n",
       "      <td>33.930059</td>\n",
       "      <td>102.045817</td>\n",
       "      <td>0.513328</td>\n",
       "      <td>-3.982716</td>\n",
       "      <td>-42.755118</td>\n",
       "      <td>74.909037</td>\n",
       "      <td>...</td>\n",
       "      <td>97.707563</td>\n",
       "      <td>68.794085</td>\n",
       "      <td>-164.242781</td>\n",
       "      <td>160.243625</td>\n",
       "      <td>58.744467</td>\n",
       "      <td>-6.496885</td>\n",
       "      <td>-117.118548</td>\n",
       "      <td>-10.736083</td>\n",
       "      <td>-47.655912</td>\n",
       "      <td>204.336708</td>\n",
       "    </tr>\n",
       "    <tr>\n",
       "      <th>VFFKJOXNCSJSAQ-UHFFFAOYSA-N</th>\n",
       "      <td>91.464955</td>\n",
       "      <td>13.040805</td>\n",
       "      <td>84.813821</td>\n",
       "      <td>13.731519</td>\n",
       "      <td>134.206405</td>\n",
       "      <td>-26.459990</td>\n",
       "      <td>-189.242868</td>\n",
       "      <td>116.861201</td>\n",
       "      <td>19.808913</td>\n",
       "      <td>87.929782</td>\n",
       "      <td>...</td>\n",
       "      <td>13.920619</td>\n",
       "      <td>-35.539763</td>\n",
       "      <td>-58.136726</td>\n",
       "      <td>73.218996</td>\n",
       "      <td>4.029479</td>\n",
       "      <td>7.711222</td>\n",
       "      <td>20.721324</td>\n",
       "      <td>43.896813</td>\n",
       "      <td>79.700217</td>\n",
       "      <td>-22.953945</td>\n",
       "    </tr>\n",
       "  </tbody>\n",
       "</table>\n",
       "<p>5 rows × 300 columns</p>\n",
       "</div>"
      ],
      "text/plain": [
       "                                      0          1           2          3  \\\n",
       "inchikey                                                                    \n",
       "VFFKJOXNCSJSAQ-UHFFFAOYSA-N   15.387566  -0.466594  128.212979 -51.784879   \n",
       "VFFKJOXNCSJSAQ-UHFFFAOYSA-N  113.821430  78.168829   -6.747713  81.789962   \n",
       "VFFKJOXNCSJSAQ-UHFFFAOYSA-N   83.186291 -41.029504   31.763091  35.200038   \n",
       "VFFKJOXNCSJSAQ-UHFFFAOYSA-N  118.817710 -64.274214   38.892811  49.980126   \n",
       "VFFKJOXNCSJSAQ-UHFFFAOYSA-N   91.464955  13.040805   84.813821  13.731519   \n",
       "\n",
       "                                      4           5           6           7  \\\n",
       "inchikey                                                                      \n",
       "VFFKJOXNCSJSAQ-UHFFFAOYSA-N   50.710794  100.454237   37.555077 -105.826131   \n",
       "VFFKJOXNCSJSAQ-UHFFFAOYSA-N  203.772493  109.101307    9.375376   14.774937   \n",
       "VFFKJOXNCSJSAQ-UHFFFAOYSA-N  -35.305679  101.729320   56.067705  -25.064136   \n",
       "VFFKJOXNCSJSAQ-UHFFFAOYSA-N   33.930059  102.045817    0.513328   -3.982716   \n",
       "VFFKJOXNCSJSAQ-UHFFFAOYSA-N  134.206405  -26.459990 -189.242868  116.861201   \n",
       "\n",
       "                                     8          9  ...        290         291  \\\n",
       "inchikey                                           ...                          \n",
       "VFFKJOXNCSJSAQ-UHFFFAOYSA-N  31.051446  62.338263  ... -17.074715  131.993879   \n",
       "VFFKJOXNCSJSAQ-UHFFFAOYSA-N -70.287549  35.959517  ...  13.594595 -115.270300   \n",
       "VFFKJOXNCSJSAQ-UHFFFAOYSA-N  40.739751  75.361117  ...   1.274054   74.557059   \n",
       "VFFKJOXNCSJSAQ-UHFFFAOYSA-N -42.755118  74.909037  ...  97.707563   68.794085   \n",
       "VFFKJOXNCSJSAQ-UHFFFAOYSA-N  19.808913  87.929782  ...  13.920619  -35.539763   \n",
       "\n",
       "                                    292         293        294        295  \\\n",
       "inchikey                                                                    \n",
       "VFFKJOXNCSJSAQ-UHFFFAOYSA-N  -11.480879  -94.839212 -45.291035  87.989262   \n",
       "VFFKJOXNCSJSAQ-UHFFFAOYSA-N -111.846199  111.038387  15.181126  30.404949   \n",
       "VFFKJOXNCSJSAQ-UHFFFAOYSA-N   32.747522   23.077897  85.837911 -11.749879   \n",
       "VFFKJOXNCSJSAQ-UHFFFAOYSA-N -164.242781  160.243625  58.744467  -6.496885   \n",
       "VFFKJOXNCSJSAQ-UHFFFAOYSA-N  -58.136726   73.218996   4.029479   7.711222   \n",
       "\n",
       "                                    296        297        298         299  \n",
       "inchikey                                                                   \n",
       "VFFKJOXNCSJSAQ-UHFFFAOYSA-N -229.266169  58.848309 -28.095784   15.842633  \n",
       "VFFKJOXNCSJSAQ-UHFFFAOYSA-N -152.397945  20.853796 -23.316306   37.147708  \n",
       "VFFKJOXNCSJSAQ-UHFFFAOYSA-N -120.201318  82.090422  35.842974   29.058200  \n",
       "VFFKJOXNCSJSAQ-UHFFFAOYSA-N -117.118548 -10.736083 -47.655912  204.336708  \n",
       "VFFKJOXNCSJSAQ-UHFFFAOYSA-N   20.721324  43.896813  79.700217  -22.953945  \n",
       "\n",
       "[5 rows x 300 columns]"
      ]
     },
     "execution_count": 8,
     "metadata": {},
     "output_type": "execute_result"
    }
   ],
   "source": [
    "spec2vec = pd.read_csv(\"./embeddings/tms_spec2vec_embeddings.csv\")\n",
    "spec2vec = spec2vec.drop(columns=[\"name\"])\n",
    "spec2vec = spec2vec.set_index(\"inchikey\")\n",
    "spec2vec = spec2vec.astype(float)\n",
    "print(spec2vec.shape)\n",
    "spec2vec.head()"
   ]
  },
  {
   "cell_type": "code",
   "execution_count": 9,
   "metadata": {},
   "outputs": [
    {
     "name": "stdout",
     "output_type": "stream",
     "text": [
      "Nan values:  0\n"
     ]
    }
   ],
   "source": [
    "# Validate embeddings\n",
    "print(\"Nan values: \", spec2vec.isna().sum().sum())"
   ]
  },
  {
   "cell_type": "code",
   "execution_count": 10,
   "metadata": {},
   "outputs": [],
   "source": [
    "# For Both df in index repalce \\xa0 with space and strip (remove leading and trailing spaces)\n",
    "spec2vec.index = spec2vec.index.str.replace(\"\\xa0\", \" \").str.strip()\n",
    "fingerprints.index = fingerprints.index.str.replace(\"\\xa0\", \" \").str.strip()"
   ]
  },
  {
   "cell_type": "code",
   "execution_count": 11,
   "metadata": {},
   "outputs": [
    {
     "data": {
      "text/plain": [
       "{'AYONZGOWFAKCNA-UHFFFAOYSA-N', 'OIBARLCQMDCDSG-NSHDSACASA-N'}"
      ]
     },
     "execution_count": 11,
     "metadata": {},
     "output_type": "execute_result"
    }
   ],
   "source": [
    "# Missing inchikeys in spec2vec\n",
    "set(fingerprints.index.unique()) - (set(spec2vec.index.unique()))"
   ]
  },
  {
   "cell_type": "code",
   "execution_count": 12,
   "metadata": {},
   "outputs": [
    {
     "data": {
      "text/plain": [
       "{'HGGWBFIRNWOJCL-CPDXTSBQSA-N',\n",
       " 'JZGPZUIFYWMNKG-UHFFFAOYSA-N',\n",
       " 'ORYOBNFVKJSNIY-UHFFFAOYSA-N'}"
      ]
     },
     "execution_count": 12,
     "metadata": {},
     "output_type": "execute_result"
    }
   ],
   "source": [
    "# Missing inchikeys in fingerprints\n",
    "set(spec2vec.index.unique()) - set(fingerprints.index.unique())"
   ]
  },
  {
   "cell_type": "code",
   "execution_count": 13,
   "metadata": {},
   "outputs": [
    {
     "name": "stdout",
     "output_type": "stream",
     "text": [
      "(3082, 492)\n"
     ]
    },
    {
     "data": {
      "text/html": [
       "<div>\n",
       "<style scoped>\n",
       "    .dataframe tbody tr th:only-of-type {\n",
       "        vertical-align: middle;\n",
       "    }\n",
       "\n",
       "    .dataframe tbody tr th {\n",
       "        vertical-align: top;\n",
       "    }\n",
       "\n",
       "    .dataframe thead th {\n",
       "        text-align: right;\n",
       "    }\n",
       "</style>\n",
       "<table border=\"1\" class=\"dataframe\">\n",
       "  <thead>\n",
       "    <tr style=\"text-align: right;\">\n",
       "      <th></th>\n",
       "      <th>0_x</th>\n",
       "      <th>1_x</th>\n",
       "      <th>2_x</th>\n",
       "      <th>3_x</th>\n",
       "      <th>4_x</th>\n",
       "      <th>5_x</th>\n",
       "      <th>6_x</th>\n",
       "      <th>7_x</th>\n",
       "      <th>8_x</th>\n",
       "      <th>9_x</th>\n",
       "      <th>...</th>\n",
       "      <th>182_y</th>\n",
       "      <th>183_y</th>\n",
       "      <th>184_y</th>\n",
       "      <th>185_y</th>\n",
       "      <th>186_y</th>\n",
       "      <th>187_y</th>\n",
       "      <th>188_y</th>\n",
       "      <th>189_y</th>\n",
       "      <th>190_y</th>\n",
       "      <th>191_y</th>\n",
       "    </tr>\n",
       "    <tr>\n",
       "      <th>inchikey</th>\n",
       "      <th></th>\n",
       "      <th></th>\n",
       "      <th></th>\n",
       "      <th></th>\n",
       "      <th></th>\n",
       "      <th></th>\n",
       "      <th></th>\n",
       "      <th></th>\n",
       "      <th></th>\n",
       "      <th></th>\n",
       "      <th></th>\n",
       "      <th></th>\n",
       "      <th></th>\n",
       "      <th></th>\n",
       "      <th></th>\n",
       "      <th></th>\n",
       "      <th></th>\n",
       "      <th></th>\n",
       "      <th></th>\n",
       "      <th></th>\n",
       "      <th></th>\n",
       "    </tr>\n",
       "  </thead>\n",
       "  <tbody>\n",
       "    <tr>\n",
       "      <th>AWZDROKRYZXWBO-UHFFFAOYSA-N</th>\n",
       "      <td>-8.020377</td>\n",
       "      <td>-19.590963</td>\n",
       "      <td>47.416324</td>\n",
       "      <td>14.734204</td>\n",
       "      <td>-37.178691</td>\n",
       "      <td>281.631005</td>\n",
       "      <td>133.814303</td>\n",
       "      <td>-130.229745</td>\n",
       "      <td>163.191635</td>\n",
       "      <td>89.101363</td>\n",
       "      <td>...</td>\n",
       "      <td>False</td>\n",
       "      <td>False</td>\n",
       "      <td>False</td>\n",
       "      <td>False</td>\n",
       "      <td>False</td>\n",
       "      <td>False</td>\n",
       "      <td>False</td>\n",
       "      <td>False</td>\n",
       "      <td>False</td>\n",
       "      <td>False</td>\n",
       "    </tr>\n",
       "    <tr>\n",
       "      <th>AWZDROKRYZXWBO-UHFFFAOYSA-N</th>\n",
       "      <td>-91.541454</td>\n",
       "      <td>-35.753494</td>\n",
       "      <td>38.966337</td>\n",
       "      <td>-86.308427</td>\n",
       "      <td>19.250948</td>\n",
       "      <td>148.185439</td>\n",
       "      <td>99.373630</td>\n",
       "      <td>-186.472006</td>\n",
       "      <td>217.512989</td>\n",
       "      <td>160.863203</td>\n",
       "      <td>...</td>\n",
       "      <td>False</td>\n",
       "      <td>False</td>\n",
       "      <td>False</td>\n",
       "      <td>False</td>\n",
       "      <td>False</td>\n",
       "      <td>False</td>\n",
       "      <td>False</td>\n",
       "      <td>False</td>\n",
       "      <td>False</td>\n",
       "      <td>False</td>\n",
       "    </tr>\n",
       "    <tr>\n",
       "      <th>AWZDROKRYZXWBO-UHFFFAOYSA-N</th>\n",
       "      <td>33.186816</td>\n",
       "      <td>-64.306986</td>\n",
       "      <td>122.437815</td>\n",
       "      <td>132.500530</td>\n",
       "      <td>-12.631758</td>\n",
       "      <td>231.384121</td>\n",
       "      <td>2.159783</td>\n",
       "      <td>196.827764</td>\n",
       "      <td>-9.579701</td>\n",
       "      <td>148.339587</td>\n",
       "      <td>...</td>\n",
       "      <td>False</td>\n",
       "      <td>False</td>\n",
       "      <td>False</td>\n",
       "      <td>False</td>\n",
       "      <td>False</td>\n",
       "      <td>False</td>\n",
       "      <td>False</td>\n",
       "      <td>False</td>\n",
       "      <td>False</td>\n",
       "      <td>False</td>\n",
       "    </tr>\n",
       "    <tr>\n",
       "      <th>AWZDROKRYZXWBO-UHFFFAOYSA-N</th>\n",
       "      <td>132.202141</td>\n",
       "      <td>-85.069309</td>\n",
       "      <td>-99.805639</td>\n",
       "      <td>-198.594718</td>\n",
       "      <td>78.260691</td>\n",
       "      <td>193.392056</td>\n",
       "      <td>178.165336</td>\n",
       "      <td>327.913047</td>\n",
       "      <td>365.212265</td>\n",
       "      <td>10.106890</td>\n",
       "      <td>...</td>\n",
       "      <td>False</td>\n",
       "      <td>False</td>\n",
       "      <td>False</td>\n",
       "      <td>False</td>\n",
       "      <td>False</td>\n",
       "      <td>False</td>\n",
       "      <td>False</td>\n",
       "      <td>False</td>\n",
       "      <td>False</td>\n",
       "      <td>False</td>\n",
       "    </tr>\n",
       "    <tr>\n",
       "      <th>AWZDROKRYZXWBO-UHFFFAOYSA-N</th>\n",
       "      <td>83.362389</td>\n",
       "      <td>-42.695541</td>\n",
       "      <td>37.228870</td>\n",
       "      <td>-10.914806</td>\n",
       "      <td>-108.479697</td>\n",
       "      <td>133.004002</td>\n",
       "      <td>24.000027</td>\n",
       "      <td>-0.531340</td>\n",
       "      <td>176.526312</td>\n",
       "      <td>105.578328</td>\n",
       "      <td>...</td>\n",
       "      <td>False</td>\n",
       "      <td>False</td>\n",
       "      <td>False</td>\n",
       "      <td>False</td>\n",
       "      <td>False</td>\n",
       "      <td>False</td>\n",
       "      <td>False</td>\n",
       "      <td>False</td>\n",
       "      <td>False</td>\n",
       "      <td>False</td>\n",
       "    </tr>\n",
       "  </tbody>\n",
       "</table>\n",
       "<p>5 rows × 492 columns</p>\n",
       "</div>"
      ],
      "text/plain": [
       "                                    0_x        1_x         2_x         3_x  \\\n",
       "inchikey                                                                     \n",
       "AWZDROKRYZXWBO-UHFFFAOYSA-N   -8.020377 -19.590963   47.416324   14.734204   \n",
       "AWZDROKRYZXWBO-UHFFFAOYSA-N  -91.541454 -35.753494   38.966337  -86.308427   \n",
       "AWZDROKRYZXWBO-UHFFFAOYSA-N   33.186816 -64.306986  122.437815  132.500530   \n",
       "AWZDROKRYZXWBO-UHFFFAOYSA-N  132.202141 -85.069309  -99.805639 -198.594718   \n",
       "AWZDROKRYZXWBO-UHFFFAOYSA-N   83.362389 -42.695541   37.228870  -10.914806   \n",
       "\n",
       "                                    4_x         5_x         6_x         7_x  \\\n",
       "inchikey                                                                      \n",
       "AWZDROKRYZXWBO-UHFFFAOYSA-N  -37.178691  281.631005  133.814303 -130.229745   \n",
       "AWZDROKRYZXWBO-UHFFFAOYSA-N   19.250948  148.185439   99.373630 -186.472006   \n",
       "AWZDROKRYZXWBO-UHFFFAOYSA-N  -12.631758  231.384121    2.159783  196.827764   \n",
       "AWZDROKRYZXWBO-UHFFFAOYSA-N   78.260691  193.392056  178.165336  327.913047   \n",
       "AWZDROKRYZXWBO-UHFFFAOYSA-N -108.479697  133.004002   24.000027   -0.531340   \n",
       "\n",
       "                                    8_x         9_x  ...  182_y  183_y  184_y  \\\n",
       "inchikey                                             ...                        \n",
       "AWZDROKRYZXWBO-UHFFFAOYSA-N  163.191635   89.101363  ...  False  False  False   \n",
       "AWZDROKRYZXWBO-UHFFFAOYSA-N  217.512989  160.863203  ...  False  False  False   \n",
       "AWZDROKRYZXWBO-UHFFFAOYSA-N   -9.579701  148.339587  ...  False  False  False   \n",
       "AWZDROKRYZXWBO-UHFFFAOYSA-N  365.212265   10.106890  ...  False  False  False   \n",
       "AWZDROKRYZXWBO-UHFFFAOYSA-N  176.526312  105.578328  ...  False  False  False   \n",
       "\n",
       "                             185_y  186_y  187_y  188_y  189_y  190_y  191_y  \n",
       "inchikey                                                                      \n",
       "AWZDROKRYZXWBO-UHFFFAOYSA-N  False  False  False  False  False  False  False  \n",
       "AWZDROKRYZXWBO-UHFFFAOYSA-N  False  False  False  False  False  False  False  \n",
       "AWZDROKRYZXWBO-UHFFFAOYSA-N  False  False  False  False  False  False  False  \n",
       "AWZDROKRYZXWBO-UHFFFAOYSA-N  False  False  False  False  False  False  False  \n",
       "AWZDROKRYZXWBO-UHFFFAOYSA-N  False  False  False  False  False  False  False  \n",
       "\n",
       "[5 rows x 492 columns]"
      ]
     },
     "execution_count": 13,
     "metadata": {},
     "output_type": "execute_result"
    }
   ],
   "source": [
    "# Merge the dataframes to obtain X and y matrices (we add suffixes for later extraction)\n",
    "merged = pd.merge(spec2vec.add_suffix(\"_x\"), fingerprints.add_suffix(\"_y\"), left_index=True, right_index=True, how=\"inner\")\n",
    "print(merged.shape)\n",
    "merged.head()"
   ]
  },
  {
   "cell_type": "code",
   "execution_count": 14,
   "metadata": {},
   "outputs": [],
   "source": [
    "# X is data from merged with suffix _x\n",
    "X = merged.filter(regex=\"_x$\").to_numpy()\n",
    "# y is data from merged with suffix _y\n",
    "y = merged.filter(regex=\"_y$\").to_numpy().astype(int)"
   ]
  },
  {
   "cell_type": "code",
   "execution_count": 15,
   "metadata": {},
   "outputs": [
    {
     "data": {
      "text/plain": [
       "((3082, 300), (3082, 192))"
      ]
     },
     "execution_count": 15,
     "metadata": {},
     "output_type": "execute_result"
    }
   ],
   "source": [
    "X.shape, y.shape"
   ]
  },
  {
   "cell_type": "code",
   "execution_count": 16,
   "metadata": {},
   "outputs": [],
   "source": [
    "classifier = RandomForestClassifier(n_estimators=100, random_state=RANDOM_STATE, class_weight={0: false_class_weight, 1: true_class_weight})"
   ]
  },
  {
   "cell_type": "code",
   "execution_count": 19,
   "metadata": {},
   "outputs": [],
   "source": [
    "one_vs_rest_classifier = OneVsRestClassifier(classifier, n_jobs=-1)"
   ]
  },
  {
   "cell_type": "code",
   "execution_count": 20,
   "metadata": {},
   "outputs": [
    {
     "name": "stdout",
     "output_type": "stream",
     "text": [
      "Fold:  0\n",
      "Accuracy:  0.9437635062128579\n",
      "Fold:  1\n",
      "Accuracy:  0.9429278092922745\n",
      "Fold:  2\n",
      "Accuracy:  0.9386160714285714\n",
      "Fold:  3\n",
      "Accuracy:  0.9407382981601732\n",
      "Fold:  4\n",
      "Accuracy:  0.941896645021645\n",
      "Fold:  0\n",
      "Accuracy:  0.9437635062128579\n",
      "Fold:  1\n",
      "Accuracy:  0.9429278092922745\n",
      "Fold:  2\n",
      "Accuracy:  0.9386160714285714\n",
      "Fold:  3\n",
      "Accuracy:  0.9407382981601732\n",
      "Fold:  4\n",
      "Accuracy:  0.941896645021645\n",
      "Best accuracy:  0.9437635062128579\n"
     ]
    }
   ],
   "source": [
    "REPEATS = 2\n",
    "K = 5\n",
    "\n",
    "best_one_vs_rest_classifier = None\n",
    "best_accuracy = 0\n",
    "for i in range(REPEATS):\n",
    "    kf = KFold(n_splits=K, shuffle=True, random_state=RANDOM_STATE)\n",
    "\n",
    "    for fold, (train_index, test_index) in enumerate(kf.split(X)):\n",
    "        print(\"Fold: \", fold)\n",
    "        X_train, X_test = X[train_index], X[test_index]\n",
    "        y_train, y_test = y[train_index], y[test_index]\n",
    "        one_vs_rest_classifier.fit(X_train, y_train)\n",
    "        y_pred = one_vs_rest_classifier.predict(X_test)\n",
    "        print(\"Accuracy: \", (y_pred == y_test).mean())\n",
    "\n",
    "        if (y_pred == y_test).mean() > best_accuracy:\n",
    "            best_accuracy = (y_pred == y_test).mean()\n",
    "            best_one_vs_rest_classifier = one_vs_rest_classifier\n",
    "print(\"Best accuracy: \", best_accuracy)"
   ]
  },
  {
   "cell_type": "code",
   "execution_count": 32,
   "metadata": {},
   "outputs": [
    {
     "data": {
      "text/plain": [
       "0.04147317383942748"
      ]
     },
     "execution_count": 32,
     "metadata": {},
     "output_type": "execute_result"
    }
   ],
   "source": [
    "y_pred = best_one_vs_rest_classifier.predict(X)\n",
    "label_ranking_loss(y, y_pred)"
   ]
  },
  {
   "cell_type": "markdown",
   "metadata": {},
   "source": [
    "### Evaluation"
   ]
  },
  {
   "cell_type": "code",
   "execution_count": 21,
   "metadata": {},
   "outputs": [
    {
     "data": {
      "text/plain": [
       "'AWZDROKRYZXWBO-UHFFFAOYSA-N'"
      ]
     },
     "execution_count": 21,
     "metadata": {},
     "output_type": "execute_result"
    }
   ],
   "source": [
    "instance = merged.iloc[0]\n",
    "instance_inchikey = instance.name\n",
    "instance_inchikey"
   ]
  },
  {
   "cell_type": "code",
   "execution_count": 22,
   "metadata": {},
   "outputs": [],
   "source": [
    "instance_X = instance.filter(regex=\"_x$\").to_numpy()\n",
    "instance_y = instance.filter(regex=\"_y$\").to_numpy().astype(int)"
   ]
  },
  {
   "cell_type": "code",
   "execution_count": 23,
   "metadata": {},
   "outputs": [
    {
     "data": {
      "text/plain": [
       "array([0, 0, 0, 0, 0, 0, 0, 0, 0, 0, 0, 0, 0, 0, 0, 0, 0, 0, 0, 1, 1, 0,\n",
       "       0, 0, 0, 0, 0, 0, 0, 1, 0, 0, 0, 0, 0, 0, 0, 0, 0, 0, 0, 0, 0, 0,\n",
       "       0, 0, 0, 0, 0, 1, 0, 0, 0, 0, 0, 0, 0, 0, 0, 0, 0, 0, 0, 0, 0, 0,\n",
       "       0, 0, 0, 0, 0, 0, 0, 1, 0, 1, 0, 0, 0, 0, 0, 0, 0, 0, 0, 1, 0, 0,\n",
       "       0, 0, 0, 0, 1, 0, 0, 0, 0, 0, 1, 0, 0, 1, 1, 0, 0, 0, 1, 0, 0, 0,\n",
       "       0, 1, 1, 0, 0, 0, 0, 0, 0, 0, 0, 0, 0, 1, 1, 1, 1, 0, 0, 1, 0, 0,\n",
       "       0, 1, 0, 0, 0, 0, 0, 0, 1, 0, 1, 0, 1, 0, 0, 1, 1, 0, 0, 1, 0, 0,\n",
       "       0, 0, 1, 0, 1, 1, 0, 1, 1, 1, 1, 0, 0, 0, 0, 0, 0, 0, 0, 0, 0, 0,\n",
       "       0, 0, 0, 0, 0, 0, 0, 0, 0, 0, 0, 0, 0, 0, 0, 0])"
      ]
     },
     "execution_count": 23,
     "metadata": {},
     "output_type": "execute_result"
    }
   ],
   "source": [
    "instance_y"
   ]
  },
  {
   "cell_type": "code",
   "execution_count": 25,
   "metadata": {},
   "outputs": [
    {
     "data": {
      "text/plain": [
       "1.0"
      ]
     },
     "execution_count": 25,
     "metadata": {},
     "output_type": "execute_result"
    }
   ],
   "source": [
    "one_vs_rest_classifier.score(instance_X.reshape(1, -1), instance_y.reshape(1, -1))"
   ]
  },
  {
   "cell_type": "code",
   "execution_count": 24,
   "metadata": {},
   "outputs": [
    {
     "data": {
      "text/plain": [
       "array([[0.  , 0.  , 0.  , 0.  , 0.  , 0.  , 0.  , 0.  , 0.  , 0.  , 0.  ,\n",
       "        0.  , 0.  , 0.  , 0.  , 0.  , 0.01, 0.  , 0.  , 1.  , 0.8 , 0.  ,\n",
       "        0.  , 0.  , 0.  , 0.05, 0.  , 0.  , 0.  , 1.  , 0.  , 0.02, 0.02,\n",
       "        0.02, 0.  , 0.  , 0.02, 0.  , 0.  , 0.  , 0.  , 0.05, 0.02, 0.  ,\n",
       "        0.  , 0.  , 0.  , 0.  , 0.  , 0.75, 0.  , 0.  , 0.  , 0.  , 0.  ,\n",
       "        0.01, 0.04, 0.  , 0.  , 0.  , 0.  , 0.03, 0.01, 0.  , 0.01, 0.21,\n",
       "        0.  , 0.  , 0.  , 0.01, 0.01, 0.04, 0.  , 1.  , 0.01, 0.88, 0.02,\n",
       "        0.  , 0.  , 0.02, 0.  , 0.  , 0.  , 0.  , 0.01, 1.  , 0.08, 0.  ,\n",
       "        0.02, 0.01, 0.  , 0.02, 1.  , 0.  , 0.  , 0.03, 0.01, 0.02, 0.8 ,\n",
       "        0.02, 0.04, 1.  , 0.83, 0.  , 0.12, 0.01, 0.87, 0.11, 0.02, 0.  ,\n",
       "        0.01, 1.  , 0.96, 0.08, 0.09, 0.16, 0.01, 0.06, 0.  , 0.01, 0.01,\n",
       "        0.03, 0.02, 1.  , 0.88, 1.  , 1.  , 0.04, 0.16, 1.  , 0.01, 0.08,\n",
       "        0.  , 0.87, 0.01, 0.02, 0.03, 0.  , 0.03, 0.01, 1.  , 0.01, 1.  ,\n",
       "        0.16, 0.98, 0.1 , 0.13, 1.  , 1.  , 0.15, 0.03, 0.99, 0.02, 0.04,\n",
       "        0.06, 0.07, 1.  , 0.04, 1.  , 1.  , 0.07, 0.99, 1.  , 1.  , 1.  ,\n",
       "        0.  , 0.  , 0.  , 0.  , 0.  , 0.  , 0.  , 0.  , 0.  , 0.  , 0.  ,\n",
       "        0.  , 0.  , 0.  , 0.  , 0.  , 0.  , 0.  , 0.  , 0.  , 0.  , 0.  ,\n",
       "        0.  , 0.  , 0.  , 0.  , 0.  ]])"
      ]
     },
     "execution_count": 24,
     "metadata": {},
     "output_type": "execute_result"
    }
   ],
   "source": [
    "one_vs_rest_classifier.predict_proba(instance_X.reshape(1, -1))"
   ]
  },
  {
   "cell_type": "markdown",
   "metadata": {},
   "source": [
    "### Save classifier"
   ]
  },
  {
   "cell_type": "code",
   "execution_count": 27,
   "metadata": {},
   "outputs": [],
   "source": [
    "pickle.dump(one_vs_rest_classifier, open(\"./models/tms/tms_one_vs_rest_classifier.pkl\", \"wb\"))"
   ]
  }
 ],
 "metadata": {
  "kernelspec": {
   "display_name": "mass_spectra",
   "language": "python",
   "name": "python3"
  },
  "language_info": {
   "codemirror_mode": {
    "name": "ipython",
    "version": 3
   },
   "file_extension": ".py",
   "mimetype": "text/x-python",
   "name": "python",
   "nbconvert_exporter": "python",
   "pygments_lexer": "ipython3",
   "version": "3.9.16"
  },
  "orig_nbformat": 4
 },
 "nbformat": 4,
 "nbformat_minor": 2
}
