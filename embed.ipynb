{
 "cells": [
  {
   "cell_type": "code",
   "execution_count": 4,
   "metadata": {},
   "outputs": [],
   "source": [
    "import pandas as pd\n",
    "import os"
   ]
  },
  {
   "attachments": {},
   "cell_type": "markdown",
   "metadata": {},
   "source": [
    "### Collect all InchiKeys"
   ]
  },
  {
   "cell_type": "code",
   "execution_count": 21,
   "metadata": {},
   "outputs": [],
   "source": [
    "def extract_inchi_key(file):\n",
    "    df = pd.read_excel(file)\n",
    "    df.columns = [s.replace(' ', '').lower() for s in df.columns]\n",
    "    if df['inchikey'].isnull().values.all() or 'inchikey' not in df.columns or len(df) == 0:\n",
    "        print(df['inchikey'])\n",
    "        raise ValueError(f'Inchikey column is missing in columns: {df.columns} of {file}')\n",
    "    return df['inchikey']"
   ]
  },
  {
   "cell_type": "code",
   "execution_count": 22,
   "metadata": {},
   "outputs": [],
   "source": [
    "METADATA_PATH = 'dataset/'\n",
    "joined = pd.DataFrame()\n",
    "for file in os.listdir(METADATA_PATH):\n",
    "    if file.endswith('.xlsx'):\n",
    "        df = extract_inchi_key(os.path.join(METADATA_PATH, file))\n",
    "        joined = pd.concat([joined, df], axis=0)"
   ]
  },
  {
   "cell_type": "code",
   "execution_count": 24,
   "metadata": {},
   "outputs": [],
   "source": [
    "joined.dropna(inplace=True)"
   ]
  },
  {
   "cell_type": "code",
   "execution_count": 26,
   "metadata": {},
   "outputs": [
    {
     "data": {
      "text/plain": [
       "37870"
      ]
     },
     "execution_count": 26,
     "metadata": {},
     "output_type": "execute_result"
    }
   ],
   "source": [
    "len(joined)"
   ]
  },
  {
   "cell_type": "code",
   "execution_count": 32,
   "metadata": {},
   "outputs": [],
   "source": [
    "inchi_keys = pd.unique(joined[0])"
   ]
  },
  {
   "cell_type": "code",
   "execution_count": 33,
   "metadata": {},
   "outputs": [
    {
     "data": {
      "text/plain": [
       "10191"
      ]
     },
     "execution_count": 33,
     "metadata": {},
     "output_type": "execute_result"
    }
   ],
   "source": [
    "len(inchi_keys)"
   ]
  },
  {
   "attachments": {},
   "cell_type": "markdown",
   "metadata": {},
   "source": [
    "### Construct fingerprints for all inchikeys"
   ]
  },
  {
   "cell_type": "code",
   "execution_count": 50,
   "metadata": {},
   "outputs": [],
   "source": [
    "from cdk_inchi_to_fingerprint import generate_fingerprint"
   ]
  },
  {
   "cell_type": "code",
   "execution_count": 52,
   "metadata": {},
   "outputs": [
    {
     "data": {
      "text/plain": [
       "'SVLCMZXBZOFSQX-MBMZGMDYSA-N '"
      ]
     },
     "execution_count": 52,
     "metadata": {},
     "output_type": "execute_result"
    }
   ],
   "source": [
    "inchi_keys[0]"
   ]
  },
  {
   "cell_type": "code",
   "execution_count": 51,
   "metadata": {},
   "outputs": [
    {
     "ename": "KeyboardInterrupt",
     "evalue": "",
     "output_type": "error",
     "traceback": [
      "\u001b[1;31m---------------------------------------------------------------------------\u001b[0m",
      "\u001b[1;31mKeyboardInterrupt\u001b[0m                         Traceback (most recent call last)",
      "Cell \u001b[1;32mIn[51], line 1\u001b[0m\n\u001b[1;32m----> 1\u001b[0m generate_fingerprint([\u001b[39m'\u001b[39;49m\u001b[39mCircularFingerprinter\u001b[39;49m\u001b[39m'\u001b[39;49m], [inchi_keys[\u001b[39m0\u001b[39;49m]])\n",
      "File \u001b[1;32mc:\\Users\\Aleksander\\Projects\\IJS\\mass_spectra\\cdk_inchi_to_fingerprint.py:55\u001b[0m, in \u001b[0;36mgenerate_fingerprint\u001b[1;34m(fingerprint_array, inchi_array, fingerprint_parser)\u001b[0m\n\u001b[0;32m     52\u001b[0m atom_container \u001b[39m=\u001b[39m inchi_to_atom_container(\u001b[39mf\u001b[39m\u001b[39m'\u001b[39m\u001b[39m{\u001b[39;00minchi\u001b[39m}\u001b[39;00m\u001b[39m'\u001b[39m)\n\u001b[0;32m     53\u001b[0m \u001b[39mif\u001b[39;00m atom_container\u001b[39m.\u001b[39mgetAtomCount() \u001b[39m==\u001b[39m \u001b[39m0\u001b[39m:\n\u001b[0;32m     54\u001b[0m     \u001b[39m# retry with inchikey\u001b[39;00m\n\u001b[1;32m---> 55\u001b[0m     atom_container \u001b[39m=\u001b[39m inchi_to_atom_container(inchikey_to_inchi(inchi))\n\u001b[0;32m     56\u001b[0m \u001b[39mif\u001b[39;00m atom_container\u001b[39m.\u001b[39mgetAtomCount() \u001b[39m==\u001b[39m \u001b[39m0\u001b[39m:\n\u001b[0;32m     57\u001b[0m     \u001b[39mraise\u001b[39;00m \u001b[39mValueError\u001b[39;00m(\u001b[39mf\u001b[39m\u001b[39m'\u001b[39m\u001b[39mInvalid InChI key: \u001b[39m\u001b[39m{\u001b[39;00minchi\u001b[39m}\u001b[39;00m\u001b[39m'\u001b[39m)\n",
      "File \u001b[1;32mc:\\Users\\Aleksander\\Projects\\IJS\\mass_spectra\\cdk_inchi_to_fingerprint.py:18\u001b[0m, in \u001b[0;36minchikey_to_inchi\u001b[1;34m(inchikey)\u001b[0m\n\u001b[0;32m     17\u001b[0m \u001b[39mdef\u001b[39;00m \u001b[39minchikey_to_inchi\u001b[39m(inchikey):\n\u001b[1;32m---> 18\u001b[0m     ret \u001b[39m=\u001b[39m unichem\u001b[39m.\u001b[39;49minchiFromKey(inchikey)\n\u001b[0;32m     19\u001b[0m     \u001b[39mif\u001b[39;00m \u001b[39mlen\u001b[39m(ret) \u001b[39m==\u001b[39m \u001b[39m0\u001b[39m:\n\u001b[0;32m     20\u001b[0m         \u001b[39mreturn\u001b[39;00m \u001b[39mNone\u001b[39;00m\n",
      "File \u001b[1;32mc:\\Users\\Aleksander\\anaconda3\\envs\\ijs\\lib\\site-packages\\chembl_webresource_client\\unichem.py:132\u001b[0m, in \u001b[0;36mUniChemClient.inchiFromKey\u001b[1;34m(self, inchi_key)\u001b[0m\n\u001b[0;32m    130\u001b[0m \u001b[39mdef\u001b[39;00m \u001b[39minchiFromKey\u001b[39m(\u001b[39mself\u001b[39m, inchi_key):\n\u001b[0;32m    131\u001b[0m     url \u001b[39m=\u001b[39m \u001b[39m'\u001b[39m\u001b[39m{0}\u001b[39;00m\u001b[39m/inchi/\u001b[39m\u001b[39m{1}\u001b[39;00m\u001b[39m'\u001b[39m\u001b[39m.\u001b[39mformat(\u001b[39mself\u001b[39m\u001b[39m.\u001b[39mbase_url, inchi_key)\n\u001b[1;32m--> 132\u001b[0m     \u001b[39mreturn\u001b[39;00m \u001b[39mself\u001b[39;49m\u001b[39m.\u001b[39;49m_get_results(url)\n",
      "File \u001b[1;32mc:\\Users\\Aleksander\\anaconda3\\envs\\ijs\\lib\\site-packages\\chembl_webresource_client\\unichem.py:58\u001b[0m, in \u001b[0;36mUniChemClient._get_results\u001b[1;34m(self, url)\u001b[0m\n\u001b[0;32m     56\u001b[0m \u001b[39mdef\u001b[39;00m \u001b[39m_get_results\u001b[39m(\u001b[39mself\u001b[39m, url):\n\u001b[0;32m     57\u001b[0m     \u001b[39mwith\u001b[39;00m \u001b[39mself\u001b[39m\u001b[39m.\u001b[39m_get_session() \u001b[39mas\u001b[39;00m session:\n\u001b[1;32m---> 58\u001b[0m             res \u001b[39m=\u001b[39m session\u001b[39m.\u001b[39;49mget(url, timeout\u001b[39m=\u001b[39;49m\u001b[39mself\u001b[39;49m\u001b[39m.\u001b[39;49mtimeout)\n\u001b[0;32m     59\u001b[0m             \u001b[39mself\u001b[39m\u001b[39m.\u001b[39mlogger\u001b[39m.\u001b[39minfo(res\u001b[39m.\u001b[39murl)\n\u001b[0;32m     60\u001b[0m             \u001b[39mself\u001b[39m\u001b[39m.\u001b[39mlogger\u001b[39m.\u001b[39minfo(\u001b[39m'\u001b[39m\u001b[39mFrom cache: \u001b[39m\u001b[39m{0}\u001b[39;00m\u001b[39m'\u001b[39m\u001b[39m.\u001b[39mformat(res\u001b[39m.\u001b[39mfrom_cache \u001b[39mif\u001b[39;00m \u001b[39mhasattr\u001b[39m(res, \u001b[39m'\u001b[39m\u001b[39mfrom_cache\u001b[39m\u001b[39m'\u001b[39m) \u001b[39melse\u001b[39;00m \u001b[39mFalse\u001b[39;00m))\n",
      "File \u001b[1;32mc:\\Users\\Aleksander\\anaconda3\\envs\\ijs\\lib\\site-packages\\requests\\sessions.py:602\u001b[0m, in \u001b[0;36mSession.get\u001b[1;34m(self, url, **kwargs)\u001b[0m\n\u001b[0;32m    594\u001b[0m \u001b[39m\u001b[39m\u001b[39mr\u001b[39m\u001b[39m\"\"\"Sends a GET request. Returns :class:`Response` object.\u001b[39;00m\n\u001b[0;32m    595\u001b[0m \n\u001b[0;32m    596\u001b[0m \u001b[39m:param url: URL for the new :class:`Request` object.\u001b[39;00m\n\u001b[0;32m    597\u001b[0m \u001b[39m:param \\*\\*kwargs: Optional arguments that ``request`` takes.\u001b[39;00m\n\u001b[0;32m    598\u001b[0m \u001b[39m:rtype: requests.Response\u001b[39;00m\n\u001b[0;32m    599\u001b[0m \u001b[39m\"\"\"\u001b[39;00m\n\u001b[0;32m    601\u001b[0m kwargs\u001b[39m.\u001b[39msetdefault(\u001b[39m\"\u001b[39m\u001b[39mallow_redirects\u001b[39m\u001b[39m\"\u001b[39m, \u001b[39mTrue\u001b[39;00m)\n\u001b[1;32m--> 602\u001b[0m \u001b[39mreturn\u001b[39;00m \u001b[39mself\u001b[39m\u001b[39m.\u001b[39mrequest(\u001b[39m\"\u001b[39m\u001b[39mGET\u001b[39m\u001b[39m\"\u001b[39m, url, \u001b[39m*\u001b[39m\u001b[39m*\u001b[39mkwargs)\n",
      "File \u001b[1;32mc:\\Users\\Aleksander\\anaconda3\\envs\\ijs\\lib\\site-packages\\requests_cache\\session.py:101\u001b[0m, in \u001b[0;36mCacheMixin.request\u001b[1;34m(self, method, url, params, data, json, expire_after, **kwargs)\u001b[0m\n\u001b[0;32m     73\u001b[0m \u001b[39m\u001b[39m\u001b[39m\"\"\"This method prepares and sends a request while automatically performing any necessary\u001b[39;00m\n\u001b[0;32m     74\u001b[0m \u001b[39mcaching operations. This will be called by any other method-specific ``requests`` functions\u001b[39;00m\n\u001b[0;32m     75\u001b[0m \u001b[39m(get, post, etc.). This does not include prepared requests, which will still be cached via\u001b[39;00m\n\u001b[1;32m   (...)\u001b[0m\n\u001b[0;32m     98\u001b[0m \n\u001b[0;32m     99\u001b[0m \u001b[39m\"\"\"\u001b[39;00m\n\u001b[0;32m    100\u001b[0m \u001b[39mwith\u001b[39;00m \u001b[39mself\u001b[39m\u001b[39m.\u001b[39mrequest_expire_after(expire_after), patch_form_boundary(\u001b[39m*\u001b[39m\u001b[39m*\u001b[39mkwargs):\n\u001b[1;32m--> 101\u001b[0m     \u001b[39mreturn\u001b[39;00m \u001b[39msuper\u001b[39m()\u001b[39m.\u001b[39mrequest(\n\u001b[0;32m    102\u001b[0m         method,\n\u001b[0;32m    103\u001b[0m         url,\n\u001b[0;32m    104\u001b[0m         params\u001b[39m=\u001b[39mnormalize_dict(params),\n\u001b[0;32m    105\u001b[0m         data\u001b[39m=\u001b[39mnormalize_dict(data),\n\u001b[0;32m    106\u001b[0m         json\u001b[39m=\u001b[39mnormalize_dict(json),\n\u001b[0;32m    107\u001b[0m         \u001b[39m*\u001b[39m\u001b[39m*\u001b[39mkwargs,\n\u001b[0;32m    108\u001b[0m     )\n",
      "File \u001b[1;32mc:\\Users\\Aleksander\\anaconda3\\envs\\ijs\\lib\\site-packages\\requests\\sessions.py:589\u001b[0m, in \u001b[0;36mSession.request\u001b[1;34m(self, method, url, params, data, headers, cookies, files, auth, timeout, allow_redirects, proxies, hooks, stream, verify, cert, json)\u001b[0m\n\u001b[0;32m    584\u001b[0m send_kwargs \u001b[39m=\u001b[39m {\n\u001b[0;32m    585\u001b[0m     \u001b[39m\"\u001b[39m\u001b[39mtimeout\u001b[39m\u001b[39m\"\u001b[39m: timeout,\n\u001b[0;32m    586\u001b[0m     \u001b[39m\"\u001b[39m\u001b[39mallow_redirects\u001b[39m\u001b[39m\"\u001b[39m: allow_redirects,\n\u001b[0;32m    587\u001b[0m }\n\u001b[0;32m    588\u001b[0m send_kwargs\u001b[39m.\u001b[39mupdate(settings)\n\u001b[1;32m--> 589\u001b[0m resp \u001b[39m=\u001b[39m \u001b[39mself\u001b[39m\u001b[39m.\u001b[39msend(prep, \u001b[39m*\u001b[39m\u001b[39m*\u001b[39msend_kwargs)\n\u001b[0;32m    591\u001b[0m \u001b[39mreturn\u001b[39;00m resp\n",
      "File \u001b[1;32mc:\\Users\\Aleksander\\anaconda3\\envs\\ijs\\lib\\site-packages\\requests_cache\\session.py:132\u001b[0m, in \u001b[0;36mCacheMixin.send\u001b[1;34m(self, request, **kwargs)\u001b[0m\n\u001b[0;32m    130\u001b[0m \u001b[39m# If the cache is disabled, doesn't have the response, or it's expired, then fetch a new one\u001b[39;00m\n\u001b[0;32m    131\u001b[0m \u001b[39mif\u001b[39;00m response \u001b[39mis\u001b[39;00m \u001b[39mNone\u001b[39;00m:\n\u001b[1;32m--> 132\u001b[0m     response \u001b[39m=\u001b[39m \u001b[39mself\u001b[39m\u001b[39m.\u001b[39m_send_and_cache(request, actions, \u001b[39m*\u001b[39m\u001b[39m*\u001b[39mkwargs)\n\u001b[0;32m    133\u001b[0m \u001b[39melif\u001b[39;00m is_expired \u001b[39mand\u001b[39;00m \u001b[39mself\u001b[39m\u001b[39m.\u001b[39mold_data_on_error:\n\u001b[0;32m    134\u001b[0m     response \u001b[39m=\u001b[39m \u001b[39mself\u001b[39m\u001b[39m.\u001b[39m_resend_and_ignore(request, actions, \u001b[39m*\u001b[39m\u001b[39m*\u001b[39mkwargs) \u001b[39mor\u001b[39;00m response\n",
      "File \u001b[1;32mc:\\Users\\Aleksander\\anaconda3\\envs\\ijs\\lib\\site-packages\\requests_cache\\session.py:156\u001b[0m, in \u001b[0;36mCacheMixin._send_and_cache\u001b[1;34m(self, request, actions, **kwargs)\u001b[0m\n\u001b[0;32m    154\u001b[0m \u001b[39mdef\u001b[39;00m \u001b[39m_send_and_cache\u001b[39m(\u001b[39mself\u001b[39m, request: PreparedRequest, actions: CacheActions, \u001b[39m*\u001b[39m\u001b[39m*\u001b[39mkwargs):\n\u001b[0;32m    155\u001b[0m \u001b[39m    \u001b[39m\u001b[39m\"\"\"Send the request and cache the response, unless disabled by settings or headers\"\"\"\u001b[39;00m\n\u001b[1;32m--> 156\u001b[0m     response \u001b[39m=\u001b[39m \u001b[39msuper\u001b[39m()\u001b[39m.\u001b[39msend(request, \u001b[39m*\u001b[39m\u001b[39m*\u001b[39mkwargs)\n\u001b[0;32m    157\u001b[0m     actions\u001b[39m.\u001b[39mupdate_from_response(response)\n\u001b[0;32m    159\u001b[0m     \u001b[39mif\u001b[39;00m \u001b[39mself\u001b[39m\u001b[39m.\u001b[39m_is_cacheable(response, actions):\n",
      "File \u001b[1;32mc:\\Users\\Aleksander\\anaconda3\\envs\\ijs\\lib\\site-packages\\requests\\sessions.py:703\u001b[0m, in \u001b[0;36mSession.send\u001b[1;34m(self, request, **kwargs)\u001b[0m\n\u001b[0;32m    700\u001b[0m start \u001b[39m=\u001b[39m preferred_clock()\n\u001b[0;32m    702\u001b[0m \u001b[39m# Send the request\u001b[39;00m\n\u001b[1;32m--> 703\u001b[0m r \u001b[39m=\u001b[39m adapter\u001b[39m.\u001b[39msend(request, \u001b[39m*\u001b[39m\u001b[39m*\u001b[39mkwargs)\n\u001b[0;32m    705\u001b[0m \u001b[39m# Total elapsed time of the request (approximately)\u001b[39;00m\n\u001b[0;32m    706\u001b[0m elapsed \u001b[39m=\u001b[39m preferred_clock() \u001b[39m-\u001b[39m start\n",
      "File \u001b[1;32mc:\\Users\\Aleksander\\anaconda3\\envs\\ijs\\lib\\site-packages\\requests\\adapters.py:486\u001b[0m, in \u001b[0;36mHTTPAdapter.send\u001b[1;34m(self, request, stream, timeout, verify, cert, proxies)\u001b[0m\n\u001b[0;32m    483\u001b[0m     timeout \u001b[39m=\u001b[39m TimeoutSauce(connect\u001b[39m=\u001b[39mtimeout, read\u001b[39m=\u001b[39mtimeout)\n\u001b[0;32m    485\u001b[0m \u001b[39mtry\u001b[39;00m:\n\u001b[1;32m--> 486\u001b[0m     resp \u001b[39m=\u001b[39m conn\u001b[39m.\u001b[39;49murlopen(\n\u001b[0;32m    487\u001b[0m         method\u001b[39m=\u001b[39;49mrequest\u001b[39m.\u001b[39;49mmethod,\n\u001b[0;32m    488\u001b[0m         url\u001b[39m=\u001b[39;49murl,\n\u001b[0;32m    489\u001b[0m         body\u001b[39m=\u001b[39;49mrequest\u001b[39m.\u001b[39;49mbody,\n\u001b[0;32m    490\u001b[0m         headers\u001b[39m=\u001b[39;49mrequest\u001b[39m.\u001b[39;49mheaders,\n\u001b[0;32m    491\u001b[0m         redirect\u001b[39m=\u001b[39;49m\u001b[39mFalse\u001b[39;49;00m,\n\u001b[0;32m    492\u001b[0m         assert_same_host\u001b[39m=\u001b[39;49m\u001b[39mFalse\u001b[39;49;00m,\n\u001b[0;32m    493\u001b[0m         preload_content\u001b[39m=\u001b[39;49m\u001b[39mFalse\u001b[39;49;00m,\n\u001b[0;32m    494\u001b[0m         decode_content\u001b[39m=\u001b[39;49m\u001b[39mFalse\u001b[39;49;00m,\n\u001b[0;32m    495\u001b[0m         retries\u001b[39m=\u001b[39;49m\u001b[39mself\u001b[39;49m\u001b[39m.\u001b[39;49mmax_retries,\n\u001b[0;32m    496\u001b[0m         timeout\u001b[39m=\u001b[39;49mtimeout,\n\u001b[0;32m    497\u001b[0m         chunked\u001b[39m=\u001b[39;49mchunked,\n\u001b[0;32m    498\u001b[0m     )\n\u001b[0;32m    500\u001b[0m \u001b[39mexcept\u001b[39;00m (ProtocolError, \u001b[39mOSError\u001b[39;00m) \u001b[39mas\u001b[39;00m err:\n\u001b[0;32m    501\u001b[0m     \u001b[39mraise\u001b[39;00m \u001b[39mConnectionError\u001b[39;00m(err, request\u001b[39m=\u001b[39mrequest)\n",
      "File \u001b[1;32mc:\\Users\\Aleksander\\anaconda3\\envs\\ijs\\lib\\site-packages\\urllib3\\connectionpool.py:941\u001b[0m, in \u001b[0;36mHTTPConnectionPool.urlopen\u001b[1;34m(self, method, url, body, headers, retries, redirect, assert_same_host, timeout, pool_timeout, release_conn, chunked, body_pos, preload_content, decode_content, **response_kw)\u001b[0m\n\u001b[0;32m    939\u001b[0m     retries\u001b[39m.\u001b[39msleep(response)\n\u001b[0;32m    940\u001b[0m     log\u001b[39m.\u001b[39mdebug(\u001b[39m\"\u001b[39m\u001b[39mRetry: \u001b[39m\u001b[39m%s\u001b[39;00m\u001b[39m\"\u001b[39m, url)\n\u001b[1;32m--> 941\u001b[0m     \u001b[39mreturn\u001b[39;00m \u001b[39mself\u001b[39m\u001b[39m.\u001b[39murlopen(\n\u001b[0;32m    942\u001b[0m         method,\n\u001b[0;32m    943\u001b[0m         url,\n\u001b[0;32m    944\u001b[0m         body,\n\u001b[0;32m    945\u001b[0m         headers,\n\u001b[0;32m    946\u001b[0m         retries\u001b[39m=\u001b[39mretries,\n\u001b[0;32m    947\u001b[0m         redirect\u001b[39m=\u001b[39mredirect,\n\u001b[0;32m    948\u001b[0m         assert_same_host\u001b[39m=\u001b[39massert_same_host,\n\u001b[0;32m    949\u001b[0m         timeout\u001b[39m=\u001b[39mtimeout,\n\u001b[0;32m    950\u001b[0m         pool_timeout\u001b[39m=\u001b[39mpool_timeout,\n\u001b[0;32m    951\u001b[0m         release_conn\u001b[39m=\u001b[39mrelease_conn,\n\u001b[0;32m    952\u001b[0m         chunked\u001b[39m=\u001b[39mchunked,\n\u001b[0;32m    953\u001b[0m         body_pos\u001b[39m=\u001b[39mbody_pos,\n\u001b[0;32m    954\u001b[0m         preload_content\u001b[39m=\u001b[39mpreload_content,\n\u001b[0;32m    955\u001b[0m         decode_content\u001b[39m=\u001b[39mdecode_content,\n\u001b[0;32m    956\u001b[0m         \u001b[39m*\u001b[39m\u001b[39m*\u001b[39mresponse_kw,\n\u001b[0;32m    957\u001b[0m     )\n\u001b[0;32m    959\u001b[0m \u001b[39mreturn\u001b[39;00m response\n",
      "File \u001b[1;32mc:\\Users\\Aleksander\\anaconda3\\envs\\ijs\\lib\\site-packages\\urllib3\\connectionpool.py:941\u001b[0m, in \u001b[0;36mHTTPConnectionPool.urlopen\u001b[1;34m(self, method, url, body, headers, retries, redirect, assert_same_host, timeout, pool_timeout, release_conn, chunked, body_pos, preload_content, decode_content, **response_kw)\u001b[0m\n\u001b[0;32m    939\u001b[0m     retries\u001b[39m.\u001b[39msleep(response)\n\u001b[0;32m    940\u001b[0m     log\u001b[39m.\u001b[39mdebug(\u001b[39m\"\u001b[39m\u001b[39mRetry: \u001b[39m\u001b[39m%s\u001b[39;00m\u001b[39m\"\u001b[39m, url)\n\u001b[1;32m--> 941\u001b[0m     \u001b[39mreturn\u001b[39;00m \u001b[39mself\u001b[39m\u001b[39m.\u001b[39murlopen(\n\u001b[0;32m    942\u001b[0m         method,\n\u001b[0;32m    943\u001b[0m         url,\n\u001b[0;32m    944\u001b[0m         body,\n\u001b[0;32m    945\u001b[0m         headers,\n\u001b[0;32m    946\u001b[0m         retries\u001b[39m=\u001b[39mretries,\n\u001b[0;32m    947\u001b[0m         redirect\u001b[39m=\u001b[39mredirect,\n\u001b[0;32m    948\u001b[0m         assert_same_host\u001b[39m=\u001b[39massert_same_host,\n\u001b[0;32m    949\u001b[0m         timeout\u001b[39m=\u001b[39mtimeout,\n\u001b[0;32m    950\u001b[0m         pool_timeout\u001b[39m=\u001b[39mpool_timeout,\n\u001b[0;32m    951\u001b[0m         release_conn\u001b[39m=\u001b[39mrelease_conn,\n\u001b[0;32m    952\u001b[0m         chunked\u001b[39m=\u001b[39mchunked,\n\u001b[0;32m    953\u001b[0m         body_pos\u001b[39m=\u001b[39mbody_pos,\n\u001b[0;32m    954\u001b[0m         preload_content\u001b[39m=\u001b[39mpreload_content,\n\u001b[0;32m    955\u001b[0m         decode_content\u001b[39m=\u001b[39mdecode_content,\n\u001b[0;32m    956\u001b[0m         \u001b[39m*\u001b[39m\u001b[39m*\u001b[39mresponse_kw,\n\u001b[0;32m    957\u001b[0m     )\n\u001b[0;32m    959\u001b[0m \u001b[39mreturn\u001b[39;00m response\n",
      "File \u001b[1;32mc:\\Users\\Aleksander\\anaconda3\\envs\\ijs\\lib\\site-packages\\urllib3\\connectionpool.py:939\u001b[0m, in \u001b[0;36mHTTPConnectionPool.urlopen\u001b[1;34m(self, method, url, body, headers, retries, redirect, assert_same_host, timeout, pool_timeout, release_conn, chunked, body_pos, preload_content, decode_content, **response_kw)\u001b[0m\n\u001b[0;32m    936\u001b[0m     \u001b[39mreturn\u001b[39;00m response\n\u001b[0;32m    938\u001b[0m response\u001b[39m.\u001b[39mdrain_conn()\n\u001b[1;32m--> 939\u001b[0m retries\u001b[39m.\u001b[39;49msleep(response)\n\u001b[0;32m    940\u001b[0m log\u001b[39m.\u001b[39mdebug(\u001b[39m\"\u001b[39m\u001b[39mRetry: \u001b[39m\u001b[39m%s\u001b[39;00m\u001b[39m\"\u001b[39m, url)\n\u001b[0;32m    941\u001b[0m \u001b[39mreturn\u001b[39;00m \u001b[39mself\u001b[39m\u001b[39m.\u001b[39murlopen(\n\u001b[0;32m    942\u001b[0m     method,\n\u001b[0;32m    943\u001b[0m     url,\n\u001b[1;32m   (...)\u001b[0m\n\u001b[0;32m    956\u001b[0m     \u001b[39m*\u001b[39m\u001b[39m*\u001b[39mresponse_kw,\n\u001b[0;32m    957\u001b[0m )\n",
      "File \u001b[1;32mc:\\Users\\Aleksander\\anaconda3\\envs\\ijs\\lib\\site-packages\\urllib3\\util\\retry.py:359\u001b[0m, in \u001b[0;36mRetry.sleep\u001b[1;34m(self, response)\u001b[0m\n\u001b[0;32m    356\u001b[0m     \u001b[39mif\u001b[39;00m slept:\n\u001b[0;32m    357\u001b[0m         \u001b[39mreturn\u001b[39;00m\n\u001b[1;32m--> 359\u001b[0m \u001b[39mself\u001b[39;49m\u001b[39m.\u001b[39;49m_sleep_backoff()\n",
      "File \u001b[1;32mc:\\Users\\Aleksander\\anaconda3\\envs\\ijs\\lib\\site-packages\\urllib3\\util\\retry.py:343\u001b[0m, in \u001b[0;36mRetry._sleep_backoff\u001b[1;34m(self)\u001b[0m\n\u001b[0;32m    341\u001b[0m \u001b[39mif\u001b[39;00m backoff \u001b[39m<\u001b[39m\u001b[39m=\u001b[39m \u001b[39m0\u001b[39m:\n\u001b[0;32m    342\u001b[0m     \u001b[39mreturn\u001b[39;00m\n\u001b[1;32m--> 343\u001b[0m time\u001b[39m.\u001b[39;49msleep(backoff)\n",
      "\u001b[1;31mKeyboardInterrupt\u001b[0m: "
     ]
    }
   ],
   "source": [
    "generate_fingerprint(['CircularFingerprinter'], [inchi_keys[0]])"
   ]
  }
 ],
 "metadata": {
  "kernelspec": {
   "display_name": "ijs",
   "language": "python",
   "name": "python3"
  },
  "language_info": {
   "codemirror_mode": {
    "name": "ipython",
    "version": 3
   },
   "file_extension": ".py",
   "mimetype": "text/x-python",
   "name": "python",
   "nbconvert_exporter": "python",
   "pygments_lexer": "ipython3",
   "version": "3.9.16"
  },
  "orig_nbformat": 4
 },
 "nbformat": 4,
 "nbformat_minor": 2
}
