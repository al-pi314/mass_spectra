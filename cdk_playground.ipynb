{
 "cells": [
  {
   "cell_type": "code",
   "execution_count": 4,
   "metadata": {},
   "outputs": [],
   "source": [
    "from scyjava import config, jimport\n",
    "config.endpoints.append('org.openscience.cdk:cdk-bundle:2.8')"
   ]
  },
  {
   "cell_type": "code",
   "execution_count": 37,
   "metadata": {},
   "outputs": [],
   "source": [
    "CircularFingerprinter = jimport('org.openscience.cdk.fingerprint.CircularFingerprinter')\n",
    "InChIGeneratorFactory = jimport('org.openscience.cdk.inchi.InChIGeneratorFactory')\n",
    "InChIToStructure = jimport('org.openscience.cdk.inchi.InChIToStructure')\n",
    "DefaultChemObjectBuilder = jimport('org.openscience.cdk.DefaultChemObjectBuilder')\n",
    "String = jimport('java.lang.String')"
   ]
  },
  {
   "cell_type": "code",
   "execution_count": 44,
   "metadata": {},
   "outputs": [],
   "source": [
    "def inchi_to_atom_container(inchi):\n",
    "    inchi = String(inchi)\n",
    "    builderInstance = DefaultChemObjectBuilder.getInstance()\n",
    "    intostruct = InChIGeneratorFactory.getInChIToStructure(inchi, builderInstance)\n",
    "    return intostruct.getAtomContainer()"
   ]
  },
  {
   "cell_type": "code",
   "execution_count": 45,
   "metadata": {},
   "outputs": [
    {
     "ename": "TypeError",
     "evalue": "No matching overloads found for *static* org.openscience.cdk.inchi.InChIGeneratorFactory.getInChIToStructure(java.lang.String,org.openscience.cdk.DefaultChemObjectBuilder.Holder), options are:\n\tpublic org.openscience.cdk.inchi.InChIToStructure org.openscience.cdk.inchi.InChIGeneratorFactory.getInChIToStructure(java.lang.String,org.openscience.cdk.interfaces.IChemObjectBuilder,java.lang.String) throws org.openscience.cdk.exception.CDKException\n\tpublic org.openscience.cdk.inchi.InChIToStructure org.openscience.cdk.inchi.InChIGeneratorFactory.getInChIToStructure(java.lang.String,org.openscience.cdk.interfaces.IChemObjectBuilder,java.util.List) throws org.openscience.cdk.exception.CDKException\n\tpublic org.openscience.cdk.inchi.InChIToStructure org.openscience.cdk.inchi.InChIGeneratorFactory.getInChIToStructure(java.lang.String,org.openscience.cdk.interfaces.IChemObjectBuilder) throws org.openscience.cdk.exception.CDKException\n\n",
     "output_type": "error",
     "traceback": [
      "\u001b[1;31m---------------------------------------------------------------------------\u001b[0m",
      "\u001b[1;31mTypeError\u001b[0m                                 Traceback (most recent call last)",
      "Cell \u001b[1;32mIn[45], line 1\u001b[0m\n\u001b[1;32m----> 1\u001b[0m inchi_to_atom_container(\u001b[39m'\u001b[39;49m\u001b[39mInChI=1S/C6H6/c1-2-4-6-5-3-1/h1-6H\u001b[39;49m\u001b[39m'\u001b[39;49m)\n",
      "Cell \u001b[1;32mIn[44], line 4\u001b[0m, in \u001b[0;36minchi_to_atom_container\u001b[1;34m(inchi)\u001b[0m\n\u001b[0;32m      2\u001b[0m inchi \u001b[39m=\u001b[39m String(inchi)\n\u001b[0;32m      3\u001b[0m builderInstance \u001b[39m=\u001b[39m DefaultChemObjectBuilder\u001b[39m.\u001b[39mgetInstance()\n\u001b[1;32m----> 4\u001b[0m intostruct \u001b[39m=\u001b[39m InChIGeneratorFactory\u001b[39m.\u001b[39;49mgetInChIToStructure(inchi, builderInstance)\n\u001b[0;32m      5\u001b[0m \u001b[39mreturn\u001b[39;00m intostruct\u001b[39m.\u001b[39mgetAtomContainer()\n",
      "\u001b[1;31mTypeError\u001b[0m: No matching overloads found for *static* org.openscience.cdk.inchi.InChIGeneratorFactory.getInChIToStructure(java.lang.String,org.openscience.cdk.DefaultChemObjectBuilder.Holder), options are:\n\tpublic org.openscience.cdk.inchi.InChIToStructure org.openscience.cdk.inchi.InChIGeneratorFactory.getInChIToStructure(java.lang.String,org.openscience.cdk.interfaces.IChemObjectBuilder,java.lang.String) throws org.openscience.cdk.exception.CDKException\n\tpublic org.openscience.cdk.inchi.InChIToStructure org.openscience.cdk.inchi.InChIGeneratorFactory.getInChIToStructure(java.lang.String,org.openscience.cdk.interfaces.IChemObjectBuilder,java.util.List) throws org.openscience.cdk.exception.CDKException\n\tpublic org.openscience.cdk.inchi.InChIToStructure org.openscience.cdk.inchi.InChIGeneratorFactory.getInChIToStructure(java.lang.String,org.openscience.cdk.interfaces.IChemObjectBuilder) throws org.openscience.cdk.exception.CDKException\n\n"
     ]
    }
   ],
   "source": [
    "inchi_to_atom_container('InChI=1S/C6H6/c1-2-4-6-5-3-1/h1-6H')"
   ]
  }
 ],
 "metadata": {
  "kernelspec": {
   "display_name": "ijs",
   "language": "python",
   "name": "python3"
  },
  "language_info": {
   "codemirror_mode": {
    "name": "ipython",
    "version": 3
   },
   "file_extension": ".py",
   "mimetype": "text/x-python",
   "name": "python",
   "nbconvert_exporter": "python",
   "pygments_lexer": "ipython3",
   "version": "3.9.16"
  },
  "orig_nbformat": 4
 },
 "nbformat": 4,
 "nbformat_minor": 2
}
