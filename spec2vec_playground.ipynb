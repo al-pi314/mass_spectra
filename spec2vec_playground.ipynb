{
 "cells": [
  {
   "attachments": {},
   "cell_type": "markdown",
   "metadata": {},
   "source": [
    "### Playground for Spec2Vec"
   ]
  },
  {
   "cell_type": "code",
   "execution_count": 1,
   "metadata": {},
   "outputs": [],
   "source": [
    "import os\n",
    "import matchms.filtering as msfilters\n",
    "from matchms.importing import load_from_mgf\n",
    "from spec2vec import SpectrumDocument\n",
    "from spec2vec.model_building import train_new_word2vec_model"
   ]
  },
  {
   "cell_type": "code",
   "execution_count": 2,
   "metadata": {},
   "outputs": [],
   "source": [
    "def spectrum_generator(file):\n",
    "    \"\"\"This is how one would typically design a desired pre- and post-\n",
    "    processing pipeline.\"\"\"\n",
    "    if not os.path.isfile(file):\n",
    "        raise FileNotFoundError(\"File {} not found.\".format(file))\n",
    "    if not file.endswith(\".mgf\"):\n",
    "        raise ValueError(\"File {} does not end with '.mgf'.\".format(file))\n",
    "    \n",
    "    for s in load_from_mgf(file):\n",
    "        # s = msfilters.default_filters(s)\n",
    "        # s = msfilters.add_parent_mass(s)\n",
    "        # s = msfilters.normalize_intensities(s)\n",
    "        # s = msfilters.reduce_to_number_of_peaks(s, n_required=10, n_max=500)\n",
    "        # s = msfilters.select_by_mz(s, mz_from=0, mz_to=1000)\n",
    "        # s = msfilters.add_precursor_mz(s)\n",
    "        # s = msfilters.add_losses(s, loss_mz_from=10.0, loss_mz_to=200.0)\n",
    "        # s = msfilters.require_minimum_number_of_peaks(s, n_required=10)\n",
    "        if s is None:\n",
    "            continue\n",
    "        yield s"
   ]
  },
  {
   "cell_type": "code",
   "execution_count": 3,
   "metadata": {},
   "outputs": [],
   "source": [
    "spectra_generator = spectrum_generator(\"./dataset/Test dataset_TBDMS_BS.mgf\")"
   ]
  },
  {
   "cell_type": "code",
   "execution_count": 4,
   "metadata": {},
   "outputs": [
    {
     "name": "stdout",
     "output_type": "stream",
     "text": [
      "2023-06-19 11:20:41,491:WARNING:matchms:add_precursor_mz:No precursor_mz found in metadata.\n"
     ]
    }
   ],
   "source": [
    "s = next(spectra_generator)"
   ]
  }
 ],
 "metadata": {
  "kernelspec": {
   "display_name": "spec2vec",
   "language": "python",
   "name": "python3"
  },
  "language_info": {
   "codemirror_mode": {
    "name": "ipython",
    "version": 3
   },
   "file_extension": ".py",
   "mimetype": "text/x-python",
   "name": "python",
   "nbconvert_exporter": "python",
   "pygments_lexer": "ipython3",
   "version": "3.9.16"
  },
  "orig_nbformat": 4
 },
 "nbformat": 4,
 "nbformat_minor": 2
}
