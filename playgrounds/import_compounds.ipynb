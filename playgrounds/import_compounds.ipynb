{
 "cells": [
  {
   "cell_type": "code",
   "execution_count": 2,
   "metadata": {},
   "outputs": [],
   "source": [
    "from helper.compound_querier import add_compounds, get_compound\n",
    "import pandas as pd\n",
    "from tqdm.notebook import tqdm"
   ]
  },
  {
   "cell_type": "code",
   "execution_count": 3,
   "metadata": {},
   "outputs": [
    {
     "data": {
      "text/html": [
       "<div>\n",
       "<style scoped>\n",
       "    .dataframe tbody tr th:only-of-type {\n",
       "        vertical-align: middle;\n",
       "    }\n",
       "\n",
       "    .dataframe tbody tr th {\n",
       "        vertical-align: top;\n",
       "    }\n",
       "\n",
       "    .dataframe thead th {\n",
       "        text-align: right;\n",
       "    }\n",
       "</style>\n",
       "<table border=\"1\" class=\"dataframe\">\n",
       "  <thead>\n",
       "    <tr style=\"text-align: right;\">\n",
       "      <th></th>\n",
       "      <th>smiles</th>\n",
       "      <th>inchi</th>\n",
       "      <th>inchi_key</th>\n",
       "    </tr>\n",
       "  </thead>\n",
       "  <tbody>\n",
       "    <tr>\n",
       "      <th>0</th>\n",
       "      <td>C[Si](C)(C)OC[C@@H]1[C@H]([C@@H]([C@@H]([C@H](...</td>\n",
       "      <td>InChI=1S/C54H130O16Si12/c1-71(2,3)55-37-41-47(...</td>\n",
       "      <td>AGCGTUNOUDOTHI-KRYNHHJKSA-N</td>\n",
       "    </tr>\n",
       "    <tr>\n",
       "      <th>1</th>\n",
       "      <td>C[Si](C)(C)OCC1C(C(C(C(O1)OC2=CC3=C(C(=C2)O[Si...</td>\n",
       "      <td>InChI=1S/C50H92O14Si8/c1-65(2,3)53-32-42-44(61...</td>\n",
       "      <td>IADLJLVXUGSEBP-UHFFFAOYSA-N</td>\n",
       "    </tr>\n",
       "    <tr>\n",
       "      <th>2</th>\n",
       "      <td>CC1C(C(C(C(O1)OCC2C(C(C(C(O2)OC3=CC4=C(C(=O)CC...</td>\n",
       "      <td>InChI=1S/C52H98O15Si8/c1-34-45(62-70(9,10)11)4...</td>\n",
       "      <td>KGNFGWOIKRFMAR-UHFFFAOYSA-N</td>\n",
       "    </tr>\n",
       "    <tr>\n",
       "      <th>3</th>\n",
       "      <td>CC1C(C(C(C(O1)OC2C(C(C(OC2OC3=CC4=C(C(=O)CC(O4...</td>\n",
       "      <td>InChI=1S/C51H96O14Si8/c1-34-44(61-69(11,12)13)...</td>\n",
       "      <td>KSAMZDLNUNJNIH-UHFFFAOYSA-N</td>\n",
       "    </tr>\n",
       "    <tr>\n",
       "      <th>4</th>\n",
       "      <td>CC1C(C(C(C(O1)OCC2C(C(C(C(O2)OC3=C(OC4=C(C3=O)...</td>\n",
       "      <td>InChI=1S/C66H128O19Si11/c1-43-53(77-88(9,10)11...</td>\n",
       "      <td>XEPGSEKVGCRXJO-UHFFFAOYSA-N</td>\n",
       "    </tr>\n",
       "  </tbody>\n",
       "</table>\n",
       "</div>"
      ],
      "text/plain": [
       "                                              smiles  \\\n",
       "0  C[Si](C)(C)OC[C@@H]1[C@H]([C@@H]([C@@H]([C@H](...   \n",
       "1  C[Si](C)(C)OCC1C(C(C(C(O1)OC2=CC3=C(C(=C2)O[Si...   \n",
       "2  CC1C(C(C(C(O1)OCC2C(C(C(C(O2)OC3=CC4=C(C(=O)CC...   \n",
       "3  CC1C(C(C(C(O1)OC2C(C(C(OC2OC3=CC4=C(C(=O)CC(O4...   \n",
       "4  CC1C(C(C(C(O1)OCC2C(C(C(C(O2)OC3=C(OC4=C(C3=O)...   \n",
       "\n",
       "                                               inchi  \\\n",
       "0  InChI=1S/C54H130O16Si12/c1-71(2,3)55-37-41-47(...   \n",
       "1  InChI=1S/C50H92O14Si8/c1-65(2,3)53-32-42-44(61...   \n",
       "2  InChI=1S/C52H98O15Si8/c1-34-45(62-70(9,10)11)4...   \n",
       "3  InChI=1S/C51H96O14Si8/c1-34-44(61-69(11,12)13)...   \n",
       "4  InChI=1S/C66H128O19Si11/c1-43-53(77-88(9,10)11...   \n",
       "\n",
       "                     inchi_key  \n",
       "0  AGCGTUNOUDOTHI-KRYNHHJKSA-N  \n",
       "1  IADLJLVXUGSEBP-UHFFFAOYSA-N  \n",
       "2  KGNFGWOIKRFMAR-UHFFFAOYSA-N  \n",
       "3  KSAMZDLNUNJNIH-UHFFFAOYSA-N  \n",
       "4  XEPGSEKVGCRXJO-UHFFFAOYSA-N  "
      ]
     },
     "execution_count": 3,
     "metadata": {},
     "output_type": "execute_result"
    }
   ],
   "source": [
    "compounds = pd.read_pickle('./source/compounds/compounds.pkl')\n",
    "compounds.head()"
   ]
  },
  {
   "cell_type": "code",
   "execution_count": 4,
   "metadata": {},
   "outputs": [
    {
     "data": {
      "text/plain": [
       "smiles       418\n",
       "inchi        647\n",
       "inchi_key      0\n",
       "dtype: int64"
      ]
     },
     "execution_count": 4,
     "metadata": {},
     "output_type": "execute_result"
    }
   ],
   "source": [
    "compounds.isna().sum()"
   ]
  },
  {
   "cell_type": "code",
   "execution_count": 5,
   "metadata": {},
   "outputs": [],
   "source": [
    "# df = pd.read_csv('./source/dataset/compounds.csv', sep=';')\n",
    "\n",
    "# df = pd.read_csv('./source/dataset/smiles.txt', sep='\\t', header=None)\n",
    "# df.columns = ['inchi_key', 'smiles']\n",
    "\n",
    "df = pd.read_csv('./source/dataset/inchi_keys.txt', sep='\\t', header=None)\n",
    "df.columns = ['inchi_key']"
   ]
  },
  {
   "cell_type": "code",
   "execution_count": 6,
   "metadata": {},
   "outputs": [
    {
     "data": {
      "text/html": [
       "<div>\n",
       "<style scoped>\n",
       "    .dataframe tbody tr th:only-of-type {\n",
       "        vertical-align: middle;\n",
       "    }\n",
       "\n",
       "    .dataframe tbody tr th {\n",
       "        vertical-align: top;\n",
       "    }\n",
       "\n",
       "    .dataframe thead th {\n",
       "        text-align: right;\n",
       "    }\n",
       "</style>\n",
       "<table border=\"1\" class=\"dataframe\">\n",
       "  <thead>\n",
       "    <tr style=\"text-align: right;\">\n",
       "      <th></th>\n",
       "      <th>inchi_key</th>\n",
       "    </tr>\n",
       "  </thead>\n",
       "  <tbody>\n",
       "    <tr>\n",
       "      <th>0</th>\n",
       "      <td>MOBSUIKFQIWSJI-BXQJSQRVSA-N</td>\n",
       "    </tr>\n",
       "    <tr>\n",
       "      <th>1</th>\n",
       "      <td>MSRAOOKTXOTZPK-UHFFFAOYSA-N</td>\n",
       "    </tr>\n",
       "    <tr>\n",
       "      <th>2</th>\n",
       "      <td>BCATYCVSLYNDPX-UERWRGBPSA-N</td>\n",
       "    </tr>\n",
       "    <tr>\n",
       "      <th>3</th>\n",
       "      <td>XBKDHFNKZGURLX-UHFFFAOYSA-N</td>\n",
       "    </tr>\n",
       "    <tr>\n",
       "      <th>4</th>\n",
       "      <td>RASLARXBAZCUFF-NWSQWKLXSA-N</td>\n",
       "    </tr>\n",
       "  </tbody>\n",
       "</table>\n",
       "</div>"
      ],
      "text/plain": [
       "                     inchi_key\n",
       "0  MOBSUIKFQIWSJI-BXQJSQRVSA-N\n",
       "1  MSRAOOKTXOTZPK-UHFFFAOYSA-N\n",
       "2  BCATYCVSLYNDPX-UERWRGBPSA-N\n",
       "3  XBKDHFNKZGURLX-UHFFFAOYSA-N\n",
       "4  RASLARXBAZCUFF-NWSQWKLXSA-N"
      ]
     },
     "execution_count": 6,
     "metadata": {},
     "output_type": "execute_result"
    }
   ],
   "source": [
    "df.head()"
   ]
  },
  {
   "cell_type": "code",
   "execution_count": 7,
   "metadata": {},
   "outputs": [
    {
     "data": {
      "application/vnd.jupyter.widget-view+json": {
       "model_id": "a5cb4b62c9d94156a9d9a5775a445c47",
       "version_major": 2,
       "version_minor": 0
      },
      "text/plain": [
       "  0%|          | 0/12948 [00:00<?, ?it/s]"
      ]
     },
     "metadata": {},
     "output_type": "display_data"
    },
    {
     "name": "stdout",
     "output_type": "stream",
     "text": [
      "Added 0 new compounds\n"
     ]
    }
   ],
   "source": [
    "add_compounds(df, progress=tqdm)"
   ]
  },
  {
   "cell_type": "code",
   "execution_count": 20,
   "metadata": {},
   "outputs": [],
   "source": [
    "compounds_df = pd.read_pickle('./source/compounds/compounds.pkl')"
   ]
  },
  {
   "cell_type": "code",
   "execution_count": 21,
   "metadata": {},
   "outputs": [
    {
     "data": {
      "text/plain": [
       "12949"
      ]
     },
     "execution_count": 21,
     "metadata": {},
     "output_type": "execute_result"
    }
   ],
   "source": [
    "len(compounds_df)"
   ]
  },
  {
   "cell_type": "code",
   "execution_count": 22,
   "metadata": {},
   "outputs": [],
   "source": [
    "additional_data = pd.read_csv('./source/dataset/names_masses.csv')"
   ]
  },
  {
   "cell_type": "code",
   "execution_count": 23,
   "metadata": {},
   "outputs": [
    {
     "data": {
      "text/html": [
       "<div>\n",
       "<style scoped>\n",
       "    .dataframe tbody tr th:only-of-type {\n",
       "        vertical-align: middle;\n",
       "    }\n",
       "\n",
       "    .dataframe tbody tr th {\n",
       "        vertical-align: top;\n",
       "    }\n",
       "\n",
       "    .dataframe thead th {\n",
       "        text-align: right;\n",
       "    }\n",
       "</style>\n",
       "<table border=\"1\" class=\"dataframe\">\n",
       "  <thead>\n",
       "    <tr style=\"text-align: right;\">\n",
       "      <th></th>\n",
       "      <th>inchi_key</th>\n",
       "      <th>name</th>\n",
       "      <th>exact_mass</th>\n",
       "    </tr>\n",
       "  </thead>\n",
       "  <tbody>\n",
       "    <tr>\n",
       "      <th>0</th>\n",
       "      <td>OMKOROOXWADNNN-UHFFFAOYSA-N</td>\n",
       "      <td>l-Valinamide, N-(3-methyl-1-oxobutyl)-l-valyl-...</td>\n",
       "      <td>931.591724</td>\n",
       "    </tr>\n",
       "    <tr>\n",
       "      <th>1</th>\n",
       "      <td>SWNJOCYLDHZZBH-UHFFFAOYSA-N</td>\n",
       "      <td>Heparin, hexa(trimethylsilyl)-</td>\n",
       "      <td>811.348620</td>\n",
       "    </tr>\n",
       "    <tr>\n",
       "      <th>2</th>\n",
       "      <td>PGVKXFDGUWEAAZ-UHFFFAOYSA-N</td>\n",
       "      <td>Deoxyfructosazine, heptakis(trimethylsilyl)- d...</td>\n",
       "      <td>808.403740</td>\n",
       "    </tr>\n",
       "    <tr>\n",
       "      <th>3</th>\n",
       "      <td>ZAYPUEYKPPTDBS-FMQUCBEESA-N</td>\n",
       "      <td>trans-Piceid, 6TMS</td>\n",
       "      <td>822.368630</td>\n",
       "    </tr>\n",
       "    <tr>\n",
       "      <th>4</th>\n",
       "      <td>ZAYPUEYKPPTDBS-VXPUYCOJSA-N</td>\n",
       "      <td>cis-Piceid, 6TMS</td>\n",
       "      <td>822.368630</td>\n",
       "    </tr>\n",
       "  </tbody>\n",
       "</table>\n",
       "</div>"
      ],
      "text/plain": [
       "                     inchi_key  \\\n",
       "0  OMKOROOXWADNNN-UHFFFAOYSA-N   \n",
       "1  SWNJOCYLDHZZBH-UHFFFAOYSA-N   \n",
       "2  PGVKXFDGUWEAAZ-UHFFFAOYSA-N   \n",
       "3  ZAYPUEYKPPTDBS-FMQUCBEESA-N   \n",
       "4  ZAYPUEYKPPTDBS-VXPUYCOJSA-N   \n",
       "\n",
       "                                                name  exact_mass  \n",
       "0  l-Valinamide, N-(3-methyl-1-oxobutyl)-l-valyl-...  931.591724  \n",
       "1                     Heparin, hexa(trimethylsilyl)-  811.348620  \n",
       "2  Deoxyfructosazine, heptakis(trimethylsilyl)- d...  808.403740  \n",
       "3                                 trans-Piceid, 6TMS  822.368630  \n",
       "4                                   cis-Piceid, 6TMS  822.368630  "
      ]
     },
     "execution_count": 23,
     "metadata": {},
     "output_type": "execute_result"
    }
   ],
   "source": [
    "additional_data.head()"
   ]
  },
  {
   "cell_type": "code",
   "execution_count": 26,
   "metadata": {},
   "outputs": [],
   "source": [
    "# join by inchi_key\n",
    "compounds_df = compounds_df.merge(additional_data, on='inchi_key', how='left')"
   ]
  },
  {
   "cell_type": "code",
   "execution_count": 30,
   "metadata": {},
   "outputs": [
    {
     "name": "stdout",
     "output_type": "stream",
     "text": [
      "smiles 485\n",
      "inchi 993\n",
      "inchi_key 57\n",
      "name 9293\n",
      "exact_mass 10753\n"
     ]
    }
   ],
   "source": [
    "for c in compounds_df.columns:\n",
    "    print(c, len(compounds_df) - compounds_df[c].nunique())"
   ]
  },
  {
   "cell_type": "code",
   "execution_count": 28,
   "metadata": {},
   "outputs": [
    {
     "data": {
      "text/plain": [
       "smiles         418\n",
       "inchi          648\n",
       "inchi_key        0\n",
       "name          9170\n",
       "exact_mass    9170\n",
       "dtype: int64"
      ]
     },
     "execution_count": 28,
     "metadata": {},
     "output_type": "execute_result"
    }
   ],
   "source": [
    "compounds_df.isna().sum()"
   ]
  },
  {
   "cell_type": "code",
   "execution_count": null,
   "metadata": {},
   "outputs": [],
   "source": [
    "compounds_df.to_pickle('./source/compounds/compounds.pkl')"
   ]
  },
  {
   "cell_type": "code",
   "execution_count": null,
   "metadata": {},
   "outputs": [],
   "source": []
  }
 ],
 "metadata": {
  "kernelspec": {
   "display_name": "mass_spectra",
   "language": "python",
   "name": "python3"
  },
  "language_info": {
   "codemirror_mode": {
    "name": "ipython",
    "version": 3
   },
   "file_extension": ".py",
   "mimetype": "text/x-python",
   "name": "python",
   "nbconvert_exporter": "python",
   "pygments_lexer": "ipython3",
   "version": "3.9.16"
  }
 },
 "nbformat": 4,
 "nbformat_minor": 2
}
