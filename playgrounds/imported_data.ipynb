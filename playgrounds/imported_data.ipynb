{
 "cells": [
  {
   "cell_type": "code",
   "execution_count": 92,
   "metadata": {},
   "outputs": [],
   "source": [
    "import pandas as pd\n",
    "from helper.compound_querier import validate\n",
    "from tqdm.autonotebook  import tqdm\n",
    "import pickle\n",
    "from difflib import SequenceMatcher\n",
    "import numpy as np\n",
    "import os"
   ]
  },
  {
   "cell_type": "code",
   "execution_count": 93,
   "metadata": {},
   "outputs": [],
   "source": [
    "df = pd.read_pickle('./source/compounds/compounds.pkl')"
   ]
  },
  {
   "cell_type": "code",
   "execution_count": 94,
   "metadata": {},
   "outputs": [
    {
     "data": {
      "text/html": [
       "<div>\n",
       "<style scoped>\n",
       "    .dataframe tbody tr th:only-of-type {\n",
       "        vertical-align: middle;\n",
       "    }\n",
       "\n",
       "    .dataframe tbody tr th {\n",
       "        vertical-align: top;\n",
       "    }\n",
       "\n",
       "    .dataframe thead th {\n",
       "        text-align: right;\n",
       "    }\n",
       "</style>\n",
       "<table border=\"1\" class=\"dataframe\">\n",
       "  <thead>\n",
       "    <tr style=\"text-align: right;\">\n",
       "      <th></th>\n",
       "      <th>smiles</th>\n",
       "      <th>inchi</th>\n",
       "      <th>inchi_key</th>\n",
       "    </tr>\n",
       "  </thead>\n",
       "  <tbody>\n",
       "    <tr>\n",
       "      <th>0</th>\n",
       "      <td>C[Si](C)(C)OC[C@@H]1[C@H]([C@@H]([C@@H]([C@H](...</td>\n",
       "      <td>InChI=1S/C54H130O16Si12/c1-71(2,3)55-37-41-47(...</td>\n",
       "      <td>AGCGTUNOUDOTHI-KRYNHHJKSA-N</td>\n",
       "    </tr>\n",
       "    <tr>\n",
       "      <th>1</th>\n",
       "      <td>C[Si](C)(C)OCC1C(C(C(C(O1)OC2=CC3=C(C(=C2)O[Si...</td>\n",
       "      <td>InChI=1S/C50H92O14Si8/c1-65(2,3)53-32-42-44(61...</td>\n",
       "      <td>IADLJLVXUGSEBP-UHFFFAOYSA-N</td>\n",
       "    </tr>\n",
       "    <tr>\n",
       "      <th>2</th>\n",
       "      <td>CC1C(C(C(C(O1)OCC2C(C(C(C(O2)OC3=CC4=C(C(=O)CC...</td>\n",
       "      <td>InChI=1S/C52H98O15Si8/c1-34-45(62-70(9,10)11)4...</td>\n",
       "      <td>KGNFGWOIKRFMAR-UHFFFAOYSA-N</td>\n",
       "    </tr>\n",
       "    <tr>\n",
       "      <th>3</th>\n",
       "      <td>CC1C(C(C(C(O1)OC2C(C(C(OC2OC3=CC4=C(C(=O)CC(O4...</td>\n",
       "      <td>InChI=1S/C51H96O14Si8/c1-34-44(61-69(11,12)13)...</td>\n",
       "      <td>KSAMZDLNUNJNIH-UHFFFAOYSA-N</td>\n",
       "    </tr>\n",
       "    <tr>\n",
       "      <th>4</th>\n",
       "      <td>CC1C(C(C(C(O1)OCC2C(C(C(C(O2)OC3=C(OC4=C(C3=O)...</td>\n",
       "      <td>InChI=1S/C66H128O19Si11/c1-43-53(77-88(9,10)11...</td>\n",
       "      <td>XEPGSEKVGCRXJO-UHFFFAOYSA-N</td>\n",
       "    </tr>\n",
       "  </tbody>\n",
       "</table>\n",
       "</div>"
      ],
      "text/plain": [
       "                                              smiles  \\\n",
       "0  C[Si](C)(C)OC[C@@H]1[C@H]([C@@H]([C@@H]([C@H](...   \n",
       "1  C[Si](C)(C)OCC1C(C(C(C(O1)OC2=CC3=C(C(=C2)O[Si...   \n",
       "2  CC1C(C(C(C(O1)OCC2C(C(C(C(O2)OC3=CC4=C(C(=O)CC...   \n",
       "3  CC1C(C(C(C(O1)OC2C(C(C(OC2OC3=CC4=C(C(=O)CC(O4...   \n",
       "4  CC1C(C(C(C(O1)OCC2C(C(C(C(O2)OC3=C(OC4=C(C3=O)...   \n",
       "\n",
       "                                               inchi  \\\n",
       "0  InChI=1S/C54H130O16Si12/c1-71(2,3)55-37-41-47(...   \n",
       "1  InChI=1S/C50H92O14Si8/c1-65(2,3)53-32-42-44(61...   \n",
       "2  InChI=1S/C52H98O15Si8/c1-34-45(62-70(9,10)11)4...   \n",
       "3  InChI=1S/C51H96O14Si8/c1-34-44(61-69(11,12)13)...   \n",
       "4  InChI=1S/C66H128O19Si11/c1-43-53(77-88(9,10)11...   \n",
       "\n",
       "                     inchi_key  \n",
       "0  AGCGTUNOUDOTHI-KRYNHHJKSA-N  \n",
       "1  IADLJLVXUGSEBP-UHFFFAOYSA-N  \n",
       "2  KGNFGWOIKRFMAR-UHFFFAOYSA-N  \n",
       "3  KSAMZDLNUNJNIH-UHFFFAOYSA-N  \n",
       "4  XEPGSEKVGCRXJO-UHFFFAOYSA-N  "
      ]
     },
     "execution_count": 94,
     "metadata": {},
     "output_type": "execute_result"
    }
   ],
   "source": [
    "df.head()"
   ]
  },
  {
   "cell_type": "code",
   "execution_count": 95,
   "metadata": {},
   "outputs": [
    {
     "data": {
      "text/plain": [
       "smiles       418\n",
       "inchi        647\n",
       "inchi_key      0\n",
       "dtype: int64"
      ]
     },
     "execution_count": 95,
     "metadata": {},
     "output_type": "execute_result"
    }
   ],
   "source": [
    "df.isna().sum()"
   ]
  },
  {
   "cell_type": "code",
   "execution_count": 96,
   "metadata": {},
   "outputs": [
    {
     "name": "stdout",
     "output_type": "stream",
     "text": [
      "smiles 12520\n",
      "inchi 12012\n",
      "inchi_key 12948\n"
     ]
    }
   ],
   "source": [
    "for c in df.columns:\n",
    "    print(c, df[c].nunique())"
   ]
  },
  {
   "cell_type": "code",
   "execution_count": 97,
   "metadata": {},
   "outputs": [
    {
     "data": {
      "text/plain": [
       "12949"
      ]
     },
     "execution_count": 97,
     "metadata": {},
     "output_type": "execute_result"
    }
   ],
   "source": [
    "len(df)"
   ]
  },
  {
   "cell_type": "code",
   "execution_count": 98,
   "metadata": {},
   "outputs": [
    {
     "data": {
      "text/html": [
       "<div>\n",
       "<style scoped>\n",
       "    .dataframe tbody tr th:only-of-type {\n",
       "        vertical-align: middle;\n",
       "    }\n",
       "\n",
       "    .dataframe tbody tr th {\n",
       "        vertical-align: top;\n",
       "    }\n",
       "\n",
       "    .dataframe thead th {\n",
       "        text-align: right;\n",
       "    }\n",
       "</style>\n",
       "<table border=\"1\" class=\"dataframe\">\n",
       "  <thead>\n",
       "    <tr style=\"text-align: right;\">\n",
       "      <th></th>\n",
       "      <th>0</th>\n",
       "      <th>1</th>\n",
       "    </tr>\n",
       "  </thead>\n",
       "  <tbody>\n",
       "    <tr>\n",
       "      <th>0</th>\n",
       "      <td>IPYJZDLWVOYHJP-UHFFFAOYSA-N</td>\n",
       "      <td>CC(C)(C)O[Si](C[Si](C1=CC=CC=C1)(C2=CC=CC=C2)O...</td>\n",
       "    </tr>\n",
       "    <tr>\n",
       "      <th>1</th>\n",
       "      <td>YFOLLJZSHSKLDF-UHFFFAOYSA-N</td>\n",
       "      <td>CC(C)CCCC(C)CCCC(C)CCCC(C)O[Si](C)(C)C</td>\n",
       "    </tr>\n",
       "    <tr>\n",
       "      <th>2</th>\n",
       "      <td>VMEFAYALEKTMDF-UHFFFAOYSA-N</td>\n",
       "      <td>CCC(N)P(=O)(O[Si](C)(C)C)O[Si](C)(C)C</td>\n",
       "    </tr>\n",
       "    <tr>\n",
       "      <th>3</th>\n",
       "      <td>DWGSZPGNJMZEMM-UHFFFAOYSA-N</td>\n",
       "      <td>CC=C=CCC(=O)OC1(CCCCO1)[SiH3]</td>\n",
       "    </tr>\n",
       "    <tr>\n",
       "      <th>4</th>\n",
       "      <td>GMVRQOAQHDVEKA-UHFFFAOYSA-N</td>\n",
       "      <td>C[Si](C)(C)OCCCCCCCCCO[Si](C)(C)C</td>\n",
       "    </tr>\n",
       "  </tbody>\n",
       "</table>\n",
       "</div>"
      ],
      "text/plain": [
       "                             0  \\\n",
       "0  IPYJZDLWVOYHJP-UHFFFAOYSA-N   \n",
       "1  YFOLLJZSHSKLDF-UHFFFAOYSA-N   \n",
       "2  VMEFAYALEKTMDF-UHFFFAOYSA-N   \n",
       "3  DWGSZPGNJMZEMM-UHFFFAOYSA-N   \n",
       "4  GMVRQOAQHDVEKA-UHFFFAOYSA-N   \n",
       "\n",
       "                                                   1  \n",
       "0  CC(C)(C)O[Si](C[Si](C1=CC=CC=C1)(C2=CC=CC=C2)O...  \n",
       "1             CC(C)CCCC(C)CCCC(C)CCCC(C)O[Si](C)(C)C  \n",
       "2              CCC(N)P(=O)(O[Si](C)(C)C)O[Si](C)(C)C  \n",
       "3                      CC=C=CCC(=O)OC1(CCCCO1)[SiH3]  \n",
       "4                  C[Si](C)(C)OCCCCCCCCCO[Si](C)(C)C  "
      ]
     },
     "execution_count": 98,
     "metadata": {},
     "output_type": "execute_result"
    }
   ],
   "source": [
    "smiles = pd.read_csv('./source/dataset/smiles.txt', delimiter='\\t', header=None)\n",
    "smiles.head()"
   ]
  },
  {
   "cell_type": "code",
   "execution_count": 99,
   "metadata": {},
   "outputs": [],
   "source": [
    "smiles.columns = ['inchi_key', 'smiles']"
   ]
  },
  {
   "cell_type": "code",
   "execution_count": 100,
   "metadata": {},
   "outputs": [],
   "source": [
    "inchi_keys = pd.read_csv('./source//dataset/inchi_keys.txt', delimiter='\\t', header=None)"
   ]
  },
  {
   "cell_type": "code",
   "execution_count": 101,
   "metadata": {},
   "outputs": [
    {
     "data": {
      "text/html": [
       "<div>\n",
       "<style scoped>\n",
       "    .dataframe tbody tr th:only-of-type {\n",
       "        vertical-align: middle;\n",
       "    }\n",
       "\n",
       "    .dataframe tbody tr th {\n",
       "        vertical-align: top;\n",
       "    }\n",
       "\n",
       "    .dataframe thead th {\n",
       "        text-align: right;\n",
       "    }\n",
       "</style>\n",
       "<table border=\"1\" class=\"dataframe\">\n",
       "  <thead>\n",
       "    <tr style=\"text-align: right;\">\n",
       "      <th></th>\n",
       "      <th>0</th>\n",
       "    </tr>\n",
       "  </thead>\n",
       "  <tbody>\n",
       "    <tr>\n",
       "      <th>0</th>\n",
       "      <td>MOBSUIKFQIWSJI-BXQJSQRVSA-N</td>\n",
       "    </tr>\n",
       "    <tr>\n",
       "      <th>1</th>\n",
       "      <td>MSRAOOKTXOTZPK-UHFFFAOYSA-N</td>\n",
       "    </tr>\n",
       "    <tr>\n",
       "      <th>2</th>\n",
       "      <td>BCATYCVSLYNDPX-UERWRGBPSA-N</td>\n",
       "    </tr>\n",
       "    <tr>\n",
       "      <th>3</th>\n",
       "      <td>XBKDHFNKZGURLX-UHFFFAOYSA-N</td>\n",
       "    </tr>\n",
       "    <tr>\n",
       "      <th>4</th>\n",
       "      <td>RASLARXBAZCUFF-NWSQWKLXSA-N</td>\n",
       "    </tr>\n",
       "  </tbody>\n",
       "</table>\n",
       "</div>"
      ],
      "text/plain": [
       "                             0\n",
       "0  MOBSUIKFQIWSJI-BXQJSQRVSA-N\n",
       "1  MSRAOOKTXOTZPK-UHFFFAOYSA-N\n",
       "2  BCATYCVSLYNDPX-UERWRGBPSA-N\n",
       "3  XBKDHFNKZGURLX-UHFFFAOYSA-N\n",
       "4  RASLARXBAZCUFF-NWSQWKLXSA-N"
      ]
     },
     "execution_count": 101,
     "metadata": {},
     "output_type": "execute_result"
    }
   ],
   "source": [
    "inchi_keys.head()"
   ]
  },
  {
   "cell_type": "code",
   "execution_count": 102,
   "metadata": {},
   "outputs": [],
   "source": [
    "inchi_keys.columns = ['inchi_key']"
   ]
  },
  {
   "cell_type": "code",
   "execution_count": 103,
   "metadata": {},
   "outputs": [],
   "source": [
    "df_inchi_keys = set(df['inchi_key'].values)\n",
    "smiles_inchi_keys = set(smiles['inchi_key'].values)\n",
    "all_inchi_keys = set(inchi_keys['inchi_key'].values)"
   ]
  },
  {
   "cell_type": "code",
   "execution_count": 104,
   "metadata": {},
   "outputs": [
    {
     "data": {
      "text/plain": [
       "(0, 0)"
      ]
     },
     "execution_count": 104,
     "metadata": {},
     "output_type": "execute_result"
    }
   ],
   "source": [
    "len(smiles_inchi_keys - df_inchi_keys), len(df_inchi_keys - smiles_inchi_keys)"
   ]
  },
  {
   "cell_type": "code",
   "execution_count": 105,
   "metadata": {},
   "outputs": [
    {
     "data": {
      "text/plain": [
       "(0, 0)"
      ]
     },
     "execution_count": 105,
     "metadata": {},
     "output_type": "execute_result"
    }
   ],
   "source": [
    "len(all_inchi_keys - df_inchi_keys), len(df_inchi_keys - all_inchi_keys)"
   ]
  },
  {
   "cell_type": "code",
   "execution_count": 106,
   "metadata": {},
   "outputs": [
    {
     "data": {
      "text/plain": [
       "(0, 0)"
      ]
     },
     "execution_count": 106,
     "metadata": {},
     "output_type": "execute_result"
    }
   ],
   "source": [
    "len(all_inchi_keys - smiles_inchi_keys), len(smiles_inchi_keys - all_inchi_keys)"
   ]
  },
  {
   "cell_type": "code",
   "execution_count": 107,
   "metadata": {},
   "outputs": [],
   "source": [
    "df_smiles = set(df['smiles'].values)\n",
    "smiles_smiles = set(smiles['smiles'].values)"
   ]
  },
  {
   "cell_type": "code",
   "execution_count": 108,
   "metadata": {},
   "outputs": [
    {
     "data": {
      "text/plain": [
       "(1284, 1191)"
      ]
     },
     "execution_count": 108,
     "metadata": {},
     "output_type": "execute_result"
    }
   ],
   "source": [
    "len(smiles_smiles - df_smiles), len(df_smiles - smiles_smiles)"
   ]
  },
  {
   "cell_type": "code",
   "execution_count": 109,
   "metadata": {},
   "outputs": [
    {
     "data": {
      "text/plain": [
       "1191"
      ]
     },
     "execution_count": 109,
     "metadata": {},
     "output_type": "execute_result"
    }
   ],
   "source": [
    "in_df_not_in_smiles = df_smiles - smiles_smiles\n",
    "len(in_df_not_in_smiles)"
   ]
  },
  {
   "cell_type": "code",
   "execution_count": 110,
   "metadata": {},
   "outputs": [
    {
     "name": "stdout",
     "output_type": "stream",
     "text": [
      "Similarity matrix loaded\n",
      "c1cccc2nc(c3ccccc3c12)O[Si](C)(C)C -> CCCCN(CCCC)CCO[Si](C)(C)C\n"
     ]
    }
   ],
   "source": [
    "TEST_ID = 0\n",
    "if os.path.exists('./source/compounds/similarity.pkl'):\n",
    "    similar_smiles_in_smiles = pickle.load(open('./source/compounds/similarity.pkl', 'rb'))\n",
    "    if similar_smiles_in_smiles is not None and len(similar_smiles_in_smiles) == 3:\n",
    "        print('Similarity matrix loaded')\n",
    "        print(similar_smiles_in_smiles['row_smiles'][TEST_ID], '->', similar_smiles_in_smiles['column_smiles'][np.argmax(similar_smiles_in_smiles['similarity'][TEST_ID])])\n",
    "    else:\n",
    "        print('Similarity matrix not loaded')\n",
    "else:\n",
    "    print('Similarity matrix not loaded')"
   ]
  },
  {
   "cell_type": "code",
   "execution_count": 113,
   "metadata": {},
   "outputs": [
    {
     "data": {
      "application/vnd.jupyter.widget-view+json": {
       "model_id": "c091d1b4536e44bc8fd6174fa6f97af4",
       "version_major": 2,
       "version_minor": 0
      },
      "text/plain": [
       "Not in smiles but in df:   0%|          | 0/1191 [00:00<?, ?it/s]"
      ]
     },
     "metadata": {},
     "output_type": "display_data"
    }
   ],
   "source": [
    "similarity = np.zeros((len(in_df_not_in_smiles), len(smiles_smiles)))\n",
    "row_smiles = [x for x in list(in_df_not_in_smiles) if not pd.isna(x)]\n",
    "column_smiles = [x for x in list(smiles_smiles) if not pd.isna(x)]\n",
    "for idx_i, i in tqdm(enumerate(in_df_not_in_smiles), desc='Not in smiles but in df', total=len(in_df_not_in_smiles)):\n",
    "    for idx_j, j in enumerate(smiles_smiles):\n",
    "        if pd.isna(i) or pd.isna(j):\n",
    "            continue\n",
    "        score = SequenceMatcher(None, i.lower(), j.lower()).ratio()\n",
    "        similarity[idx_i, idx_j] = score\n",
    "\n",
    "pickle.dump({'similarity': similarity, 'row_smiles': row_smiles, 'column_smiles': column_smiles}, open('./source/compounds/similarity.pkl', 'wb'))"
   ]
  },
  {
   "cell_type": "code",
   "execution_count": 131,
   "metadata": {},
   "outputs": [
    {
     "data": {
      "text/plain": [
       "0.8124235756961824"
      ]
     },
     "execution_count": 131,
     "metadata": {},
     "output_type": "execute_result"
    }
   ],
   "source": [
    "mean_max = np.mean(np.max(similarity, axis=1))\n",
    "mean_max"
   ]
  },
  {
   "cell_type": "code",
   "execution_count": 132,
   "metadata": {},
   "outputs": [
    {
     "data": {
      "text/plain": [
       "0.576271186440678"
      ]
     },
     "execution_count": 132,
     "metadata": {},
     "output_type": "execute_result"
    }
   ],
   "source": [
    "min_max = np.min(np.max(similarity, axis=1))\n",
    "min_max"
   ]
  },
  {
   "cell_type": "code",
   "execution_count": 133,
   "metadata": {},
   "outputs": [
    {
     "data": {
      "text/plain": [
       "1.0"
      ]
     },
     "execution_count": 133,
     "metadata": {},
     "output_type": "execute_result"
    }
   ],
   "source": [
    "\n",
    "max_max = np.max(np.max(similarity, axis=1))\n",
    "max_max"
   ]
  },
  {
   "cell_type": "code",
   "execution_count": 138,
   "metadata": {},
   "outputs": [
    {
     "data": {
      "text/plain": [
       "0.810126582278481"
      ]
     },
     "execution_count": 138,
     "metadata": {},
     "output_type": "execute_result"
    }
   ],
   "source": [
    "median_max = np.median(np.max(similarity, axis=1))\n",
    "median_max"
   ]
  },
  {
   "cell_type": "code",
   "execution_count": 134,
   "metadata": {},
   "outputs": [
    {
     "data": {
      "text/plain": [
       "(773, 13030)"
      ]
     },
     "execution_count": 134,
     "metadata": {},
     "output_type": "execute_result"
    }
   ],
   "source": []
  },
  {
   "cell_type": "code",
   "execution_count": 135,
   "metadata": {},
   "outputs": [
    {
     "data": {
      "text/plain": [
       "(773, 13030)"
      ]
     },
     "execution_count": 135,
     "metadata": {},
     "output_type": "execute_result"
    }
   ],
   "source": [
    "# drop columns that have nan in column_smiles\n",
    "similarity = similarity[:, ~pd.isna(column_smiles)]\n",
    "column_smiles = [x for x in column_smiles if not pd.isna(x)]\n",
    "len(row_smiles), len(column_smiles)"
   ]
  },
  {
   "cell_type": "code",
   "execution_count": 136,
   "metadata": {},
   "outputs": [
    {
     "name": "stdout",
     "output_type": "stream",
     "text": [
      "0.75 c1(c(c(ccc1Cl)O[Si](C)(C)C)Cl)c1c(cccc1Cl)Cl CC1(CCC(=C1)O[Si](C)(C)C)CCC2=CCCCC2\n",
      "0.8409090909090909 Cc1ccc(cc1)C=CC(=O)c2cc(F)ccc2O[Si](C)(C)C CC1CC(CC(C1)(C)C)OC(=O)C2=CC=CC=C2O[Si](C)(C)C\n",
      "0.8157894736842105 C(=O)(c1c(ccc(c1)Cl)O[Si](C)(C)C)c1ccccc1 CC(=O)C1=C(C=CC(=C1)Cl)O[Si](C)(C)C\n",
      "0.8478260869565217 C(=O)(/C=C/c1cc(c(cc1)O[Si](C)(C)C)OC)OCC COC(=O)/C=C/C1=CC(=C(C=C1)O[Si](C)(C)C)O[Si](C)(C)C\n",
      "0.8852459016393442 c1(c(cccc1)C(CC)C)O[Si](C)(C)C CC1=C(CC2CC1C2(C)C)O[Si](C)(C)C\n",
      "0.7951807228915663 c1(cc(=O)c2cc(ccc2o1)O[Si](C)(C)C)c1ccc(cc1)OC CC(=O)OC(C[Si](C)(C)C)C1=CC=C(C=C1)OC\n",
      "0.7474747474747475 c1(c(c(=O)c2ccc(cc2o1)OC)O[Si](C)(C)C)c1c(cccc1)OC CCC(C(=O)C1=CC=C(C=C1)C(=O)O[Si](C)(C)C)N2CCCC2=O\n",
      "0.8674698795180723 c1c(c(cc2ccccc12)N[Si](C)(C)C)O[Si](C)(C)C CC(CC1=CC=CC=C1)N([Si](C)(C)C)[Si](C)(C)C\n",
      "0.7848101265822784 c1(c(cccc1)O[Si](C)(C)C)c1c(cc(cc1Cl)Cl)Cl CC1(CCCC(=C1)O[Si](C)(C)C)CCC2=CCCCC2\n",
      "0.84375 c1(c(cc(cc1)C)Cc1ccccc1)O[Si](C)(C)C CC(C)(C)C1CCCCC1O[Si](C)(C)C\n"
     ]
    }
   ],
   "source": [
    "for i in range(10):\n",
    "    print(np.max(similarity[i]), row_smiles[i], column_smiles[np.argmax(similarity[i])])"
   ]
  }
 ],
 "metadata": {
  "kernelspec": {
   "display_name": "mass_spectra",
   "language": "python",
   "name": "python3"
  },
  "language_info": {
   "codemirror_mode": {
    "name": "ipython",
    "version": 3
   },
   "file_extension": ".py",
   "mimetype": "text/x-python",
   "name": "python",
   "nbconvert_exporter": "python",
   "pygments_lexer": "ipython3",
   "version": "3.9.16"
  }
 },
 "nbformat": 4,
 "nbformat_minor": 2
}
