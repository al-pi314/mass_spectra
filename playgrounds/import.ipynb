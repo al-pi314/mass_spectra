{
 "cells": [
  {
   "cell_type": "code",
   "execution_count": 92,
   "metadata": {},
   "outputs": [],
   "source": [
    "from mass_spectra.train_spec2vec import preprocess_file\n",
    "import re\n",
    "import pandas as pd\n",
    "import os\n",
    "from matplotlib import pyplot as plt"
   ]
  },
  {
   "cell_type": "code",
   "execution_count": 93,
   "metadata": {},
   "outputs": [],
   "source": [
    "def peaks_processor(line):\n",
    "    peaks = line.split(\";\")\n",
    "    output = \"\"\n",
    "    for p in peaks:\n",
    "        p = p.strip()\n",
    "        if p == \"\":\n",
    "            continue\n",
    "        mz, intensity = p.split(\" \")\n",
    "        output += f\"{mz} {intensity}\\n\"\n",
    "    return output\n",
    "\n",
    "def mz_processor(line):\n",
    "    return line + \"\\n\""
   ]
  },
  {
   "cell_type": "code",
   "execution_count": 94,
   "metadata": {},
   "outputs": [],
   "source": [
    "# for NIST\n",
    "# data_processor = peaks_processor\n",
    "# encoding = 'utf-8'\n",
    "# metadata_path = './source/dataset/Metadata_training_TMS derivatives_3.1.xlsx'\n",
    "# test_txt = \"./source/dataset/other/Train NIST 3.1 dataset_TMS_BS.txt\"\n",
    "# test_mgf = \"./source/dataset/Train NIST 3.1 dataset_TMS_BS.mgf\"\n",
    "# INCHI_KEY = 'InChIKey'\n",
    "# EXACT_MASS = 'Exact mass'\n",
    "# NAME = 'Name'\n",
    "\n",
    "# for Milka\n",
    "data_processor = mz_processor\n",
    "encoding = 'utf-16'\n",
    "metadata_path = './source/dataset/Metadata_test_TMS_derivatives.xlsx'\n",
    "test_txt = \"./source/dataset/other/Test Milka dataset_TMS_BS.txt\"\n",
    "test_mgf = \"./source/dataset/Test Milka dataset_TMS_BS.mgf\"\n",
    "INCHI_KEY = 'InChI Key'\n",
    "EXACT_MASS = 'Exact mass'\n",
    "NAME = 'Name'"
   ]
  },
  {
   "cell_type": "code",
   "execution_count": 95,
   "metadata": {},
   "outputs": [
    {
     "data": {
      "text/plain": [
       "Index(['Name', 'Molecular formula', 'Exact mass', 'PubChem ID', 'InChI',\n",
       "       'InChI Key', 'SMILEs', 'Parent compound', 'Molecular formula.1',\n",
       "       'Exact mass.1', 'PubChem ID.1', 'InChI parent', 'InChI Key parent',\n",
       "       'SMILEs parent', 'present_in_train_dataset'],\n",
       "      dtype='object')"
      ]
     },
     "execution_count": 95,
     "metadata": {},
     "output_type": "execute_result"
    }
   ],
   "source": [
    "metadata_df = pd.read_excel(metadata_path)\n",
    "metadata_df.columns"
   ]
  },
  {
   "cell_type": "code",
   "execution_count": 96,
   "metadata": {},
   "outputs": [],
   "source": [
    "assert INCHI_KEY in metadata_df.columns\n",
    "assert EXACT_MASS in metadata_df.columns\n",
    "assert NAME in metadata_df.columns"
   ]
  },
  {
   "cell_type": "code",
   "execution_count": 97,
   "metadata": {},
   "outputs": [],
   "source": [
    "# remove rows without inchi key\n",
    "metadata_df = metadata_df[~metadata_df[INCHI_KEY].isna()]"
   ]
  },
  {
   "cell_type": "code",
   "execution_count": 98,
   "metadata": {},
   "outputs": [],
   "source": [
    "metadata_df[INCHI_KEY] = metadata_df[INCHI_KEY].apply(lambda x: x.strip())\n",
    "metadata_df[NAME] = metadata_df[NAME].apply(lambda x: x.strip())"
   ]
  },
  {
   "cell_type": "code",
   "execution_count": 99,
   "metadata": {},
   "outputs": [],
   "source": [
    "assert os.path.exists(test_txt)\n",
    "assert os.path.exists(test_mgf)"
   ]
  },
  {
   "cell_type": "code",
   "execution_count": 100,
   "metadata": {},
   "outputs": [],
   "source": [
    "BEGIN_REGEX = r'^[0-9]+[\\.\\,\\s]*Name:\\s?(.*)'\n",
    "DATA_INDICATOR = [\"m/z\", \"peak\"]"
   ]
  },
  {
   "cell_type": "code",
   "execution_count": 101,
   "metadata": {},
   "outputs": [],
   "source": [
    "found_inchi_keys = set()\n",
    "missing_inchi_keys = set()\n",
    "extracted_from_text = set()\n",
    "expected_spectra = 0\n",
    "data_dict = []\n",
    "with open(test_txt, 'r', encoding=encoding) as file, open(test_mgf, 'w', encoding='utf-8') as output:\n",
    "    inchi_key = None\n",
    "    data = False\n",
    "    name = None\n",
    "    exact_mass = None\n",
    "    for line in file:\n",
    "        line = line.strip()\n",
    "        if line == \"\":\n",
    "            continue\n",
    "        m = re.match(BEGIN_REGEX, line)\n",
    "        if m:\n",
    "            expected_spectra += 1\n",
    "            if data:\n",
    "                output.write(\"\\n\")\n",
    "                output.write(\"END IONS\\n\")\n",
    "                output.write(\"\\n\")\n",
    "            inchi_key = None\n",
    "            data = False\n",
    "            name = m.group(1)\n",
    "            exact_mass = None\n",
    "        elif line.startswith(\"InChIKey\"):\n",
    "            inchi_key = line.split(\"InChIKey:\")[1].strip()\n",
    "            extracted_from_text.add(inchi_key)\n",
    "        elif line.startswith(\"ExactMass:\"):\n",
    "            charachters = [x for x in line.split(\"ExactMass:\")[1].strip() if x.isdigit() or x == \".\"]\n",
    "            exact_mass = float(\"\".join(charachters))\n",
    "        elif inchi_key is not None and exact_mass is None:\n",
    "            inchi_key_info = metadata_df[metadata_df[INCHI_KEY] == inchi_key]\n",
    "            if len(inchi_key_info) == 0:\n",
    "                missing_inchi_keys.add(inchi_key)\n",
    "                continue\n",
    "            found_inchi_keys.add(inchi_key)\n",
    "            inchi_key_info = inchi_key_info.iloc[0]\n",
    "            exact_mass = inchi_key_info[EXACT_MASS]\n",
    "            name = inchi_key_info[NAME]\n",
    "        elif any([x in line for x in DATA_INDICATOR]):\n",
    "            if inchi_key is None or name is None or exact_mass is None:\n",
    "                continue\n",
    "            data_dict.append({\n",
    "                \"inchi_key\": inchi_key,\n",
    "                \"name\": name,\n",
    "                \"exact_mass\": exact_mass,\n",
    "            })\n",
    "            output.write(\"BEGIN IONS\\n\")\n",
    "            output.write(\"MASS=\" + str(exact_mass) + \"\\n\")\n",
    "            output.write(\"CHARGE=+1\\n\")\n",
    "            title = \"InChIKey: \" + inchi_key + \", Name:\" + name\n",
    "            output.write(\"TITLE=\" + title + \"\\n\")\n",
    "            inchi_key = None\n",
    "            name = None\n",
    "            exact_mass = None\n",
    "            data = True\n",
    "        elif data:\n",
    "            line = re.sub(r\"\\s+\", \" \", line)\n",
    "            line = data_processor(line)\n",
    "            output.write(line)\n",
    "    if data:\n",
    "        output.write(\"\\n\")\n",
    "        output.write(\"END IONS\\n\")"
   ]
  },
  {
   "cell_type": "code",
   "execution_count": null,
   "metadata": {},
   "outputs": [],
   "source": [
    "data_df = pd.DataFrame(data_dict)\n",
    "data_df = data_df.drop_duplicates()\n",
    "if os.path.exists(\"./source/dataset/names_masses.csv\"):\n",
    "    old_data_df = pd.read_csv(\"./source/dataset/names_masses.csv\")\n",
    "    data_df = pd.concat([old_data_df, data_df])\n",
    "data_df = data_df.drop_duplicates()\n",
    "data_df.to_csv(\"./source/dataset/names_masses.csv\", index=False)"
   ]
  },
  {
   "cell_type": "code",
   "execution_count": null,
   "metadata": {},
   "outputs": [],
   "source": [
    "len(data_df)"
   ]
  },
  {
   "cell_type": "code",
   "execution_count": null,
   "metadata": {},
   "outputs": [
    {
     "name": "stdout",
     "output_type": "stream",
     "text": [
      "Unqiue inchi keys found: 3730\n"
     ]
    }
   ],
   "source": [
    "print(\"Unqiue inchi keys found:\", len(found_inchi_keys))"
   ]
  },
  {
   "cell_type": "code",
   "execution_count": null,
   "metadata": {},
   "outputs": [
    {
     "name": "stdout",
     "output_type": "stream",
     "text": [
      "Extracted from text:\n",
      "CUFZSXJWQGLDNJ-UHFFFAOYSA-N\n",
      "N\n",
      "VYKNVWCCWFXWCV-VVEOGCPPSA-N\n",
      "GYUFBIVZHBEQFU-MRBUWEIXSA-N\n",
      "NPLBCEVMVMARTI-UHFFFAOYSA-N\n",
      "JZAWIXTULQNFBY-SJUREKTCSA-N\n",
      "WWTNNUWODYMBCZ-LWQDQPMZSA-N\n",
      "JMTIIUMYXHQPNT-WUKNDPDISA-N\n",
      "KZRLNPJKVJFPRT-VOTSOKGWSA-N\n",
      "NVMUYCQWCVKJOU-UHFFFAOYSA-N\n",
      "NSRYHLHYPBHYSV-IPBVOBEMSA-N\n",
      "OAQUHIASABQRCB-UHFFFAOYSA-N\n",
      "KXBNDDHLERLHTO-NBVRZTHBSA-N\n",
      "RBSXFFWTNZTHKA-GIIZWKBWSA-N\n",
      "RYQGQTNCWAYNRA-UHFFFAOYSA-N\n",
      "XOWGRYAVMBGHMT-JBPAQATLSA-N\n",
      "KDOXUCXXSCGCSY-VOTSOKGWSA-N\n",
      "WMJQNCOTNSSCLS-UHFFFAOYSA-N\n",
      "IUQZNKXBZASJRQ-UHFFFAOYSA-N\n",
      "FNMCFHULWPLYIO-QVIHXGFCSA-N\n",
      "FHCJZXXFOQBSQH-YENZWQNZSA-N\n",
      "HNCGPAHGPSVGOW-UHFFFAOYSA-N\n",
      "OMKOROOXWADNNN-UHFFFAOYSA-N\n",
      "CISBSUGRAJLSLW-UFJIVRMCSA-N\n",
      "PYZYLQABQPEYLJ-UHFFFAOYSA-N\n",
      "HSRKDSBJGBYTLC-HXJOAWKQSA-N\n",
      "DWPLBGUPOMDHNU-UHFFFAOYSA-N\n",
      "UNWYAWOUVRQTMC-UHFFFAOYSA-N\n",
      "HXZDPNZUOMMRAW-UHFFFAOYSA-N\n",
      "RAGCOUJICMBPCU-UHFFFAOYSA-N\n",
      "WEDOPALXSTVHSM-ACCUITESSA-N\n"
     ]
    }
   ],
   "source": [
    "print(\"Extracted from text:\")\n",
    "for key in (extracted_from_text - found_inchi_keys):\n",
    "    print(key)"
   ]
  },
  {
   "cell_type": "code",
   "execution_count": null,
   "metadata": {},
   "outputs": [
    {
     "name": "stdout",
     "output_type": "stream",
     "text": [
      "Missing inchi keys: \n",
      "CUFZSXJWQGLDNJ-UHFFFAOYSA-N\n",
      "N\n",
      "VYKNVWCCWFXWCV-VVEOGCPPSA-N\n",
      "GYUFBIVZHBEQFU-MRBUWEIXSA-N\n",
      "NPLBCEVMVMARTI-UHFFFAOYSA-N\n",
      "JZAWIXTULQNFBY-SJUREKTCSA-N\n",
      "WWTNNUWODYMBCZ-LWQDQPMZSA-N\n",
      "JMTIIUMYXHQPNT-WUKNDPDISA-N\n",
      "KZRLNPJKVJFPRT-VOTSOKGWSA-N\n",
      "NVMUYCQWCVKJOU-UHFFFAOYSA-N\n",
      "NSRYHLHYPBHYSV-IPBVOBEMSA-N\n",
      "OAQUHIASABQRCB-UHFFFAOYSA-N\n",
      "KXBNDDHLERLHTO-NBVRZTHBSA-N\n",
      "RBSXFFWTNZTHKA-GIIZWKBWSA-N\n",
      "RYQGQTNCWAYNRA-UHFFFAOYSA-N\n",
      "XOWGRYAVMBGHMT-JBPAQATLSA-N\n",
      "KDOXUCXXSCGCSY-VOTSOKGWSA-N\n",
      "WMJQNCOTNSSCLS-UHFFFAOYSA-N\n",
      "IUQZNKXBZASJRQ-UHFFFAOYSA-N\n",
      "FNMCFHULWPLYIO-QVIHXGFCSA-N\n",
      "FHCJZXXFOQBSQH-YENZWQNZSA-N\n",
      "HNCGPAHGPSVGOW-UHFFFAOYSA-N\n",
      "OMKOROOXWADNNN-UHFFFAOYSA-N\n",
      "CISBSUGRAJLSLW-UFJIVRMCSA-N\n",
      "PYZYLQABQPEYLJ-UHFFFAOYSA-N\n",
      "HSRKDSBJGBYTLC-HXJOAWKQSA-N\n",
      "DWPLBGUPOMDHNU-UHFFFAOYSA-N\n",
      "UNWYAWOUVRQTMC-UHFFFAOYSA-N\n",
      "HXZDPNZUOMMRAW-UHFFFAOYSA-N\n",
      "RAGCOUJICMBPCU-UHFFFAOYSA-N\n",
      "WEDOPALXSTVHSM-ACCUITESSA-N\n"
     ]
    }
   ],
   "source": [
    "print(\"Missing inchi keys: \")\n",
    "for key in missing_inchi_keys:\n",
    "    print(key)"
   ]
  },
  {
   "cell_type": "code",
   "execution_count": null,
   "metadata": {},
   "outputs": [
    {
     "name": "stdout",
     "output_type": "stream",
     "text": [
      "Unused inchi keys in metadata: \n",
      "\n",
      "XMFGXIHIZQNSEM-UHFFFAOYSA-N\n",
      "WWTNNUWODYMBCZ-UHFFFAOYSA-N\n",
      "ITGKZNAFHOGTIJ-DRRXZNNHSA-N\n",
      "XLRGOJXBHQUFLI-UHFFFAOYSA-N\n",
      "KNAZTEWBFRPMHZ-DZTJYMNTSA-N\n",
      "XNIHRKNDAXXBPD-CUVVAGTFSA-N\n",
      "PYHVQDNQPUVBIE-DAMHEBELSA-N\n",
      "KXBNDDHLERLHTO-UHFFFAOYSA-N\n",
      "FKAKIAINQCBRDM-UHFFFAOYSA-N\n",
      "VLLJOGZFMDUFGI-UHFFFAOYSA-N\n",
      "JMTIIUMYXHQPNT-UHFFFAOYSA-N\n",
      "NYLWRGDNDMJYNX-UHFFFAOYSA-N\n",
      "WEDOPALXSTVHSM-UHFFFAOYSA-N\n",
      "NSRYHLHYPBHYSV-UHFFFAOYSA-N\n",
      "SOGDCAWGODWBMZ-UHFFFAOYSA-N\n",
      "BUSWZLLZADFTRZ-UHFFFAOYSA-N\n",
      "VYKNVWCCWFXWCV-UHFFFAOYSA-N\n",
      "FNMCFHULWPLYIO-UHFFFAOYSA-N\n",
      "GRQGMVRZMUHBDW-UHFFFAOYSA-N\n",
      "GYUFBIVZHBEQFU-AQASXUMVSA-N\n",
      "KDOXUCXXSCGCSY-SREVYHEPSA-N\n"
     ]
    }
   ],
   "source": [
    "print(\"Unused inchi keys in metadata: \")\n",
    "for key in (set(metadata_df[INCHI_KEY]) - found_inchi_keys):\n",
    "    print(key)"
   ]
  },
  {
   "cell_type": "code",
   "execution_count": null,
   "metadata": {},
   "outputs": [
    {
     "name": "stdout",
     "output_type": "stream",
     "text": [
      "Expected spectra:  4650\n"
     ]
    }
   ],
   "source": [
    "print(\"Expected spectra: \", expected_spectra)"
   ]
  },
  {
   "cell_type": "code",
   "execution_count": null,
   "metadata": {},
   "outputs": [
    {
     "ename": "KeyboardInterrupt",
     "evalue": "",
     "output_type": "error",
     "traceback": [
      "\u001b[1;31m---------------------------------------------------------------------------\u001b[0m",
      "\u001b[1;31mKeyboardInterrupt\u001b[0m                         Traceback (most recent call last)",
      "Cell \u001b[1;32mIn[91], line 1\u001b[0m\n\u001b[1;32m----> 1\u001b[0m spectra \u001b[38;5;241m=\u001b[39m \u001b[43mpreprocess_file\u001b[49m\u001b[43m(\u001b[49m\u001b[43mtest_mgf\u001b[49m\u001b[43m,\u001b[49m\u001b[43m \u001b[49m\u001b[43mconvert_to_document\u001b[49m\u001b[38;5;241;43m=\u001b[39;49m\u001b[38;5;28;43;01mFalse\u001b[39;49;00m\u001b[43m)\u001b[49m\n\u001b[0;32m      2\u001b[0m \u001b[38;5;28mlen\u001b[39m(spectra)\n",
      "File \u001b[1;32mc:\\Users\\aleks\\Projects\\IJS\\mass_spectra\\mass_spectra\\train_spec2vec.py:77\u001b[0m, in \u001b[0;36mpreprocess_file\u001b[1;34m(file_path, convert_to_document)\u001b[0m\n\u001b[0;32m     75\u001b[0m \u001b[38;5;28;01mdef\u001b[39;00m \u001b[38;5;21mpreprocess_file\u001b[39m(file_path, convert_to_document\u001b[38;5;241m=\u001b[39m\u001b[38;5;28;01mTrue\u001b[39;00m):\n\u001b[0;32m     76\u001b[0m     spectrums \u001b[38;5;241m=\u001b[39m load_from_mgf(file_path)\n\u001b[1;32m---> 77\u001b[0m     \u001b[38;5;28;01mreturn\u001b[39;00m [preprocess(s, convert_to_document) \u001b[38;5;28;01mfor\u001b[39;00m s \u001b[38;5;129;01min\u001b[39;00m spectrums]\n",
      "File \u001b[1;32mc:\\Users\\aleks\\Projects\\IJS\\mass_spectra\\mass_spectra\\train_spec2vec.py:77\u001b[0m, in \u001b[0;36m<listcomp>\u001b[1;34m(.0)\u001b[0m\n\u001b[0;32m     75\u001b[0m \u001b[38;5;28;01mdef\u001b[39;00m \u001b[38;5;21mpreprocess_file\u001b[39m(file_path, convert_to_document\u001b[38;5;241m=\u001b[39m\u001b[38;5;28;01mTrue\u001b[39;00m):\n\u001b[0;32m     76\u001b[0m     spectrums \u001b[38;5;241m=\u001b[39m load_from_mgf(file_path)\n\u001b[1;32m---> 77\u001b[0m     \u001b[38;5;28;01mreturn\u001b[39;00m [\u001b[43mpreprocess\u001b[49m\u001b[43m(\u001b[49m\u001b[43ms\u001b[49m\u001b[43m,\u001b[49m\u001b[43m \u001b[49m\u001b[43mconvert_to_document\u001b[49m\u001b[43m)\u001b[49m \u001b[38;5;28;01mfor\u001b[39;00m s \u001b[38;5;129;01min\u001b[39;00m spectrums]\n",
      "File \u001b[1;32mc:\\Users\\aleks\\Projects\\IJS\\mass_spectra\\mass_spectra\\train_spec2vec.py:68\u001b[0m, in \u001b[0;36mpreprocess\u001b[1;34m(s, convert_to_document)\u001b[0m\n\u001b[0;32m     67\u001b[0m \u001b[38;5;28;01mdef\u001b[39;00m \u001b[38;5;21mpreprocess\u001b[39m(s, convert_to_document\u001b[38;5;241m=\u001b[39m\u001b[38;5;28;01mTrue\u001b[39;00m):\n\u001b[1;32m---> 68\u001b[0m     s \u001b[38;5;241m=\u001b[39m \u001b[43mmetadata_processing\u001b[49m\u001b[43m(\u001b[49m\u001b[43ms\u001b[49m\u001b[43m)\u001b[49m\n\u001b[0;32m     69\u001b[0m     s \u001b[38;5;241m=\u001b[39m peak_processing(s)\n\u001b[0;32m     70\u001b[0m     \u001b[38;5;28;01mif\u001b[39;00m \u001b[38;5;129;01mnot\u001b[39;00m convert_to_document:\n",
      "File \u001b[1;32mc:\\Users\\aleks\\Projects\\IJS\\mass_spectra\\mass_spectra\\train_spec2vec.py:38\u001b[0m, in \u001b[0;36mmetadata_processing\u001b[1;34m(s)\u001b[0m\n\u001b[0;32m     36\u001b[0m         s\u001b[38;5;241m.\u001b[39mset(\u001b[38;5;124m\"\u001b[39m\u001b[38;5;124minchikey\u001b[39m\u001b[38;5;124m\"\u001b[39m, inchikey)\n\u001b[0;32m     37\u001b[0m         s\u001b[38;5;241m.\u001b[39mset(\u001b[38;5;124m\"\u001b[39m\u001b[38;5;124mcompound_name\u001b[39m\u001b[38;5;124m\"\u001b[39m, name)\n\u001b[1;32m---> 38\u001b[0m s \u001b[38;5;241m=\u001b[39m \u001b[43mms_filters\u001b[49m\u001b[38;5;241;43m.\u001b[39;49m\u001b[43mdefault_filters\u001b[49m\u001b[43m(\u001b[49m\u001b[43ms\u001b[49m\u001b[43m)\u001b[49m \u001b[38;5;66;03m# general metadata cleaning\u001b[39;00m\n\u001b[0;32m     39\u001b[0m s \u001b[38;5;241m=\u001b[39m ms_filters\u001b[38;5;241m.\u001b[39mrepair_inchi_inchikey_smiles(s) \u001b[38;5;66;03m# fix wrongly formatted InChI, InChIKey, SMILES\u001b[39;00m\n\u001b[0;32m     40\u001b[0m s \u001b[38;5;241m=\u001b[39m ms_filters\u001b[38;5;241m.\u001b[39mderive_inchi_from_smiles(s) \u001b[38;5;66;03m# derive InChI from SMILES\u001b[39;00m\n",
      "File \u001b[1;32mc:\\Users\\aleks\\anaconda3\\envs\\mass_spectra\\lib\\site-packages\\matchms\\filtering\\default_filters.py:37\u001b[0m, in \u001b[0;36mdefault_filters\u001b[1;34m(spectrum)\u001b[0m\n\u001b[0;32m     35\u001b[0m spectrum \u001b[38;5;241m=\u001b[39m derive_formula_from_name(spectrum)\n\u001b[0;32m     36\u001b[0m spectrum \u001b[38;5;241m=\u001b[39m clean_compound_name(spectrum)\n\u001b[1;32m---> 37\u001b[0m spectrum \u001b[38;5;241m=\u001b[39m \u001b[43minterpret_pepmass\u001b[49m\u001b[43m(\u001b[49m\u001b[43mspectrum\u001b[49m\u001b[43m)\u001b[49m\n\u001b[0;32m     38\u001b[0m spectrum \u001b[38;5;241m=\u001b[39m add_precursor_mz(spectrum)\n\u001b[0;32m     39\u001b[0m spectrum \u001b[38;5;241m=\u001b[39m derive_ionmode(spectrum)\n",
      "File \u001b[1;32mc:\\Users\\aleks\\anaconda3\\envs\\mass_spectra\\lib\\site-packages\\matchms\\filtering\\metadata_processing\\interpret_pepmass.py:22\u001b[0m, in \u001b[0;36minterpret_pepmass\u001b[1;34m(spectrum_in)\u001b[0m\n\u001b[0;32m     19\u001b[0m \u001b[38;5;28;01mif\u001b[39;00m spectrum_in \u001b[38;5;129;01mis\u001b[39;00m \u001b[38;5;28;01mNone\u001b[39;00m:\n\u001b[0;32m     20\u001b[0m     \u001b[38;5;28;01mreturn\u001b[39;00m \u001b[38;5;28;01mNone\u001b[39;00m\n\u001b[1;32m---> 22\u001b[0m spectrum \u001b[38;5;241m=\u001b[39m \u001b[43mspectrum_in\u001b[49m\u001b[38;5;241;43m.\u001b[39;49m\u001b[43mclone\u001b[49m\u001b[43m(\u001b[49m\u001b[43m)\u001b[49m\n\u001b[0;32m     24\u001b[0m metadata_updated \u001b[38;5;241m=\u001b[39m _interpret_pepmass_metadata(spectrum\u001b[38;5;241m.\u001b[39mmetadata)\n\u001b[0;32m     25\u001b[0m spectrum\u001b[38;5;241m.\u001b[39mmetadata \u001b[38;5;241m=\u001b[39m metadata_updated\n",
      "File \u001b[1;32mc:\\Users\\aleks\\anaconda3\\envs\\mass_spectra\\lib\\site-packages\\matchms\\Spectrum.py:119\u001b[0m, in \u001b[0;36mSpectrum.clone\u001b[1;34m(self)\u001b[0m\n\u001b[0;32m    116\u001b[0m \u001b[38;5;28;01mdef\u001b[39;00m \u001b[38;5;21mclone\u001b[39m(\u001b[38;5;28mself\u001b[39m):\n\u001b[0;32m    117\u001b[0m \u001b[38;5;250m    \u001b[39m\u001b[38;5;124;03m\"\"\"Return a deepcopy of the spectrum instance.\"\"\"\u001b[39;00m\n\u001b[0;32m    118\u001b[0m     clone \u001b[38;5;241m=\u001b[39m Spectrum(mz\u001b[38;5;241m=\u001b[39m\u001b[38;5;28mself\u001b[39m\u001b[38;5;241m.\u001b[39mpeaks\u001b[38;5;241m.\u001b[39mmz,\n\u001b[1;32m--> 119\u001b[0m                      intensities\u001b[38;5;241m=\u001b[39m\u001b[38;5;28;43mself\u001b[39;49m\u001b[38;5;241;43m.\u001b[39;49m\u001b[43mpeaks\u001b[49m\u001b[38;5;241m.\u001b[39mintensities,\n\u001b[0;32m    120\u001b[0m                      metadata\u001b[38;5;241m=\u001b[39m\u001b[38;5;28mself\u001b[39m\u001b[38;5;241m.\u001b[39m_metadata\u001b[38;5;241m.\u001b[39mdata,\n\u001b[0;32m    121\u001b[0m                      metadata_harmonization\u001b[38;5;241m=\u001b[39m\u001b[38;5;28;01mFalse\u001b[39;00m)\n\u001b[0;32m    122\u001b[0m     clone\u001b[38;5;241m.\u001b[39mlosses \u001b[38;5;241m=\u001b[39m \u001b[38;5;28mself\u001b[39m\u001b[38;5;241m.\u001b[39mlosses\n\u001b[0;32m    123\u001b[0m     \u001b[38;5;28;01mreturn\u001b[39;00m clone\n",
      "File \u001b[1;32mc:\\Users\\aleks\\anaconda3\\envs\\mass_spectra\\lib\\site-packages\\matchms\\Spectrum.py:216\u001b[0m, in \u001b[0;36mSpectrum.peaks\u001b[1;34m(self)\u001b[0m\n\u001b[0;32m    214\u001b[0m \u001b[38;5;129m@property\u001b[39m\n\u001b[0;32m    215\u001b[0m \u001b[38;5;28;01mdef\u001b[39;00m \u001b[38;5;21mpeaks\u001b[39m(\u001b[38;5;28mself\u001b[39m) \u001b[38;5;241m-\u001b[39m\u001b[38;5;241m>\u001b[39m Fragments:\n\u001b[1;32m--> 216\u001b[0m     \u001b[38;5;28;01mreturn\u001b[39;00m \u001b[38;5;28;43mself\u001b[39;49m\u001b[38;5;241;43m.\u001b[39;49m\u001b[43m_peaks\u001b[49m\u001b[38;5;241;43m.\u001b[39;49m\u001b[43mclone\u001b[49m\u001b[43m(\u001b[49m\u001b[43m)\u001b[49m\n",
      "File \u001b[1;32mc:\\Users\\aleks\\anaconda3\\envs\\mass_spectra\\lib\\site-packages\\matchms\\Fragments.py:64\u001b[0m, in \u001b[0;36mFragments.clone\u001b[1;34m(self)\u001b[0m\n\u001b[0;32m     63\u001b[0m \u001b[38;5;28;01mdef\u001b[39;00m \u001b[38;5;21mclone\u001b[39m(\u001b[38;5;28mself\u001b[39m):\n\u001b[1;32m---> 64\u001b[0m     \u001b[38;5;28;01mreturn\u001b[39;00m \u001b[43mFragments\u001b[49m\u001b[43m(\u001b[49m\u001b[38;5;28;43mself\u001b[39;49m\u001b[38;5;241;43m.\u001b[39;49m\u001b[43mmz\u001b[49m\u001b[43m,\u001b[49m\u001b[43m \u001b[49m\u001b[38;5;28;43mself\u001b[39;49m\u001b[38;5;241;43m.\u001b[39;49m\u001b[43mintensities\u001b[49m\u001b[43m)\u001b[49m\n",
      "File \u001b[1;32mc:\\Users\\aleks\\anaconda3\\envs\\mass_spectra\\lib\\site-packages\\matchms\\Fragments.py:45\u001b[0m, in \u001b[0;36mFragments.__init__\u001b[1;34m(self, mz, intensities)\u001b[0m\n\u001b[0;32m     42\u001b[0m \u001b[38;5;28mself\u001b[39m\u001b[38;5;241m.\u001b[39m_mz \u001b[38;5;241m=\u001b[39m mz\n\u001b[0;32m     43\u001b[0m \u001b[38;5;28mself\u001b[39m\u001b[38;5;241m.\u001b[39m_intensities \u001b[38;5;241m=\u001b[39m intensities\n\u001b[1;32m---> 45\u001b[0m \u001b[38;5;28;01massert\u001b[39;00m \u001b[38;5;28;43mself\u001b[39;49m\u001b[38;5;241;43m.\u001b[39;49m\u001b[43m_is_sorted\u001b[49m\u001b[43m(\u001b[49m\u001b[43m)\u001b[49m, \u001b[38;5;124m\"\u001b[39m\u001b[38;5;124mmz values are out of order.\u001b[39m\u001b[38;5;124m\"\u001b[39m\n",
      "File \u001b[1;32mc:\\Users\\aleks\\anaconda3\\envs\\mass_spectra\\lib\\site-packages\\matchms\\Fragments.py:61\u001b[0m, in \u001b[0;36mFragments._is_sorted\u001b[1;34m(self)\u001b[0m\n\u001b[0;32m     60\u001b[0m \u001b[38;5;28;01mdef\u001b[39;00m \u001b[38;5;21m_is_sorted\u001b[39m(\u001b[38;5;28mself\u001b[39m):\n\u001b[1;32m---> 61\u001b[0m     \u001b[38;5;28;01mreturn\u001b[39;00m np\u001b[38;5;241m.\u001b[39mall(\u001b[38;5;28mself\u001b[39m\u001b[38;5;241m.\u001b[39mmz[:\u001b[38;5;241m-\u001b[39m\u001b[38;5;241m1\u001b[39m] \u001b[38;5;241m<\u001b[39m\u001b[38;5;241m=\u001b[39m \u001b[38;5;28;43mself\u001b[39;49m\u001b[38;5;241;43m.\u001b[39;49m\u001b[43mmz\u001b[49m[\u001b[38;5;241m1\u001b[39m:])\n",
      "File \u001b[1;32mc:\\Users\\aleks\\anaconda3\\envs\\mass_spectra\\lib\\site-packages\\matchms\\Fragments.py:69\u001b[0m, in \u001b[0;36mFragments.mz\u001b[1;34m(self)\u001b[0m\n\u001b[0;32m     66\u001b[0m \u001b[38;5;129m@property\u001b[39m\n\u001b[0;32m     67\u001b[0m \u001b[38;5;28;01mdef\u001b[39;00m \u001b[38;5;21mmz\u001b[39m(\u001b[38;5;28mself\u001b[39m):\n\u001b[0;32m     68\u001b[0m \u001b[38;5;250m    \u001b[39m\u001b[38;5;124;03m\"\"\"getter method for mz private variable\"\"\"\u001b[39;00m\n\u001b[1;32m---> 69\u001b[0m     \u001b[38;5;28;01mreturn\u001b[39;00m \u001b[38;5;28;43mself\u001b[39;49m\u001b[38;5;241;43m.\u001b[39;49m\u001b[43m_mz\u001b[49m\u001b[38;5;241;43m.\u001b[39;49m\u001b[43mcopy\u001b[49m\u001b[43m(\u001b[49m\u001b[43m)\u001b[49m\n",
      "\u001b[1;31mKeyboardInterrupt\u001b[0m: "
     ]
    }
   ],
   "source": [
    "spectra = preprocess_file(test_mgf, convert_to_document=False)\n",
    "len(spectra)"
   ]
  },
  {
   "cell_type": "code",
   "execution_count": null,
   "metadata": {},
   "outputs": [
    {
     "data": {
      "text/plain": [
       "2969"
      ]
     },
     "execution_count": 47,
     "metadata": {},
     "output_type": "execute_result"
    }
   ],
   "source": [
    "spectra = [s for s in spectra if s is not None]\n",
    "len(spectra)"
   ]
  },
  {
   "cell_type": "code",
   "execution_count": null,
   "metadata": {},
   "outputs": [
    {
     "data": {
      "text/plain": [
       "Text(0.5, 1.0, '')"
      ]
     },
     "execution_count": 48,
     "metadata": {},
     "output_type": "execute_result"
    },
    {
     "data": {
      "image/png": "[encoded data removed]",
      "text/plain": [
       "<Figure size 800x400 with 1 Axes>"
      ]
     },
     "metadata": {},
     "output_type": "display_data"
    }
   ],
   "source": [
    "spectra[0].plot(figsize=(4, 2))\n",
    "plt.title(\"\")"
   ]
  },
  {
   "cell_type": "code",
   "execution_count": null,
   "metadata": {},
   "outputs": [
    {
     "data": {
      "text/plain": [
       "Text(0, 0.5, 'Number of spectra')"
      ]
     },
     "execution_count": 49,
     "metadata": {},
     "output_type": "execute_result"
    },
    {
     "data": {
      "image/png": "[encoded data removed]",
      "text/plain": [
       "<Figure size 500x400 with 1 Axes>"
      ]
     },
     "metadata": {},
     "output_type": "display_data"
    }
   ],
   "source": [
    "numbers_of_peaks = [len(s.peaks.mz) for s in spectra]\n",
    "plt.figure(figsize=(5,4), dpi=100)\n",
    "plt.hist(numbers_of_peaks, 20, edgecolor=\"white\")\n",
    "plt.title(\"Peaks per spectrum (after filtering)\")\n",
    "plt.xlabel(\"Number of peaks in spectrum\")\n",
    "plt.ylabel(\"Number of spectra\")"
   ]
  }
 ],
 "metadata": {
  "kernelspec": {
   "display_name": "mass_spectra",
   "language": "python",
   "name": "python3"
  },
  "language_info": {
   "codemirror_mode": {
    "name": "ipython",
    "version": 3
   },
   "file_extension": ".py",
   "mimetype": "text/x-python",
   "name": "python",
   "nbconvert_exporter": "python",
   "pygments_lexer": "ipython3",
   "version": "3.9.16"
  }
 },
 "nbformat": 4,
 "nbformat_minor": 2
}
