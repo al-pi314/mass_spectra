{
 "cells": [
  {
   "cell_type": "markdown",
   "metadata": {},
   "source": [
    "# This is Step 1 in the Pipeline - Verifying the Quality of Spec2Vec Embeddings\n",
    "With this notebook we test the similarity of the Spec2Vec embeddings by testing the retrieval of similar spectra.\n",
    "In Ideas scenario top N (where N is the amount of spectra for the inchi_key) similar spectra should belong to the same inchi_key."
   ]
  },
  {
   "cell_type": "markdown",
   "metadata": {},
   "source": [
    "... This notebook is being reconstructed for better statistical analysis ..."
   ]
  }
 ],
 "metadata": {
  "kernelspec": {
   "display_name": "mass_spectra",
   "language": "python",
   "name": "python3"
  },
  "language_info": {
   "codemirror_mode": {
    "name": "ipython",
    "version": 3
   },
   "file_extension": ".py",
   "mimetype": "text/x-python",
   "name": "python",
   "nbconvert_exporter": "python",
   "pygments_lexer": "ipython3",
   "version": "3.9.16"
  },
  "orig_nbformat": 4
 },
 "nbformat": 4,
 "nbformat_minor": 2
}
