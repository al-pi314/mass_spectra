{
 "cells": [
  {
   "cell_type": "markdown",
   "metadata": {},
   "source": [
    "# This is Step 3 in the Pipeline - Training ML Prediction Model\n",
    "With this notebook we can train various ML classifiers to tackle multi-lable prediction problem. We are predicting Spec2Vec embeddings from molecular fingerprints."
   ]
  },
  {
   "cell_type": "markdown",
   "metadata": {},
   "source": [
    "### Imports"
   ]
  },
  {
   "cell_type": "code",
   "execution_count": 1,
   "metadata": {},
   "outputs": [],
   "source": [
    "from sklearn.metrics import accuracy_score, f1_score, log_loss, precision_score, recall_score, jaccard_score, roc_auc_score, hamming_loss, label_ranking_loss, coverage_error\n",
    "from sklearn.model_selection import KFold\n",
    "from sklearn.multiclass import OneVsRestClassifier\n",
    "from sklearn.multioutput import  ClassifierChain\n",
    "from sklearn.tree import DecisionTreeClassifier\n",
    "from sklearn.ensemble import RandomForestClassifier\n",
    "from sklearn.dummy import DummyClassifier\n",
    "from sklearn.linear_model import LogisticRegression\n",
    "from mass_spectra.similarity_voting import SimilarityVoting\n",
    "from mass_spectra.nn import NN\n",
    "from tqdm.notebook import tqdm\n",
    "import numpy as np\n",
    "import pandas as pd\n",
    "import pickle\n",
    "from random import shuffle, seed\n",
    "from math import ceil\n",
    "import os\n",
    "from torch.nn import BCEWithLogitsLoss"
   ]
  },
  {
   "cell_type": "markdown",
   "metadata": {},
   "source": [
    "### Parameters"
   ]
  },
  {
   "cell_type": "code",
   "execution_count": 2,
   "metadata": {},
   "outputs": [],
   "source": [
    "RANDOM_STATE = 27082023\n",
    "seed(RANDOM_STATE)\n",
    "np.random.seed(RANDOM_STATE)\n",
    "\n",
    "# path to merged fingerprint and embedding data (fingerprint columns should be prefixed with 'fingerprint_' and embedding columns should be prefixed with 'embedding_').\n",
    "MERGED_PATH = './source/embedding/all_positive_tms_maccs/merged.csv'\n",
    "MODEL_OUTPUT_FOLDER = \"./source/model/all_positive_tms_maccs/\""
   ]
  },
  {
   "cell_type": "code",
   "execution_count": 3,
   "metadata": {},
   "outputs": [],
   "source": [
    "assert os.path.isfile(MERGED_PATH)\n",
    "assert os.path.isdir(MODEL_OUTPUT_FOLDER)\n",
    "assert MERGED_PATH.endswith('.csv')"
   ]
  },
  {
   "cell_type": "code",
   "execution_count": 4,
   "metadata": {},
   "outputs": [],
   "source": [
    "ESTIMATOR = None"
   ]
  },
  {
   "cell_type": "code",
   "execution_count": 5,
   "metadata": {},
   "outputs": [],
   "source": [
    "MODEL = NN(input_size=300, output_size=166, criterion=BCEWithLogitsLoss(), max_epochs=128, batch_size=64, lr=0.1, dropout=0.5)"
   ]
  },
  {
   "cell_type": "code",
   "execution_count": 6,
   "metadata": {},
   "outputs": [],
   "source": [
    "MODEL_CLASS = MODEL.__class__.__name__\n",
    "ESTIMATOR_CLASS = ESTIMATOR.__class__.__name__ if ESTIMATOR is not None else 'Multioutput'\n",
    "MODEL_OUTPUT_FOLDER = f'{MODEL_OUTPUT_FOLDER}{MODEL_CLASS}_{ESTIMATOR_CLASS}'\n",
    "os.makedirs(f'{MODEL_OUTPUT_FOLDER}/models', exist_ok=False)\n",
    "os.makedirs(f'{MODEL_OUTPUT_FOLDER}/unseen_inchi_keys_models', exist_ok=False)"
   ]
  },
  {
   "cell_type": "markdown",
   "metadata": {},
   "source": [
    "### Metrics Definition\n",
    "Creates metrics which can be called with (y_true, y_prob, y_pred) for easier use. It also creates multiple combinations of metrics for different averaging methods."
   ]
  },
  {
   "cell_type": "code",
   "execution_count": 7,
   "metadata": {},
   "outputs": [],
   "source": [
    "Y_PRED_SCORES = [accuracy_score, log_loss, hamming_loss] # input y predictions and y true\n",
    "Y_PRED_SCORES_WITH_AVERAGING = [f1_score, precision_score, recall_score, jaccard_score] # input y predictions and y true and use one of the following: \"micro\", \"macro\", \"weighted\", \"samples\"\n",
    "Y_PROB_SCORES = [roc_auc_score, label_ranking_loss, coverage_error] # input y probabilities and y true"
   ]
  },
  {
   "cell_type": "code",
   "execution_count": 8,
   "metadata": {},
   "outputs": [],
   "source": [
    "METRICS = []\n",
    "METRIC_NAMES = []\n",
    "for metric in Y_PRED_SCORES:\n",
    "    METRICS.append(lambda y_true, y_prob, y_pred, metric=metric: metric(y_true, y_pred))\n",
    "    METRIC_NAMES.append(metric.__name__)\n",
    "for metric in Y_PRED_SCORES_WITH_AVERAGING:\n",
    "    for average in [\"micro\", \"macro\", \"weighted\", \"samples\"]:\n",
    "        zero_division = 0 if metric.__name__ == \"jaccard_score\" else np.nan\n",
    "        METRICS.append(lambda y_true, y_prob, y_pred, metric=metric, average=average: metric(y_true, y_pred, average=average, zero_division=zero_division))\n",
    "        METRIC_NAMES.append(metric.__name__ + \"__\" + average)\n",
    "for metric in Y_PROB_SCORES:\n",
    "    METRICS.append(lambda y_true, y_prob, y_pred, metric=metric: metric(y_true, y_prob))\n",
    "    METRIC_NAMES.append(metric.__name__)"
   ]
  },
  {
   "cell_type": "code",
   "execution_count": 9,
   "metadata": {},
   "outputs": [],
   "source": [
    "class Metrics:\n",
    "    def __init__(self, metrics, metric_names, repeats=2, folds=5):\n",
    "        self.metrics = metrics\n",
    "        self.metric_names = metric_names\n",
    "        \n",
    "        self.repeats = repeats\n",
    "        self.folds = folds\n",
    "        self.i = 0\n",
    "\n",
    "        self.results = pd.DataFrame(columns=['repeat', 'fold', 'model_training_data_path'] + self.metric_names)\n",
    "    \n",
    "    def evaluate(self, y_true, y_prob, y_pred, model_training_data_path=None):\n",
    "        entry = {\n",
    "            'repeat': self.i // self.folds,\n",
    "            'fold': self.i % self.folds,\n",
    "            'model_training_data_path': model_training_data_path\n",
    "        }\n",
    "        for metric, metric_name in zip(self.metrics, self.metric_names):\n",
    "            try:\n",
    "                entry[metric_name] = metric(y_true, y_prob, y_pred)\n",
    "            except ValueError as e:\n",
    "                print(\"Warning: \", e)\n",
    "                entry[metric_name] = np.nan\n",
    "        \n",
    "        self.results = pd.concat([self.results, pd.DataFrame(entry, index=[0])], ignore_index=True)\n",
    "        self.i += 1\n",
    "    \n",
    "    def store(self, filename):\n",
    "        self.results.to_csv(filename, index=False)\n",
    "\n",
    "    def current(self, metric_name):\n",
    "        return self.results[metric_name].iloc[-1]"
   ]
  },
  {
   "cell_type": "markdown",
   "metadata": {},
   "source": [
    "### Load Data"
   ]
  },
  {
   "cell_type": "code",
   "execution_count": 10,
   "metadata": {},
   "outputs": [
    {
     "name": "stdout",
     "output_type": "stream",
     "text": [
      "<class 'pandas.core.frame.DataFrame'>\n",
      "RangeIndex: 3025 entries, 0 to 3024\n",
      "Columns: 467 entries, inchi_key to embedding_299\n",
      "dtypes: float64(466), object(1)\n",
      "memory usage: 10.8+ MB\n"
     ]
    }
   ],
   "source": [
    "merged_df = pd.read_csv(MERGED_PATH)\n",
    "merged_df.info()"
   ]
  },
  {
   "cell_type": "code",
   "execution_count": 11,
   "metadata": {},
   "outputs": [
    {
     "data": {
      "text/plain": [
       "'Number of NaNs: 0'"
      ]
     },
     "execution_count": 11,
     "metadata": {},
     "output_type": "execute_result"
    }
   ],
   "source": [
    "f'Number of NaNs: {merged_df.isna().sum().sum()}' # should be 0"
   ]
  },
  {
   "cell_type": "code",
   "execution_count": 12,
   "metadata": {},
   "outputs": [
    {
     "data": {
      "text/plain": [
       "((3025, 300), (3025, 166))"
      ]
     },
     "execution_count": 12,
     "metadata": {},
     "output_type": "execute_result"
    }
   ],
   "source": [
    "X = merged_df.filter(regex='^embedding_')\n",
    "y = merged_df.filter(regex='^fingerprint_')\n",
    "X.shape, y.shape"
   ]
  },
  {
   "cell_type": "code",
   "execution_count": 13,
   "metadata": {},
   "outputs": [],
   "source": [
    "X = X.to_numpy()\n",
    "y = y.to_numpy()"
   ]
  },
  {
   "cell_type": "markdown",
   "metadata": {},
   "source": [
    "### Train- K-fold Cross Validation"
   ]
  },
  {
   "cell_type": "code",
   "execution_count": 14,
   "metadata": {},
   "outputs": [
    {
     "data": {
      "application/vnd.jupyter.widget-view+json": {
       "model_id": "7203d3ced0214725994b0a41a2d5c5ca",
       "version_major": 2,
       "version_minor": 0
      },
      "text/plain": [
       "Repeats:   0%|          | 0/2 [00:00<?, ?it/s]"
      ]
     },
     "metadata": {},
     "output_type": "display_data"
    },
    {
     "data": {
      "application/vnd.jupyter.widget-view+json": {
       "model_id": "563b79f3fb3041fcbc9dc6248effc54c",
       "version_major": 2,
       "version_minor": 0
      },
      "text/plain": [
       "Fold:   0%|          | 0/5 [00:00<?, ?it/s]"
      ]
     },
     "metadata": {},
     "output_type": "display_data"
    },
    {
     "name": "stderr",
     "output_type": "stream",
     "text": [
      "c:\\Users\\aleks\\anaconda3\\envs\\mass_spectra\\lib\\site-packages\\sklearn\\metrics\\_classification.py:2916: UserWarning: The y_pred values do not sum to one. Starting from 1.5 thiswill result in an error.\n",
      "  warnings.warn(\n"
     ]
    },
    {
     "name": "stdout",
     "output_type": "stream",
     "text": [
      "Warning:  Only one class present in y_true. ROC AUC score is not defined in that case.\n",
      "Label ranking loss:  0.1957126096152341\n",
      "F1 Weighted:  0.6162965349188513\n"
     ]
    },
    {
     "name": "stderr",
     "output_type": "stream",
     "text": [
      "c:\\Users\\aleks\\anaconda3\\envs\\mass_spectra\\lib\\site-packages\\sklearn\\metrics\\_classification.py:2916: UserWarning: The y_pred values do not sum to one. Starting from 1.5 thiswill result in an error.\n",
      "  warnings.warn(\n"
     ]
    },
    {
     "name": "stdout",
     "output_type": "stream",
     "text": [
      "Warning:  Only one class present in y_true. ROC AUC score is not defined in that case.\n",
      "Label ranking loss:  0.1757396212980269\n",
      "F1 Weighted:  0.6377417292779712\n"
     ]
    },
    {
     "name": "stderr",
     "output_type": "stream",
     "text": [
      "c:\\Users\\aleks\\anaconda3\\envs\\mass_spectra\\lib\\site-packages\\sklearn\\metrics\\_classification.py:2916: UserWarning: The y_pred values do not sum to one. Starting from 1.5 thiswill result in an error.\n",
      "  warnings.warn(\n"
     ]
    },
    {
     "name": "stdout",
     "output_type": "stream",
     "text": [
      "Warning:  Only one class present in y_true. ROC AUC score is not defined in that case.\n",
      "Label ranking loss:  0.19211282257524168\n",
      "F1 Weighted:  0.6202009764449885\n"
     ]
    },
    {
     "name": "stderr",
     "output_type": "stream",
     "text": [
      "c:\\Users\\aleks\\anaconda3\\envs\\mass_spectra\\lib\\site-packages\\sklearn\\metrics\\_classification.py:2916: UserWarning: The y_pred values do not sum to one. Starting from 1.5 thiswill result in an error.\n",
      "  warnings.warn(\n"
     ]
    },
    {
     "name": "stdout",
     "output_type": "stream",
     "text": [
      "Warning:  Only one class present in y_true. ROC AUC score is not defined in that case.\n",
      "Label ranking loss:  0.19603510863431925\n",
      "F1 Weighted:  0.6200016831195015\n"
     ]
    },
    {
     "name": "stderr",
     "output_type": "stream",
     "text": [
      "c:\\Users\\aleks\\anaconda3\\envs\\mass_spectra\\lib\\site-packages\\sklearn\\metrics\\_classification.py:2916: UserWarning: The y_pred values do not sum to one. Starting from 1.5 thiswill result in an error.\n",
      "  warnings.warn(\n"
     ]
    },
    {
     "name": "stdout",
     "output_type": "stream",
     "text": [
      "Warning:  Only one class present in y_true. ROC AUC score is not defined in that case.\n",
      "Label ranking loss:  0.1884548596410924\n",
      "F1 Weighted:  0.6246518117482744\n"
     ]
    },
    {
     "data": {
      "application/vnd.jupyter.widget-view+json": {
       "model_id": "1ff62f2e9c6240c487f2d975901bfa68",
       "version_major": 2,
       "version_minor": 0
      },
      "text/plain": [
       "Fold:   0%|          | 0/5 [00:00<?, ?it/s]"
      ]
     },
     "metadata": {},
     "output_type": "display_data"
    },
    {
     "name": "stderr",
     "output_type": "stream",
     "text": [
      "c:\\Users\\aleks\\anaconda3\\envs\\mass_spectra\\lib\\site-packages\\sklearn\\metrics\\_classification.py:2916: UserWarning: The y_pred values do not sum to one. Starting from 1.5 thiswill result in an error.\n",
      "  warnings.warn(\n"
     ]
    },
    {
     "name": "stdout",
     "output_type": "stream",
     "text": [
      "Warning:  Only one class present in y_true. ROC AUC score is not defined in that case.\n",
      "Label ranking loss:  0.1922968505613174\n",
      "F1 Weighted:  0.6217307245237383\n"
     ]
    },
    {
     "name": "stderr",
     "output_type": "stream",
     "text": [
      "c:\\Users\\aleks\\anaconda3\\envs\\mass_spectra\\lib\\site-packages\\sklearn\\metrics\\_classification.py:2916: UserWarning: The y_pred values do not sum to one. Starting from 1.5 thiswill result in an error.\n",
      "  warnings.warn(\n"
     ]
    },
    {
     "name": "stdout",
     "output_type": "stream",
     "text": [
      "Warning:  Only one class present in y_true. ROC AUC score is not defined in that case.\n",
      "Label ranking loss:  0.19682158238734274\n",
      "F1 Weighted:  0.6263088662462004\n"
     ]
    },
    {
     "name": "stderr",
     "output_type": "stream",
     "text": [
      "c:\\Users\\aleks\\anaconda3\\envs\\mass_spectra\\lib\\site-packages\\sklearn\\metrics\\_classification.py:2916: UserWarning: The y_pred values do not sum to one. Starting from 1.5 thiswill result in an error.\n",
      "  warnings.warn(\n"
     ]
    },
    {
     "name": "stdout",
     "output_type": "stream",
     "text": [
      "Warning:  Only one class present in y_true. ROC AUC score is not defined in that case.\n",
      "Label ranking loss:  0.16172769609965665\n",
      "F1 Weighted:  0.6356421638420565\n"
     ]
    },
    {
     "name": "stderr",
     "output_type": "stream",
     "text": [
      "c:\\Users\\aleks\\anaconda3\\envs\\mass_spectra\\lib\\site-packages\\sklearn\\metrics\\_classification.py:2916: UserWarning: The y_pred values do not sum to one. Starting from 1.5 thiswill result in an error.\n",
      "  warnings.warn(\n"
     ]
    },
    {
     "name": "stdout",
     "output_type": "stream",
     "text": [
      "Warning:  Only one class present in y_true. ROC AUC score is not defined in that case.\n",
      "Label ranking loss:  0.20193833502490371\n",
      "F1 Weighted:  0.6149007620044423\n"
     ]
    },
    {
     "name": "stderr",
     "output_type": "stream",
     "text": [
      "c:\\Users\\aleks\\anaconda3\\envs\\mass_spectra\\lib\\site-packages\\sklearn\\metrics\\_classification.py:2916: UserWarning: The y_pred values do not sum to one. Starting from 1.5 thiswill result in an error.\n",
      "  warnings.warn(\n"
     ]
    },
    {
     "name": "stdout",
     "output_type": "stream",
     "text": [
      "Warning:  Only one class present in y_true. ROC AUC score is not defined in that case.\n",
      "Label ranking loss:  0.17354537105305862\n",
      "F1 Weighted:  0.624248455933309\n"
     ]
    }
   ],
   "source": [
    "REPEATS = 2\n",
    "K = 5\n",
    "metrics = Metrics(METRICS, METRIC_NAMES, REPEATS, K)\n",
    "\n",
    "for i in tqdm(range(REPEATS), desc=\"Repeats\"):\n",
    "    kf = KFold(n_splits=K, shuffle=True, random_state=RANDOM_STATE + i)\n",
    "\n",
    "    for fold, (train_index, test_index) in tqdm(enumerate(kf.split(X, y)), desc=\"Fold\", total=K):\n",
    "        # train\n",
    "        X_train, X_test = X[train_index], X[test_index]\n",
    "        y_train, y_test = y[train_index], y[test_index]\n",
    "        MODEL.fit(X_train, y_train)\n",
    "\n",
    "        # predict\n",
    "        y_pred = MODEL.predict(X_test)\n",
    "        y_prob = MODEL.predict_proba(X_test)\n",
    "\n",
    "        # store train data\n",
    "        model_training_data_path = f'{MODEL_OUTPUT_FOLDER}/models/{i}_{fold}.pkl'\n",
    "        with open(model_training_data_path, \"wb\") as f:\n",
    "            pickle.dump({\n",
    "                \"model\": MODEL,\n",
    "                \"X_train\": X_train,\n",
    "                \"y_train\": y_train,\n",
    "                \"X_test\": X_test,\n",
    "                \"y_test\": y_test,\n",
    "            }, f)\n",
    "\n",
    "        # evaluate\n",
    "        metrics.evaluate(y_test, y_prob, y_pred, model_training_data_path=model_training_data_path)\n",
    "\n",
    "        # display current results\n",
    "        print('Label ranking loss: ', metrics.current('label_ranking_loss'))\n",
    "        print('F1 Weighted: ', metrics.current('f1_score__weighted'))\n",
    "        \n",
    "metrics.store(f'{MODEL_OUTPUT_FOLDER}/metrics.csv')"
   ]
  },
  {
   "cell_type": "code",
   "execution_count": 15,
   "metadata": {},
   "outputs": [
    {
     "data": {
      "text/html": [
       "<div>\n",
       "<style scoped>\n",
       "    .dataframe tbody tr th:only-of-type {\n",
       "        vertical-align: middle;\n",
       "    }\n",
       "\n",
       "    .dataframe tbody tr th {\n",
       "        vertical-align: top;\n",
       "    }\n",
       "\n",
       "    .dataframe thead th {\n",
       "        text-align: right;\n",
       "    }\n",
       "</style>\n",
       "<table border=\"1\" class=\"dataframe\">\n",
       "  <thead>\n",
       "    <tr style=\"text-align: right;\">\n",
       "      <th></th>\n",
       "      <th>accuracy_score</th>\n",
       "      <th>log_loss</th>\n",
       "      <th>hamming_loss</th>\n",
       "      <th>f1_score__micro</th>\n",
       "      <th>f1_score__macro</th>\n",
       "      <th>f1_score__weighted</th>\n",
       "      <th>f1_score__samples</th>\n",
       "      <th>precision_score__micro</th>\n",
       "      <th>precision_score__macro</th>\n",
       "      <th>precision_score__weighted</th>\n",
       "      <th>...</th>\n",
       "      <th>recall_score__macro</th>\n",
       "      <th>recall_score__weighted</th>\n",
       "      <th>recall_score__samples</th>\n",
       "      <th>jaccard_score__micro</th>\n",
       "      <th>jaccard_score__macro</th>\n",
       "      <th>jaccard_score__weighted</th>\n",
       "      <th>jaccard_score__samples</th>\n",
       "      <th>roc_auc_score</th>\n",
       "      <th>label_ranking_loss</th>\n",
       "      <th>coverage_error</th>\n",
       "    </tr>\n",
       "  </thead>\n",
       "  <tbody>\n",
       "    <tr>\n",
       "      <th>count</th>\n",
       "      <td>10.0</td>\n",
       "      <td>10.000000</td>\n",
       "      <td>10.000000</td>\n",
       "      <td>10.000000</td>\n",
       "      <td>10.000000</td>\n",
       "      <td>10.000000</td>\n",
       "      <td>10.000000</td>\n",
       "      <td>10.000000</td>\n",
       "      <td>10.000000</td>\n",
       "      <td>10.000000</td>\n",
       "      <td>...</td>\n",
       "      <td>10.000000</td>\n",
       "      <td>10.000000</td>\n",
       "      <td>10.000000</td>\n",
       "      <td>10.000000</td>\n",
       "      <td>10.000000</td>\n",
       "      <td>10.000000</td>\n",
       "      <td>10.000000</td>\n",
       "      <td>0.0</td>\n",
       "      <td>10.000000</td>\n",
       "      <td>10.000000</td>\n",
       "    </tr>\n",
       "    <tr>\n",
       "      <th>mean</th>\n",
       "      <td>0.0</td>\n",
       "      <td>560.106139</td>\n",
       "      <td>0.083043</td>\n",
       "      <td>0.762509</td>\n",
       "      <td>0.138980</td>\n",
       "      <td>0.624172</td>\n",
       "      <td>0.777418</td>\n",
       "      <td>0.945511</td>\n",
       "      <td>0.136585</td>\n",
       "      <td>0.612769</td>\n",
       "      <td>...</td>\n",
       "      <td>0.142339</td>\n",
       "      <td>0.638895</td>\n",
       "      <td>0.674777</td>\n",
       "      <td>0.616202</td>\n",
       "      <td>0.134642</td>\n",
       "      <td>0.607367</td>\n",
       "      <td>0.654046</td>\n",
       "      <td>NaN</td>\n",
       "      <td>0.187438</td>\n",
       "      <td>137.569587</td>\n",
       "    </tr>\n",
       "    <tr>\n",
       "      <th>std</th>\n",
       "      <td>0.0</td>\n",
       "      <td>16.434896</td>\n",
       "      <td>0.002482</td>\n",
       "      <td>0.005469</td>\n",
       "      <td>0.000574</td>\n",
       "      <td>0.007510</td>\n",
       "      <td>0.004624</td>\n",
       "      <td>0.002416</td>\n",
       "      <td>0.000407</td>\n",
       "      <td>0.007549</td>\n",
       "      <td>...</td>\n",
       "      <td>0.000769</td>\n",
       "      <td>0.007685</td>\n",
       "      <td>0.006583</td>\n",
       "      <td>0.007160</td>\n",
       "      <td>0.000826</td>\n",
       "      <td>0.007447</td>\n",
       "      <td>0.006148</td>\n",
       "      <td>NaN</td>\n",
       "      <td>0.012815</td>\n",
       "      <td>4.131536</td>\n",
       "    </tr>\n",
       "    <tr>\n",
       "      <th>min</th>\n",
       "      <td>0.0</td>\n",
       "      <td>530.678835</td>\n",
       "      <td>0.078522</td>\n",
       "      <td>0.755347</td>\n",
       "      <td>0.138464</td>\n",
       "      <td>0.614901</td>\n",
       "      <td>0.770942</td>\n",
       "      <td>0.942799</td>\n",
       "      <td>0.136128</td>\n",
       "      <td>0.603494</td>\n",
       "      <td>...</td>\n",
       "      <td>0.141508</td>\n",
       "      <td>0.628868</td>\n",
       "      <td>0.664355</td>\n",
       "      <td>0.606873</td>\n",
       "      <td>0.133864</td>\n",
       "      <td>0.597952</td>\n",
       "      <td>0.644728</td>\n",
       "      <td>NaN</td>\n",
       "      <td>0.161728</td>\n",
       "      <td>129.358678</td>\n",
       "    </tr>\n",
       "    <tr>\n",
       "      <th>25%</th>\n",
       "      <td>0.0</td>\n",
       "      <td>555.029365</td>\n",
       "      <td>0.082460</td>\n",
       "      <td>0.759127</td>\n",
       "      <td>0.138670</td>\n",
       "      <td>0.620052</td>\n",
       "      <td>0.774997</td>\n",
       "      <td>0.943896</td>\n",
       "      <td>0.136301</td>\n",
       "      <td>0.608414</td>\n",
       "      <td>...</td>\n",
       "      <td>0.141859</td>\n",
       "      <td>0.634990</td>\n",
       "      <td>0.672914</td>\n",
       "      <td>0.611769</td>\n",
       "      <td>0.134191</td>\n",
       "      <td>0.602450</td>\n",
       "      <td>0.651094</td>\n",
       "      <td>NaN</td>\n",
       "      <td>0.178918</td>\n",
       "      <td>135.631405</td>\n",
       "    </tr>\n",
       "    <tr>\n",
       "      <th>50%</th>\n",
       "      <td>0.0</td>\n",
       "      <td>564.299629</td>\n",
       "      <td>0.083556</td>\n",
       "      <td>0.762108</td>\n",
       "      <td>0.138729</td>\n",
       "      <td>0.622990</td>\n",
       "      <td>0.777078</td>\n",
       "      <td>0.944846</td>\n",
       "      <td>0.136525</td>\n",
       "      <td>0.610197</td>\n",
       "      <td>...</td>\n",
       "      <td>0.142055</td>\n",
       "      <td>0.638397</td>\n",
       "      <td>0.674712</td>\n",
       "      <td>0.615651</td>\n",
       "      <td>0.134255</td>\n",
       "      <td>0.606638</td>\n",
       "      <td>0.653698</td>\n",
       "      <td>NaN</td>\n",
       "      <td>0.192205</td>\n",
       "      <td>136.477686</td>\n",
       "    </tr>\n",
       "    <tr>\n",
       "      <th>75%</th>\n",
       "      <td>0.0</td>\n",
       "      <td>565.681160</td>\n",
       "      <td>0.084176</td>\n",
       "      <td>0.763991</td>\n",
       "      <td>0.139247</td>\n",
       "      <td>0.625895</td>\n",
       "      <td>0.779075</td>\n",
       "      <td>0.946320</td>\n",
       "      <td>0.136690</td>\n",
       "      <td>0.613841</td>\n",
       "      <td>...</td>\n",
       "      <td>0.142840</td>\n",
       "      <td>0.641036</td>\n",
       "      <td>0.676832</td>\n",
       "      <td>0.618111</td>\n",
       "      <td>0.134944</td>\n",
       "      <td>0.609436</td>\n",
       "      <td>0.656474</td>\n",
       "      <td>NaN</td>\n",
       "      <td>0.195954</td>\n",
       "      <td>140.838017</td>\n",
       "    </tr>\n",
       "    <tr>\n",
       "      <th>max</th>\n",
       "      <td>0.0</td>\n",
       "      <td>581.721675</td>\n",
       "      <td>0.086110</td>\n",
       "      <td>0.772081</td>\n",
       "      <td>0.140263</td>\n",
       "      <td>0.637742</td>\n",
       "      <td>0.785868</td>\n",
       "      <td>0.949926</td>\n",
       "      <td>0.137435</td>\n",
       "      <td>0.626815</td>\n",
       "      <td>...</td>\n",
       "      <td>0.143967</td>\n",
       "      <td>0.652357</td>\n",
       "      <td>0.686693</td>\n",
       "      <td>0.628772</td>\n",
       "      <td>0.136562</td>\n",
       "      <td>0.620521</td>\n",
       "      <td>0.665171</td>\n",
       "      <td>NaN</td>\n",
       "      <td>0.201938</td>\n",
       "      <td>143.433058</td>\n",
       "    </tr>\n",
       "  </tbody>\n",
       "</table>\n",
       "<p>8 rows × 22 columns</p>\n",
       "</div>"
      ],
      "text/plain": [
       "       accuracy_score    log_loss  hamming_loss  f1_score__micro  \\\n",
       "count            10.0   10.000000     10.000000        10.000000   \n",
       "mean              0.0  560.106139      0.083043         0.762509   \n",
       "std               0.0   16.434896      0.002482         0.005469   \n",
       "min               0.0  530.678835      0.078522         0.755347   \n",
       "25%               0.0  555.029365      0.082460         0.759127   \n",
       "50%               0.0  564.299629      0.083556         0.762108   \n",
       "75%               0.0  565.681160      0.084176         0.763991   \n",
       "max               0.0  581.721675      0.086110         0.772081   \n",
       "\n",
       "       f1_score__macro  f1_score__weighted  f1_score__samples  \\\n",
       "count        10.000000           10.000000          10.000000   \n",
       "mean          0.138980            0.624172           0.777418   \n",
       "std           0.000574            0.007510           0.004624   \n",
       "min           0.138464            0.614901           0.770942   \n",
       "25%           0.138670            0.620052           0.774997   \n",
       "50%           0.138729            0.622990           0.777078   \n",
       "75%           0.139247            0.625895           0.779075   \n",
       "max           0.140263            0.637742           0.785868   \n",
       "\n",
       "       precision_score__micro  precision_score__macro  \\\n",
       "count               10.000000               10.000000   \n",
       "mean                 0.945511                0.136585   \n",
       "std                  0.002416                0.000407   \n",
       "min                  0.942799                0.136128   \n",
       "25%                  0.943896                0.136301   \n",
       "50%                  0.944846                0.136525   \n",
       "75%                  0.946320                0.136690   \n",
       "max                  0.949926                0.137435   \n",
       "\n",
       "       precision_score__weighted  ...  recall_score__macro  \\\n",
       "count                  10.000000  ...            10.000000   \n",
       "mean                    0.612769  ...             0.142339   \n",
       "std                     0.007549  ...             0.000769   \n",
       "min                     0.603494  ...             0.141508   \n",
       "25%                     0.608414  ...             0.141859   \n",
       "50%                     0.610197  ...             0.142055   \n",
       "75%                     0.613841  ...             0.142840   \n",
       "max                     0.626815  ...             0.143967   \n",
       "\n",
       "       recall_score__weighted  recall_score__samples  jaccard_score__micro  \\\n",
       "count               10.000000              10.000000             10.000000   \n",
       "mean                 0.638895               0.674777              0.616202   \n",
       "std                  0.007685               0.006583              0.007160   \n",
       "min                  0.628868               0.664355              0.606873   \n",
       "25%                  0.634990               0.672914              0.611769   \n",
       "50%                  0.638397               0.674712              0.615651   \n",
       "75%                  0.641036               0.676832              0.618111   \n",
       "max                  0.652357               0.686693              0.628772   \n",
       "\n",
       "       jaccard_score__macro  jaccard_score__weighted  jaccard_score__samples  \\\n",
       "count             10.000000                10.000000               10.000000   \n",
       "mean               0.134642                 0.607367                0.654046   \n",
       "std                0.000826                 0.007447                0.006148   \n",
       "min                0.133864                 0.597952                0.644728   \n",
       "25%                0.134191                 0.602450                0.651094   \n",
       "50%                0.134255                 0.606638                0.653698   \n",
       "75%                0.134944                 0.609436                0.656474   \n",
       "max                0.136562                 0.620521                0.665171   \n",
       "\n",
       "       roc_auc_score  label_ranking_loss  coverage_error  \n",
       "count            0.0           10.000000       10.000000  \n",
       "mean             NaN            0.187438      137.569587  \n",
       "std              NaN            0.012815        4.131536  \n",
       "min              NaN            0.161728      129.358678  \n",
       "25%              NaN            0.178918      135.631405  \n",
       "50%              NaN            0.192205      136.477686  \n",
       "75%              NaN            0.195954      140.838017  \n",
       "max              NaN            0.201938      143.433058  \n",
       "\n",
       "[8 rows x 22 columns]"
      ]
     },
     "execution_count": 15,
     "metadata": {},
     "output_type": "execute_result"
    }
   ],
   "source": [
    "metrics.results.describe()"
   ]
  },
  {
   "cell_type": "markdown",
   "metadata": {},
   "source": [
    "### Train With Unseen InChI Keys"
   ]
  },
  {
   "cell_type": "code",
   "execution_count": 16,
   "metadata": {},
   "outputs": [],
   "source": [
    "def split_dataset(X, y, test_inchi_keys=[]):\n",
    "    # get index from merged_df\n",
    "    test_index = merged_df[merged_df['inchi_key'].isin(test_inchi_keys)].index\n",
    "    train_index = merged_df[~merged_df['inchi_key'].isin(test_inchi_keys)].index\n",
    "\n",
    "    # split X and y\n",
    "    X_train, X_test = X[train_index], X[test_index]\n",
    "    y_train, y_test = y[train_index], y[test_index]\n",
    "\n",
    "    return X_train, X_test, y_train, y_test"
   ]
  },
  {
   "cell_type": "code",
   "execution_count": 17,
   "metadata": {},
   "outputs": [],
   "source": [
    "all_inchi_keys = list(merged_df['inchi_key'].unique())\n",
    "shuffle(all_inchi_keys)"
   ]
  },
  {
   "cell_type": "code",
   "execution_count": 18,
   "metadata": {},
   "outputs": [
    {
     "data": {
      "application/vnd.jupyter.widget-view+json": {
       "model_id": "a1f3d97aa7b54336915dd7c0703a90f6",
       "version_major": 2,
       "version_minor": 0
      },
      "text/plain": [
       "Repeats:   0%|          | 0/1 [00:00<?, ?it/s]"
      ]
     },
     "metadata": {},
     "output_type": "display_data"
    },
    {
     "data": {
      "application/vnd.jupyter.widget-view+json": {
       "model_id": "52c4cebe81ca4ea8a3e2b8ea9ee46e7f",
       "version_major": 2,
       "version_minor": 0
      },
      "text/plain": [
       "Fold:   0%|          | 0/11 [00:00<?, ?it/s]"
      ]
     },
     "metadata": {},
     "output_type": "display_data"
    },
    {
     "name": "stderr",
     "output_type": "stream",
     "text": [
      "c:\\Users\\aleks\\anaconda3\\envs\\mass_spectra\\lib\\site-packages\\sklearn\\metrics\\_classification.py:2916: UserWarning: The y_pred values do not sum to one. Starting from 1.5 thiswill result in an error.\n",
      "  warnings.warn(\n"
     ]
    },
    {
     "name": "stdout",
     "output_type": "stream",
     "text": [
      "Warning:  Only one class present in y_true. ROC AUC score is not defined in that case.\n",
      "Label ranking loss:  0.20436720100329747\n",
      "F1 Weighted:  0.654548592956313\n"
     ]
    },
    {
     "name": "stderr",
     "output_type": "stream",
     "text": [
      "c:\\Users\\aleks\\anaconda3\\envs\\mass_spectra\\lib\\site-packages\\sklearn\\metrics\\_classification.py:2916: UserWarning: The y_pred values do not sum to one. Starting from 1.5 thiswill result in an error.\n",
      "  warnings.warn(\n"
     ]
    },
    {
     "name": "stdout",
     "output_type": "stream",
     "text": [
      "Warning:  Only one class present in y_true. ROC AUC score is not defined in that case.\n",
      "Label ranking loss:  0.18421206660849845\n",
      "F1 Weighted:  0.6235464595470551\n"
     ]
    },
    {
     "name": "stderr",
     "output_type": "stream",
     "text": [
      "c:\\Users\\aleks\\anaconda3\\envs\\mass_spectra\\lib\\site-packages\\sklearn\\metrics\\_classification.py:2916: UserWarning: The y_pred values do not sum to one. Starting from 1.5 thiswill result in an error.\n",
      "  warnings.warn(\n"
     ]
    },
    {
     "name": "stdout",
     "output_type": "stream",
     "text": [
      "Warning:  Only one class present in y_true. ROC AUC score is not defined in that case.\n",
      "Label ranking loss:  0.1856547052317821\n",
      "F1 Weighted:  0.6025688348838539\n"
     ]
    },
    {
     "name": "stderr",
     "output_type": "stream",
     "text": [
      "c:\\Users\\aleks\\anaconda3\\envs\\mass_spectra\\lib\\site-packages\\sklearn\\metrics\\_classification.py:2916: UserWarning: The y_pred values do not sum to one. Starting from 1.5 thiswill result in an error.\n",
      "  warnings.warn(\n"
     ]
    },
    {
     "name": "stdout",
     "output_type": "stream",
     "text": [
      "Warning:  Only one class present in y_true. ROC AUC score is not defined in that case.\n",
      "Label ranking loss:  0.22638774403650452\n",
      "F1 Weighted:  0.5724586107752438\n"
     ]
    },
    {
     "name": "stderr",
     "output_type": "stream",
     "text": [
      "c:\\Users\\aleks\\anaconda3\\envs\\mass_spectra\\lib\\site-packages\\sklearn\\metrics\\_classification.py:2916: UserWarning: The y_pred values do not sum to one. Starting from 1.5 thiswill result in an error.\n",
      "  warnings.warn(\n"
     ]
    },
    {
     "name": "stdout",
     "output_type": "stream",
     "text": [
      "Warning:  Only one class present in y_true. ROC AUC score is not defined in that case.\n",
      "Label ranking loss:  0.157955871164346\n",
      "F1 Weighted:  0.6738145469828165\n"
     ]
    },
    {
     "name": "stderr",
     "output_type": "stream",
     "text": [
      "c:\\Users\\aleks\\anaconda3\\envs\\mass_spectra\\lib\\site-packages\\sklearn\\metrics\\_classification.py:2916: UserWarning: The y_pred values do not sum to one. Starting from 1.5 thiswill result in an error.\n",
      "  warnings.warn(\n"
     ]
    },
    {
     "name": "stdout",
     "output_type": "stream",
     "text": [
      "Warning:  Only one class present in y_true. ROC AUC score is not defined in that case.\n",
      "Label ranking loss:  0.2685792997839744\n",
      "F1 Weighted:  0.5569507830849958\n"
     ]
    },
    {
     "name": "stderr",
     "output_type": "stream",
     "text": [
      "c:\\Users\\aleks\\anaconda3\\envs\\mass_spectra\\lib\\site-packages\\sklearn\\metrics\\_classification.py:2916: UserWarning: The y_pred values do not sum to one. Starting from 1.5 thiswill result in an error.\n",
      "  warnings.warn(\n"
     ]
    },
    {
     "name": "stdout",
     "output_type": "stream",
     "text": [
      "Warning:  Only one class present in y_true. ROC AUC score is not defined in that case.\n",
      "Label ranking loss:  0.2509283202075157\n",
      "F1 Weighted:  0.5473283140901432\n"
     ]
    },
    {
     "name": "stderr",
     "output_type": "stream",
     "text": [
      "c:\\Users\\aleks\\anaconda3\\envs\\mass_spectra\\lib\\site-packages\\sklearn\\metrics\\_classification.py:2916: UserWarning: The y_pred values do not sum to one. Starting from 1.5 thiswill result in an error.\n",
      "  warnings.warn(\n"
     ]
    },
    {
     "name": "stdout",
     "output_type": "stream",
     "text": [
      "Warning:  Only one class present in y_true. ROC AUC score is not defined in that case.\n",
      "Label ranking loss:  0.09855701454726253\n",
      "F1 Weighted:  0.7378228215656275\n"
     ]
    },
    {
     "name": "stderr",
     "output_type": "stream",
     "text": [
      "c:\\Users\\aleks\\anaconda3\\envs\\mass_spectra\\lib\\site-packages\\sklearn\\metrics\\_classification.py:2916: UserWarning: The y_pred values do not sum to one. Starting from 1.5 thiswill result in an error.\n",
      "  warnings.warn(\n"
     ]
    },
    {
     "name": "stdout",
     "output_type": "stream",
     "text": [
      "Warning:  Only one class present in y_true. ROC AUC score is not defined in that case.\n",
      "Label ranking loss:  0.14139083080352455\n",
      "F1 Weighted:  0.7073151183608404\n",
      "Warning:  Only one class present in y_true. ROC AUC score is not defined in that case.\n",
      "Label ranking loss:  0.26140200518255374\n",
      "F1 Weighted:  0.5885538780228561\n"
     ]
    },
    {
     "name": "stderr",
     "output_type": "stream",
     "text": [
      "c:\\Users\\aleks\\anaconda3\\envs\\mass_spectra\\lib\\site-packages\\sklearn\\metrics\\_classification.py:2916: UserWarning: The y_pred values do not sum to one. Starting from 1.5 thiswill result in an error.\n",
      "  warnings.warn(\n"
     ]
    }
   ],
   "source": [
    "hidden_inchi_keys = 10\n",
    "\n",
    "REPEATS = 1\n",
    "K = ceil(len(all_inchi_keys) / hidden_inchi_keys)\n",
    "metrics = Metrics(METRICS, METRIC_NAMES, REPEATS, K)\n",
    "\n",
    "for i in tqdm(range(REPEATS), desc=\"Repeats\"):\n",
    "    # Reshuffle\n",
    "    shuffle(all_inchi_keys)\n",
    "\n",
    "    for end_i in tqdm(range(hidden_inchi_keys, len(all_inchi_keys), hidden_inchi_keys), desc=\"Fold\", total=K):\n",
    "        start_i = end_i - hidden_inchi_keys\n",
    "        if end_i + hidden_inchi_keys > len(all_inchi_keys):\n",
    "            end_i = len(all_inchi_keys)\n",
    "\n",
    "        # train\n",
    "        test_inchi_keys = all_inchi_keys[start_i:end_i]\n",
    "        X_train, X_test, y_train, y_test = split_dataset(X, y, test_inchi_keys)\n",
    "\n",
    "        MODEL.fit(X_train, y_train)\n",
    "\n",
    "        # predict\n",
    "        y_pred = MODEL.predict(X_test)\n",
    "        y_prob = MODEL.predict_proba(X_test)\n",
    "\n",
    "        # store train data\n",
    "        model_training_data_path = f'{MODEL_OUTPUT_FOLDER}/unseen_inchi_keys_models/{start_i}_{end_i}.pkl'\n",
    "        with open(model_training_data_path, \"wb\") as f:\n",
    "            pickle.dump({\n",
    "                \"model\": MODEL,\n",
    "                \"X_train\": X_train,\n",
    "                \"y_train\": y_train,\n",
    "                \"X_test\": X_test,\n",
    "                \"y_test\": y_test,\n",
    "            }, f)\n",
    "\n",
    "        # evaluate\n",
    "        metrics.evaluate(y_test, y_prob, y_pred, model_training_data_path=model_training_data_path)\n",
    "\n",
    "        # display current results\n",
    "        print('Label ranking loss: ', metrics.current('label_ranking_loss'))\n",
    "        print('F1 Weighted: ', metrics.current('f1_score__weighted'))\n",
    "\n",
    "metrics.store(f'{MODEL_OUTPUT_FOLDER}/unseen_inchi_keys_metrics.csv')"
   ]
  },
  {
   "cell_type": "code",
   "execution_count": 19,
   "metadata": {},
   "outputs": [
    {
     "data": {
      "text/html": [
       "<div>\n",
       "<style scoped>\n",
       "    .dataframe tbody tr th:only-of-type {\n",
       "        vertical-align: middle;\n",
       "    }\n",
       "\n",
       "    .dataframe tbody tr th {\n",
       "        vertical-align: top;\n",
       "    }\n",
       "\n",
       "    .dataframe thead th {\n",
       "        text-align: right;\n",
       "    }\n",
       "</style>\n",
       "<table border=\"1\" class=\"dataframe\">\n",
       "  <thead>\n",
       "    <tr style=\"text-align: right;\">\n",
       "      <th></th>\n",
       "      <th>accuracy_score</th>\n",
       "      <th>log_loss</th>\n",
       "      <th>hamming_loss</th>\n",
       "      <th>f1_score__micro</th>\n",
       "      <th>f1_score__macro</th>\n",
       "      <th>f1_score__weighted</th>\n",
       "      <th>f1_score__samples</th>\n",
       "      <th>precision_score__micro</th>\n",
       "      <th>precision_score__macro</th>\n",
       "      <th>precision_score__weighted</th>\n",
       "      <th>...</th>\n",
       "      <th>recall_score__macro</th>\n",
       "      <th>recall_score__weighted</th>\n",
       "      <th>recall_score__samples</th>\n",
       "      <th>jaccard_score__micro</th>\n",
       "      <th>jaccard_score__macro</th>\n",
       "      <th>jaccard_score__weighted</th>\n",
       "      <th>jaccard_score__samples</th>\n",
       "      <th>roc_auc_score</th>\n",
       "      <th>label_ranking_loss</th>\n",
       "      <th>coverage_error</th>\n",
       "    </tr>\n",
       "  </thead>\n",
       "  <tbody>\n",
       "    <tr>\n",
       "      <th>count</th>\n",
       "      <td>10.0</td>\n",
       "      <td>10.000000</td>\n",
       "      <td>10.000000</td>\n",
       "      <td>10.000000</td>\n",
       "      <td>10.000000</td>\n",
       "      <td>10.000000</td>\n",
       "      <td>10.000000</td>\n",
       "      <td>10.000000</td>\n",
       "      <td>10.000000</td>\n",
       "      <td>10.000000</td>\n",
       "      <td>...</td>\n",
       "      <td>10.000000</td>\n",
       "      <td>10.000000</td>\n",
       "      <td>10.000000</td>\n",
       "      <td>10.000000</td>\n",
       "      <td>10.000000</td>\n",
       "      <td>10.000000</td>\n",
       "      <td>10.000000</td>\n",
       "      <td>0.0</td>\n",
       "      <td>10.000000</td>\n",
       "      <td>10.000000</td>\n",
       "    </tr>\n",
       "    <tr>\n",
       "      <th>mean</th>\n",
       "      <td>0.0</td>\n",
       "      <td>563.190917</td>\n",
       "      <td>0.084795</td>\n",
       "      <td>0.761249</td>\n",
       "      <td>0.138786</td>\n",
       "      <td>0.626491</td>\n",
       "      <td>0.773822</td>\n",
       "      <td>0.936991</td>\n",
       "      <td>0.135796</td>\n",
       "      <td>0.614799</td>\n",
       "      <td>...</td>\n",
       "      <td>0.143685</td>\n",
       "      <td>0.642794</td>\n",
       "      <td>0.673559</td>\n",
       "      <td>0.617037</td>\n",
       "      <td>0.134585</td>\n",
       "      <td>0.611752</td>\n",
       "      <td>0.648539</td>\n",
       "      <td>NaN</td>\n",
       "      <td>0.197944</td>\n",
       "      <td>140.727701</td>\n",
       "    </tr>\n",
       "    <tr>\n",
       "      <th>std</th>\n",
       "      <td>0.0</td>\n",
       "      <td>133.867624</td>\n",
       "      <td>0.022731</td>\n",
       "      <td>0.051026</td>\n",
       "      <td>0.004151</td>\n",
       "      <td>0.064975</td>\n",
       "      <td>0.049891</td>\n",
       "      <td>0.038611</td>\n",
       "      <td>0.005494</td>\n",
       "      <td>0.067598</td>\n",
       "      <td>...</td>\n",
       "      <td>0.004275</td>\n",
       "      <td>0.061967</td>\n",
       "      <td>0.060592</td>\n",
       "      <td>0.067706</td>\n",
       "      <td>0.005307</td>\n",
       "      <td>0.068890</td>\n",
       "      <td>0.067154</td>\n",
       "      <td>NaN</td>\n",
       "      <td>0.055466</td>\n",
       "      <td>15.361597</td>\n",
       "    </tr>\n",
       "    <tr>\n",
       "      <th>min</th>\n",
       "      <td>0.0</td>\n",
       "      <td>397.419886</td>\n",
       "      <td>0.051071</td>\n",
       "      <td>0.696315</td>\n",
       "      <td>0.132569</td>\n",
       "      <td>0.547328</td>\n",
       "      <td>0.714791</td>\n",
       "      <td>0.871237</td>\n",
       "      <td>0.127361</td>\n",
       "      <td>0.542456</td>\n",
       "      <td>...</td>\n",
       "      <td>0.138554</td>\n",
       "      <td>0.549088</td>\n",
       "      <td>0.597952</td>\n",
       "      <td>0.534113</td>\n",
       "      <td>0.127361</td>\n",
       "      <td>0.535359</td>\n",
       "      <td>0.574168</td>\n",
       "      <td>NaN</td>\n",
       "      <td>0.098557</td>\n",
       "      <td>106.885350</td>\n",
       "    </tr>\n",
       "    <tr>\n",
       "      <th>25%</th>\n",
       "      <td>0.0</td>\n",
       "      <td>468.288001</td>\n",
       "      <td>0.069932</td>\n",
       "      <td>0.726283</td>\n",
       "      <td>0.136882</td>\n",
       "      <td>0.576482</td>\n",
       "      <td>0.734563</td>\n",
       "      <td>0.912530</td>\n",
       "      <td>0.132057</td>\n",
       "      <td>0.559446</td>\n",
       "      <td>...</td>\n",
       "      <td>0.139738</td>\n",
       "      <td>0.596538</td>\n",
       "      <td>0.624073</td>\n",
       "      <td>0.570238</td>\n",
       "      <td>0.131145</td>\n",
       "      <td>0.558888</td>\n",
       "      <td>0.593863</td>\n",
       "      <td>NaN</td>\n",
       "      <td>0.164520</td>\n",
       "      <td>133.560767</td>\n",
       "    </tr>\n",
       "    <tr>\n",
       "      <th>50%</th>\n",
       "      <td>0.0</td>\n",
       "      <td>547.990758</td>\n",
       "      <td>0.085203</td>\n",
       "      <td>0.751584</td>\n",
       "      <td>0.138494</td>\n",
       "      <td>0.613058</td>\n",
       "      <td>0.761054</td>\n",
       "      <td>0.929966</td>\n",
       "      <td>0.135707</td>\n",
       "      <td>0.598538</td>\n",
       "      <td>...</td>\n",
       "      <td>0.143674</td>\n",
       "      <td>0.635850</td>\n",
       "      <td>0.663028</td>\n",
       "      <td>0.602075</td>\n",
       "      <td>0.133850</td>\n",
       "      <td>0.594499</td>\n",
       "      <td>0.629033</td>\n",
       "      <td>NaN</td>\n",
       "      <td>0.195011</td>\n",
       "      <td>144.145695</td>\n",
       "    </tr>\n",
       "    <tr>\n",
       "      <th>75%</th>\n",
       "      <td>0.0</td>\n",
       "      <td>640.668958</td>\n",
       "      <td>0.098057</td>\n",
       "      <td>0.793907</td>\n",
       "      <td>0.141317</td>\n",
       "      <td>0.668998</td>\n",
       "      <td>0.805928</td>\n",
       "      <td>0.968114</td>\n",
       "      <td>0.136947</td>\n",
       "      <td>0.654188</td>\n",
       "      <td>...</td>\n",
       "      <td>0.146487</td>\n",
       "      <td>0.688059</td>\n",
       "      <td>0.718321</td>\n",
       "      <td>0.658336</td>\n",
       "      <td>0.136918</td>\n",
       "      <td>0.653203</td>\n",
       "      <td>0.692566</td>\n",
       "      <td>NaN</td>\n",
       "      <td>0.244793</td>\n",
       "      <td>151.519784</td>\n",
       "    </tr>\n",
       "    <tr>\n",
       "      <th>max</th>\n",
       "      <td>0.0</td>\n",
       "      <td>834.193404</td>\n",
       "      <td>0.120289</td>\n",
       "      <td>0.846659</td>\n",
       "      <td>0.145776</td>\n",
       "      <td>0.737823</td>\n",
       "      <td>0.861558</td>\n",
       "      <td>0.990298</td>\n",
       "      <td>0.145904</td>\n",
       "      <td>0.736891</td>\n",
       "      <td>...</td>\n",
       "      <td>0.150320</td>\n",
       "      <td>0.739410</td>\n",
       "      <td>0.776111</td>\n",
       "      <td>0.734092</td>\n",
       "      <td>0.143238</td>\n",
       "      <td>0.733570</td>\n",
       "      <td>0.770005</td>\n",
       "      <td>NaN</td>\n",
       "      <td>0.268579</td>\n",
       "      <td>156.528701</td>\n",
       "    </tr>\n",
       "  </tbody>\n",
       "</table>\n",
       "<p>8 rows × 22 columns</p>\n",
       "</div>"
      ],
      "text/plain": [
       "       accuracy_score    log_loss  hamming_loss  f1_score__micro  \\\n",
       "count            10.0   10.000000     10.000000        10.000000   \n",
       "mean              0.0  563.190917      0.084795         0.761249   \n",
       "std               0.0  133.867624      0.022731         0.051026   \n",
       "min               0.0  397.419886      0.051071         0.696315   \n",
       "25%               0.0  468.288001      0.069932         0.726283   \n",
       "50%               0.0  547.990758      0.085203         0.751584   \n",
       "75%               0.0  640.668958      0.098057         0.793907   \n",
       "max               0.0  834.193404      0.120289         0.846659   \n",
       "\n",
       "       f1_score__macro  f1_score__weighted  f1_score__samples  \\\n",
       "count        10.000000           10.000000          10.000000   \n",
       "mean          0.138786            0.626491           0.773822   \n",
       "std           0.004151            0.064975           0.049891   \n",
       "min           0.132569            0.547328           0.714791   \n",
       "25%           0.136882            0.576482           0.734563   \n",
       "50%           0.138494            0.613058           0.761054   \n",
       "75%           0.141317            0.668998           0.805928   \n",
       "max           0.145776            0.737823           0.861558   \n",
       "\n",
       "       precision_score__micro  precision_score__macro  \\\n",
       "count               10.000000               10.000000   \n",
       "mean                 0.936991                0.135796   \n",
       "std                  0.038611                0.005494   \n",
       "min                  0.871237                0.127361   \n",
       "25%                  0.912530                0.132057   \n",
       "50%                  0.929966                0.135707   \n",
       "75%                  0.968114                0.136947   \n",
       "max                  0.990298                0.145904   \n",
       "\n",
       "       precision_score__weighted  ...  recall_score__macro  \\\n",
       "count                  10.000000  ...            10.000000   \n",
       "mean                    0.614799  ...             0.143685   \n",
       "std                     0.067598  ...             0.004275   \n",
       "min                     0.542456  ...             0.138554   \n",
       "25%                     0.559446  ...             0.139738   \n",
       "50%                     0.598538  ...             0.143674   \n",
       "75%                     0.654188  ...             0.146487   \n",
       "max                     0.736891  ...             0.150320   \n",
       "\n",
       "       recall_score__weighted  recall_score__samples  jaccard_score__micro  \\\n",
       "count               10.000000              10.000000             10.000000   \n",
       "mean                 0.642794               0.673559              0.617037   \n",
       "std                  0.061967               0.060592              0.067706   \n",
       "min                  0.549088               0.597952              0.534113   \n",
       "25%                  0.596538               0.624073              0.570238   \n",
       "50%                  0.635850               0.663028              0.602075   \n",
       "75%                  0.688059               0.718321              0.658336   \n",
       "max                  0.739410               0.776111              0.734092   \n",
       "\n",
       "       jaccard_score__macro  jaccard_score__weighted  jaccard_score__samples  \\\n",
       "count             10.000000                10.000000               10.000000   \n",
       "mean               0.134585                 0.611752                0.648539   \n",
       "std                0.005307                 0.068890                0.067154   \n",
       "min                0.127361                 0.535359                0.574168   \n",
       "25%                0.131145                 0.558888                0.593863   \n",
       "50%                0.133850                 0.594499                0.629033   \n",
       "75%                0.136918                 0.653203                0.692566   \n",
       "max                0.143238                 0.733570                0.770005   \n",
       "\n",
       "       roc_auc_score  label_ranking_loss  coverage_error  \n",
       "count            0.0           10.000000       10.000000  \n",
       "mean             NaN            0.197944      140.727701  \n",
       "std              NaN            0.055466       15.361597  \n",
       "min              NaN            0.098557      106.885350  \n",
       "25%              NaN            0.164520      133.560767  \n",
       "50%              NaN            0.195011      144.145695  \n",
       "75%              NaN            0.244793      151.519784  \n",
       "max              NaN            0.268579      156.528701  \n",
       "\n",
       "[8 rows x 22 columns]"
      ]
     },
     "execution_count": 19,
     "metadata": {},
     "output_type": "execute_result"
    }
   ],
   "source": [
    "metrics.results.describe()"
   ]
  }
 ],
 "metadata": {
  "kernelspec": {
   "display_name": "mass_spectra",
   "language": "python",
   "name": "python3"
  },
  "language_info": {
   "codemirror_mode": {
    "name": "ipython",
    "version": 3
   },
   "file_extension": ".py",
   "mimetype": "text/x-python",
   "name": "python",
   "nbconvert_exporter": "python",
   "pygments_lexer": "ipython3",
   "version": "3.9.16"
  },
  "orig_nbformat": 4
 },
 "nbformat": 4,
 "nbformat_minor": 2
}
