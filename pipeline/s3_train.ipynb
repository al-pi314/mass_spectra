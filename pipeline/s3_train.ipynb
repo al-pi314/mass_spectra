{
 "cells": [
  {
   "cell_type": "markdown",
   "metadata": {},
   "source": [
    "# This is Step 3 in the Pipeline - Training ML Prediction Model\n",
    "With this notebook we can train various ML classifiers to tackle multi-lable prediction problem. We are predicting Spec2Vec embeddings from molecular fingerprints."
   ]
  },
  {
   "cell_type": "markdown",
   "metadata": {},
   "source": [
    "### Imports"
   ]
  },
  {
   "cell_type": "code",
   "execution_count": 64,
   "metadata": {},
   "outputs": [],
   "source": [
    "from sklearn.metrics import accuracy_score, f1_score, log_loss, precision_score, recall_score, jaccard_score, roc_auc_score, hamming_loss, label_ranking_loss, coverage_error\n",
    "from sklearn.model_selection import KFold\n",
    "from sklearn.multiclass import OneVsRestClassifier\n",
    "from sklearn.multioutput import  ClassifierChain\n",
    "from sklearn.tree import DecisionTreeClassifier\n",
    "from sklearn.ensemble import RandomForestClassifier\n",
    "from sklearn.dummy import DummyClassifier\n",
    "from tqdm.notebook import tqdm\n",
    "import numpy as np\n",
    "import pandas as pd\n",
    "import pickle\n",
    "import os"
   ]
  },
  {
   "cell_type": "markdown",
   "metadata": {},
   "source": [
    "### Parameters"
   ]
  },
  {
   "cell_type": "code",
   "execution_count": 65,
   "metadata": {},
   "outputs": [],
   "source": [
    "RANDOM_STATE = 27082023\n",
    "np.random.seed(RANDOM_STATE)\n",
    "\n",
    "# path to merged fingerprint and embedding data (fingerprint columns should be prefixed with 'fingerprint_' and embedding columns should be prefixed with 'embedding_').\n",
    "MERGED_PATH = './source/embedding/tms_maccs/merged.csv'\n",
    "MODEL_OUTPUT_FOLDER = \"./source/model/tms_maccs/\""
   ]
  },
  {
   "cell_type": "code",
   "execution_count": 66,
   "metadata": {},
   "outputs": [],
   "source": [
    "assert os.path.isfile(MERGED_PATH)\n",
    "assert os.path.isdir(MODEL_OUTPUT_FOLDER)\n",
    "assert MERGED_PATH.endswith('.csv')"
   ]
  },
  {
   "cell_type": "code",
   "execution_count": 67,
   "metadata": {},
   "outputs": [],
   "source": [
    "ESTIMATOR = DecisionTreeClassifier(random_state=RANDOM_STATE, class_weight='balanced')"
   ]
  },
  {
   "cell_type": "code",
   "execution_count": 68,
   "metadata": {},
   "outputs": [],
   "source": [
    "MODEL = OneVsRestClassifier(ESTIMATOR, n_jobs=-1)"
   ]
  },
  {
   "cell_type": "code",
   "execution_count": 69,
   "metadata": {},
   "outputs": [],
   "source": [
    "MODEL_OUTPUT_FOLDER = f'{MODEL_OUTPUT_FOLDER}{MODEL.__class__.__name__}_{ESTIMATOR.__class__.__name__}'\n",
    "os.makedirs(f'{MODEL_OUTPUT_FOLDER}/models', exist_ok=False)"
   ]
  },
  {
   "cell_type": "markdown",
   "metadata": {},
   "source": [
    "### Metrics Definition\n",
    "Creates metrics which can be called with (y_true, y_prob, y_pred) for easier use. It also creates multiple combinations of metrics for different averaging methods."
   ]
  },
  {
   "cell_type": "code",
   "execution_count": 70,
   "metadata": {},
   "outputs": [],
   "source": [
    "Y_PRED_SCORES = [accuracy_score, log_loss, hamming_loss] # input y predictions and y true\n",
    "Y_PRED_SCORES_WITH_AVERAGING = [f1_score, precision_score, recall_score, jaccard_score] # input y predictions and y true and use one of the following: \"micro\", \"macro\", \"weighted\", \"samples\"\n",
    "Y_PROB_SCORES = [roc_auc_score, label_ranking_loss, coverage_error] # input y probabilities and y true"
   ]
  },
  {
   "cell_type": "code",
   "execution_count": 71,
   "metadata": {},
   "outputs": [],
   "source": [
    "METRICS = []\n",
    "METRIC_NAMES = []\n",
    "for metric in Y_PRED_SCORES:\n",
    "    METRICS.append(lambda y_true, y_prob, y_pred, metric=metric: metric(y_true, y_pred))\n",
    "    METRIC_NAMES.append(metric.__name__)\n",
    "for metric in Y_PRED_SCORES_WITH_AVERAGING:\n",
    "    for average in [\"micro\", \"macro\", \"weighted\", \"samples\"]:\n",
    "        zero_division = 0 if metric.__name__ == \"jaccard_score\" else np.nan\n",
    "        METRICS.append(lambda y_true, y_prob, y_pred, metric=metric, average=average: metric(y_true, y_pred, average=average, zero_division=zero_division))\n",
    "        METRIC_NAMES.append(metric.__name__ + \"__\" + average)\n",
    "for metric in Y_PROB_SCORES:\n",
    "    METRICS.append(lambda y_true, y_prob, y_pred, metric=metric: metric(y_true, y_prob))\n",
    "    METRIC_NAMES.append(metric.__name__)"
   ]
  },
  {
   "cell_type": "code",
   "execution_count": 80,
   "metadata": {},
   "outputs": [],
   "source": [
    "class Metrics:\n",
    "    def __init__(self, metrics, metric_names, repeats=2, folds=5):\n",
    "        self.metrics = metrics\n",
    "        self.metric_names = metric_names\n",
    "        \n",
    "        self.repeats = repeats\n",
    "        self.folds = folds\n",
    "        self.i = 0\n",
    "\n",
    "        self.results = pd.DataFrame(columns=['repeat', 'fold', 'model_training_data_path'] + self.metric_names)\n",
    "    \n",
    "    def evaluate(self, y_true, y_prob, y_pred, model_training_data_path=None):\n",
    "        entry = {\n",
    "            'repeat': self.i // self.folds,\n",
    "            'fold': self.i % self.folds,\n",
    "            'model_training_data_path': model_training_data_path\n",
    "        }\n",
    "        for metric, metric_name in zip(self.metrics, self.metric_names):\n",
    "            try:\n",
    "                entry[metric_name] = metric(y_true, y_prob, y_pred)\n",
    "            except ValueError as e:\n",
    "                print(\"Warning: \", e)\n",
    "                entry[metric_name] = np.nan\n",
    "        \n",
    "        self.results = pd.concat([self.results, pd.DataFrame(entry, index=[0])], ignore_index=True)\n",
    "        self.i += 1\n",
    "    \n",
    "    def store(self, filename):\n",
    "        self.results.to_csv(filename, index=False)"
   ]
  },
  {
   "cell_type": "markdown",
   "metadata": {},
   "source": [
    "### Load Data"
   ]
  },
  {
   "cell_type": "code",
   "execution_count": 73,
   "metadata": {},
   "outputs": [
    {
     "name": "stdout",
     "output_type": "stream",
     "text": [
      "<class 'pandas.core.frame.DataFrame'>\n",
      "RangeIndex: 3025 entries, 0 to 3024\n",
      "Columns: 467 entries, inchi_key to embedding_299\n",
      "dtypes: float64(466), object(1)\n",
      "memory usage: 10.8+ MB\n"
     ]
    }
   ],
   "source": [
    "merged_df = pd.read_csv(MERGED_PATH)\n",
    "merged_df.info()"
   ]
  },
  {
   "cell_type": "code",
   "execution_count": 74,
   "metadata": {},
   "outputs": [
    {
     "data": {
      "text/plain": [
       "'Number of NaNs: 0'"
      ]
     },
     "execution_count": 74,
     "metadata": {},
     "output_type": "execute_result"
    }
   ],
   "source": [
    "f'Number of NaNs: {merged_df.isna().sum().sum()}' # should be 0"
   ]
  },
  {
   "cell_type": "code",
   "execution_count": 75,
   "metadata": {},
   "outputs": [
    {
     "data": {
      "text/plain": [
       "((3025, 300), (3025, 166))"
      ]
     },
     "execution_count": 75,
     "metadata": {},
     "output_type": "execute_result"
    }
   ],
   "source": [
    "X = merged_df.filter(regex='^embedding_')\n",
    "y = merged_df.filter(regex='^fingerprint_')\n",
    "X.shape, y.shape"
   ]
  },
  {
   "cell_type": "code",
   "execution_count": 76,
   "metadata": {},
   "outputs": [],
   "source": [
    "X = X.to_numpy()\n",
    "y = y.to_numpy()"
   ]
  },
  {
   "cell_type": "markdown",
   "metadata": {},
   "source": [
    "### Train- K-fold Cross Validation"
   ]
  },
  {
   "cell_type": "code",
   "execution_count": 81,
   "metadata": {},
   "outputs": [
    {
     "data": {
      "application/vnd.jupyter.widget-view+json": {
       "model_id": "37b25970d7e84e819d008bd7282d815a",
       "version_major": 2,
       "version_minor": 0
      },
      "text/plain": [
       "Repeats:   0%|          | 0/2 [00:00<?, ?it/s]"
      ]
     },
     "metadata": {},
     "output_type": "display_data"
    },
    {
     "data": {
      "application/vnd.jupyter.widget-view+json": {
       "model_id": "f3d49d703dad4d44ae3c852947ebd8ee",
       "version_major": 2,
       "version_minor": 0
      },
      "text/plain": [
       "Fold:   0%|          | 0/5 [00:00<?, ?it/s]"
      ]
     },
     "metadata": {},
     "output_type": "display_data"
    },
    {
     "name": "stderr",
     "output_type": "stream",
     "text": [
      "c:\\Users\\aleks\\anaconda3\\envs\\mass_spectra\\lib\\site-packages\\sklearn\\metrics\\_classification.py:2916: UserWarning: The y_pred values do not sum to one. Starting from 1.5 thiswill result in an error.\n",
      "  warnings.warn(\n"
     ]
    },
    {
     "name": "stdout",
     "output_type": "stream",
     "text": [
      "Warning:  Only one class present in y_true. ROC AUC score is not defined in that case.\n"
     ]
    },
    {
     "name": "stderr",
     "output_type": "stream",
     "text": [
      "c:\\Users\\aleks\\anaconda3\\envs\\mass_spectra\\lib\\site-packages\\sklearn\\metrics\\_classification.py:2916: UserWarning: The y_pred values do not sum to one. Starting from 1.5 thiswill result in an error.\n",
      "  warnings.warn(\n"
     ]
    },
    {
     "name": "stdout",
     "output_type": "stream",
     "text": [
      "Warning:  Only one class present in y_true. ROC AUC score is not defined in that case.\n"
     ]
    },
    {
     "name": "stderr",
     "output_type": "stream",
     "text": [
      "c:\\Users\\aleks\\anaconda3\\envs\\mass_spectra\\lib\\site-packages\\sklearn\\metrics\\_classification.py:2916: UserWarning: The y_pred values do not sum to one. Starting from 1.5 thiswill result in an error.\n",
      "  warnings.warn(\n"
     ]
    },
    {
     "name": "stdout",
     "output_type": "stream",
     "text": [
      "Warning:  Only one class present in y_true. ROC AUC score is not defined in that case.\n"
     ]
    },
    {
     "name": "stderr",
     "output_type": "stream",
     "text": [
      "c:\\Users\\aleks\\anaconda3\\envs\\mass_spectra\\lib\\site-packages\\sklearn\\metrics\\_classification.py:2916: UserWarning: The y_pred values do not sum to one. Starting from 1.5 thiswill result in an error.\n",
      "  warnings.warn(\n"
     ]
    },
    {
     "name": "stdout",
     "output_type": "stream",
     "text": [
      "Warning:  Only one class present in y_true. ROC AUC score is not defined in that case.\n"
     ]
    },
    {
     "name": "stderr",
     "output_type": "stream",
     "text": [
      "c:\\Users\\aleks\\anaconda3\\envs\\mass_spectra\\lib\\site-packages\\sklearn\\metrics\\_classification.py:2916: UserWarning: The y_pred values do not sum to one. Starting from 1.5 thiswill result in an error.\n",
      "  warnings.warn(\n"
     ]
    },
    {
     "name": "stdout",
     "output_type": "stream",
     "text": [
      "Warning:  Only one class present in y_true. ROC AUC score is not defined in that case.\n"
     ]
    },
    {
     "data": {
      "application/vnd.jupyter.widget-view+json": {
       "model_id": "352684110c4a4134846cbcf3404b9c67",
       "version_major": 2,
       "version_minor": 0
      },
      "text/plain": [
       "Fold:   0%|          | 0/5 [00:00<?, ?it/s]"
      ]
     },
     "metadata": {},
     "output_type": "display_data"
    },
    {
     "name": "stderr",
     "output_type": "stream",
     "text": [
      "c:\\Users\\aleks\\anaconda3\\envs\\mass_spectra\\lib\\site-packages\\sklearn\\metrics\\_classification.py:2916: UserWarning: The y_pred values do not sum to one. Starting from 1.5 thiswill result in an error.\n",
      "  warnings.warn(\n"
     ]
    },
    {
     "name": "stdout",
     "output_type": "stream",
     "text": [
      "Warning:  Only one class present in y_true. ROC AUC score is not defined in that case.\n"
     ]
    },
    {
     "name": "stderr",
     "output_type": "stream",
     "text": [
      "c:\\Users\\aleks\\anaconda3\\envs\\mass_spectra\\lib\\site-packages\\sklearn\\metrics\\_classification.py:2916: UserWarning: The y_pred values do not sum to one. Starting from 1.5 thiswill result in an error.\n",
      "  warnings.warn(\n"
     ]
    },
    {
     "name": "stdout",
     "output_type": "stream",
     "text": [
      "Warning:  Only one class present in y_true. ROC AUC score is not defined in that case.\n"
     ]
    },
    {
     "name": "stderr",
     "output_type": "stream",
     "text": [
      "c:\\Users\\aleks\\anaconda3\\envs\\mass_spectra\\lib\\site-packages\\sklearn\\metrics\\_classification.py:2916: UserWarning: The y_pred values do not sum to one. Starting from 1.5 thiswill result in an error.\n",
      "  warnings.warn(\n"
     ]
    },
    {
     "name": "stdout",
     "output_type": "stream",
     "text": [
      "Warning:  Only one class present in y_true. ROC AUC score is not defined in that case.\n"
     ]
    },
    {
     "name": "stderr",
     "output_type": "stream",
     "text": [
      "c:\\Users\\aleks\\anaconda3\\envs\\mass_spectra\\lib\\site-packages\\sklearn\\metrics\\_classification.py:2916: UserWarning: The y_pred values do not sum to one. Starting from 1.5 thiswill result in an error.\n",
      "  warnings.warn(\n"
     ]
    },
    {
     "name": "stdout",
     "output_type": "stream",
     "text": [
      "Warning:  Only one class present in y_true. ROC AUC score is not defined in that case.\n"
     ]
    },
    {
     "name": "stderr",
     "output_type": "stream",
     "text": [
      "c:\\Users\\aleks\\anaconda3\\envs\\mass_spectra\\lib\\site-packages\\sklearn\\metrics\\_classification.py:2916: UserWarning: The y_pred values do not sum to one. Starting from 1.5 thiswill result in an error.\n",
      "  warnings.warn(\n"
     ]
    },
    {
     "name": "stdout",
     "output_type": "stream",
     "text": [
      "Warning:  Only one class present in y_true. ROC AUC score is not defined in that case.\n"
     ]
    }
   ],
   "source": [
    "REPEATS = 2\n",
    "K = 5\n",
    "metrics = Metrics(METRICS, METRIC_NAMES, REPEATS, K)\n",
    "\n",
    "for i in tqdm(range(REPEATS), desc=\"Repeats\"):\n",
    "    kf = KFold(n_splits=K, shuffle=True, random_state=RANDOM_STATE + i)\n",
    "\n",
    "    for fold, (train_index, test_index) in tqdm(enumerate(kf.split(X, y)), desc=\"Fold\", total=K):\n",
    "        # train\n",
    "        X_train, X_test = X[train_index], X[test_index]\n",
    "        y_train, y_test = y[train_index], y[test_index]\n",
    "        MODEL.fit(X_train, y_train)\n",
    "\n",
    "        # predict\n",
    "        y_pred = MODEL.predict(X_test)\n",
    "        y_prob = MODEL.predict_proba(X_test)\n",
    "\n",
    "        # store train data\n",
    "        model_training_data_path = f'{MODEL_OUTPUT_FOLDER}/models/{i}_{fold}.pkl'\n",
    "        with open(model_training_data_path, \"wb\") as f:\n",
    "            pickle.dump({\n",
    "                \"model\": MODEL,\n",
    "                \"X_train\": X_train,\n",
    "                \"y_train\": y_train,\n",
    "                \"X_test\": X_test,\n",
    "                \"y_test\": y_test,\n",
    "            }, f)\n",
    "\n",
    "        # evaluate\n",
    "        metrics.evaluate(y_test, y_prob, y_pred, model_training_data_path=model_training_data_path)\n",
    "\n",
    "metrics.store(f'{MODEL_OUTPUT_FOLDER}/metrics.csv')"
   ]
  },
  {
   "cell_type": "code",
   "execution_count": 82,
   "metadata": {},
   "outputs": [
    {
     "data": {
      "text/html": [
       "<div>\n",
       "<style scoped>\n",
       "    .dataframe tbody tr th:only-of-type {\n",
       "        vertical-align: middle;\n",
       "    }\n",
       "\n",
       "    .dataframe tbody tr th {\n",
       "        vertical-align: top;\n",
       "    }\n",
       "\n",
       "    .dataframe thead th {\n",
       "        text-align: right;\n",
       "    }\n",
       "</style>\n",
       "<table border=\"1\" class=\"dataframe\">\n",
       "  <thead>\n",
       "    <tr style=\"text-align: right;\">\n",
       "      <th></th>\n",
       "      <th>accuracy_score</th>\n",
       "      <th>log_loss</th>\n",
       "      <th>hamming_loss</th>\n",
       "      <th>f1_score__micro</th>\n",
       "      <th>f1_score__macro</th>\n",
       "      <th>f1_score__weighted</th>\n",
       "      <th>f1_score__samples</th>\n",
       "      <th>precision_score__micro</th>\n",
       "      <th>precision_score__macro</th>\n",
       "      <th>precision_score__weighted</th>\n",
       "      <th>...</th>\n",
       "      <th>recall_score__macro</th>\n",
       "      <th>recall_score__weighted</th>\n",
       "      <th>recall_score__samples</th>\n",
       "      <th>jaccard_score__micro</th>\n",
       "      <th>jaccard_score__macro</th>\n",
       "      <th>jaccard_score__weighted</th>\n",
       "      <th>jaccard_score__samples</th>\n",
       "      <th>roc_auc_score</th>\n",
       "      <th>label_ranking_loss</th>\n",
       "      <th>coverage_error</th>\n",
       "    </tr>\n",
       "  </thead>\n",
       "  <tbody>\n",
       "    <tr>\n",
       "      <th>count</th>\n",
       "      <td>10.000000</td>\n",
       "      <td>10.000000</td>\n",
       "      <td>10.000000</td>\n",
       "      <td>10.000000</td>\n",
       "      <td>10.000000</td>\n",
       "      <td>10.000000</td>\n",
       "      <td>10.000000</td>\n",
       "      <td>10.000000</td>\n",
       "      <td>10.000000</td>\n",
       "      <td>10.000000</td>\n",
       "      <td>...</td>\n",
       "      <td>10.000000</td>\n",
       "      <td>10.000000</td>\n",
       "      <td>10.000000</td>\n",
       "      <td>10.000000</td>\n",
       "      <td>10.000000</td>\n",
       "      <td>10.000000</td>\n",
       "      <td>10.000000</td>\n",
       "      <td>0.0</td>\n",
       "      <td>10.000000</td>\n",
       "      <td>10.000000</td>\n",
       "    </tr>\n",
       "    <tr>\n",
       "      <th>mean</th>\n",
       "      <td>0.028264</td>\n",
       "      <td>333.493094</td>\n",
       "      <td>0.068375</td>\n",
       "      <td>0.835371</td>\n",
       "      <td>0.451258</td>\n",
       "      <td>0.833027</td>\n",
       "      <td>0.837153</td>\n",
       "      <td>0.839406</td>\n",
       "      <td>0.466550</td>\n",
       "      <td>0.836460</td>\n",
       "      <td>...</td>\n",
       "      <td>0.443956</td>\n",
       "      <td>0.831408</td>\n",
       "      <td>0.847445</td>\n",
       "      <td>0.717324</td>\n",
       "      <td>0.353614</td>\n",
       "      <td>0.759142</td>\n",
       "      <td>0.732798</td>\n",
       "      <td>NaN</td>\n",
       "      <td>0.186376</td>\n",
       "      <td>152.843967</td>\n",
       "    </tr>\n",
       "    <tr>\n",
       "      <th>std</th>\n",
       "      <td>0.008263</td>\n",
       "      <td>14.354913</td>\n",
       "      <td>0.002665</td>\n",
       "      <td>0.005879</td>\n",
       "      <td>0.008207</td>\n",
       "      <td>0.007276</td>\n",
       "      <td>0.004822</td>\n",
       "      <td>0.004782</td>\n",
       "      <td>0.006909</td>\n",
       "      <td>0.006218</td>\n",
       "      <td>...</td>\n",
       "      <td>0.012817</td>\n",
       "      <td>0.008846</td>\n",
       "      <td>0.006129</td>\n",
       "      <td>0.008656</td>\n",
       "      <td>0.008087</td>\n",
       "      <td>0.008627</td>\n",
       "      <td>0.006806</td>\n",
       "      <td>NaN</td>\n",
       "      <td>0.006446</td>\n",
       "      <td>2.013518</td>\n",
       "    </tr>\n",
       "    <tr>\n",
       "      <th>min</th>\n",
       "      <td>0.018182</td>\n",
       "      <td>308.850216</td>\n",
       "      <td>0.064084</td>\n",
       "      <td>0.825381</td>\n",
       "      <td>0.437841</td>\n",
       "      <td>0.821534</td>\n",
       "      <td>0.828538</td>\n",
       "      <td>0.832017</td>\n",
       "      <td>0.455485</td>\n",
       "      <td>0.826457</td>\n",
       "      <td>...</td>\n",
       "      <td>0.428610</td>\n",
       "      <td>0.818849</td>\n",
       "      <td>0.838118</td>\n",
       "      <td>0.702679</td>\n",
       "      <td>0.341186</td>\n",
       "      <td>0.746104</td>\n",
       "      <td>0.720734</td>\n",
       "      <td>NaN</td>\n",
       "      <td>0.175845</td>\n",
       "      <td>148.642975</td>\n",
       "    </tr>\n",
       "    <tr>\n",
       "      <th>25%</th>\n",
       "      <td>0.021074</td>\n",
       "      <td>324.645224</td>\n",
       "      <td>0.066407</td>\n",
       "      <td>0.830928</td>\n",
       "      <td>0.444927</td>\n",
       "      <td>0.827255</td>\n",
       "      <td>0.833796</td>\n",
       "      <td>0.837176</td>\n",
       "      <td>0.460771</td>\n",
       "      <td>0.833271</td>\n",
       "      <td>...</td>\n",
       "      <td>0.431412</td>\n",
       "      <td>0.824970</td>\n",
       "      <td>0.844306</td>\n",
       "      <td>0.710759</td>\n",
       "      <td>0.346586</td>\n",
       "      <td>0.752445</td>\n",
       "      <td>0.727833</td>\n",
       "      <td>NaN</td>\n",
       "      <td>0.182241</td>\n",
       "      <td>152.410331</td>\n",
       "    </tr>\n",
       "    <tr>\n",
       "      <th>50%</th>\n",
       "      <td>0.025620</td>\n",
       "      <td>339.099101</td>\n",
       "      <td>0.068142</td>\n",
       "      <td>0.836687</td>\n",
       "      <td>0.453002</td>\n",
       "      <td>0.834195</td>\n",
       "      <td>0.837584</td>\n",
       "      <td>0.838961</td>\n",
       "      <td>0.468439</td>\n",
       "      <td>0.837324</td>\n",
       "      <td>...</td>\n",
       "      <td>0.443882</td>\n",
       "      <td>0.830085</td>\n",
       "      <td>0.846514</td>\n",
       "      <td>0.719227</td>\n",
       "      <td>0.355581</td>\n",
       "      <td>0.759516</td>\n",
       "      <td>0.733053</td>\n",
       "      <td>NaN</td>\n",
       "      <td>0.186275</td>\n",
       "      <td>152.876860</td>\n",
       "    </tr>\n",
       "    <tr>\n",
       "      <th>75%</th>\n",
       "      <td>0.035950</td>\n",
       "      <td>342.837591</td>\n",
       "      <td>0.070577</td>\n",
       "      <td>0.839500</td>\n",
       "      <td>0.457315</td>\n",
       "      <td>0.838893</td>\n",
       "      <td>0.840724</td>\n",
       "      <td>0.843662</td>\n",
       "      <td>0.472367</td>\n",
       "      <td>0.841809</td>\n",
       "      <td>...</td>\n",
       "      <td>0.456200</td>\n",
       "      <td>0.838189</td>\n",
       "      <td>0.851182</td>\n",
       "      <td>0.723396</td>\n",
       "      <td>0.359529</td>\n",
       "      <td>0.766304</td>\n",
       "      <td>0.738431</td>\n",
       "      <td>NaN</td>\n",
       "      <td>0.190058</td>\n",
       "      <td>154.098347</td>\n",
       "    </tr>\n",
       "    <tr>\n",
       "      <th>max</th>\n",
       "      <td>0.041322</td>\n",
       "      <td>349.291111</td>\n",
       "      <td>0.072369</td>\n",
       "      <td>0.843177</td>\n",
       "      <td>0.461857</td>\n",
       "      <td>0.843495</td>\n",
       "      <td>0.843734</td>\n",
       "      <td>0.845563</td>\n",
       "      <td>0.473733</td>\n",
       "      <td>0.843662</td>\n",
       "      <td>...</td>\n",
       "      <td>0.459083</td>\n",
       "      <td>0.845031</td>\n",
       "      <td>0.857603</td>\n",
       "      <td>0.728874</td>\n",
       "      <td>0.364069</td>\n",
       "      <td>0.772370</td>\n",
       "      <td>0.741174</td>\n",
       "      <td>NaN</td>\n",
       "      <td>0.196705</td>\n",
       "      <td>155.874380</td>\n",
       "    </tr>\n",
       "  </tbody>\n",
       "</table>\n",
       "<p>8 rows × 22 columns</p>\n",
       "</div>"
      ],
      "text/plain": [
       "       accuracy_score    log_loss  hamming_loss  f1_score__micro  \\\n",
       "count       10.000000   10.000000     10.000000        10.000000   \n",
       "mean         0.028264  333.493094      0.068375         0.835371   \n",
       "std          0.008263   14.354913      0.002665         0.005879   \n",
       "min          0.018182  308.850216      0.064084         0.825381   \n",
       "25%          0.021074  324.645224      0.066407         0.830928   \n",
       "50%          0.025620  339.099101      0.068142         0.836687   \n",
       "75%          0.035950  342.837591      0.070577         0.839500   \n",
       "max          0.041322  349.291111      0.072369         0.843177   \n",
       "\n",
       "       f1_score__macro  f1_score__weighted  f1_score__samples  \\\n",
       "count        10.000000           10.000000          10.000000   \n",
       "mean          0.451258            0.833027           0.837153   \n",
       "std           0.008207            0.007276           0.004822   \n",
       "min           0.437841            0.821534           0.828538   \n",
       "25%           0.444927            0.827255           0.833796   \n",
       "50%           0.453002            0.834195           0.837584   \n",
       "75%           0.457315            0.838893           0.840724   \n",
       "max           0.461857            0.843495           0.843734   \n",
       "\n",
       "       precision_score__micro  precision_score__macro  \\\n",
       "count               10.000000               10.000000   \n",
       "mean                 0.839406                0.466550   \n",
       "std                  0.004782                0.006909   \n",
       "min                  0.832017                0.455485   \n",
       "25%                  0.837176                0.460771   \n",
       "50%                  0.838961                0.468439   \n",
       "75%                  0.843662                0.472367   \n",
       "max                  0.845563                0.473733   \n",
       "\n",
       "       precision_score__weighted  ...  recall_score__macro  \\\n",
       "count                  10.000000  ...            10.000000   \n",
       "mean                    0.836460  ...             0.443956   \n",
       "std                     0.006218  ...             0.012817   \n",
       "min                     0.826457  ...             0.428610   \n",
       "25%                     0.833271  ...             0.431412   \n",
       "50%                     0.837324  ...             0.443882   \n",
       "75%                     0.841809  ...             0.456200   \n",
       "max                     0.843662  ...             0.459083   \n",
       "\n",
       "       recall_score__weighted  recall_score__samples  jaccard_score__micro  \\\n",
       "count               10.000000              10.000000             10.000000   \n",
       "mean                 0.831408               0.847445              0.717324   \n",
       "std                  0.008846               0.006129              0.008656   \n",
       "min                  0.818849               0.838118              0.702679   \n",
       "25%                  0.824970               0.844306              0.710759   \n",
       "50%                  0.830085               0.846514              0.719227   \n",
       "75%                  0.838189               0.851182              0.723396   \n",
       "max                  0.845031               0.857603              0.728874   \n",
       "\n",
       "       jaccard_score__macro  jaccard_score__weighted  jaccard_score__samples  \\\n",
       "count             10.000000                10.000000               10.000000   \n",
       "mean               0.353614                 0.759142                0.732798   \n",
       "std                0.008087                 0.008627                0.006806   \n",
       "min                0.341186                 0.746104                0.720734   \n",
       "25%                0.346586                 0.752445                0.727833   \n",
       "50%                0.355581                 0.759516                0.733053   \n",
       "75%                0.359529                 0.766304                0.738431   \n",
       "max                0.364069                 0.772370                0.741174   \n",
       "\n",
       "       roc_auc_score  label_ranking_loss  coverage_error  \n",
       "count            0.0           10.000000       10.000000  \n",
       "mean             NaN            0.186376      152.843967  \n",
       "std              NaN            0.006446        2.013518  \n",
       "min              NaN            0.175845      148.642975  \n",
       "25%              NaN            0.182241      152.410331  \n",
       "50%              NaN            0.186275      152.876860  \n",
       "75%              NaN            0.190058      154.098347  \n",
       "max              NaN            0.196705      155.874380  \n",
       "\n",
       "[8 rows x 22 columns]"
      ]
     },
     "execution_count": 82,
     "metadata": {},
     "output_type": "execute_result"
    }
   ],
   "source": [
    "metrics.results.describe()"
   ]
  }
 ],
 "metadata": {
  "kernelspec": {
   "display_name": "mass_spectra",
   "language": "python",
   "name": "python3"
  },
  "language_info": {
   "codemirror_mode": {
    "name": "ipython",
    "version": 3
   },
   "file_extension": ".py",
   "mimetype": "text/x-python",
   "name": "python",
   "nbconvert_exporter": "python",
   "pygments_lexer": "ipython3",
   "version": "3.9.16"
  },
  "orig_nbformat": 4
 },
 "nbformat": 4,
 "nbformat_minor": 2
}
