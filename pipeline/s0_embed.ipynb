{
 "cells": [
  {
   "cell_type": "markdown",
   "metadata": {},
   "source": [
    "# This is Step 0 in the Pipeline - Embedding\n",
    "With this notebook we generate molecular fingerprints and Spec2Vec embeddings."
   ]
  },
  {
   "cell_type": "markdown",
   "metadata": {},
   "source": [
    "### Imports"
   ]
  },
  {
   "cell_type": "code",
   "execution_count": 27,
   "metadata": {},
   "outputs": [],
   "source": [
    "import pandas as pd\n",
    "import os\n",
    "from spec2vec.model_building import train_new_word2vec_model\n",
    "from mass_spectra.to_fingerprint import generate_fingerprint, inchikey_to_inchi, AVAILABLE_FINGERPRINTS\n",
    "from mass_spectra.train_spec2vec import preprocess_file\n",
    "from spec2vec import Spec2Vec, calc_vector\n",
    "import gensim\n",
    "from time import time, sleep\n",
    "from tqdm.notebook import tqdm\n",
    "import requests"
   ]
  },
  {
   "cell_type": "code",
   "execution_count": 3,
   "metadata": {},
   "outputs": [
    {
     "data": {
      "text/plain": [
       "<module 'mass_spectra.train_spec2vec' from 'c:\\\\Users\\\\aleks\\\\Projects\\\\IJS\\\\mass_spectra\\\\mass_spectra\\\\train_spec2vec.py'>"
      ]
     },
     "execution_count": 3,
     "metadata": {},
     "output_type": "execute_result"
    }
   ],
   "source": [
    "import importlib\n",
    "import mass_spectra.train_spec2vec\n",
    "importlib.reload(mass_spectra.train_spec2vec)"
   ]
  },
  {
   "cell_type": "markdown",
   "metadata": {},
   "source": [
    "### Define source files and output folder"
   ]
  },
  {
   "cell_type": "code",
   "execution_count": 5,
   "metadata": {},
   "outputs": [],
   "source": [
    "metadata = './source/dataset/Metadata_training_TMS derivatives_3.1.xlsx'\n",
    "spectra = './source/dataset/Train NIST 3.1 dataset_TMS_BS.mgf'\n",
    "model_folder = './source/spec2vec/nist/'\n",
    "embedding_folder = './source/embedding/nist_all_fingerprints/'"
   ]
  },
  {
   "cell_type": "code",
   "execution_count": 6,
   "metadata": {},
   "outputs": [],
   "source": [
    "model_file = None # Can be None if the pipeline should train a new model, otherwise specify path to model file (.model ending)"
   ]
  },
  {
   "cell_type": "code",
   "execution_count": 7,
   "metadata": {},
   "outputs": [],
   "source": [
    "assert os.path.isfile(metadata)\n",
    "assert os.path.isfile(spectra)\n",
    "assert os.path.isdir(model_folder)\n",
    "assert os.path.isdir(embedding_folder)\n",
    "assert model_file is None or os.path.isfile(model_file)\n",
    "assert metadata.endswith('.xlsx')\n",
    "assert spectra.endswith('.mgf')\n",
    "assert model_file is None or model_file.endswith('.model')"
   ]
  },
  {
   "cell_type": "markdown",
   "metadata": {},
   "source": [
    "### Define Parameters"
   ]
  },
  {
   "cell_type": "code",
   "execution_count": 8,
   "metadata": {},
   "outputs": [
    {
     "data": {
      "text/plain": [
       "['AtomPairs2DFingerprinter',\n",
       " 'CircularFingerprinter',\n",
       " 'EStateFingerprinter',\n",
       " 'ExtendedFingerprinter',\n",
       " 'KlekotaRothFingerprinter',\n",
       " 'MACCSFingerprinter',\n",
       " 'PubchemFingerprinter',\n",
       " 'SubstructureFingerprinter']"
      ]
     },
     "execution_count": 8,
     "metadata": {},
     "output_type": "execute_result"
    }
   ],
   "source": [
    "AVAILABLE_FINGERPRINTS"
   ]
  },
  {
   "cell_type": "code",
   "execution_count": 9,
   "metadata": {},
   "outputs": [],
   "source": [
    "FINGERPRINTS = ['EStateFingerprinter', 'MACCSFingerprinter', 'PubchemFingerprinter', 'SubstructureFingerprinter']"
   ]
  },
  {
   "cell_type": "code",
   "execution_count": 10,
   "metadata": {},
   "outputs": [],
   "source": [
    "FINGERPRINT_NAMES = [v.replace('Fingerprinter', '') for v in FINGERPRINTS]"
   ]
  },
  {
   "cell_type": "code",
   "execution_count": 11,
   "metadata": {},
   "outputs": [],
   "source": [
    "REMOVE_CONSTANT_BITS = True\n",
    "REMOVE_DUPLICATE_BITS = True"
   ]
  },
  {
   "cell_type": "code",
   "execution_count": 12,
   "metadata": {},
   "outputs": [],
   "source": [
    "assert set(FINGERPRINTS).issubset(set(AVAILABLE_FINGERPRINTS))"
   ]
  },
  {
   "cell_type": "markdown",
   "metadata": {},
   "source": [
    "### Read Source Files"
   ]
  },
  {
   "cell_type": "code",
   "execution_count": 13,
   "metadata": {},
   "outputs": [
    {
     "name": "stdout",
     "output_type": "stream",
     "text": [
      "<class 'pandas.core.frame.DataFrame'>\n",
      "RangeIndex: 4648 entries, 0 to 4647\n",
      "Data columns (total 8 columns):\n",
      " #   Column             Non-Null Count  Dtype  \n",
      "---  ------             --------------  -----  \n",
      " 0   Name               4648 non-null   object \n",
      " 1   InChIKey           4644 non-null   object \n",
      " 2   Molecular formula  4648 non-null   object \n",
      " 3   CAS number         4648 non-null   object \n",
      " 4   Exact mass         4648 non-null   float64\n",
      " 5   Mw (g/mol)         4648 non-null   object \n",
      " 6   NIST NO            4648 non-null   int64  \n",
      " 7   ID                 4648 non-null   int64  \n",
      "dtypes: float64(1), int64(2), object(5)\n",
      "memory usage: 290.6+ KB\n"
     ]
    }
   ],
   "source": [
    "metadata_df = pd.read_excel(metadata)\n",
    "metadata_df.info()"
   ]
  },
  {
   "cell_type": "code",
   "execution_count": 14,
   "metadata": {},
   "outputs": [
    {
     "name": "stdout",
     "output_type": "stream",
     "text": [
      "Dataframe shape is (4648, 8)\n",
      "Dataframe shape is (4644, 8)\n"
     ]
    }
   ],
   "source": [
    "print(f\"Dataframe shape is {metadata_df.shape}\")\n",
    "metadata_df = metadata_df.dropna(axis=0, how='any')\n",
    "print(f\"Dataframe shape is {metadata_df.shape}\")"
   ]
  },
  {
   "cell_type": "code",
   "execution_count": 15,
   "metadata": {},
   "outputs": [],
   "source": [
    "# Sanitize source columns\n",
    "def sanitize(s):\n",
    "    s = s.lower()\n",
    "    s = s.strip()\n",
    "    s = s.replace(' ', '_')\n",
    "    return s\n",
    "metadata_df.rename(columns={c: sanitize(c) for c in metadata_df.columns}, inplace=True)\n",
    "\n",
    "# Sanitize data in string columns\n",
    "metadata_df[metadata_df.columns[metadata_df.dtypes == 'object']] = metadata_df[metadata_df.columns[metadata_df.dtypes == 'object']].applymap(lambda x: x.strip() if isinstance(x, str) else x)"
   ]
  },
  {
   "cell_type": "code",
   "execution_count": 16,
   "metadata": {},
   "outputs": [],
   "source": [
    "metadata_df.rename(columns={'inchikey': 'inchi_key'}, inplace=True)"
   ]
  },
  {
   "cell_type": "code",
   "execution_count": 17,
   "metadata": {},
   "outputs": [
    {
     "name": "stdout",
     "output_type": "stream",
     "text": [
      "<class 'pandas.core.frame.DataFrame'>\n",
      "Index: 4644 entries, 0 to 4643\n",
      "Data columns (total 8 columns):\n",
      " #   Column             Non-Null Count  Dtype  \n",
      "---  ------             --------------  -----  \n",
      " 0   name               4644 non-null   object \n",
      " 1   inchi_key          4644 non-null   object \n",
      " 2   molecular_formula  4644 non-null   object \n",
      " 3   cas_number         4644 non-null   object \n",
      " 4   exact_mass         4644 non-null   float64\n",
      " 5   mw_(g/mol)         4644 non-null   object \n",
      " 6   nist_no            4644 non-null   int64  \n",
      " 7   id                 4644 non-null   int64  \n",
      "dtypes: float64(1), int64(2), object(5)\n",
      "memory usage: 326.5+ KB\n"
     ]
    }
   ],
   "source": [
    "metadata_df.info()"
   ]
  },
  {
   "cell_type": "code",
   "execution_count": 18,
   "metadata": {},
   "outputs": [],
   "source": [
    "DESCRIPTIVE_COLUMNS = ['inchi_key', 'inchi', 'name']"
   ]
  },
  {
   "cell_type": "code",
   "execution_count": 46,
   "metadata": {},
   "outputs": [
    {
     "name": "stdout",
     "output_type": "stream",
     "text": [
      "Missing inchi keys: 894\n",
      "Found inchi keys: 1039\n"
     ]
    }
   ],
   "source": [
    "metadata_df['inchi'] = metadata_df.inchi_key.map(inchi_key_to_inchi)\n",
    "print(f\"Missing inchi keys: {len(missing_inchi_keys)}\")\n",
    "print(f\"Found inchi keys: {len(inchi_key_to_inchi)}\")\n",
    "metadata_df.to_excel(f\"{metadata.split('.')[0]}_with_inchi.xlsx\", index=False)"
   ]
  },
  {
   "cell_type": "code",
   "execution_count": 43,
   "metadata": {},
   "outputs": [
    {
     "name": "stdout",
     "output_type": "stream",
     "text": [
      "434\n"
     ]
    },
    {
     "data": {
      "application/vnd.jupyter.widget-view+json": {
       "model_id": "562f645c5ea043b89d21187a6620d110",
       "version_major": 2,
       "version_minor": 0
      },
      "text/plain": [
       "  0%|          | 0/3752 [00:00<?, ?it/s]"
      ]
     },
     "metadata": {},
     "output_type": "display_data"
    },
    {
     "ename": "KeyboardInterrupt",
     "evalue": "",
     "output_type": "error",
     "traceback": [
      "\u001b[1;31m---------------------------------------------------------------------------\u001b[0m",
      "\u001b[1;31mKeyboardInterrupt\u001b[0m                         Traceback (most recent call last)",
      "\u001b[1;32mc:\\Users\\aleks\\Projects\\IJS\\mass_spectra\\pipeline\\s0_embed.ipynb Cell 22\u001b[0m line \u001b[0;36m1\n\u001b[0;32m     <a href='vscode-notebook-cell:/c%3A/Users/aleks/Projects/IJS/mass_spectra/pipeline/s0_embed.ipynb#Y102sZmlsZQ%3D%3D?line=9'>10</a>\u001b[0m \u001b[39mif\u001b[39;00m inchi_key \u001b[39min\u001b[39;00m inchi_key_to_inchi:\n\u001b[0;32m     <a href='vscode-notebook-cell:/c%3A/Users/aleks/Projects/IJS/mass_spectra/pipeline/s0_embed.ipynb#Y102sZmlsZQ%3D%3D?line=10'>11</a>\u001b[0m     \u001b[39mcontinue\u001b[39;00m\n\u001b[1;32m---> <a href='vscode-notebook-cell:/c%3A/Users/aleks/Projects/IJS/mass_spectra/pipeline/s0_embed.ipynb#Y102sZmlsZQ%3D%3D?line=11'>12</a>\u001b[0m xml_response \u001b[39m=\u001b[39m requests\u001b[39m.\u001b[39;49mget(URL\u001b[39m.\u001b[39;49mformat(inchi_key), timeout\u001b[39m=\u001b[39;49m\u001b[39m5\u001b[39;49m)\n\u001b[0;32m     <a href='vscode-notebook-cell:/c%3A/Users/aleks/Projects/IJS/mass_spectra/pipeline/s0_embed.ipynb#Y102sZmlsZQ%3D%3D?line=12'>13</a>\u001b[0m \u001b[39m# xml response will only have xml version and one string tag\u001b[39;00m\n\u001b[0;32m     <a href='vscode-notebook-cell:/c%3A/Users/aleks/Projects/IJS/mass_spectra/pipeline/s0_embed.ipynb#Y102sZmlsZQ%3D%3D?line=13'>14</a>\u001b[0m \u001b[39m# if inchi key could not be ocnverted string tag is not closed and empty\u001b[39;00m\n\u001b[0;32m     <a href='vscode-notebook-cell:/c%3A/Users/aleks/Projects/IJS/mass_spectra/pipeline/s0_embed.ipynb#Y102sZmlsZQ%3D%3D?line=14'>15</a>\u001b[0m \u001b[39mif\u001b[39;00m xml_response\u001b[39m.\u001b[39mstatus_code \u001b[39m==\u001b[39m \u001b[39m200\u001b[39m \u001b[39mand\u001b[39;00m xml_response\u001b[39m.\u001b[39mtext\u001b[39m.\u001b[39mendswith(\u001b[39m'\u001b[39m\u001b[39m</string>\u001b[39m\u001b[39m'\u001b[39m):\n",
      "File \u001b[1;32mc:\\Users\\aleks\\anaconda3\\envs\\mass_spectra\\lib\\site-packages\\requests\\api.py:73\u001b[0m, in \u001b[0;36mget\u001b[1;34m(url, params, **kwargs)\u001b[0m\n\u001b[0;32m     62\u001b[0m \u001b[39mdef\u001b[39;00m \u001b[39mget\u001b[39m(url, params\u001b[39m=\u001b[39m\u001b[39mNone\u001b[39;00m, \u001b[39m*\u001b[39m\u001b[39m*\u001b[39mkwargs):\n\u001b[0;32m     63\u001b[0m \u001b[39m    \u001b[39m\u001b[39mr\u001b[39m\u001b[39m\"\"\"Sends a GET request.\u001b[39;00m\n\u001b[0;32m     64\u001b[0m \n\u001b[0;32m     65\u001b[0m \u001b[39m    :param url: URL for the new :class:`Request` object.\u001b[39;00m\n\u001b[1;32m   (...)\u001b[0m\n\u001b[0;32m     70\u001b[0m \u001b[39m    :rtype: requests.Response\u001b[39;00m\n\u001b[0;32m     71\u001b[0m \u001b[39m    \"\"\"\u001b[39;00m\n\u001b[1;32m---> 73\u001b[0m     \u001b[39mreturn\u001b[39;00m request(\u001b[39m\"\u001b[39m\u001b[39mget\u001b[39m\u001b[39m\"\u001b[39m, url, params\u001b[39m=\u001b[39mparams, \u001b[39m*\u001b[39m\u001b[39m*\u001b[39mkwargs)\n",
      "File \u001b[1;32mc:\\Users\\aleks\\anaconda3\\envs\\mass_spectra\\lib\\site-packages\\requests\\api.py:59\u001b[0m, in \u001b[0;36mrequest\u001b[1;34m(method, url, **kwargs)\u001b[0m\n\u001b[0;32m     55\u001b[0m \u001b[39m# By using the 'with' statement we are sure the session is closed, thus we\u001b[39;00m\n\u001b[0;32m     56\u001b[0m \u001b[39m# avoid leaving sockets open which can trigger a ResourceWarning in some\u001b[39;00m\n\u001b[0;32m     57\u001b[0m \u001b[39m# cases, and look like a memory leak in others.\u001b[39;00m\n\u001b[0;32m     58\u001b[0m \u001b[39mwith\u001b[39;00m sessions\u001b[39m.\u001b[39mSession() \u001b[39mas\u001b[39;00m session:\n\u001b[1;32m---> 59\u001b[0m     \u001b[39mreturn\u001b[39;00m session\u001b[39m.\u001b[39mrequest(method\u001b[39m=\u001b[39mmethod, url\u001b[39m=\u001b[39murl, \u001b[39m*\u001b[39m\u001b[39m*\u001b[39mkwargs)\n",
      "File \u001b[1;32mc:\\Users\\aleks\\anaconda3\\envs\\mass_spectra\\lib\\site-packages\\requests\\sessions.py:589\u001b[0m, in \u001b[0;36mSession.request\u001b[1;34m(self, method, url, params, data, headers, cookies, files, auth, timeout, allow_redirects, proxies, hooks, stream, verify, cert, json)\u001b[0m\n\u001b[0;32m    584\u001b[0m send_kwargs \u001b[39m=\u001b[39m {\n\u001b[0;32m    585\u001b[0m     \u001b[39m\"\u001b[39m\u001b[39mtimeout\u001b[39m\u001b[39m\"\u001b[39m: timeout,\n\u001b[0;32m    586\u001b[0m     \u001b[39m\"\u001b[39m\u001b[39mallow_redirects\u001b[39m\u001b[39m\"\u001b[39m: allow_redirects,\n\u001b[0;32m    587\u001b[0m }\n\u001b[0;32m    588\u001b[0m send_kwargs\u001b[39m.\u001b[39mupdate(settings)\n\u001b[1;32m--> 589\u001b[0m resp \u001b[39m=\u001b[39m \u001b[39mself\u001b[39m\u001b[39m.\u001b[39msend(prep, \u001b[39m*\u001b[39m\u001b[39m*\u001b[39msend_kwargs)\n\u001b[0;32m    591\u001b[0m \u001b[39mreturn\u001b[39;00m resp\n",
      "File \u001b[1;32mc:\\Users\\aleks\\anaconda3\\envs\\mass_spectra\\lib\\site-packages\\requests\\sessions.py:703\u001b[0m, in \u001b[0;36mSession.send\u001b[1;34m(self, request, **kwargs)\u001b[0m\n\u001b[0;32m    700\u001b[0m start \u001b[39m=\u001b[39m preferred_clock()\n\u001b[0;32m    702\u001b[0m \u001b[39m# Send the request\u001b[39;00m\n\u001b[1;32m--> 703\u001b[0m r \u001b[39m=\u001b[39m adapter\u001b[39m.\u001b[39msend(request, \u001b[39m*\u001b[39m\u001b[39m*\u001b[39mkwargs)\n\u001b[0;32m    705\u001b[0m \u001b[39m# Total elapsed time of the request (approximately)\u001b[39;00m\n\u001b[0;32m    706\u001b[0m elapsed \u001b[39m=\u001b[39m preferred_clock() \u001b[39m-\u001b[39m start\n",
      "File \u001b[1;32mc:\\Users\\aleks\\anaconda3\\envs\\mass_spectra\\lib\\site-packages\\requests\\adapters.py:486\u001b[0m, in \u001b[0;36mHTTPAdapter.send\u001b[1;34m(self, request, stream, timeout, verify, cert, proxies)\u001b[0m\n\u001b[0;32m    483\u001b[0m     timeout \u001b[39m=\u001b[39m TimeoutSauce(connect\u001b[39m=\u001b[39mtimeout, read\u001b[39m=\u001b[39mtimeout)\n\u001b[0;32m    485\u001b[0m \u001b[39mtry\u001b[39;00m:\n\u001b[1;32m--> 486\u001b[0m     resp \u001b[39m=\u001b[39m conn\u001b[39m.\u001b[39;49murlopen(\n\u001b[0;32m    487\u001b[0m         method\u001b[39m=\u001b[39;49mrequest\u001b[39m.\u001b[39;49mmethod,\n\u001b[0;32m    488\u001b[0m         url\u001b[39m=\u001b[39;49murl,\n\u001b[0;32m    489\u001b[0m         body\u001b[39m=\u001b[39;49mrequest\u001b[39m.\u001b[39;49mbody,\n\u001b[0;32m    490\u001b[0m         headers\u001b[39m=\u001b[39;49mrequest\u001b[39m.\u001b[39;49mheaders,\n\u001b[0;32m    491\u001b[0m         redirect\u001b[39m=\u001b[39;49m\u001b[39mFalse\u001b[39;49;00m,\n\u001b[0;32m    492\u001b[0m         assert_same_host\u001b[39m=\u001b[39;49m\u001b[39mFalse\u001b[39;49;00m,\n\u001b[0;32m    493\u001b[0m         preload_content\u001b[39m=\u001b[39;49m\u001b[39mFalse\u001b[39;49;00m,\n\u001b[0;32m    494\u001b[0m         decode_content\u001b[39m=\u001b[39;49m\u001b[39mFalse\u001b[39;49;00m,\n\u001b[0;32m    495\u001b[0m         retries\u001b[39m=\u001b[39;49m\u001b[39mself\u001b[39;49m\u001b[39m.\u001b[39;49mmax_retries,\n\u001b[0;32m    496\u001b[0m         timeout\u001b[39m=\u001b[39;49mtimeout,\n\u001b[0;32m    497\u001b[0m         chunked\u001b[39m=\u001b[39;49mchunked,\n\u001b[0;32m    498\u001b[0m     )\n\u001b[0;32m    500\u001b[0m \u001b[39mexcept\u001b[39;00m (ProtocolError, \u001b[39mOSError\u001b[39;00m) \u001b[39mas\u001b[39;00m err:\n\u001b[0;32m    501\u001b[0m     \u001b[39mraise\u001b[39;00m \u001b[39mConnectionError\u001b[39;00m(err, request\u001b[39m=\u001b[39mrequest)\n",
      "File \u001b[1;32mc:\\Users\\aleks\\anaconda3\\envs\\mass_spectra\\lib\\site-packages\\urllib3\\connectionpool.py:790\u001b[0m, in \u001b[0;36mHTTPConnectionPool.urlopen\u001b[1;34m(self, method, url, body, headers, retries, redirect, assert_same_host, timeout, pool_timeout, release_conn, chunked, body_pos, preload_content, decode_content, **response_kw)\u001b[0m\n\u001b[0;32m    787\u001b[0m response_conn \u001b[39m=\u001b[39m conn \u001b[39mif\u001b[39;00m \u001b[39mnot\u001b[39;00m release_conn \u001b[39melse\u001b[39;00m \u001b[39mNone\u001b[39;00m\n\u001b[0;32m    789\u001b[0m \u001b[39m# Make the request on the HTTPConnection object\u001b[39;00m\n\u001b[1;32m--> 790\u001b[0m response \u001b[39m=\u001b[39m \u001b[39mself\u001b[39m\u001b[39m.\u001b[39m_make_request(\n\u001b[0;32m    791\u001b[0m     conn,\n\u001b[0;32m    792\u001b[0m     method,\n\u001b[0;32m    793\u001b[0m     url,\n\u001b[0;32m    794\u001b[0m     timeout\u001b[39m=\u001b[39mtimeout_obj,\n\u001b[0;32m    795\u001b[0m     body\u001b[39m=\u001b[39mbody,\n\u001b[0;32m    796\u001b[0m     headers\u001b[39m=\u001b[39mheaders,\n\u001b[0;32m    797\u001b[0m     chunked\u001b[39m=\u001b[39mchunked,\n\u001b[0;32m    798\u001b[0m     retries\u001b[39m=\u001b[39mretries,\n\u001b[0;32m    799\u001b[0m     response_conn\u001b[39m=\u001b[39mresponse_conn,\n\u001b[0;32m    800\u001b[0m     preload_content\u001b[39m=\u001b[39mpreload_content,\n\u001b[0;32m    801\u001b[0m     decode_content\u001b[39m=\u001b[39mdecode_content,\n\u001b[0;32m    802\u001b[0m     \u001b[39m*\u001b[39m\u001b[39m*\u001b[39mresponse_kw,\n\u001b[0;32m    803\u001b[0m )\n\u001b[0;32m    805\u001b[0m \u001b[39m# Everything went great!\u001b[39;00m\n\u001b[0;32m    806\u001b[0m clean_exit \u001b[39m=\u001b[39m \u001b[39mTrue\u001b[39;00m\n",
      "File \u001b[1;32mc:\\Users\\aleks\\anaconda3\\envs\\mass_spectra\\lib\\site-packages\\urllib3\\connectionpool.py:467\u001b[0m, in \u001b[0;36mHTTPConnectionPool._make_request\u001b[1;34m(self, conn, method, url, body, headers, retries, timeout, chunked, response_conn, preload_content, decode_content, enforce_content_length)\u001b[0m\n\u001b[0;32m    464\u001b[0m \u001b[39mtry\u001b[39;00m:\n\u001b[0;32m    465\u001b[0m     \u001b[39m# Trigger any extra validation we need to do.\u001b[39;00m\n\u001b[0;32m    466\u001b[0m     \u001b[39mtry\u001b[39;00m:\n\u001b[1;32m--> 467\u001b[0m         \u001b[39mself\u001b[39;49m\u001b[39m.\u001b[39;49m_validate_conn(conn)\n\u001b[0;32m    468\u001b[0m     \u001b[39mexcept\u001b[39;00m (SocketTimeout, BaseSSLError) \u001b[39mas\u001b[39;00m e:\n\u001b[0;32m    469\u001b[0m         \u001b[39mself\u001b[39m\u001b[39m.\u001b[39m_raise_timeout(err\u001b[39m=\u001b[39me, url\u001b[39m=\u001b[39murl, timeout_value\u001b[39m=\u001b[39mconn\u001b[39m.\u001b[39mtimeout)\n",
      "File \u001b[1;32mc:\\Users\\aleks\\anaconda3\\envs\\mass_spectra\\lib\\site-packages\\urllib3\\connectionpool.py:1092\u001b[0m, in \u001b[0;36mHTTPSConnectionPool._validate_conn\u001b[1;34m(self, conn)\u001b[0m\n\u001b[0;32m   1090\u001b[0m \u001b[39m# Force connect early to allow us to validate the connection.\u001b[39;00m\n\u001b[0;32m   1091\u001b[0m \u001b[39mif\u001b[39;00m conn\u001b[39m.\u001b[39mis_closed:\n\u001b[1;32m-> 1092\u001b[0m     conn\u001b[39m.\u001b[39;49mconnect()\n\u001b[0;32m   1094\u001b[0m \u001b[39mif\u001b[39;00m \u001b[39mnot\u001b[39;00m conn\u001b[39m.\u001b[39mis_verified:\n\u001b[0;32m   1095\u001b[0m     warnings\u001b[39m.\u001b[39mwarn(\n\u001b[0;32m   1096\u001b[0m         (\n\u001b[0;32m   1097\u001b[0m             \u001b[39mf\u001b[39m\u001b[39m\"\u001b[39m\u001b[39mUnverified HTTPS request is being made to host \u001b[39m\u001b[39m'\u001b[39m\u001b[39m{\u001b[39;00mconn\u001b[39m.\u001b[39mhost\u001b[39m}\u001b[39;00m\u001b[39m'\u001b[39m\u001b[39m. \u001b[39m\u001b[39m\"\u001b[39m\n\u001b[1;32m   (...)\u001b[0m\n\u001b[0;32m   1102\u001b[0m         InsecureRequestWarning,\n\u001b[0;32m   1103\u001b[0m     )\n",
      "File \u001b[1;32mc:\\Users\\aleks\\anaconda3\\envs\\mass_spectra\\lib\\site-packages\\urllib3\\connection.py:642\u001b[0m, in \u001b[0;36mHTTPSConnection.connect\u001b[1;34m(self)\u001b[0m\n\u001b[0;32m    633\u001b[0m \u001b[39mif\u001b[39;00m is_time_off:\n\u001b[0;32m    634\u001b[0m     warnings\u001b[39m.\u001b[39mwarn(\n\u001b[0;32m    635\u001b[0m         (\n\u001b[0;32m    636\u001b[0m             \u001b[39mf\u001b[39m\u001b[39m\"\u001b[39m\u001b[39mSystem time is way off (before \u001b[39m\u001b[39m{\u001b[39;00mRECENT_DATE\u001b[39m}\u001b[39;00m\u001b[39m). This will probably \u001b[39m\u001b[39m\"\u001b[39m\n\u001b[1;32m   (...)\u001b[0m\n\u001b[0;32m    639\u001b[0m         SystemTimeWarning,\n\u001b[0;32m    640\u001b[0m     )\n\u001b[1;32m--> 642\u001b[0m sock_and_verified \u001b[39m=\u001b[39m _ssl_wrap_socket_and_match_hostname(\n\u001b[0;32m    643\u001b[0m     sock\u001b[39m=\u001b[39;49msock,\n\u001b[0;32m    644\u001b[0m     cert_reqs\u001b[39m=\u001b[39;49m\u001b[39mself\u001b[39;49m\u001b[39m.\u001b[39;49mcert_reqs,\n\u001b[0;32m    645\u001b[0m     ssl_version\u001b[39m=\u001b[39;49m\u001b[39mself\u001b[39;49m\u001b[39m.\u001b[39;49mssl_version,\n\u001b[0;32m    646\u001b[0m     ssl_minimum_version\u001b[39m=\u001b[39;49m\u001b[39mself\u001b[39;49m\u001b[39m.\u001b[39;49mssl_minimum_version,\n\u001b[0;32m    647\u001b[0m     ssl_maximum_version\u001b[39m=\u001b[39;49m\u001b[39mself\u001b[39;49m\u001b[39m.\u001b[39;49mssl_maximum_version,\n\u001b[0;32m    648\u001b[0m     ca_certs\u001b[39m=\u001b[39;49m\u001b[39mself\u001b[39;49m\u001b[39m.\u001b[39;49mca_certs,\n\u001b[0;32m    649\u001b[0m     ca_cert_dir\u001b[39m=\u001b[39;49m\u001b[39mself\u001b[39;49m\u001b[39m.\u001b[39;49mca_cert_dir,\n\u001b[0;32m    650\u001b[0m     ca_cert_data\u001b[39m=\u001b[39;49m\u001b[39mself\u001b[39;49m\u001b[39m.\u001b[39;49mca_cert_data,\n\u001b[0;32m    651\u001b[0m     cert_file\u001b[39m=\u001b[39;49m\u001b[39mself\u001b[39;49m\u001b[39m.\u001b[39;49mcert_file,\n\u001b[0;32m    652\u001b[0m     key_file\u001b[39m=\u001b[39;49m\u001b[39mself\u001b[39;49m\u001b[39m.\u001b[39;49mkey_file,\n\u001b[0;32m    653\u001b[0m     key_password\u001b[39m=\u001b[39;49m\u001b[39mself\u001b[39;49m\u001b[39m.\u001b[39;49mkey_password,\n\u001b[0;32m    654\u001b[0m     server_hostname\u001b[39m=\u001b[39;49mserver_hostname,\n\u001b[0;32m    655\u001b[0m     ssl_context\u001b[39m=\u001b[39;49m\u001b[39mself\u001b[39;49m\u001b[39m.\u001b[39;49mssl_context,\n\u001b[0;32m    656\u001b[0m     tls_in_tls\u001b[39m=\u001b[39;49mtls_in_tls,\n\u001b[0;32m    657\u001b[0m     assert_hostname\u001b[39m=\u001b[39;49m\u001b[39mself\u001b[39;49m\u001b[39m.\u001b[39;49massert_hostname,\n\u001b[0;32m    658\u001b[0m     assert_fingerprint\u001b[39m=\u001b[39;49m\u001b[39mself\u001b[39;49m\u001b[39m.\u001b[39;49massert_fingerprint,\n\u001b[0;32m    659\u001b[0m )\n\u001b[0;32m    660\u001b[0m \u001b[39mself\u001b[39m\u001b[39m.\u001b[39msock \u001b[39m=\u001b[39m sock_and_verified\u001b[39m.\u001b[39msocket\n\u001b[0;32m    661\u001b[0m \u001b[39mself\u001b[39m\u001b[39m.\u001b[39mis_verified \u001b[39m=\u001b[39m sock_and_verified\u001b[39m.\u001b[39mis_verified\n",
      "File \u001b[1;32mc:\\Users\\aleks\\anaconda3\\envs\\mass_spectra\\lib\\site-packages\\urllib3\\connection.py:783\u001b[0m, in \u001b[0;36m_ssl_wrap_socket_and_match_hostname\u001b[1;34m(sock, cert_reqs, ssl_version, ssl_minimum_version, ssl_maximum_version, cert_file, key_file, key_password, ca_certs, ca_cert_dir, ca_cert_data, assert_hostname, assert_fingerprint, server_hostname, ssl_context, tls_in_tls)\u001b[0m\n\u001b[0;32m    780\u001b[0m     \u001b[39mif\u001b[39;00m is_ipaddress(normalized):\n\u001b[0;32m    781\u001b[0m         server_hostname \u001b[39m=\u001b[39m normalized\n\u001b[1;32m--> 783\u001b[0m ssl_sock \u001b[39m=\u001b[39m ssl_wrap_socket(\n\u001b[0;32m    784\u001b[0m     sock\u001b[39m=\u001b[39;49msock,\n\u001b[0;32m    785\u001b[0m     keyfile\u001b[39m=\u001b[39;49mkey_file,\n\u001b[0;32m    786\u001b[0m     certfile\u001b[39m=\u001b[39;49mcert_file,\n\u001b[0;32m    787\u001b[0m     key_password\u001b[39m=\u001b[39;49mkey_password,\n\u001b[0;32m    788\u001b[0m     ca_certs\u001b[39m=\u001b[39;49mca_certs,\n\u001b[0;32m    789\u001b[0m     ca_cert_dir\u001b[39m=\u001b[39;49mca_cert_dir,\n\u001b[0;32m    790\u001b[0m     ca_cert_data\u001b[39m=\u001b[39;49mca_cert_data,\n\u001b[0;32m    791\u001b[0m     server_hostname\u001b[39m=\u001b[39;49mserver_hostname,\n\u001b[0;32m    792\u001b[0m     ssl_context\u001b[39m=\u001b[39;49mcontext,\n\u001b[0;32m    793\u001b[0m     tls_in_tls\u001b[39m=\u001b[39;49mtls_in_tls,\n\u001b[0;32m    794\u001b[0m )\n\u001b[0;32m    796\u001b[0m \u001b[39mtry\u001b[39;00m:\n\u001b[0;32m    797\u001b[0m     \u001b[39mif\u001b[39;00m assert_fingerprint:\n",
      "File \u001b[1;32mc:\\Users\\aleks\\anaconda3\\envs\\mass_spectra\\lib\\site-packages\\urllib3\\util\\ssl_.py:444\u001b[0m, in \u001b[0;36mssl_wrap_socket\u001b[1;34m(sock, keyfile, certfile, cert_reqs, ca_certs, server_hostname, ssl_version, ciphers, ssl_context, ca_cert_dir, key_password, ca_cert_data, tls_in_tls)\u001b[0m\n\u001b[0;32m    442\u001b[0m \u001b[39mif\u001b[39;00m ca_certs \u001b[39mor\u001b[39;00m ca_cert_dir \u001b[39mor\u001b[39;00m ca_cert_data:\n\u001b[0;32m    443\u001b[0m     \u001b[39mtry\u001b[39;00m:\n\u001b[1;32m--> 444\u001b[0m         context\u001b[39m.\u001b[39;49mload_verify_locations(ca_certs, ca_cert_dir, ca_cert_data)\n\u001b[0;32m    445\u001b[0m     \u001b[39mexcept\u001b[39;00m \u001b[39mOSError\u001b[39;00m \u001b[39mas\u001b[39;00m e:\n\u001b[0;32m    446\u001b[0m         \u001b[39mraise\u001b[39;00m SSLError(e) \u001b[39mfrom\u001b[39;00m \u001b[39me\u001b[39;00m\n",
      "\u001b[1;31mKeyboardInterrupt\u001b[0m: "
     ]
    }
   ],
   "source": [
    "if 'inchi' not in metadata_df.columns:\n",
    "    URL = \"https://www.chemspider.com/InChI.asmx/InChIKeyToInChI?inchi_key={}\"\n",
    "    missing_inchi_keys = set()\n",
    "    try:\n",
    "        print(len(inchi_key_to_inchi))\n",
    "    except NameError:\n",
    "        inchi_key_to_inchi = {}\n",
    "    \n",
    "    inchi_keys = metadata_df.inchi_key.unique()\n",
    "    for inchi_key in tqdm(inchi_keys):\n",
    "        if inchi_key in inchi_key_to_inchi:\n",
    "            continue\n",
    "        xml_response = requests.get(URL.format(inchi_key), timeout=5)\n",
    "        # xml response will only have xml version and one string tag\n",
    "        # if inchi key could not be ocnverted string tag is not closed and empty\n",
    "        if xml_response.status_code == 200 and xml_response.text.endswith('</string>'):\n",
    "            inchi = xml_response.text.split('>')[-2].split('<')[0].strip()\n",
    "            inchi_key_to_inchi[inchi_key] = inchi\n",
    "        else:\n",
    "            missing_inchi_keys.add(inchi_key)\n",
    "    metadata_df['inchi'] = metadata_df.inchi_key.map(inchi_key_to_inchi)\n",
    "    print(f\"Missing inchi keys: {len(missing_inchi_keys)}\")\n",
    "    print(f\"Found inchi keys: {len(inchi_key_to_inchi)}\")\n",
    "    metadata_df.to_excel(f\"{metadata.split('.')[0]}_with_inchi.xlsx\", index=False)"
   ]
  },
  {
   "cell_type": "code",
   "execution_count": null,
   "metadata": {},
   "outputs": [
    {
     "data": {
      "text/html": [
       "<div>\n",
       "<style scoped>\n",
       "    .dataframe tbody tr th:only-of-type {\n",
       "        vertical-align: middle;\n",
       "    }\n",
       "\n",
       "    .dataframe tbody tr th {\n",
       "        vertical-align: top;\n",
       "    }\n",
       "\n",
       "    .dataframe thead th {\n",
       "        text-align: right;\n",
       "    }\n",
       "</style>\n",
       "<table border=\"1\" class=\"dataframe\">\n",
       "  <thead>\n",
       "    <tr style=\"text-align: right;\">\n",
       "      <th></th>\n",
       "      <th>name</th>\n",
       "      <th>inchi_key</th>\n",
       "      <th>molecular_formula</th>\n",
       "      <th>cas_number</th>\n",
       "      <th>exact_mass</th>\n",
       "      <th>mw_(g/mol)</th>\n",
       "      <th>nist_no</th>\n",
       "      <th>id</th>\n",
       "    </tr>\n",
       "  </thead>\n",
       "  <tbody>\n",
       "    <tr>\n",
       "      <th>0</th>\n",
       "      <td>Heparin, hexa(trimethylsilyl)-</td>\n",
       "      <td>SWNJOCYLDHZZBH-UHFFFAOYSA-N</td>\n",
       "      <td>C32H69NO11Si6</td>\n",
       "      <td>0</td>\n",
       "      <td>811.348620</td>\n",
       "      <td>811</td>\n",
       "      <td>161321</td>\n",
       "      <td>30</td>\n",
       "    </tr>\n",
       "    <tr>\n",
       "      <th>1</th>\n",
       "      <td>Deoxyfructosazine, heptakis(trimethylsilyl)- d...</td>\n",
       "      <td>PGVKXFDGUWEAAZ-UHFFFAOYSA-N</td>\n",
       "      <td>C33H76N2O7Si7</td>\n",
       "      <td>68361171</td>\n",
       "      <td>808.403740</td>\n",
       "      <td>808</td>\n",
       "      <td>465574</td>\n",
       "      <td>31</td>\n",
       "    </tr>\n",
       "    <tr>\n",
       "      <th>2</th>\n",
       "      <td>trans-Piceid, 6TMS</td>\n",
       "      <td>ZAYPUEYKPPTDBS-FMQUCBEESA-N</td>\n",
       "      <td>C38H70O8Si6</td>\n",
       "      <td>0</td>\n",
       "      <td>822.368630</td>\n",
       "      <td>822</td>\n",
       "      <td>414022</td>\n",
       "      <td>38</td>\n",
       "    </tr>\n",
       "    <tr>\n",
       "      <th>3</th>\n",
       "      <td>cis-Piceid, 6TMS</td>\n",
       "      <td>ZAYPUEYKPPTDBS-VXPUYCOJSA-N</td>\n",
       "      <td>C38H70O8Si6</td>\n",
       "      <td>0</td>\n",
       "      <td>822.368630</td>\n",
       "      <td>822</td>\n",
       "      <td>414023</td>\n",
       "      <td>41</td>\n",
       "    </tr>\n",
       "    <tr>\n",
       "      <th>4</th>\n",
       "      <td>Azadirachtin, O,O-bis(trimethylsilyl)-</td>\n",
       "      <td>QGPRRBSVFYCNEQ-KGENOOAVSA-N</td>\n",
       "      <td>C41H60O16Si2</td>\n",
       "      <td>37293155</td>\n",
       "      <td>864.341988</td>\n",
       "      <td>864</td>\n",
       "      <td>67466</td>\n",
       "      <td>48</td>\n",
       "    </tr>\n",
       "    <tr>\n",
       "      <th>...</th>\n",
       "      <td>...</td>\n",
       "      <td>...</td>\n",
       "      <td>...</td>\n",
       "      <td>...</td>\n",
       "      <td>...</td>\n",
       "      <td>...</td>\n",
       "      <td>...</td>\n",
       "      <td>...</td>\n",
       "    </tr>\n",
       "    <tr>\n",
       "      <th>4639</th>\n",
       "      <td>Formamide, 2TMS derivative</td>\n",
       "      <td>PQCLLXHKPSJTOY-UHFFFAOYSA-N</td>\n",
       "      <td>C7H19NOSi2</td>\n",
       "      <td>15500-60-4</td>\n",
       "      <td>189.100517</td>\n",
       "      <td>189</td>\n",
       "      <td>368600</td>\n",
       "      <td>148144</td>\n",
       "    </tr>\n",
       "    <tr>\n",
       "      <th>4640</th>\n",
       "      <td>Benzamide, TMS derivative</td>\n",
       "      <td>QKZIAZLDMXJTCK-UHFFFAOYSA-N</td>\n",
       "      <td>C10H15NOSi</td>\n",
       "      <td>1011-57-0</td>\n",
       "      <td>193.092291</td>\n",
       "      <td>193</td>\n",
       "      <td>417318</td>\n",
       "      <td>182150</td>\n",
       "    </tr>\n",
       "    <tr>\n",
       "      <th>4641</th>\n",
       "      <td>Benzamide, TMS derivative</td>\n",
       "      <td>DCQRROFFBYXKTH-UHFFFAOYSA-N</td>\n",
       "      <td>C10H15NOSi</td>\n",
       "      <td>1011-57-0</td>\n",
       "      <td>193.092291</td>\n",
       "      <td>193</td>\n",
       "      <td>466168</td>\n",
       "      <td>12389</td>\n",
       "    </tr>\n",
       "    <tr>\n",
       "      <th>4642</th>\n",
       "      <td>Benzamide, TMS derivative</td>\n",
       "      <td>GGCVGNFGUJEXDQ-UHFFFAOYSA-N</td>\n",
       "      <td>C10H15NOSi</td>\n",
       "      <td>1011-57-0</td>\n",
       "      <td>193.092291</td>\n",
       "      <td>193</td>\n",
       "      <td>282481</td>\n",
       "      <td>30959</td>\n",
       "    </tr>\n",
       "    <tr>\n",
       "      <th>4643</th>\n",
       "      <td>Formamide, TMS derivative</td>\n",
       "      <td>FWVJXNUQMFTVJD-SEYXRHQNSA-N</td>\n",
       "      <td>C4H11NOSi</td>\n",
       "      <td>18148-53-3</td>\n",
       "      <td>117.060990</td>\n",
       "      <td>117</td>\n",
       "      <td>368601</td>\n",
       "      <td>49804</td>\n",
       "    </tr>\n",
       "  </tbody>\n",
       "</table>\n",
       "<p>4644 rows × 8 columns</p>\n",
       "</div>"
      ],
      "text/plain": [
       "                                                   name  \\\n",
       "0                        Heparin, hexa(trimethylsilyl)-   \n",
       "1     Deoxyfructosazine, heptakis(trimethylsilyl)- d...   \n",
       "2                                    trans-Piceid, 6TMS   \n",
       "3                                      cis-Piceid, 6TMS   \n",
       "4                Azadirachtin, O,O-bis(trimethylsilyl)-   \n",
       "...                                                 ...   \n",
       "4639                         Formamide, 2TMS derivative   \n",
       "4640                          Benzamide, TMS derivative   \n",
       "4641                          Benzamide, TMS derivative   \n",
       "4642                          Benzamide, TMS derivative   \n",
       "4643                          Formamide, TMS derivative   \n",
       "\n",
       "                        inchi_key molecular_formula  cas_number  exact_mass  \\\n",
       "0     SWNJOCYLDHZZBH-UHFFFAOYSA-N     C32H69NO11Si6           0  811.348620   \n",
       "1     PGVKXFDGUWEAAZ-UHFFFAOYSA-N     C33H76N2O7Si7    68361171  808.403740   \n",
       "2     ZAYPUEYKPPTDBS-FMQUCBEESA-N       C38H70O8Si6           0  822.368630   \n",
       "3     ZAYPUEYKPPTDBS-VXPUYCOJSA-N       C38H70O8Si6           0  822.368630   \n",
       "4     QGPRRBSVFYCNEQ-KGENOOAVSA-N      C41H60O16Si2    37293155  864.341988   \n",
       "...                           ...               ...         ...         ...   \n",
       "4639  PQCLLXHKPSJTOY-UHFFFAOYSA-N        C7H19NOSi2  15500-60-4  189.100517   \n",
       "4640  QKZIAZLDMXJTCK-UHFFFAOYSA-N        C10H15NOSi   1011-57-0  193.092291   \n",
       "4641  DCQRROFFBYXKTH-UHFFFAOYSA-N        C10H15NOSi   1011-57-0  193.092291   \n",
       "4642  GGCVGNFGUJEXDQ-UHFFFAOYSA-N        C10H15NOSi   1011-57-0  193.092291   \n",
       "4643  FWVJXNUQMFTVJD-SEYXRHQNSA-N         C4H11NOSi  18148-53-3  117.060990   \n",
       "\n",
       "     mw_(g/mol)  nist_no      id  \n",
       "0           811   161321      30  \n",
       "1           808   465574      31  \n",
       "2           822   414022      38  \n",
       "3           822   414023      41  \n",
       "4           864    67466      48  \n",
       "...         ...      ...     ...  \n",
       "4639        189   368600  148144  \n",
       "4640        193   417318  182150  \n",
       "4641        193   466168   12389  \n",
       "4642        193   282481   30959  \n",
       "4643        117   368601   49804  \n",
       "\n",
       "[4644 rows x 8 columns]"
      ]
     },
     "execution_count": 42,
     "metadata": {},
     "output_type": "execute_result"
    }
   ],
   "source": [
    "metadata_df"
   ]
  },
  {
   "cell_type": "code",
   "execution_count": null,
   "metadata": {},
   "outputs": [],
   "source": [
    "# metadata_df[DESCRIPTIVE_COLUMNS].head(3)"
   ]
  },
  {
   "attachments": {},
   "cell_type": "markdown",
   "metadata": {},
   "source": [
    "### Construct Fingerprints"
   ]
  },
  {
   "cell_type": "code",
   "execution_count": null,
   "metadata": {},
   "outputs": [
    {
     "name": "stdout",
     "output_type": "stream",
     "text": [
      "Generating EStateFingerprinter fingerprint\n",
      "Converting 4644 InChI keys to 79 bit EStateFingerprinter fingerprint\n"
     ]
    },
    {
     "name": "stdout",
     "output_type": "stream",
     "text": [
      "Converted InChI key SWNJOCYLDHZZBH-UHFFFAOYSA-N to InChI=1S/C32H69NO11Si6/c1-22(34)33-26-29(27(41-47(8,9)10)25(21-36-45(2,3)4)38-31(26)44-50(17,18)19)39-32-28(42-48(11,12)13)23(40-46(5,6)7)20-24(37-32)30(35)43-49(14,15)16/h20,23,25-29,31-32H,21H2,1-19H3,(H,33,34)\n",
      "Converted InChI key PGVKXFDGUWEAAZ-UHFFFAOYSA-N to InChI=1S/C33H76N2O7Si7/c1-43(2,3)36-25-30(39-46(10,11)12)29(38-45(7,8)9)22-27-23-34-24-28(35-27)32(41-48(16,17)18)33(42-49(19,20)21)31(40-47(13,14)15)26-37-44(4,5)6/h23-24,29-33H,22,25-26H2,1-21H3\n",
      "Converted InChI key ZAYPUEYKPPTDBS-FMQUCBEESA-N to InChI=1S/C38H70O8Si6/c1-47(2,3)39-28-34-35(44-50(10,11)12)36(45-51(13,14)15)37(46-52(16,17)18)38(41-34)40-32-25-30(26-33(27-32)43-49(7,8)9)20-19-29-21-23-31(24-22-29)42-48(4,5)6/h19-27,34-38H,28H2,1-18H3/b20-19+\n",
      "Converted InChI key ZAYPUEYKPPTDBS-VXPUYCOJSA-N to InChI=1S/C38H70O8Si6/c1-47(2,3)39-28-34-35(44-50(10,11)12)36(45-51(13,14)15)37(46-52(16,17)18)38(41-34)40-32-25-30(26-33(27-32)43-49(7,8)9)20-19-29-21-23-31(24-22-29)42-48(4,5)6/h19-27,34-38H,28H2,1-18H3/b20-19-\n",
      "Converted InChI key QGPRRBSVFYCNEQ-KGENOOAVSA-N to InChI=1S/C41H60O16Si2/c1-14-21(2)30(43)53-24-18-25(52-22(3)42)38(32(44)47-6)19-50-27-28(38)37(24)20-51-40(46,33(45)48-7)31(37)35(4,29(27)55-58(8,9)10)41-26-17-23(36(41,5)56-41)39(57-59(11,12)13)15-16-49-34(39)54-26/h14-16,23-29,31,34,46H,17-20H2,1-13H3/b21-14+\n",
      "Converted InChI key BBXCKFQHYLONDB-UHFFFAOYSA-N to InChI=1S/C42H84O6Si5/c1-30(36(44-49(6,7)8)23-24-39(2,3)47-52(15,16)17)31-22-26-42(48-53(18,19)20)33-27-35(43)34-28-37(45-50(9,10)11)38(46-51(12,13)14)29-40(34,4)32(33)21-25-41(31,42)5/h27,30-32,34,36-38H,21-26,28-29H2,1-20H3\n",
      "Converted InChI key DPOCBXDNSZEHTC-FVLPKZBXSA-N to InChI=1S/C41H76O8Si4/c1-27-38(48-52(10,11)12)34(46-50(4,5)6)25-37(44-27)45-30-18-20-39(2)29(23-30)16-17-32-33(39)24-35(47-51(7,8)9)40(3)31(28-22-36(42)43-26-28)19-21-41(32,40)49-53(13,14)15/h22,27,29-35,37-38H,16-21,23-26H2,1-15H3/t27?,29-,30+,31-,32-,33+,34?,35-,37?,38?,39+,40+,41+/m1/s1\n",
      "Converted InChI key CDKOKPURTAFRTG-JJIBRWJFSA-N to InChI=1S/C44H68O16Si3/c1-17-24(2)33(46)55-27-21-28(54-25(3)45)41(35(47)49-6)22-52-30-31(41)40(27)23-53-43(36(48)50-7,60-63(14,15)16)34(40)38(4,32(30)57-61(8,9)10)44-29-20-26(39(44,5)58-44)42(59-62(11,12)13)18-19-51-37(42)56-29/h17-19,26-32,34,37H,20-23H2,1-16H3/b24-17+\n",
      "Converted InChI key VMPGWRQSBMDVQU-UHFFFAOYSA-N to InChI=1S/C40H76O8Si5/c1-39-24-22-28(44-49(3,4)5)26-27(39)18-19-29-30-20-21-32(40(30,2)25-23-31(29)39)42-38-36(47-52(12,13)14)34(46-51(9,10)11)33(45-50(6,7)8)35(43-38)37(41)48-53(15,16)17/h18,26,29-36,38H,19-25H2,1-17H3\n",
      "Converted InChI key KNAZTEWBFRPMHZ-DZTJYMNTSA-N to InChI=1S/C37H89NO11Si8/c1-39-38-26-29(44-52(8,9)10)33(46-54(14,15)16)32(31(45-53(11,12)13)28-41-51(5,6)7)43-37-36(49-57(23,24)25)35(48-56(20,21)22)34(47-55(17,18)19)30(42-37)27-40-50(2,3)4/h26,29-37H,27-28H2,1-25H3/b38-26+\n",
      "Error Number 0 at idx 10 converting InChI key FZBVSCDKWPADGH-UHFFFAOYSA-N: HTTPSConnectionPool(host='www.ebi.ac.uk', port=443): Max retries exceeded with url: /unichem/legacy/rest/inchi/FZBVSCDKWPADGH-UHFFFAOYSA-N (Caused by ResponseError('too many 404 error responses'))\n",
      "Error Number 1 at idx 10 converting InChI key FZBVSCDKWPADGH-UHFFFAOYSA-N: HTTPSConnectionPool(host='www.ebi.ac.uk', port=443): Max retries exceeded with url: /unichem/legacy/rest/inchi/FZBVSCDKWPADGH-UHFFFAOYSA-N (Caused by ResponseError('too many 404 error responses'))\n",
      "Error Number 2 at idx 10 converting InChI key FZBVSCDKWPADGH-UHFFFAOYSA-N: HTTPSConnectionPool(host='www.ebi.ac.uk', port=443): Max retries exceeded with url: /unichem/legacy/rest/inchi/FZBVSCDKWPADGH-UHFFFAOYSA-N (Caused by ResponseError('too many 404 error responses'))\n",
      "Cound not convert InChI key FZBVSCDKWPADGH-UHFFFAOYSA-N...skipping\n"
     ]
    },
    {
     "ename": "KeyboardInterrupt",
     "evalue": "",
     "output_type": "error",
     "traceback": [
      "\u001b[1;31m---------------------------------------------------------------------------\u001b[0m",
      "\u001b[1;31mKeyboardInterrupt\u001b[0m                         Traceback (most recent call last)",
      "\u001b[1;32mc:\\Users\\aleks\\Projects\\IJS\\mass_spectra\\pipeline\\s0_embed.ipynb Cell 25\u001b[0m line \u001b[0;36m3\n\u001b[0;32m      <a href='vscode-notebook-cell:/c%3A/Users/aleks/Projects/IJS/mass_spectra/pipeline/s0_embed.ipynb#X31sZmlsZQ%3D%3D?line=0'>1</a>\u001b[0m \u001b[39m# Generate fingerprints (can take some time depending on the number of molecules)\u001b[39;00m\n\u001b[0;32m      <a href='vscode-notebook-cell:/c%3A/Users/aleks/Projects/IJS/mass_spectra/pipeline/s0_embed.ipynb#X31sZmlsZQ%3D%3D?line=1'>2</a>\u001b[0m \u001b[39m# If the fingerprint is not available it will be replaced by None values\u001b[39;00m\n\u001b[1;32m----> <a href='vscode-notebook-cell:/c%3A/Users/aleks/Projects/IJS/mass_spectra/pipeline/s0_embed.ipynb#X31sZmlsZQ%3D%3D?line=2'>3</a>\u001b[0m fingerprints \u001b[39m=\u001b[39m generate_fingerprint(FINGERPRINTS, metadata_df[\u001b[39m'\u001b[39;49m\u001b[39minchi_key\u001b[39;49m\u001b[39m'\u001b[39;49m])\n",
      "File \u001b[1;32mc:\\Users\\aleks\\Projects\\IJS\\mass_spectra\\mass_spectra\\to_fingerprint.py:60\u001b[0m, in \u001b[0;36mgenerate_fingerprint\u001b[1;34m(fingerprint_array, inchi_array)\u001b[0m\n\u001b[0;32m     58\u001b[0m atom_container \u001b[39m=\u001b[39m inchi_to_atom_container(\u001b[39mf\u001b[39m\u001b[39m'\u001b[39m\u001b[39m{\u001b[39;00minchi\u001b[39m}\u001b[39;00m\u001b[39m'\u001b[39m)\n\u001b[0;32m     59\u001b[0m \u001b[39mif\u001b[39;00m atom_container\u001b[39m.\u001b[39mgetAtomCount() \u001b[39m==\u001b[39m \u001b[39m0\u001b[39m:\n\u001b[1;32m---> 60\u001b[0m     converted \u001b[39m=\u001b[39m inchikey_to_inchi(inchi)\n\u001b[0;32m     61\u001b[0m     \u001b[39mprint\u001b[39m(\u001b[39mf\u001b[39m\u001b[39m'\u001b[39m\u001b[39mConverted InChI key \u001b[39m\u001b[39m{\u001b[39;00minchi\u001b[39m}\u001b[39;00m\u001b[39m to \u001b[39m\u001b[39m{\u001b[39;00mconverted\u001b[39m}\u001b[39;00m\u001b[39m'\u001b[39m)\n\u001b[0;32m     62\u001b[0m     atom_container \u001b[39m=\u001b[39m inchi_to_atom_container(converted)\n",
      "File \u001b[1;32mc:\\Users\\aleks\\Projects\\IJS\\mass_spectra\\mass_spectra\\to_fingerprint.py:20\u001b[0m, in \u001b[0;36minchikey_to_inchi\u001b[1;34m(inchikey)\u001b[0m\n\u001b[0;32m     19\u001b[0m \u001b[39mdef\u001b[39;00m \u001b[39minchikey_to_inchi\u001b[39m(inchikey):\n\u001b[1;32m---> 20\u001b[0m     ret \u001b[39m=\u001b[39m unichem\u001b[39m.\u001b[39;49minchiFromKey(inchikey)\n\u001b[0;32m     21\u001b[0m     \u001b[39mif\u001b[39;00m \u001b[39mlen\u001b[39m(ret) \u001b[39m==\u001b[39m \u001b[39m0\u001b[39m:\n\u001b[0;32m     22\u001b[0m         \u001b[39mreturn\u001b[39;00m \u001b[39mNone\u001b[39;00m\n",
      "File \u001b[1;32mc:\\Users\\aleks\\anaconda3\\envs\\mass_spectra\\lib\\site-packages\\chembl_webresource_client\\unichem.py:132\u001b[0m, in \u001b[0;36mUniChemClient.inchiFromKey\u001b[1;34m(self, inchi_key)\u001b[0m\n\u001b[0;32m    130\u001b[0m \u001b[39mdef\u001b[39;00m \u001b[39minchiFromKey\u001b[39m(\u001b[39mself\u001b[39m, inchi_key):\n\u001b[0;32m    131\u001b[0m     url \u001b[39m=\u001b[39m \u001b[39m'\u001b[39m\u001b[39m{0}\u001b[39;00m\u001b[39m/inchi/\u001b[39m\u001b[39m{1}\u001b[39;00m\u001b[39m'\u001b[39m\u001b[39m.\u001b[39mformat(\u001b[39mself\u001b[39m\u001b[39m.\u001b[39mbase_url, inchi_key)\n\u001b[1;32m--> 132\u001b[0m     \u001b[39mreturn\u001b[39;00m \u001b[39mself\u001b[39;49m\u001b[39m.\u001b[39;49m_get_results(url)\n",
      "File \u001b[1;32mc:\\Users\\aleks\\anaconda3\\envs\\mass_spectra\\lib\\site-packages\\chembl_webresource_client\\unichem.py:58\u001b[0m, in \u001b[0;36mUniChemClient._get_results\u001b[1;34m(self, url)\u001b[0m\n\u001b[0;32m     56\u001b[0m \u001b[39mdef\u001b[39;00m \u001b[39m_get_results\u001b[39m(\u001b[39mself\u001b[39m, url):\n\u001b[0;32m     57\u001b[0m     \u001b[39mwith\u001b[39;00m \u001b[39mself\u001b[39m\u001b[39m.\u001b[39m_get_session() \u001b[39mas\u001b[39;00m session:\n\u001b[1;32m---> 58\u001b[0m             res \u001b[39m=\u001b[39m session\u001b[39m.\u001b[39;49mget(url, timeout\u001b[39m=\u001b[39;49m\u001b[39mself\u001b[39;49m\u001b[39m.\u001b[39;49mtimeout)\n\u001b[0;32m     59\u001b[0m             \u001b[39mself\u001b[39m\u001b[39m.\u001b[39mlogger\u001b[39m.\u001b[39minfo(res\u001b[39m.\u001b[39murl)\n\u001b[0;32m     60\u001b[0m             \u001b[39mself\u001b[39m\u001b[39m.\u001b[39mlogger\u001b[39m.\u001b[39minfo(\u001b[39m'\u001b[39m\u001b[39mFrom cache: \u001b[39m\u001b[39m{0}\u001b[39;00m\u001b[39m'\u001b[39m\u001b[39m.\u001b[39mformat(res\u001b[39m.\u001b[39mfrom_cache \u001b[39mif\u001b[39;00m \u001b[39mhasattr\u001b[39m(res, \u001b[39m'\u001b[39m\u001b[39mfrom_cache\u001b[39m\u001b[39m'\u001b[39m) \u001b[39melse\u001b[39;00m \u001b[39mFalse\u001b[39;00m))\n",
      "File \u001b[1;32mc:\\Users\\aleks\\anaconda3\\envs\\mass_spectra\\lib\\site-packages\\requests\\sessions.py:602\u001b[0m, in \u001b[0;36mSession.get\u001b[1;34m(self, url, **kwargs)\u001b[0m\n\u001b[0;32m    594\u001b[0m \u001b[39m\u001b[39m\u001b[39mr\u001b[39m\u001b[39m\"\"\"Sends a GET request. Returns :class:`Response` object.\u001b[39;00m\n\u001b[0;32m    595\u001b[0m \n\u001b[0;32m    596\u001b[0m \u001b[39m:param url: URL for the new :class:`Request` object.\u001b[39;00m\n\u001b[0;32m    597\u001b[0m \u001b[39m:param \\*\\*kwargs: Optional arguments that ``request`` takes.\u001b[39;00m\n\u001b[0;32m    598\u001b[0m \u001b[39m:rtype: requests.Response\u001b[39;00m\n\u001b[0;32m    599\u001b[0m \u001b[39m\"\"\"\u001b[39;00m\n\u001b[0;32m    601\u001b[0m kwargs\u001b[39m.\u001b[39msetdefault(\u001b[39m\"\u001b[39m\u001b[39mallow_redirects\u001b[39m\u001b[39m\"\u001b[39m, \u001b[39mTrue\u001b[39;00m)\n\u001b[1;32m--> 602\u001b[0m \u001b[39mreturn\u001b[39;00m \u001b[39mself\u001b[39m\u001b[39m.\u001b[39mrequest(\u001b[39m\"\u001b[39m\u001b[39mGET\u001b[39m\u001b[39m\"\u001b[39m, url, \u001b[39m*\u001b[39m\u001b[39m*\u001b[39mkwargs)\n",
      "File \u001b[1;32mc:\\Users\\aleks\\anaconda3\\envs\\mass_spectra\\lib\\site-packages\\requests_cache\\session.py:101\u001b[0m, in \u001b[0;36mCacheMixin.request\u001b[1;34m(self, method, url, params, data, json, expire_after, **kwargs)\u001b[0m\n\u001b[0;32m     73\u001b[0m \u001b[39m\u001b[39m\u001b[39m\"\"\"This method prepares and sends a request while automatically performing any necessary\u001b[39;00m\n\u001b[0;32m     74\u001b[0m \u001b[39mcaching operations. This will be called by any other method-specific ``requests`` functions\u001b[39;00m\n\u001b[0;32m     75\u001b[0m \u001b[39m(get, post, etc.). This does not include prepared requests, which will still be cached via\u001b[39;00m\n\u001b[1;32m   (...)\u001b[0m\n\u001b[0;32m     98\u001b[0m \n\u001b[0;32m     99\u001b[0m \u001b[39m\"\"\"\u001b[39;00m\n\u001b[0;32m    100\u001b[0m \u001b[39mwith\u001b[39;00m \u001b[39mself\u001b[39m\u001b[39m.\u001b[39mrequest_expire_after(expire_after), patch_form_boundary(\u001b[39m*\u001b[39m\u001b[39m*\u001b[39mkwargs):\n\u001b[1;32m--> 101\u001b[0m     \u001b[39mreturn\u001b[39;00m \u001b[39msuper\u001b[39m()\u001b[39m.\u001b[39mrequest(\n\u001b[0;32m    102\u001b[0m         method,\n\u001b[0;32m    103\u001b[0m         url,\n\u001b[0;32m    104\u001b[0m         params\u001b[39m=\u001b[39mnormalize_dict(params),\n\u001b[0;32m    105\u001b[0m         data\u001b[39m=\u001b[39mnormalize_dict(data),\n\u001b[0;32m    106\u001b[0m         json\u001b[39m=\u001b[39mnormalize_dict(json),\n\u001b[0;32m    107\u001b[0m         \u001b[39m*\u001b[39m\u001b[39m*\u001b[39mkwargs,\n\u001b[0;32m    108\u001b[0m     )\n",
      "File \u001b[1;32mc:\\Users\\aleks\\anaconda3\\envs\\mass_spectra\\lib\\site-packages\\requests\\sessions.py:589\u001b[0m, in \u001b[0;36mSession.request\u001b[1;34m(self, method, url, params, data, headers, cookies, files, auth, timeout, allow_redirects, proxies, hooks, stream, verify, cert, json)\u001b[0m\n\u001b[0;32m    584\u001b[0m send_kwargs \u001b[39m=\u001b[39m {\n\u001b[0;32m    585\u001b[0m     \u001b[39m\"\u001b[39m\u001b[39mtimeout\u001b[39m\u001b[39m\"\u001b[39m: timeout,\n\u001b[0;32m    586\u001b[0m     \u001b[39m\"\u001b[39m\u001b[39mallow_redirects\u001b[39m\u001b[39m\"\u001b[39m: allow_redirects,\n\u001b[0;32m    587\u001b[0m }\n\u001b[0;32m    588\u001b[0m send_kwargs\u001b[39m.\u001b[39mupdate(settings)\n\u001b[1;32m--> 589\u001b[0m resp \u001b[39m=\u001b[39m \u001b[39mself\u001b[39m\u001b[39m.\u001b[39msend(prep, \u001b[39m*\u001b[39m\u001b[39m*\u001b[39msend_kwargs)\n\u001b[0;32m    591\u001b[0m \u001b[39mreturn\u001b[39;00m resp\n",
      "File \u001b[1;32mc:\\Users\\aleks\\anaconda3\\envs\\mass_spectra\\lib\\site-packages\\requests_cache\\session.py:132\u001b[0m, in \u001b[0;36mCacheMixin.send\u001b[1;34m(self, request, **kwargs)\u001b[0m\n\u001b[0;32m    130\u001b[0m \u001b[39m# If the cache is disabled, doesn't have the response, or it's expired, then fetch a new one\u001b[39;00m\n\u001b[0;32m    131\u001b[0m \u001b[39mif\u001b[39;00m response \u001b[39mis\u001b[39;00m \u001b[39mNone\u001b[39;00m:\n\u001b[1;32m--> 132\u001b[0m     response \u001b[39m=\u001b[39m \u001b[39mself\u001b[39m\u001b[39m.\u001b[39m_send_and_cache(request, actions, \u001b[39m*\u001b[39m\u001b[39m*\u001b[39mkwargs)\n\u001b[0;32m    133\u001b[0m \u001b[39melif\u001b[39;00m is_expired \u001b[39mand\u001b[39;00m \u001b[39mself\u001b[39m\u001b[39m.\u001b[39mold_data_on_error:\n\u001b[0;32m    134\u001b[0m     response \u001b[39m=\u001b[39m \u001b[39mself\u001b[39m\u001b[39m.\u001b[39m_resend_and_ignore(request, actions, \u001b[39m*\u001b[39m\u001b[39m*\u001b[39mkwargs) \u001b[39mor\u001b[39;00m response\n",
      "File \u001b[1;32mc:\\Users\\aleks\\anaconda3\\envs\\mass_spectra\\lib\\site-packages\\requests_cache\\session.py:156\u001b[0m, in \u001b[0;36mCacheMixin._send_and_cache\u001b[1;34m(self, request, actions, **kwargs)\u001b[0m\n\u001b[0;32m    154\u001b[0m \u001b[39mdef\u001b[39;00m \u001b[39m_send_and_cache\u001b[39m(\u001b[39mself\u001b[39m, request: PreparedRequest, actions: CacheActions, \u001b[39m*\u001b[39m\u001b[39m*\u001b[39mkwargs):\n\u001b[0;32m    155\u001b[0m \u001b[39m    \u001b[39m\u001b[39m\"\"\"Send the request and cache the response, unless disabled by settings or headers\"\"\"\u001b[39;00m\n\u001b[1;32m--> 156\u001b[0m     response \u001b[39m=\u001b[39m \u001b[39msuper\u001b[39m()\u001b[39m.\u001b[39msend(request, \u001b[39m*\u001b[39m\u001b[39m*\u001b[39mkwargs)\n\u001b[0;32m    157\u001b[0m     actions\u001b[39m.\u001b[39mupdate_from_response(response)\n\u001b[0;32m    159\u001b[0m     \u001b[39mif\u001b[39;00m \u001b[39mself\u001b[39m\u001b[39m.\u001b[39m_is_cacheable(response, actions):\n",
      "File \u001b[1;32mc:\\Users\\aleks\\anaconda3\\envs\\mass_spectra\\lib\\site-packages\\requests\\sessions.py:703\u001b[0m, in \u001b[0;36mSession.send\u001b[1;34m(self, request, **kwargs)\u001b[0m\n\u001b[0;32m    700\u001b[0m start \u001b[39m=\u001b[39m preferred_clock()\n\u001b[0;32m    702\u001b[0m \u001b[39m# Send the request\u001b[39;00m\n\u001b[1;32m--> 703\u001b[0m r \u001b[39m=\u001b[39m adapter\u001b[39m.\u001b[39msend(request, \u001b[39m*\u001b[39m\u001b[39m*\u001b[39mkwargs)\n\u001b[0;32m    705\u001b[0m \u001b[39m# Total elapsed time of the request (approximately)\u001b[39;00m\n\u001b[0;32m    706\u001b[0m elapsed \u001b[39m=\u001b[39m preferred_clock() \u001b[39m-\u001b[39m start\n",
      "File \u001b[1;32mc:\\Users\\aleks\\anaconda3\\envs\\mass_spectra\\lib\\site-packages\\requests\\adapters.py:486\u001b[0m, in \u001b[0;36mHTTPAdapter.send\u001b[1;34m(self, request, stream, timeout, verify, cert, proxies)\u001b[0m\n\u001b[0;32m    483\u001b[0m     timeout \u001b[39m=\u001b[39m TimeoutSauce(connect\u001b[39m=\u001b[39mtimeout, read\u001b[39m=\u001b[39mtimeout)\n\u001b[0;32m    485\u001b[0m \u001b[39mtry\u001b[39;00m:\n\u001b[1;32m--> 486\u001b[0m     resp \u001b[39m=\u001b[39m conn\u001b[39m.\u001b[39;49murlopen(\n\u001b[0;32m    487\u001b[0m         method\u001b[39m=\u001b[39;49mrequest\u001b[39m.\u001b[39;49mmethod,\n\u001b[0;32m    488\u001b[0m         url\u001b[39m=\u001b[39;49murl,\n\u001b[0;32m    489\u001b[0m         body\u001b[39m=\u001b[39;49mrequest\u001b[39m.\u001b[39;49mbody,\n\u001b[0;32m    490\u001b[0m         headers\u001b[39m=\u001b[39;49mrequest\u001b[39m.\u001b[39;49mheaders,\n\u001b[0;32m    491\u001b[0m         redirect\u001b[39m=\u001b[39;49m\u001b[39mFalse\u001b[39;49;00m,\n\u001b[0;32m    492\u001b[0m         assert_same_host\u001b[39m=\u001b[39;49m\u001b[39mFalse\u001b[39;49;00m,\n\u001b[0;32m    493\u001b[0m         preload_content\u001b[39m=\u001b[39;49m\u001b[39mFalse\u001b[39;49;00m,\n\u001b[0;32m    494\u001b[0m         decode_content\u001b[39m=\u001b[39;49m\u001b[39mFalse\u001b[39;49;00m,\n\u001b[0;32m    495\u001b[0m         retries\u001b[39m=\u001b[39;49m\u001b[39mself\u001b[39;49m\u001b[39m.\u001b[39;49mmax_retries,\n\u001b[0;32m    496\u001b[0m         timeout\u001b[39m=\u001b[39;49mtimeout,\n\u001b[0;32m    497\u001b[0m         chunked\u001b[39m=\u001b[39;49mchunked,\n\u001b[0;32m    498\u001b[0m     )\n\u001b[0;32m    500\u001b[0m \u001b[39mexcept\u001b[39;00m (ProtocolError, \u001b[39mOSError\u001b[39;00m) \u001b[39mas\u001b[39;00m err:\n\u001b[0;32m    501\u001b[0m     \u001b[39mraise\u001b[39;00m \u001b[39mConnectionError\u001b[39;00m(err, request\u001b[39m=\u001b[39mrequest)\n",
      "File \u001b[1;32mc:\\Users\\aleks\\anaconda3\\envs\\mass_spectra\\lib\\site-packages\\urllib3\\connectionpool.py:941\u001b[0m, in \u001b[0;36mHTTPConnectionPool.urlopen\u001b[1;34m(self, method, url, body, headers, retries, redirect, assert_same_host, timeout, pool_timeout, release_conn, chunked, body_pos, preload_content, decode_content, **response_kw)\u001b[0m\n\u001b[0;32m    939\u001b[0m     retries\u001b[39m.\u001b[39msleep(response)\n\u001b[0;32m    940\u001b[0m     log\u001b[39m.\u001b[39mdebug(\u001b[39m\"\u001b[39m\u001b[39mRetry: \u001b[39m\u001b[39m%s\u001b[39;00m\u001b[39m\"\u001b[39m, url)\n\u001b[1;32m--> 941\u001b[0m     \u001b[39mreturn\u001b[39;00m \u001b[39mself\u001b[39m\u001b[39m.\u001b[39murlopen(\n\u001b[0;32m    942\u001b[0m         method,\n\u001b[0;32m    943\u001b[0m         url,\n\u001b[0;32m    944\u001b[0m         body,\n\u001b[0;32m    945\u001b[0m         headers,\n\u001b[0;32m    946\u001b[0m         retries\u001b[39m=\u001b[39mretries,\n\u001b[0;32m    947\u001b[0m         redirect\u001b[39m=\u001b[39mredirect,\n\u001b[0;32m    948\u001b[0m         assert_same_host\u001b[39m=\u001b[39massert_same_host,\n\u001b[0;32m    949\u001b[0m         timeout\u001b[39m=\u001b[39mtimeout,\n\u001b[0;32m    950\u001b[0m         pool_timeout\u001b[39m=\u001b[39mpool_timeout,\n\u001b[0;32m    951\u001b[0m         release_conn\u001b[39m=\u001b[39mrelease_conn,\n\u001b[0;32m    952\u001b[0m         chunked\u001b[39m=\u001b[39mchunked,\n\u001b[0;32m    953\u001b[0m         body_pos\u001b[39m=\u001b[39mbody_pos,\n\u001b[0;32m    954\u001b[0m         preload_content\u001b[39m=\u001b[39mpreload_content,\n\u001b[0;32m    955\u001b[0m         decode_content\u001b[39m=\u001b[39mdecode_content,\n\u001b[0;32m    956\u001b[0m         \u001b[39m*\u001b[39m\u001b[39m*\u001b[39mresponse_kw,\n\u001b[0;32m    957\u001b[0m     )\n\u001b[0;32m    959\u001b[0m \u001b[39mreturn\u001b[39;00m response\n",
      "File \u001b[1;32mc:\\Users\\aleks\\anaconda3\\envs\\mass_spectra\\lib\\site-packages\\urllib3\\connectionpool.py:941\u001b[0m, in \u001b[0;36mHTTPConnectionPool.urlopen\u001b[1;34m(self, method, url, body, headers, retries, redirect, assert_same_host, timeout, pool_timeout, release_conn, chunked, body_pos, preload_content, decode_content, **response_kw)\u001b[0m\n\u001b[0;32m    939\u001b[0m     retries\u001b[39m.\u001b[39msleep(response)\n\u001b[0;32m    940\u001b[0m     log\u001b[39m.\u001b[39mdebug(\u001b[39m\"\u001b[39m\u001b[39mRetry: \u001b[39m\u001b[39m%s\u001b[39;00m\u001b[39m\"\u001b[39m, url)\n\u001b[1;32m--> 941\u001b[0m     \u001b[39mreturn\u001b[39;00m \u001b[39mself\u001b[39m\u001b[39m.\u001b[39murlopen(\n\u001b[0;32m    942\u001b[0m         method,\n\u001b[0;32m    943\u001b[0m         url,\n\u001b[0;32m    944\u001b[0m         body,\n\u001b[0;32m    945\u001b[0m         headers,\n\u001b[0;32m    946\u001b[0m         retries\u001b[39m=\u001b[39mretries,\n\u001b[0;32m    947\u001b[0m         redirect\u001b[39m=\u001b[39mredirect,\n\u001b[0;32m    948\u001b[0m         assert_same_host\u001b[39m=\u001b[39massert_same_host,\n\u001b[0;32m    949\u001b[0m         timeout\u001b[39m=\u001b[39mtimeout,\n\u001b[0;32m    950\u001b[0m         pool_timeout\u001b[39m=\u001b[39mpool_timeout,\n\u001b[0;32m    951\u001b[0m         release_conn\u001b[39m=\u001b[39mrelease_conn,\n\u001b[0;32m    952\u001b[0m         chunked\u001b[39m=\u001b[39mchunked,\n\u001b[0;32m    953\u001b[0m         body_pos\u001b[39m=\u001b[39mbody_pos,\n\u001b[0;32m    954\u001b[0m         preload_content\u001b[39m=\u001b[39mpreload_content,\n\u001b[0;32m    955\u001b[0m         decode_content\u001b[39m=\u001b[39mdecode_content,\n\u001b[0;32m    956\u001b[0m         \u001b[39m*\u001b[39m\u001b[39m*\u001b[39mresponse_kw,\n\u001b[0;32m    957\u001b[0m     )\n\u001b[0;32m    959\u001b[0m \u001b[39mreturn\u001b[39;00m response\n",
      "File \u001b[1;32mc:\\Users\\aleks\\anaconda3\\envs\\mass_spectra\\lib\\site-packages\\urllib3\\connectionpool.py:939\u001b[0m, in \u001b[0;36mHTTPConnectionPool.urlopen\u001b[1;34m(self, method, url, body, headers, retries, redirect, assert_same_host, timeout, pool_timeout, release_conn, chunked, body_pos, preload_content, decode_content, **response_kw)\u001b[0m\n\u001b[0;32m    936\u001b[0m     \u001b[39mreturn\u001b[39;00m response\n\u001b[0;32m    938\u001b[0m response\u001b[39m.\u001b[39mdrain_conn()\n\u001b[1;32m--> 939\u001b[0m retries\u001b[39m.\u001b[39;49msleep(response)\n\u001b[0;32m    940\u001b[0m log\u001b[39m.\u001b[39mdebug(\u001b[39m\"\u001b[39m\u001b[39mRetry: \u001b[39m\u001b[39m%s\u001b[39;00m\u001b[39m\"\u001b[39m, url)\n\u001b[0;32m    941\u001b[0m \u001b[39mreturn\u001b[39;00m \u001b[39mself\u001b[39m\u001b[39m.\u001b[39murlopen(\n\u001b[0;32m    942\u001b[0m     method,\n\u001b[0;32m    943\u001b[0m     url,\n\u001b[1;32m   (...)\u001b[0m\n\u001b[0;32m    956\u001b[0m     \u001b[39m*\u001b[39m\u001b[39m*\u001b[39mresponse_kw,\n\u001b[0;32m    957\u001b[0m )\n",
      "File \u001b[1;32mc:\\Users\\aleks\\anaconda3\\envs\\mass_spectra\\lib\\site-packages\\urllib3\\util\\retry.py:359\u001b[0m, in \u001b[0;36mRetry.sleep\u001b[1;34m(self, response)\u001b[0m\n\u001b[0;32m    356\u001b[0m     \u001b[39mif\u001b[39;00m slept:\n\u001b[0;32m    357\u001b[0m         \u001b[39mreturn\u001b[39;00m\n\u001b[1;32m--> 359\u001b[0m \u001b[39mself\u001b[39;49m\u001b[39m.\u001b[39;49m_sleep_backoff()\n",
      "File \u001b[1;32mc:\\Users\\aleks\\anaconda3\\envs\\mass_spectra\\lib\\site-packages\\urllib3\\util\\retry.py:343\u001b[0m, in \u001b[0;36mRetry._sleep_backoff\u001b[1;34m(self)\u001b[0m\n\u001b[0;32m    341\u001b[0m \u001b[39mif\u001b[39;00m backoff \u001b[39m<\u001b[39m\u001b[39m=\u001b[39m \u001b[39m0\u001b[39m:\n\u001b[0;32m    342\u001b[0m     \u001b[39mreturn\u001b[39;00m\n\u001b[1;32m--> 343\u001b[0m time\u001b[39m.\u001b[39;49msleep(backoff)\n",
      "\u001b[1;31mKeyboardInterrupt\u001b[0m: "
     ]
    }
   ],
   "source": [
    "# Generate fingerprints (can take some time depending on the number of molecules)\n",
    "# If the fingerprint is not available it will be replaced by None values\n",
    "fingerprints = generate_fingerprint(FINGERPRINTS, metadata_df['inchi_key'])"
   ]
  },
  {
   "cell_type": "code",
   "execution_count": null,
   "metadata": {},
   "outputs": [],
   "source": [
    "# check if inchi is set as index and if not set it\n",
    "for k, v in fingerprints.items():\n",
    "    if not v.index.name == 'inchi':\n",
    "        fingerprints[k].set_index('inchi', inplace=True)"
   ]
  },
  {
   "cell_type": "code",
   "execution_count": null,
   "metadata": {},
   "outputs": [
    {
     "data": {
      "text/plain": [
       "(104, 1433)"
      ]
     },
     "execution_count": 126,
     "metadata": {},
     "output_type": "execute_result"
    }
   ],
   "source": [
    "# combine all generated fingerprints with prefixed column names\n",
    "merged = None\n",
    "for fp, fp_df in fingerprints.items():\n",
    "    tmp = fp_df.copy()\n",
    "    tmp.columns = [f'{fp.lower().replace(\"fingerprinter\", \"\")}_{c}' for c in tmp.columns]\n",
    "    if merged is None:\n",
    "        merged = tmp\n",
    "    else:\n",
    "        merged = merged.join(tmp, how='inner')\n",
    "merged.shape"
   ]
  },
  {
   "cell_type": "code",
   "execution_count": null,
   "metadata": {},
   "outputs": [
    {
     "data": {
      "text/plain": [
       "(104, 604)"
      ]
     },
     "execution_count": 127,
     "metadata": {},
     "output_type": "execute_result"
    }
   ],
   "source": [
    "if REMOVE_CONSTANT_BITS:\n",
    "    merged = merged[merged.columns[merged.nunique() > 1]]\n",
    "merged.shape"
   ]
  },
  {
   "cell_type": "code",
   "execution_count": null,
   "metadata": {},
   "outputs": [
    {
     "data": {
      "text/plain": [
       "(104, 302)"
      ]
     },
     "execution_count": 128,
     "metadata": {},
     "output_type": "execute_result"
    }
   ],
   "source": [
    "if REMOVE_DUPLICATE_BITS:\n",
    "    merged = merged.T.drop_duplicates().T\n",
    "merged.shape"
   ]
  },
  {
   "cell_type": "code",
   "execution_count": null,
   "metadata": {},
   "outputs": [
    {
     "name": "stdout",
     "output_type": "stream",
     "text": [
      "<class 'pandas.core.frame.DataFrame'>\n",
      "RangeIndex: 104 entries, 0 to 103\n",
      "Columns: 305 entries, inchi_key to substructure_bit_306\n",
      "dtypes: int64(302), object(3)\n",
      "memory usage: 247.9+ KB\n"
     ]
    }
   ],
   "source": [
    "descriptive_data = metadata_df[DESCRIPTIVE_COLUMNS].set_index('inchi')\n",
    "fingerprints_df = descriptive_data.join(merged, how='inner').reset_index()\n",
    "other_columns = [c for c in fingerprints_df.columns if c not in DESCRIPTIVE_COLUMNS]\n",
    "fingerprints_df = fingerprints_df[DESCRIPTIVE_COLUMNS + other_columns]\n",
    "fingerprints_df.info()"
   ]
  },
  {
   "cell_type": "code",
   "execution_count": null,
   "metadata": {},
   "outputs": [
    {
     "data": {
      "text/html": [
       "<div>\n",
       "<style scoped>\n",
       "    .dataframe tbody tr th:only-of-type {\n",
       "        vertical-align: middle;\n",
       "    }\n",
       "\n",
       "    .dataframe tbody tr th {\n",
       "        vertical-align: top;\n",
       "    }\n",
       "\n",
       "    .dataframe thead th {\n",
       "        text-align: right;\n",
       "    }\n",
       "</style>\n",
       "<table border=\"1\" class=\"dataframe\">\n",
       "  <thead>\n",
       "    <tr style=\"text-align: right;\">\n",
       "      <th></th>\n",
       "      <th>inchi_key</th>\n",
       "      <th>inchi</th>\n",
       "      <th>name</th>\n",
       "      <th>estate_bit_6</th>\n",
       "      <th>estate_bit_7</th>\n",
       "      <th>estate_bit_8</th>\n",
       "      <th>estate_bit_9</th>\n",
       "      <th>estate_bit_10</th>\n",
       "      <th>estate_bit_11</th>\n",
       "      <th>estate_bit_12</th>\n",
       "      <th>...</th>\n",
       "      <th>substructure_bit_134</th>\n",
       "      <th>substructure_bit_135</th>\n",
       "      <th>substructure_bit_278</th>\n",
       "      <th>substructure_bit_286</th>\n",
       "      <th>substructure_bit_290</th>\n",
       "      <th>substructure_bit_299</th>\n",
       "      <th>substructure_bit_300</th>\n",
       "      <th>substructure_bit_302</th>\n",
       "      <th>substructure_bit_304</th>\n",
       "      <th>substructure_bit_306</th>\n",
       "    </tr>\n",
       "  </thead>\n",
       "  <tbody>\n",
       "    <tr>\n",
       "      <th>0</th>\n",
       "      <td>FWZOFSHJDAIJQE-UHFFFAOYSA-N</td>\n",
       "      <td>InChI=1S/C27H46O2Si2/c1-11-12-13-14-22-18-25(2...</td>\n",
       "      <td>Cannabidiol, O,O-bis trimethylsilyl ester</td>\n",
       "      <td>1</td>\n",
       "      <td>1</td>\n",
       "      <td>1</td>\n",
       "      <td>0</td>\n",
       "      <td>1</td>\n",
       "      <td>1</td>\n",
       "      <td>1</td>\n",
       "      <td>...</td>\n",
       "      <td>0</td>\n",
       "      <td>0</td>\n",
       "      <td>0</td>\n",
       "      <td>0</td>\n",
       "      <td>0</td>\n",
       "      <td>0</td>\n",
       "      <td>0</td>\n",
       "      <td>0</td>\n",
       "      <td>0</td>\n",
       "      <td>1</td>\n",
       "    </tr>\n",
       "    <tr>\n",
       "      <th>1</th>\n",
       "      <td>VUNXPEWGQXFNOL-UHFFFAOYSA-N</td>\n",
       "      <td>InChI=1S/C24H34O2Si/c1-8-9-10-11-18-15-21-23(2...</td>\n",
       "      <td>Cannabinol, O-trimethylsilyl-</td>\n",
       "      <td>1</td>\n",
       "      <td>0</td>\n",
       "      <td>1</td>\n",
       "      <td>0</td>\n",
       "      <td>0</td>\n",
       "      <td>1</td>\n",
       "      <td>0</td>\n",
       "      <td>...</td>\n",
       "      <td>0</td>\n",
       "      <td>0</td>\n",
       "      <td>1</td>\n",
       "      <td>0</td>\n",
       "      <td>0</td>\n",
       "      <td>0</td>\n",
       "      <td>0</td>\n",
       "      <td>0</td>\n",
       "      <td>0</td>\n",
       "      <td>1</td>\n",
       "    </tr>\n",
       "    <tr>\n",
       "      <th>2</th>\n",
       "      <td>JFPSLJJGWCHYOE-WOJBJXKFSA-N</td>\n",
       "      <td>InChI=1S/C24H38O2Si/c1-8-9-10-11-18-15-21-23(2...</td>\n",
       "      <td>Δ9-tetrahydrocannabinol, TMS derivative</td>\n",
       "      <td>1</td>\n",
       "      <td>0</td>\n",
       "      <td>1</td>\n",
       "      <td>0</td>\n",
       "      <td>1</td>\n",
       "      <td>1</td>\n",
       "      <td>0</td>\n",
       "      <td>...</td>\n",
       "      <td>0</td>\n",
       "      <td>0</td>\n",
       "      <td>1</td>\n",
       "      <td>0</td>\n",
       "      <td>0</td>\n",
       "      <td>0</td>\n",
       "      <td>0</td>\n",
       "      <td>0</td>\n",
       "      <td>0</td>\n",
       "      <td>1</td>\n",
       "    </tr>\n",
       "  </tbody>\n",
       "</table>\n",
       "<p>3 rows × 305 columns</p>\n",
       "</div>"
      ],
      "text/plain": [
       "                     inchi_key  \\\n",
       "0  FWZOFSHJDAIJQE-UHFFFAOYSA-N   \n",
       "1  VUNXPEWGQXFNOL-UHFFFAOYSA-N   \n",
       "2  JFPSLJJGWCHYOE-WOJBJXKFSA-N   \n",
       "\n",
       "                                               inchi  \\\n",
       "0  InChI=1S/C27H46O2Si2/c1-11-12-13-14-22-18-25(2...   \n",
       "1  InChI=1S/C24H34O2Si/c1-8-9-10-11-18-15-21-23(2...   \n",
       "2  InChI=1S/C24H38O2Si/c1-8-9-10-11-18-15-21-23(2...   \n",
       "\n",
       "                                        name  estate_bit_6  estate_bit_7  \\\n",
       "0  Cannabidiol, O,O-bis trimethylsilyl ester             1             1   \n",
       "1              Cannabinol, O-trimethylsilyl-             1             0   \n",
       "2    Δ9-tetrahydrocannabinol, TMS derivative             1             0   \n",
       "\n",
       "   estate_bit_8  estate_bit_9  estate_bit_10  estate_bit_11  estate_bit_12  \\\n",
       "0             1             0              1              1              1   \n",
       "1             1             0              0              1              0   \n",
       "2             1             0              1              1              0   \n",
       "\n",
       "   ...  substructure_bit_134  substructure_bit_135  substructure_bit_278  \\\n",
       "0  ...                     0                     0                     0   \n",
       "1  ...                     0                     0                     1   \n",
       "2  ...                     0                     0                     1   \n",
       "\n",
       "   substructure_bit_286  substructure_bit_290  substructure_bit_299  \\\n",
       "0                     0                     0                     0   \n",
       "1                     0                     0                     0   \n",
       "2                     0                     0                     0   \n",
       "\n",
       "   substructure_bit_300  substructure_bit_302  substructure_bit_304  \\\n",
       "0                     0                     0                     0   \n",
       "1                     0                     0                     0   \n",
       "2                     0                     0                     0   \n",
       "\n",
       "   substructure_bit_306  \n",
       "0                     1  \n",
       "1                     1  \n",
       "2                     1  \n",
       "\n",
       "[3 rows x 305 columns]"
      ]
     },
     "execution_count": 130,
     "metadata": {},
     "output_type": "execute_result"
    }
   ],
   "source": [
    "fingerprints_df.head(3)"
   ]
  },
  {
   "cell_type": "code",
   "execution_count": null,
   "metadata": {},
   "outputs": [
    {
     "name": "stdout",
     "output_type": "stream",
     "text": [
      "Dataframe shape is (104, 305)\n",
      "Dataframe shape is (104, 305)\n"
     ]
    }
   ],
   "source": [
    "print(f\"Dataframe shape is {fingerprints_df.shape}\")\n",
    "fingerprints_df = fingerprints_df.dropna(axis=0, how='any')\n",
    "print(f\"Dataframe shape is {fingerprints_df.shape}\")"
   ]
  },
  {
   "cell_type": "code",
   "execution_count": null,
   "metadata": {},
   "outputs": [],
   "source": [
    "fingerprints_df.to_csv(f'{embedding_folder}/fingerprint.csv', index=False)"
   ]
  },
  {
   "cell_type": "markdown",
   "metadata": {},
   "source": [
    "### Preprocess Spectra"
   ]
  },
  {
   "cell_type": "code",
   "execution_count": null,
   "metadata": {},
   "outputs": [
    {
     "data": {
      "text/plain": [
       "3144"
      ]
     },
     "execution_count": 133,
     "metadata": {},
     "output_type": "execute_result"
    }
   ],
   "source": [
    "spectra_documents = preprocess_file(spectra)\n",
    "len(spectra_documents)"
   ]
  },
  {
   "cell_type": "markdown",
   "metadata": {},
   "source": [
    "### Train Spec2Vec Model"
   ]
  },
  {
   "cell_type": "code",
   "execution_count": null,
   "metadata": {},
   "outputs": [],
   "source": [
    "EPOCHS = 25\n",
    "WORKERS = 6\n",
    "PROCESS_LOGGER = True"
   ]
  },
  {
   "cell_type": "code",
   "execution_count": null,
   "metadata": {},
   "outputs": [],
   "source": [
    "if model_file is None:\n",
    "    model = train_new_word2vec_model(spectra_documents, iterations=EPOCHS, workers=WORKERS, progress_logger=PROCESS_LOGGER)\n",
    "\n",
    "    model_file = f'{model_folder}/spec2vec.model'\n",
    "    model.save(model_file)"
   ]
  },
  {
   "cell_type": "markdown",
   "metadata": {},
   "source": [
    "### Construct Spec2Vec Embeddings"
   ]
  },
  {
   "cell_type": "code",
   "execution_count": null,
   "metadata": {},
   "outputs": [],
   "source": [
    "model = gensim.models.Word2Vec.load(model_file)\n",
    "model = Spec2Vec(model=model)"
   ]
  },
  {
   "cell_type": "code",
   "execution_count": null,
   "metadata": {},
   "outputs": [
    {
     "data": {
      "text/plain": [
       "(3144, 300)"
      ]
     },
     "execution_count": 137,
     "metadata": {},
     "output_type": "execute_result"
    }
   ],
   "source": [
    "embedding_df = []\n",
    "for spectra in spectra_documents:\n",
    "    inchikey = spectra.metadata.get('inchikey')\n",
    "\n",
    "    embedding = calc_vector(model.model, spectra)\n",
    "    embedding_df.append((inchikey, *embedding))\n",
    "embedding_df = pd.DataFrame(embedding_df, columns=['inchi_key', *[str(i) for i in range(len(embedding))]])\n",
    "embedding_df.set_index('inchi_key', inplace=True)\n",
    "embedding_df.shape"
   ]
  },
  {
   "cell_type": "code",
   "execution_count": null,
   "metadata": {},
   "outputs": [
    {
     "data": {
      "text/plain": [
       "(3082, 303)"
      ]
     },
     "execution_count": 138,
     "metadata": {},
     "output_type": "execute_result"
    }
   ],
   "source": [
    "descriptive_data = metadata_df[DESCRIPTIVE_COLUMNS].set_index('inchi_key')\n",
    "embedding_df = descriptive_data.join(embedding_df, how='inner').reset_index()\n",
    "other_columns = [c for c in embedding_df.columns if c not in DESCRIPTIVE_COLUMNS]\n",
    "embedding_df = embedding_df[DESCRIPTIVE_COLUMNS + other_columns]\n",
    "embedding_df.shape"
   ]
  },
  {
   "cell_type": "code",
   "execution_count": null,
   "metadata": {},
   "outputs": [],
   "source": [
    "embedding_df.to_csv(f'{embedding_folder}/spec2vec.csv', index=False)"
   ]
  },
  {
   "cell_type": "markdown",
   "metadata": {},
   "source": [
    "### Merge Fingerprints and Embeddings"
   ]
  },
  {
   "cell_type": "code",
   "execution_count": null,
   "metadata": {},
   "outputs": [
    {
     "data": {
      "text/plain": [
       "(104, 305)"
      ]
     },
     "execution_count": 140,
     "metadata": {},
     "output_type": "execute_result"
    }
   ],
   "source": [
    "fingerprint_df = pd.read_csv(f'{embedding_folder}/fingerprint.csv')\n",
    "fingerprint_df.shape"
   ]
  },
  {
   "cell_type": "code",
   "execution_count": null,
   "metadata": {},
   "outputs": [
    {
     "data": {
      "text/plain": [
       "(3082, 303)"
      ]
     },
     "execution_count": 141,
     "metadata": {},
     "output_type": "execute_result"
    }
   ],
   "source": [
    "embedding_df = pd.read_csv(f'{embedding_folder}/spec2vec.csv')\n",
    "embedding_df.shape"
   ]
  },
  {
   "cell_type": "code",
   "execution_count": null,
   "metadata": {},
   "outputs": [
    {
     "name": "stdout",
     "output_type": "stream",
     "text": [
      "Missing in fingerprint:\n",
      "{'OIBARLCQMDCDSG-NSHDSACASA-N', 'AYONZGOWFAKCNA-UHFFFAOYSA-N'}\n",
      "Missing in embedding:\n",
      "{'HBWAMRSFAPVOKZ-UHFFFAOYSA-N'}\n"
     ]
    }
   ],
   "source": [
    "fingerprint_keys = set(fingerprint_df['inchi_key'])\n",
    "embedding_keys = set(embedding_df['inchi_key'])\n",
    "\n",
    "print(\"Missing in fingerprint:\")\n",
    "print(fingerprint_keys - embedding_keys)\n",
    "print(\"Missing in embedding:\")\n",
    "print(embedding_keys - fingerprint_keys)"
   ]
  },
  {
   "cell_type": "code",
   "execution_count": null,
   "metadata": {},
   "outputs": [],
   "source": [
    "prefixed_fingerprint_df = fingerprint_df.copy()\n",
    "prefixed_fingerprint_df.set_index(DESCRIPTIVE_COLUMNS, inplace=True)\n",
    "prefixed_fingerprint_df = prefixed_fingerprint_df[prefixed_fingerprint_df.columns[prefixed_fingerprint_df.dtypes != 'object']]\n",
    "prefixed_fingerprint_df = prefixed_fingerprint_df.add_prefix('fingerprint_')"
   ]
  },
  {
   "cell_type": "code",
   "execution_count": null,
   "metadata": {},
   "outputs": [],
   "source": [
    "prefixed_embedding_df = embedding_df.copy()\n",
    "prefixed_embedding_df.set_index(DESCRIPTIVE_COLUMNS, inplace=True)\n",
    "prefixed_embedding_df = prefixed_embedding_df[prefixed_embedding_df.columns[prefixed_embedding_df.dtypes != 'object']]\n",
    "prefixed_embedding_df = prefixed_embedding_df.add_prefix('embedding_')"
   ]
  },
  {
   "cell_type": "code",
   "execution_count": null,
   "metadata": {},
   "outputs": [
    {
     "data": {
      "text/plain": [
       "(3052, 605)"
      ]
     },
     "execution_count": 145,
     "metadata": {},
     "output_type": "execute_result"
    }
   ],
   "source": [
    "merged_df = prefixed_fingerprint_df.join(prefixed_embedding_df, how='inner')\n",
    "merged_df.reset_index(inplace=True)\n",
    "merged_df.shape"
   ]
  },
  {
   "cell_type": "code",
   "execution_count": null,
   "metadata": {},
   "outputs": [],
   "source": [
    "merged_df.to_csv(f'{embedding_folder}/merged.csv', index=False)"
   ]
  }
 ],
 "metadata": {
  "kernelspec": {
   "display_name": "ijs",
   "language": "python",
   "name": "python3"
  },
  "language_info": {
   "codemirror_mode": {
    "name": "ipython",
    "version": 3
   },
   "file_extension": ".py",
   "mimetype": "text/x-python",
   "name": "python",
   "nbconvert_exporter": "python",
   "pygments_lexer": "ipython3",
   "version": "3.9.16"
  },
  "orig_nbformat": 4
 },
 "nbformat": 4,
 "nbformat_minor": 2
}
