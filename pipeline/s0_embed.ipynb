{
 "cells": [
  {
   "cell_type": "markdown",
   "metadata": {},
   "source": [
    "# This is Step 0 in the Pipeline - Embedding\n",
    "With this notebook we generate molecular fingerprints and Spec2Vec embeddings."
   ]
  },
  {
   "cell_type": "markdown",
   "metadata": {},
   "source": [
    "### Imports"
   ]
  },
  {
   "cell_type": "code",
   "execution_count": 1,
   "metadata": {},
   "outputs": [],
   "source": [
    "import pandas as pd\n",
    "import os\n",
    "from spec2vec.model_building import train_new_word2vec_model\n",
    "from mass_spectra.to_fingerprint import generate_fingerprint, AVAILABLE_FINGERPRINTS\n",
    "from mass_spectra.train_spec2vec import preprocess_file\n",
    "from spec2vec import Spec2Vec, calc_vector\n",
    "import gensim"
   ]
  },
  {
   "cell_type": "code",
   "execution_count": 2,
   "metadata": {},
   "outputs": [
    {
     "data": {
      "text/plain": [
       "<module 'mass_spectra.train_spec2vec' from 'c:\\\\Users\\\\aleks\\\\Projects\\\\IJS\\\\mass_spectra\\\\mass_spectra\\\\train_spec2vec.py'>"
      ]
     },
     "execution_count": 2,
     "metadata": {},
     "output_type": "execute_result"
    }
   ],
   "source": [
    "import importlib\n",
    "import mass_spectra.train_spec2vec\n",
    "importlib.reload(mass_spectra.train_spec2vec)"
   ]
  },
  {
   "cell_type": "markdown",
   "metadata": {},
   "source": [
    "### Define source files and output folder"
   ]
  },
  {
   "cell_type": "code",
   "execution_count": 3,
   "metadata": {},
   "outputs": [],
   "source": [
    "metadata = './source/dataset/Metadata_test_TMS_derivatives.xlsx'\n",
    "spectra = './source/dataset/Test dataset_TMS_RAW.mgf'\n",
    "model_folder = './source/spec2vec/all_positive/'\n",
    "embedding_folder = './source/embedding/all_positive_all_fingerprints/'"
   ]
  },
  {
   "cell_type": "code",
   "execution_count": 4,
   "metadata": {},
   "outputs": [],
   "source": [
    "model_file = './source/spec2vec/all_positive/spec2vec.model' # Can be None if the pipeline should train a new model, otherwise specify path to model file (.model ending)"
   ]
  },
  {
   "cell_type": "code",
   "execution_count": 5,
   "metadata": {},
   "outputs": [],
   "source": [
    "assert os.path.isfile(metadata)\n",
    "assert os.path.isfile(spectra)\n",
    "assert os.path.isdir(model_folder)\n",
    "assert os.path.isdir(embedding_folder)\n",
    "assert model_file is None or os.path.isfile(model_file)\n",
    "assert metadata.endswith('.xlsx')\n",
    "assert spectra.endswith('.mgf')\n",
    "assert model_file is None or model_file.endswith('.model')"
   ]
  },
  {
   "cell_type": "markdown",
   "metadata": {},
   "source": [
    "### Define Parameters"
   ]
  },
  {
   "cell_type": "code",
   "execution_count": 6,
   "metadata": {},
   "outputs": [
    {
     "data": {
      "text/plain": [
       "['AtomPairs2DFingerprinter',\n",
       " 'CircularFingerprinter',\n",
       " 'EStateFingerprinter',\n",
       " 'ExtendedFingerprinter',\n",
       " 'KlekotaRothFingerprinter',\n",
       " 'MACCSFingerprinter',\n",
       " 'PubchemFingerprinter',\n",
       " 'SubstructureFingerprinter']"
      ]
     },
     "execution_count": 6,
     "metadata": {},
     "output_type": "execute_result"
    }
   ],
   "source": [
    "AVAILABLE_FINGERPRINTS"
   ]
  },
  {
   "cell_type": "code",
   "execution_count": 7,
   "metadata": {},
   "outputs": [],
   "source": [
    "FINGERPRINTS = ['EStateFingerprinter', 'MACCSFingerprinter', 'PubchemFingerprinter', 'SubstructureFingerprinter']"
   ]
  },
  {
   "cell_type": "code",
   "execution_count": 8,
   "metadata": {},
   "outputs": [],
   "source": [
    "assert set(FINGERPRINTS).issubset(set(AVAILABLE_FINGERPRINTS))"
   ]
  },
  {
   "cell_type": "markdown",
   "metadata": {},
   "source": [
    "### Read Source Files"
   ]
  },
  {
   "cell_type": "code",
   "execution_count": 9,
   "metadata": {},
   "outputs": [
    {
     "name": "stdout",
     "output_type": "stream",
     "text": [
      "<class 'pandas.core.frame.DataFrame'>\n",
      "RangeIndex: 106 entries, 0 to 105\n",
      "Data columns (total 15 columns):\n",
      " #   Column                    Non-Null Count  Dtype  \n",
      "---  ------                    --------------  -----  \n",
      " 0   Name                      106 non-null    object \n",
      " 1   Molecular formula         106 non-null    object \n",
      " 2   Exact mass                106 non-null    float64\n",
      " 3   PubChem ID                106 non-null    object \n",
      " 4   InChI                     105 non-null    object \n",
      " 5   InChI Key                 106 non-null    object \n",
      " 6   SMILEs                    105 non-null    object \n",
      " 7   Parent compound           106 non-null    object \n",
      " 8   Molecular formula.1       106 non-null    object \n",
      " 9   Exact mass.1              106 non-null    float64\n",
      " 10  PubChem ID.1              106 non-null    object \n",
      " 11  InChI parent              106 non-null    object \n",
      " 12  InChI Key parent          106 non-null    object \n",
      " 13  SMILEs parent             106 non-null    object \n",
      " 14  present_in_train_dataset  106 non-null    int64  \n",
      "dtypes: float64(2), int64(1), object(12)\n",
      "memory usage: 12.5+ KB\n"
     ]
    }
   ],
   "source": [
    "metadata_df = pd.read_excel(metadata)\n",
    "metadata_df.info()"
   ]
  },
  {
   "cell_type": "code",
   "execution_count": 10,
   "metadata": {},
   "outputs": [
    {
     "name": "stdout",
     "output_type": "stream",
     "text": [
      "Dataframe shape is (106, 15)\n",
      "Dataframe shape is (105, 15)\n"
     ]
    }
   ],
   "source": [
    "print(f\"Dataframe shape is {metadata_df.shape}\")\n",
    "metadata_df = metadata_df.dropna(axis=0, how='any')\n",
    "print(f\"Dataframe shape is {metadata_df.shape}\")"
   ]
  },
  {
   "cell_type": "code",
   "execution_count": 11,
   "metadata": {},
   "outputs": [],
   "source": [
    "# Sanitize source columns\n",
    "def sanitize(s):\n",
    "    s = s.lower()\n",
    "    s = s.strip()\n",
    "    s = s.replace(' ', '_')\n",
    "    return s\n",
    "metadata_df.rename(columns={c: sanitize(c) for c in metadata_df.columns}, inplace=True)\n",
    "\n",
    "# Sanitize data in string columns\n",
    "metadata_df[metadata_df.columns[metadata_df.dtypes == 'object']] = metadata_df[metadata_df.columns[metadata_df.dtypes == 'object']].applymap(lambda x: x.strip() if isinstance(x, str) else x)"
   ]
  },
  {
   "cell_type": "code",
   "execution_count": 12,
   "metadata": {},
   "outputs": [
    {
     "name": "stdout",
     "output_type": "stream",
     "text": [
      "<class 'pandas.core.frame.DataFrame'>\n",
      "Index: 105 entries, 0 to 105\n",
      "Data columns (total 15 columns):\n",
      " #   Column                    Non-Null Count  Dtype  \n",
      "---  ------                    --------------  -----  \n",
      " 0   name                      105 non-null    object \n",
      " 1   molecular_formula         105 non-null    object \n",
      " 2   exact_mass                105 non-null    float64\n",
      " 3   pubchem_id                105 non-null    object \n",
      " 4   inchi                     105 non-null    object \n",
      " 5   inchi_key                 105 non-null    object \n",
      " 6   smiles                    105 non-null    object \n",
      " 7   parent_compound           105 non-null    object \n",
      " 8   molecular_formula.1       105 non-null    object \n",
      " 9   exact_mass.1              105 non-null    float64\n",
      " 10  pubchem_id.1              105 non-null    object \n",
      " 11  inchi_parent              105 non-null    object \n",
      " 12  inchi_key_parent          105 non-null    object \n",
      " 13  smiles_parent             105 non-null    object \n",
      " 14  present_in_train_dataset  105 non-null    int64  \n",
      "dtypes: float64(2), int64(1), object(12)\n",
      "memory usage: 13.1+ KB\n"
     ]
    }
   ],
   "source": [
    "metadata_df.info()"
   ]
  },
  {
   "attachments": {},
   "cell_type": "markdown",
   "metadata": {},
   "source": [
    "### Construct Fingerprints"
   ]
  },
  {
   "cell_type": "code",
   "execution_count": 13,
   "metadata": {},
   "outputs": [
    {
     "name": "stdout",
     "output_type": "stream",
     "text": [
      "Generating EStateFingerprinter fingerprint\n",
      "Converting 105 InChI keys to 79 bit EStateFingerprinter fingerprint\n",
      "Error Number 0 at idx 89 converting InChI key InChI=1S/C25H37NO4Si2/c1-16(27)25(30-32(6,7)8)12-11-18-19-15-17-9-10-20(29-31(3,4)5)22-21(17)24(18,23(25)28-22)13-14-26(19)2/h9-12: HTTPSConnectionPool(host='www.ebi.ac.uk', port=443): Max retries exceeded with url: /unichem/legacy/rest/inchi/InChI=1S/C25H37NO4Si2/c1-16(27)25(30-32(6,7)8)12-11-18-19-15-17-9-10-20(29-31(3,4)5)22-21(17)24(18,23(25)28-22)13-14-26(19)2/h9-12 (Caused by ResponseError('too many 400 error responses'))\n",
      "Error Number 1 at idx 89 converting InChI key InChI=1S/C25H37NO4Si2/c1-16(27)25(30-32(6,7)8)12-11-18-19-15-17-9-10-20(29-31(3,4)5)22-21(17)24(18,23(25)28-22)13-14-26(19)2/h9-12: HTTPSConnectionPool(host='www.ebi.ac.uk', port=443): Max retries exceeded with url: /unichem/legacy/rest/inchi/InChI=1S/C25H37NO4Si2/c1-16(27)25(30-32(6,7)8)12-11-18-19-15-17-9-10-20(29-31(3,4)5)22-21(17)24(18,23(25)28-22)13-14-26(19)2/h9-12 (Caused by ResponseError('too many 400 error responses'))\n",
      "Error Number 2 at idx 89 converting InChI key InChI=1S/C25H37NO4Si2/c1-16(27)25(30-32(6,7)8)12-11-18-19-15-17-9-10-20(29-31(3,4)5)22-21(17)24(18,23(25)28-22)13-14-26(19)2/h9-12: HTTPSConnectionPool(host='www.ebi.ac.uk', port=443): Max retries exceeded with url: /unichem/legacy/rest/inchi/InChI=1S/C25H37NO4Si2/c1-16(27)25(30-32(6,7)8)12-11-18-19-15-17-9-10-20(29-31(3,4)5)22-21(17)24(18,23(25)28-22)13-14-26(19)2/h9-12 (Caused by ResponseError('too many 400 error responses'))\n",
      "Cound not convert InChI key InChI=1S/C25H37NO4Si2/c1-16(27)25(30-32(6,7)8)12-11-18-19-15-17-9-10-20(29-31(3,4)5)22-21(17)24(18,23(25)28-22)13-14-26(19)2/h9-12...skipping\n",
      "Generating MACCSFingerprinter fingerprint\n",
      "Converting 105 InChI keys to 166 bit MACCSFingerprinter fingerprint\n",
      "Error Number 0 at idx 89 converting InChI key InChI=1S/C25H37NO4Si2/c1-16(27)25(30-32(6,7)8)12-11-18-19-15-17-9-10-20(29-31(3,4)5)22-21(17)24(18,23(25)28-22)13-14-26(19)2/h9-12: HTTPSConnectionPool(host='www.ebi.ac.uk', port=443): Max retries exceeded with url: /unichem/legacy/rest/inchi/InChI=1S/C25H37NO4Si2/c1-16(27)25(30-32(6,7)8)12-11-18-19-15-17-9-10-20(29-31(3,4)5)22-21(17)24(18,23(25)28-22)13-14-26(19)2/h9-12 (Caused by ResponseError('too many 400 error responses'))\n",
      "Error Number 1 at idx 89 converting InChI key InChI=1S/C25H37NO4Si2/c1-16(27)25(30-32(6,7)8)12-11-18-19-15-17-9-10-20(29-31(3,4)5)22-21(17)24(18,23(25)28-22)13-14-26(19)2/h9-12: HTTPSConnectionPool(host='www.ebi.ac.uk', port=443): Max retries exceeded with url: /unichem/legacy/rest/inchi/InChI=1S/C25H37NO4Si2/c1-16(27)25(30-32(6,7)8)12-11-18-19-15-17-9-10-20(29-31(3,4)5)22-21(17)24(18,23(25)28-22)13-14-26(19)2/h9-12 (Caused by ResponseError('too many 400 error responses'))\n",
      "Error Number 2 at idx 89 converting InChI key InChI=1S/C25H37NO4Si2/c1-16(27)25(30-32(6,7)8)12-11-18-19-15-17-9-10-20(29-31(3,4)5)22-21(17)24(18,23(25)28-22)13-14-26(19)2/h9-12: HTTPSConnectionPool(host='www.ebi.ac.uk', port=443): Max retries exceeded with url: /unichem/legacy/rest/inchi/InChI=1S/C25H37NO4Si2/c1-16(27)25(30-32(6,7)8)12-11-18-19-15-17-9-10-20(29-31(3,4)5)22-21(17)24(18,23(25)28-22)13-14-26(19)2/h9-12 (Caused by ResponseError('too many 400 error responses'))\n",
      "Cound not convert InChI key InChI=1S/C25H37NO4Si2/c1-16(27)25(30-32(6,7)8)12-11-18-19-15-17-9-10-20(29-31(3,4)5)22-21(17)24(18,23(25)28-22)13-14-26(19)2/h9-12...skipping\n",
      "Generating PubchemFingerprinter fingerprint\n",
      "Converting 105 InChI keys to 881 bit PubchemFingerprinter fingerprint\n",
      "Error Number 0 at idx 89 converting InChI key InChI=1S/C25H37NO4Si2/c1-16(27)25(30-32(6,7)8)12-11-18-19-15-17-9-10-20(29-31(3,4)5)22-21(17)24(18,23(25)28-22)13-14-26(19)2/h9-12: HTTPSConnectionPool(host='www.ebi.ac.uk', port=443): Max retries exceeded with url: /unichem/legacy/rest/inchi/InChI=1S/C25H37NO4Si2/c1-16(27)25(30-32(6,7)8)12-11-18-19-15-17-9-10-20(29-31(3,4)5)22-21(17)24(18,23(25)28-22)13-14-26(19)2/h9-12 (Caused by ResponseError('too many 400 error responses'))\n",
      "Error Number 1 at idx 89 converting InChI key InChI=1S/C25H37NO4Si2/c1-16(27)25(30-32(6,7)8)12-11-18-19-15-17-9-10-20(29-31(3,4)5)22-21(17)24(18,23(25)28-22)13-14-26(19)2/h9-12: HTTPSConnectionPool(host='www.ebi.ac.uk', port=443): Max retries exceeded with url: /unichem/legacy/rest/inchi/InChI=1S/C25H37NO4Si2/c1-16(27)25(30-32(6,7)8)12-11-18-19-15-17-9-10-20(29-31(3,4)5)22-21(17)24(18,23(25)28-22)13-14-26(19)2/h9-12 (Caused by ResponseError('too many 400 error responses'))\n",
      "Error Number 2 at idx 89 converting InChI key InChI=1S/C25H37NO4Si2/c1-16(27)25(30-32(6,7)8)12-11-18-19-15-17-9-10-20(29-31(3,4)5)22-21(17)24(18,23(25)28-22)13-14-26(19)2/h9-12: HTTPSConnectionPool(host='www.ebi.ac.uk', port=443): Max retries exceeded with url: /unichem/legacy/rest/inchi/InChI=1S/C25H37NO4Si2/c1-16(27)25(30-32(6,7)8)12-11-18-19-15-17-9-10-20(29-31(3,4)5)22-21(17)24(18,23(25)28-22)13-14-26(19)2/h9-12 (Caused by ResponseError('too many 400 error responses'))\n",
      "Cound not convert InChI key InChI=1S/C25H37NO4Si2/c1-16(27)25(30-32(6,7)8)12-11-18-19-15-17-9-10-20(29-31(3,4)5)22-21(17)24(18,23(25)28-22)13-14-26(19)2/h9-12...skipping\n",
      "Generating SubstructureFingerprinter fingerprint\n",
      "Converting 105 InChI keys to 307 bit SubstructureFingerprinter fingerprint\n",
      "Error Number 0 at idx 89 converting InChI key InChI=1S/C25H37NO4Si2/c1-16(27)25(30-32(6,7)8)12-11-18-19-15-17-9-10-20(29-31(3,4)5)22-21(17)24(18,23(25)28-22)13-14-26(19)2/h9-12: HTTPSConnectionPool(host='www.ebi.ac.uk', port=443): Max retries exceeded with url: /unichem/legacy/rest/inchi/InChI=1S/C25H37NO4Si2/c1-16(27)25(30-32(6,7)8)12-11-18-19-15-17-9-10-20(29-31(3,4)5)22-21(17)24(18,23(25)28-22)13-14-26(19)2/h9-12 (Caused by ResponseError('too many 400 error responses'))\n",
      "Error Number 1 at idx 89 converting InChI key InChI=1S/C25H37NO4Si2/c1-16(27)25(30-32(6,7)8)12-11-18-19-15-17-9-10-20(29-31(3,4)5)22-21(17)24(18,23(25)28-22)13-14-26(19)2/h9-12: HTTPSConnectionPool(host='www.ebi.ac.uk', port=443): Max retries exceeded with url: /unichem/legacy/rest/inchi/InChI=1S/C25H37NO4Si2/c1-16(27)25(30-32(6,7)8)12-11-18-19-15-17-9-10-20(29-31(3,4)5)22-21(17)24(18,23(25)28-22)13-14-26(19)2/h9-12 (Caused by ResponseError('too many 400 error responses'))\n",
      "Error Number 2 at idx 89 converting InChI key InChI=1S/C25H37NO4Si2/c1-16(27)25(30-32(6,7)8)12-11-18-19-15-17-9-10-20(29-31(3,4)5)22-21(17)24(18,23(25)28-22)13-14-26(19)2/h9-12: HTTPSConnectionPool(host='www.ebi.ac.uk', port=443): Max retries exceeded with url: /unichem/legacy/rest/inchi/InChI=1S/C25H37NO4Si2/c1-16(27)25(30-32(6,7)8)12-11-18-19-15-17-9-10-20(29-31(3,4)5)22-21(17)24(18,23(25)28-22)13-14-26(19)2/h9-12 (Caused by ResponseError('too many 400 error responses'))\n",
      "Cound not convert InChI key InChI=1S/C25H37NO4Si2/c1-16(27)25(30-32(6,7)8)12-11-18-19-15-17-9-10-20(29-31(3,4)5)22-21(17)24(18,23(25)28-22)13-14-26(19)2/h9-12...skipping\n"
     ]
    }
   ],
   "source": [
    "# Generate fingerprints (can take some time depending on the number of molecules)\n",
    "# If the fingerprint is not available it will be replaced by None values\n",
    "fingerprints = generate_fingerprint(FINGERPRINTS, metadata_df['inchi'])"
   ]
  },
  {
   "cell_type": "code",
   "execution_count": 15,
   "metadata": {},
   "outputs": [],
   "source": [
    "# join all fingerprints dataframes by inchi column. Use fingerprint name as prefix without 'Fingerprinter' suffix\n",
    "merged = fingerprints[FINGERPRINTS[0]]\n"
   ]
  },
  {
   "cell_type": "code",
   "execution_count": 16,
   "metadata": {},
   "outputs": [
    {
     "data": {
      "text/html": [
       "<div>\n",
       "<style scoped>\n",
       "    .dataframe tbody tr th:only-of-type {\n",
       "        vertical-align: middle;\n",
       "    }\n",
       "\n",
       "    .dataframe tbody tr th {\n",
       "        vertical-align: top;\n",
       "    }\n",
       "\n",
       "    .dataframe thead th {\n",
       "        text-align: right;\n",
       "    }\n",
       "</style>\n",
       "<table border=\"1\" class=\"dataframe\">\n",
       "  <thead>\n",
       "    <tr style=\"text-align: right;\">\n",
       "      <th></th>\n",
       "      <th>inchi</th>\n",
       "      <th>bit_0</th>\n",
       "      <th>bit_1</th>\n",
       "      <th>bit_2</th>\n",
       "      <th>bit_3</th>\n",
       "      <th>bit_4</th>\n",
       "      <th>bit_5</th>\n",
       "      <th>bit_6</th>\n",
       "      <th>bit_7</th>\n",
       "      <th>bit_8</th>\n",
       "      <th>...</th>\n",
       "      <th>bit_69</th>\n",
       "      <th>bit_70</th>\n",
       "      <th>bit_71</th>\n",
       "      <th>bit_72</th>\n",
       "      <th>bit_73</th>\n",
       "      <th>bit_74</th>\n",
       "      <th>bit_75</th>\n",
       "      <th>bit_76</th>\n",
       "      <th>bit_77</th>\n",
       "      <th>bit_78</th>\n",
       "    </tr>\n",
       "  </thead>\n",
       "  <tbody>\n",
       "    <tr>\n",
       "      <th>0</th>\n",
       "      <td>InChI=1S/C27H46O2Si2/c1-11-12-13-14-22-18-25(2...</td>\n",
       "      <td>0</td>\n",
       "      <td>0</td>\n",
       "      <td>0</td>\n",
       "      <td>0</td>\n",
       "      <td>0</td>\n",
       "      <td>0</td>\n",
       "      <td>1</td>\n",
       "      <td>1</td>\n",
       "      <td>1</td>\n",
       "      <td>...</td>\n",
       "      <td>0</td>\n",
       "      <td>0</td>\n",
       "      <td>0</td>\n",
       "      <td>0</td>\n",
       "      <td>0</td>\n",
       "      <td>0</td>\n",
       "      <td>0</td>\n",
       "      <td>0</td>\n",
       "      <td>0</td>\n",
       "      <td>0</td>\n",
       "    </tr>\n",
       "    <tr>\n",
       "      <th>1</th>\n",
       "      <td>InChI=1S/C24H34O2Si/c1-8-9-10-11-18-15-21-23(2...</td>\n",
       "      <td>0</td>\n",
       "      <td>0</td>\n",
       "      <td>0</td>\n",
       "      <td>0</td>\n",
       "      <td>0</td>\n",
       "      <td>0</td>\n",
       "      <td>1</td>\n",
       "      <td>0</td>\n",
       "      <td>1</td>\n",
       "      <td>...</td>\n",
       "      <td>0</td>\n",
       "      <td>0</td>\n",
       "      <td>0</td>\n",
       "      <td>0</td>\n",
       "      <td>0</td>\n",
       "      <td>0</td>\n",
       "      <td>0</td>\n",
       "      <td>0</td>\n",
       "      <td>0</td>\n",
       "      <td>0</td>\n",
       "    </tr>\n",
       "    <tr>\n",
       "      <th>2</th>\n",
       "      <td>InChI=1S/C24H38O2Si/c1-8-9-10-11-18-15-21-23(2...</td>\n",
       "      <td>0</td>\n",
       "      <td>0</td>\n",
       "      <td>0</td>\n",
       "      <td>0</td>\n",
       "      <td>0</td>\n",
       "      <td>0</td>\n",
       "      <td>1</td>\n",
       "      <td>0</td>\n",
       "      <td>1</td>\n",
       "      <td>...</td>\n",
       "      <td>0</td>\n",
       "      <td>0</td>\n",
       "      <td>0</td>\n",
       "      <td>0</td>\n",
       "      <td>0</td>\n",
       "      <td>0</td>\n",
       "      <td>0</td>\n",
       "      <td>0</td>\n",
       "      <td>0</td>\n",
       "      <td>0</td>\n",
       "    </tr>\n",
       "    <tr>\n",
       "      <th>3</th>\n",
       "      <td>InChI=1S/C24H38O2Si/c1-8-9-10-13-20-17-22-21(2...</td>\n",
       "      <td>0</td>\n",
       "      <td>0</td>\n",
       "      <td>0</td>\n",
       "      <td>0</td>\n",
       "      <td>0</td>\n",
       "      <td>0</td>\n",
       "      <td>1</td>\n",
       "      <td>0</td>\n",
       "      <td>1</td>\n",
       "      <td>...</td>\n",
       "      <td>0</td>\n",
       "      <td>0</td>\n",
       "      <td>0</td>\n",
       "      <td>0</td>\n",
       "      <td>0</td>\n",
       "      <td>0</td>\n",
       "      <td>0</td>\n",
       "      <td>0</td>\n",
       "      <td>0</td>\n",
       "      <td>0</td>\n",
       "    </tr>\n",
       "    <tr>\n",
       "      <th>4</th>\n",
       "      <td>InChI=1S/C31H54O4Si3/c1-14-15-16-17-24-21-27(3...</td>\n",
       "      <td>0</td>\n",
       "      <td>0</td>\n",
       "      <td>0</td>\n",
       "      <td>0</td>\n",
       "      <td>0</td>\n",
       "      <td>0</td>\n",
       "      <td>1</td>\n",
       "      <td>1</td>\n",
       "      <td>1</td>\n",
       "      <td>...</td>\n",
       "      <td>0</td>\n",
       "      <td>0</td>\n",
       "      <td>0</td>\n",
       "      <td>0</td>\n",
       "      <td>0</td>\n",
       "      <td>0</td>\n",
       "      <td>0</td>\n",
       "      <td>0</td>\n",
       "      <td>0</td>\n",
       "      <td>0</td>\n",
       "    </tr>\n",
       "    <tr>\n",
       "      <th>...</th>\n",
       "      <td>...</td>\n",
       "      <td>...</td>\n",
       "      <td>...</td>\n",
       "      <td>...</td>\n",
       "      <td>...</td>\n",
       "      <td>...</td>\n",
       "      <td>...</td>\n",
       "      <td>...</td>\n",
       "      <td>...</td>\n",
       "      <td>...</td>\n",
       "      <td>...</td>\n",
       "      <td>...</td>\n",
       "      <td>...</td>\n",
       "      <td>...</td>\n",
       "      <td>...</td>\n",
       "      <td>...</td>\n",
       "      <td>...</td>\n",
       "      <td>...</td>\n",
       "      <td>...</td>\n",
       "      <td>...</td>\n",
       "      <td>...</td>\n",
       "    </tr>\n",
       "    <tr>\n",
       "      <th>100</th>\n",
       "      <td>InChI=1S/C25H44O3Si2/c1-24-14-13-18(26)15-17(2...</td>\n",
       "      <td>0</td>\n",
       "      <td>0</td>\n",
       "      <td>0</td>\n",
       "      <td>0</td>\n",
       "      <td>0</td>\n",
       "      <td>0</td>\n",
       "      <td>1</td>\n",
       "      <td>0</td>\n",
       "      <td>1</td>\n",
       "      <td>...</td>\n",
       "      <td>0</td>\n",
       "      <td>0</td>\n",
       "      <td>0</td>\n",
       "      <td>0</td>\n",
       "      <td>0</td>\n",
       "      <td>0</td>\n",
       "      <td>0</td>\n",
       "      <td>0</td>\n",
       "      <td>0</td>\n",
       "      <td>0</td>\n",
       "    </tr>\n",
       "    <tr>\n",
       "      <th>101</th>\n",
       "      <td>InChI=1S/C22H34O3Si/c1-21-11-10-15(23)12-14(21...</td>\n",
       "      <td>0</td>\n",
       "      <td>0</td>\n",
       "      <td>0</td>\n",
       "      <td>0</td>\n",
       "      <td>0</td>\n",
       "      <td>0</td>\n",
       "      <td>1</td>\n",
       "      <td>0</td>\n",
       "      <td>1</td>\n",
       "      <td>...</td>\n",
       "      <td>0</td>\n",
       "      <td>0</td>\n",
       "      <td>0</td>\n",
       "      <td>0</td>\n",
       "      <td>0</td>\n",
       "      <td>0</td>\n",
       "      <td>0</td>\n",
       "      <td>0</td>\n",
       "      <td>0</td>\n",
       "      <td>0</td>\n",
       "    </tr>\n",
       "    <tr>\n",
       "      <th>102</th>\n",
       "      <td>InChI=1S/C25H46O2Si2/c1-24-15-13-19(26-28(3,4)...</td>\n",
       "      <td>0</td>\n",
       "      <td>0</td>\n",
       "      <td>0</td>\n",
       "      <td>0</td>\n",
       "      <td>0</td>\n",
       "      <td>0</td>\n",
       "      <td>1</td>\n",
       "      <td>0</td>\n",
       "      <td>1</td>\n",
       "      <td>...</td>\n",
       "      <td>0</td>\n",
       "      <td>0</td>\n",
       "      <td>0</td>\n",
       "      <td>0</td>\n",
       "      <td>0</td>\n",
       "      <td>0</td>\n",
       "      <td>0</td>\n",
       "      <td>0</td>\n",
       "      <td>0</td>\n",
       "      <td>0</td>\n",
       "    </tr>\n",
       "    <tr>\n",
       "      <th>103</th>\n",
       "      <td>InChI=1S/C22H38O2Si/c1-21-12-10-16(23)14-15(21...</td>\n",
       "      <td>0</td>\n",
       "      <td>0</td>\n",
       "      <td>0</td>\n",
       "      <td>0</td>\n",
       "      <td>0</td>\n",
       "      <td>0</td>\n",
       "      <td>1</td>\n",
       "      <td>0</td>\n",
       "      <td>1</td>\n",
       "      <td>...</td>\n",
       "      <td>0</td>\n",
       "      <td>0</td>\n",
       "      <td>0</td>\n",
       "      <td>0</td>\n",
       "      <td>0</td>\n",
       "      <td>0</td>\n",
       "      <td>0</td>\n",
       "      <td>0</td>\n",
       "      <td>0</td>\n",
       "      <td>0</td>\n",
       "    </tr>\n",
       "    <tr>\n",
       "      <th>104</th>\n",
       "      <td>InChI=1S/C17H21NO2Si/c1-21(2,3)20-17(19)13-14-...</td>\n",
       "      <td>0</td>\n",
       "      <td>0</td>\n",
       "      <td>0</td>\n",
       "      <td>0</td>\n",
       "      <td>0</td>\n",
       "      <td>0</td>\n",
       "      <td>1</td>\n",
       "      <td>0</td>\n",
       "      <td>1</td>\n",
       "      <td>...</td>\n",
       "      <td>0</td>\n",
       "      <td>0</td>\n",
       "      <td>0</td>\n",
       "      <td>0</td>\n",
       "      <td>0</td>\n",
       "      <td>0</td>\n",
       "      <td>0</td>\n",
       "      <td>0</td>\n",
       "      <td>0</td>\n",
       "      <td>0</td>\n",
       "    </tr>\n",
       "  </tbody>\n",
       "</table>\n",
       "<p>104 rows × 80 columns</p>\n",
       "</div>"
      ],
      "text/plain": [
       "                                                 inchi  bit_0  bit_1  bit_2  \\\n",
       "0    InChI=1S/C27H46O2Si2/c1-11-12-13-14-22-18-25(2...      0      0      0   \n",
       "1    InChI=1S/C24H34O2Si/c1-8-9-10-11-18-15-21-23(2...      0      0      0   \n",
       "2    InChI=1S/C24H38O2Si/c1-8-9-10-11-18-15-21-23(2...      0      0      0   \n",
       "3    InChI=1S/C24H38O2Si/c1-8-9-10-13-20-17-22-21(2...      0      0      0   \n",
       "4    InChI=1S/C31H54O4Si3/c1-14-15-16-17-24-21-27(3...      0      0      0   \n",
       "..                                                 ...    ...    ...    ...   \n",
       "100  InChI=1S/C25H44O3Si2/c1-24-14-13-18(26)15-17(2...      0      0      0   \n",
       "101  InChI=1S/C22H34O3Si/c1-21-11-10-15(23)12-14(21...      0      0      0   \n",
       "102  InChI=1S/C25H46O2Si2/c1-24-15-13-19(26-28(3,4)...      0      0      0   \n",
       "103  InChI=1S/C22H38O2Si/c1-21-12-10-16(23)14-15(21...      0      0      0   \n",
       "104  InChI=1S/C17H21NO2Si/c1-21(2,3)20-17(19)13-14-...      0      0      0   \n",
       "\n",
       "     bit_3  bit_4  bit_5  bit_6  bit_7  bit_8  ...  bit_69  bit_70  bit_71  \\\n",
       "0        0      0      0      1      1      1  ...       0       0       0   \n",
       "1        0      0      0      1      0      1  ...       0       0       0   \n",
       "2        0      0      0      1      0      1  ...       0       0       0   \n",
       "3        0      0      0      1      0      1  ...       0       0       0   \n",
       "4        0      0      0      1      1      1  ...       0       0       0   \n",
       "..     ...    ...    ...    ...    ...    ...  ...     ...     ...     ...   \n",
       "100      0      0      0      1      0      1  ...       0       0       0   \n",
       "101      0      0      0      1      0      1  ...       0       0       0   \n",
       "102      0      0      0      1      0      1  ...       0       0       0   \n",
       "103      0      0      0      1      0      1  ...       0       0       0   \n",
       "104      0      0      0      1      0      1  ...       0       0       0   \n",
       "\n",
       "     bit_72  bit_73  bit_74  bit_75  bit_76  bit_77  bit_78  \n",
       "0         0       0       0       0       0       0       0  \n",
       "1         0       0       0       0       0       0       0  \n",
       "2         0       0       0       0       0       0       0  \n",
       "3         0       0       0       0       0       0       0  \n",
       "4         0       0       0       0       0       0       0  \n",
       "..      ...     ...     ...     ...     ...     ...     ...  \n",
       "100       0       0       0       0       0       0       0  \n",
       "101       0       0       0       0       0       0       0  \n",
       "102       0       0       0       0       0       0       0  \n",
       "103       0       0       0       0       0       0       0  \n",
       "104       0       0       0       0       0       0       0  \n",
       "\n",
       "[104 rows x 80 columns]"
      ]
     },
     "execution_count": 16,
     "metadata": {},
     "output_type": "execute_result"
    }
   ],
   "source": [
    "merged"
   ]
  },
  {
   "cell_type": "code",
   "execution_count": 1,
   "metadata": {},
   "outputs": [
    {
     "ename": "NameError",
     "evalue": "name 'pd' is not defined",
     "output_type": "error",
     "traceback": [
      "\u001b[1;31m---------------------------------------------------------------------------\u001b[0m",
      "\u001b[1;31mNameError\u001b[0m                                 Traceback (most recent call last)",
      "\u001b[1;32mc:\\Users\\aleks\\Projects\\IJS\\mass_spectra\\pipeline\\s0_embed.ipynb Cell 21\u001b[0m line \u001b[0;36m1\n\u001b[1;32m----> <a href='vscode-notebook-cell:/c%3A/Users/aleks/Projects/IJS/mass_spectra/pipeline/s0_embed.ipynb#X25sZmlsZQ%3D%3D?line=0'>1</a>\u001b[0m fingerprints_df \u001b[39m=\u001b[39m pd\u001b[39m.\u001b[39mconcat([metadata_df[[\u001b[39m'\u001b[39m\u001b[39mname\u001b[39m\u001b[39m'\u001b[39m, \u001b[39m'\u001b[39m\u001b[39minchi\u001b[39m\u001b[39m'\u001b[39m, \u001b[39m'\u001b[39m\u001b[39minchi_key\u001b[39m\u001b[39m'\u001b[39m]], pd\u001b[39m.\u001b[39mDataFrame(fingerprints[FINGERPRINT])], axis\u001b[39m=\u001b[39m\u001b[39m1\u001b[39m)\n\u001b[0;32m      <a href='vscode-notebook-cell:/c%3A/Users/aleks/Projects/IJS/mass_spectra/pipeline/s0_embed.ipynb#X25sZmlsZQ%3D%3D?line=1'>2</a>\u001b[0m fingerprints_df\u001b[39m.\u001b[39minfo()\n",
      "\u001b[1;31mNameError\u001b[0m: name 'pd' is not defined"
     ]
    }
   ],
   "source": [
    "fingerprints_df = pd.concat([metadata_df[['name', 'inchi', 'inchi_key']], pd.DataFrame(fingerprints[FINGERPRINT])], axis=1)\n",
    "fingerprints_df.info()"
   ]
  },
  {
   "cell_type": "code",
   "execution_count": null,
   "metadata": {},
   "outputs": [
    {
     "name": "stdout",
     "output_type": "stream",
     "text": [
      "Dataframe shape is (106, 169)\n",
      "Dataframe shape is (103, 169)\n"
     ]
    }
   ],
   "source": [
    "print(f\"Dataframe shape is {fingerprints_df.shape}\")\n",
    "fingerprints_df = fingerprints_df.dropna(axis=0, how='any')\n",
    "print(f\"Dataframe shape is {fingerprints_df.shape}\")"
   ]
  },
  {
   "cell_type": "code",
   "execution_count": null,
   "metadata": {},
   "outputs": [],
   "source": [
    "fingerprints_df.to_csv(f'{embedding_folder}/fingerprint.csv', index=False)"
   ]
  },
  {
   "cell_type": "markdown",
   "metadata": {},
   "source": [
    "### Preprocess Spectra"
   ]
  },
  {
   "cell_type": "code",
   "execution_count": null,
   "metadata": {},
   "outputs": [
    {
     "data": {
      "text/plain": [
       "3144"
      ]
     },
     "execution_count": 26,
     "metadata": {},
     "output_type": "execute_result"
    }
   ],
   "source": [
    "spectra_documents = preprocess_file(spectra)\n",
    "len(spectra_documents)"
   ]
  },
  {
   "cell_type": "markdown",
   "metadata": {},
   "source": [
    "### Train Spec2Vec Model"
   ]
  },
  {
   "cell_type": "code",
   "execution_count": null,
   "metadata": {},
   "outputs": [],
   "source": [
    "EPOCHS = 25\n",
    "WORKERS = 6\n",
    "PROCESS_LOGGER = True"
   ]
  },
  {
   "cell_type": "code",
   "execution_count": null,
   "metadata": {},
   "outputs": [],
   "source": [
    "if model_file is None:\n",
    "    model = train_new_word2vec_model(spectra_documents, iterations=EPOCHS, workers=WORKERS, progress_logger=PROCESS_LOGGER)\n",
    "\n",
    "    model_file = f'{model_folder}/spec2vec.model'\n",
    "    model.save(model_file)"
   ]
  },
  {
   "cell_type": "markdown",
   "metadata": {},
   "source": [
    "### Construct Spec2Vec Embeddings"
   ]
  },
  {
   "cell_type": "code",
   "execution_count": null,
   "metadata": {},
   "outputs": [],
   "source": [
    "model = gensim.models.Word2Vec.load(model_file)\n",
    "model = Spec2Vec(model=model)"
   ]
  },
  {
   "cell_type": "code",
   "execution_count": null,
   "metadata": {},
   "outputs": [],
   "source": [
    "embedding_df = []\n",
    "for spectra in spectra_documents:\n",
    "    title = spectra.metadata.get('title')\n",
    "    inchikey = spectra.metadata.get('inchikey')\n",
    "\n",
    "    embedding = calc_vector(model.model, spectra)\n",
    "    embedding_df.append((title, inchikey, *embedding))\n",
    "embedding_df = pd.DataFrame(embedding_df, columns=['name', 'inchi_key', *[str(i) for i in range(len(embedding))]])"
   ]
  },
  {
   "cell_type": "code",
   "execution_count": null,
   "metadata": {},
   "outputs": [],
   "source": [
    "# Sanitize data in string columns\n",
    "embedding_df[embedding_df.columns[embedding_df.dtypes == 'object']] = embedding_df[embedding_df.columns[embedding_df.dtypes == 'object']].applymap(lambda x: x.strip() if isinstance(x, str) else x)"
   ]
  },
  {
   "cell_type": "code",
   "execution_count": null,
   "metadata": {},
   "outputs": [],
   "source": [
    "embedding_df.to_csv(f'{embedding_folder}/spec2vec.csv', index=False)"
   ]
  },
  {
   "cell_type": "markdown",
   "metadata": {},
   "source": [
    "### Merge Fingerprints and Embeddings"
   ]
  },
  {
   "cell_type": "code",
   "execution_count": null,
   "metadata": {},
   "outputs": [
    {
     "data": {
      "text/plain": [
       "(103, 169)"
      ]
     },
     "execution_count": 44,
     "metadata": {},
     "output_type": "execute_result"
    }
   ],
   "source": [
    "fingerprint_df = pd.read_csv(f'{embedding_folder}/fingerprint.csv')\n",
    "fingerprint_df.shape"
   ]
  },
  {
   "cell_type": "code",
   "execution_count": null,
   "metadata": {},
   "outputs": [
    {
     "data": {
      "text/plain": [
       "(3144, 302)"
      ]
     },
     "execution_count": 45,
     "metadata": {},
     "output_type": "execute_result"
    }
   ],
   "source": [
    "embedding_df = pd.read_csv(f'{embedding_folder}/spec2vec.csv')\n",
    "embedding_df.shape"
   ]
  },
  {
   "cell_type": "code",
   "execution_count": null,
   "metadata": {},
   "outputs": [
    {
     "name": "stdout",
     "output_type": "stream",
     "text": [
      "Missing in fingerprint:\n",
      "{'AYONZGOWFAKCNA-UHFFFAOYSA-N', 'OIBARLCQMDCDSG-NSHDSACASA-N'}\n",
      "Missing in embedding:\n",
      "{'ORYOBNFVKJSNIY-UHFFFAOYSA-N', 'PXHFJGOVGANQGI-UHFFFAOYSA-N', 'HGGWBFIRNWOJCL-CPDXTSBQSA-N', 'JZGPZUIFYWMNKG-UHFFFAOYSA-N', 'HBWAMRSFAPVOKZ-UHFFFAOYSA-N'}\n"
     ]
    }
   ],
   "source": [
    "fingerprint_keys = set(fingerprint_df['inchi_key'])\n",
    "embedding_keys = set(embedding_df['inchi_key'])\n",
    "\n",
    "print(\"Missing in fingerprint:\")\n",
    "print(fingerprint_keys - embedding_keys)\n",
    "print(\"Missing in embedding:\")\n",
    "print(embedding_keys - fingerprint_keys)"
   ]
  },
  {
   "cell_type": "code",
   "execution_count": null,
   "metadata": {},
   "outputs": [],
   "source": [
    "prefixed_fingerprint_df = fingerprint_df.copy()\n",
    "prefixed_fingerprint_df.set_index('inchi_key', inplace=True)\n",
    "prefixed_fingerprint_df = prefixed_fingerprint_df[prefixed_fingerprint_df.columns[prefixed_fingerprint_df.dtypes != 'object']]\n",
    "prefixed_fingerprint_df = prefixed_fingerprint_df.add_prefix('fingerprint_')"
   ]
  },
  {
   "cell_type": "code",
   "execution_count": null,
   "metadata": {},
   "outputs": [],
   "source": [
    "prefixed_embedding_df = embedding_df.copy()\n",
    "prefixed_embedding_df.set_index('inchi_key', inplace=True)\n",
    "prefixed_embedding_df = prefixed_embedding_df[prefixed_embedding_df.columns[prefixed_embedding_df.dtypes != 'object']]\n",
    "prefixed_embedding_df = prefixed_embedding_df.add_prefix('embedding_')"
   ]
  },
  {
   "cell_type": "code",
   "execution_count": null,
   "metadata": {},
   "outputs": [
    {
     "data": {
      "text/plain": [
       "(3025, 467)"
      ]
     },
     "execution_count": 49,
     "metadata": {},
     "output_type": "execute_result"
    }
   ],
   "source": [
    "merged_df = prefixed_fingerprint_df.join(prefixed_embedding_df, how='inner')\n",
    "merged_df.reset_index(inplace=True)\n",
    "merged_df.shape"
   ]
  },
  {
   "cell_type": "code",
   "execution_count": null,
   "metadata": {},
   "outputs": [],
   "source": [
    "merged_df.to_csv(f'{embedding_folder}/merged.csv', index=False)"
   ]
  }
 ],
 "metadata": {
  "kernelspec": {
   "display_name": "ijs",
   "language": "python",
   "name": "python3"
  },
  "language_info": {
   "codemirror_mode": {
    "name": "ipython",
    "version": 3
   },
   "file_extension": ".py",
   "mimetype": "text/x-python",
   "name": "python",
   "nbconvert_exporter": "python",
   "pygments_lexer": "ipython3",
   "version": "3.9.16"
  },
  "orig_nbformat": 4
 },
 "nbformat": 4,
 "nbformat_minor": 2
}
