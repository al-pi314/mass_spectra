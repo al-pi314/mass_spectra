{
 "cells": [
  {
   "cell_type": "markdown",
   "metadata": {},
   "source": [
    "# This is Step 0 in the Pipeline - Embedding\n",
    "With this notebook we generate molecular fingerprints and Spec2Vec embeddings."
   ]
  },
  {
   "cell_type": "markdown",
   "metadata": {},
   "source": [
    "### Imports"
   ]
  },
  {
   "cell_type": "code",
   "execution_count": 29,
   "metadata": {},
   "outputs": [],
   "source": [
    "import pandas as pd\n",
    "import os\n",
    "from spec2vec.model_building import train_new_word2vec_model\n",
    "from mass_spectra.to_fingerprint import generate_fingerprint, AVAILABLE_FINGERPRINTS\n",
    "from mass_spectra.train_spec2vec import preprocess_file\n",
    "from spec2vec import Spec2Vec, calc_vector\n",
    "import gensim"
   ]
  },
  {
   "cell_type": "markdown",
   "metadata": {},
   "source": [
    "### Define source files and output folder"
   ]
  },
  {
   "cell_type": "code",
   "execution_count": 30,
   "metadata": {},
   "outputs": [],
   "source": [
    "metadata = './source/dataset/Metadata_test_TMS_derivatives.xlsx'\n",
    "spectra = './source/dataset/Test dataset_TMS_RAW.mgf'\n",
    "model_folder = './source/spec2vec/tms/'\n",
    "embedding_folder = './source/embedding/tms_maccs/'"
   ]
  },
  {
   "cell_type": "code",
   "execution_count": 34,
   "metadata": {},
   "outputs": [],
   "source": [
    "model_file = None # Can be None if the pipeline should train a new model, otherwise specify path to model file (.model ending)"
   ]
  },
  {
   "cell_type": "code",
   "execution_count": 36,
   "metadata": {},
   "outputs": [],
   "source": [
    "assert os.path.isfile(metadata)\n",
    "assert os.path.isfile(spectra)\n",
    "assert os.path.isdir(model_folder)\n",
    "assert os.path.isdir(embedding_folder)\n",
    "assert model_file is None or os.path.isfile(model_file)\n",
    "assert metadata.endswith('.xlsx')\n",
    "assert spectra.endswith('.mgf')\n",
    "assert model_file is None or model_file.endswith('.model')"
   ]
  },
  {
   "cell_type": "markdown",
   "metadata": {},
   "source": [
    "### Define Parameters"
   ]
  },
  {
   "cell_type": "code",
   "execution_count": 37,
   "metadata": {},
   "outputs": [
    {
     "data": {
      "text/plain": [
       "['AtomPairs2DFingerprinter',\n",
       " 'CircularFingerprinter',\n",
       " 'EStateFingerprinter',\n",
       " 'ExtendedFingerprinter',\n",
       " 'KlekotaRothFingerprinter',\n",
       " 'LingoFingerprinter',\n",
       " 'MACCSFingerprinter',\n",
       " 'PubchemFingerprinter']"
      ]
     },
     "execution_count": 37,
     "metadata": {},
     "output_type": "execute_result"
    }
   ],
   "source": [
    "AVAILABLE_FINGERPRINTS"
   ]
  },
  {
   "cell_type": "code",
   "execution_count": 38,
   "metadata": {},
   "outputs": [],
   "source": [
    "FINGERPRINT = 'MACCSFingerprinter'"
   ]
  },
  {
   "cell_type": "code",
   "execution_count": 39,
   "metadata": {},
   "outputs": [],
   "source": [
    "assert FINGERPRINT in AVAILABLE_FINGERPRINTS"
   ]
  },
  {
   "cell_type": "markdown",
   "metadata": {},
   "source": [
    "### Read Source Files"
   ]
  },
  {
   "cell_type": "code",
   "execution_count": 40,
   "metadata": {},
   "outputs": [
    {
     "name": "stdout",
     "output_type": "stream",
     "text": [
      "<class 'pandas.core.frame.DataFrame'>\n",
      "RangeIndex: 106 entries, 0 to 105\n",
      "Data columns (total 15 columns):\n",
      " #   Column                    Non-Null Count  Dtype  \n",
      "---  ------                    --------------  -----  \n",
      " 0   Name                      106 non-null    object \n",
      " 1   Molecular formula         106 non-null    object \n",
      " 2   Exact mass                106 non-null    float64\n",
      " 3   PubChem ID                106 non-null    object \n",
      " 4   InChI                     105 non-null    object \n",
      " 5   InChI Key                 106 non-null    object \n",
      " 6   SMILEs                    105 non-null    object \n",
      " 7   Parent compound           106 non-null    object \n",
      " 8   Molecular formula.1       106 non-null    object \n",
      " 9   Exact mass.1              106 non-null    float64\n",
      " 10  PubChem ID.1              106 non-null    object \n",
      " 11  InChI parent              106 non-null    object \n",
      " 12  InChI Key parent          106 non-null    object \n",
      " 13  SMILEs parent             106 non-null    object \n",
      " 14  present_in_train_dataset  106 non-null    int64  \n",
      "dtypes: float64(2), int64(1), object(12)\n",
      "memory usage: 12.5+ KB\n"
     ]
    }
   ],
   "source": [
    "metadata_df = pd.read_excel(metadata)\n",
    "metadata_df.info()"
   ]
  },
  {
   "cell_type": "code",
   "execution_count": 41,
   "metadata": {},
   "outputs": [
    {
     "name": "stdout",
     "output_type": "stream",
     "text": [
      "Dataframe shape is (106, 15)\n",
      "Dataframe shape is (105, 15)\n"
     ]
    }
   ],
   "source": [
    "print(f\"Dataframe shape is {metadata_df.shape}\")\n",
    "metadata_df = metadata_df.dropna(axis=0, how='any')\n",
    "print(f\"Dataframe shape is {metadata_df.shape}\")"
   ]
  },
  {
   "cell_type": "code",
   "execution_count": 42,
   "metadata": {},
   "outputs": [],
   "source": [
    "# Sanitize source columns\n",
    "def sanitize(s):\n",
    "    s = s.lower()\n",
    "    s = s.strip()\n",
    "    s = s.replace(' ', '_')\n",
    "    return s\n",
    "metadata_df.rename(columns={c: sanitize(c) for c in metadata_df.columns}, inplace=True)\n",
    "\n",
    "# Sanitize data in string columns\n",
    "metadata_df[metadata_df.columns[metadata_df.dtypes == 'object']] = metadata_df[metadata_df.columns[metadata_df.dtypes == 'object']].applymap(lambda x: x.strip() if isinstance(x, str) else x)"
   ]
  },
  {
   "cell_type": "code",
   "execution_count": 43,
   "metadata": {},
   "outputs": [
    {
     "name": "stdout",
     "output_type": "stream",
     "text": [
      "<class 'pandas.core.frame.DataFrame'>\n",
      "Index: 105 entries, 0 to 105\n",
      "Data columns (total 15 columns):\n",
      " #   Column                    Non-Null Count  Dtype  \n",
      "---  ------                    --------------  -----  \n",
      " 0   name                      105 non-null    object \n",
      " 1   molecular_formula         105 non-null    object \n",
      " 2   exact_mass                105 non-null    float64\n",
      " 3   pubchem_id                105 non-null    object \n",
      " 4   inchi                     105 non-null    object \n",
      " 5   inchi_key                 105 non-null    object \n",
      " 6   smiles                    105 non-null    object \n",
      " 7   parent_compound           105 non-null    object \n",
      " 8   molecular_formula.1       105 non-null    object \n",
      " 9   exact_mass.1              105 non-null    float64\n",
      " 10  pubchem_id.1              105 non-null    object \n",
      " 11  inchi_parent              105 non-null    object \n",
      " 12  inchi_key_parent          105 non-null    object \n",
      " 13  smiles_parent             105 non-null    object \n",
      " 14  present_in_train_dataset  105 non-null    int64  \n",
      "dtypes: float64(2), int64(1), object(12)\n",
      "memory usage: 13.1+ KB\n"
     ]
    }
   ],
   "source": [
    "metadata_df.info()"
   ]
  },
  {
   "attachments": {},
   "cell_type": "markdown",
   "metadata": {},
   "source": [
    "### Construct Fingerprints"
   ]
  },
  {
   "cell_type": "code",
   "execution_count": 44,
   "metadata": {},
   "outputs": [
    {
     "name": "stdout",
     "output_type": "stream",
     "text": [
      "Error Number 0 at idx 89 converting InChI key InChI=1S/C25H37NO4Si2/c1-16(27)25(30-32(6,7)8)12-11-18-19-15-17-9-10-20(29-31(3,4)5)22-21(17)24(18,23(25)28-22)13-14-26(19)2/h9-12: HTTPSConnectionPool(host='www.ebi.ac.uk', port=443): Max retries exceeded with url: /unichem/legacy/rest/inchi/InChI=1S/C25H37NO4Si2/c1-16(27)25(30-32(6,7)8)12-11-18-19-15-17-9-10-20(29-31(3,4)5)22-21(17)24(18,23(25)28-22)13-14-26(19)2/h9-12 (Caused by ResponseError('too many 400 error responses'))\n",
      "Error Number 1 at idx 89 converting InChI key InChI=1S/C25H37NO4Si2/c1-16(27)25(30-32(6,7)8)12-11-18-19-15-17-9-10-20(29-31(3,4)5)22-21(17)24(18,23(25)28-22)13-14-26(19)2/h9-12: HTTPSConnectionPool(host='www.ebi.ac.uk', port=443): Max retries exceeded with url: /unichem/legacy/rest/inchi/InChI=1S/C25H37NO4Si2/c1-16(27)25(30-32(6,7)8)12-11-18-19-15-17-9-10-20(29-31(3,4)5)22-21(17)24(18,23(25)28-22)13-14-26(19)2/h9-12 (Caused by ResponseError('too many 400 error responses'))\n",
      "Error Number 2 at idx 89 converting InChI key InChI=1S/C25H37NO4Si2/c1-16(27)25(30-32(6,7)8)12-11-18-19-15-17-9-10-20(29-31(3,4)5)22-21(17)24(18,23(25)28-22)13-14-26(19)2/h9-12: HTTPSConnectionPool(host='www.ebi.ac.uk', port=443): Max retries exceeded with url: /unichem/legacy/rest/inchi/InChI=1S/C25H37NO4Si2/c1-16(27)25(30-32(6,7)8)12-11-18-19-15-17-9-10-20(29-31(3,4)5)22-21(17)24(18,23(25)28-22)13-14-26(19)2/h9-12 (Caused by ResponseError('too many 400 error responses'))\n",
      "Cound not convert InChI key InChI=1S/C25H37NO4Si2/c1-16(27)25(30-32(6,7)8)12-11-18-19-15-17-9-10-20(29-31(3,4)5)22-21(17)24(18,23(25)28-22)13-14-26(19)2/h9-12...skipping\n"
     ]
    }
   ],
   "source": [
    "# Generate fingerprints (can take some time depending on the number of molecules)\n",
    "# If the fingerprint is not available it will be replaced by None values\n",
    "fingerprints = generate_fingerprint([FINGERPRINT], metadata_df['inchi'])"
   ]
  },
  {
   "cell_type": "code",
   "execution_count": 45,
   "metadata": {},
   "outputs": [
    {
     "name": "stdout",
     "output_type": "stream",
     "text": [
      "<class 'pandas.core.frame.DataFrame'>\n",
      "Index: 106 entries, 0 to 98\n",
      "Columns: 169 entries, name to 165\n",
      "dtypes: float64(166), object(3)\n",
      "memory usage: 140.8+ KB\n"
     ]
    }
   ],
   "source": [
    "fingerprints_df = pd.concat([df[['name', 'inchi', 'inchi_key']], pd.DataFrame(fingerprints[FINGERPRINT])], axis=1)\n",
    "fingerprints_df.info()"
   ]
  },
  {
   "cell_type": "code",
   "execution_count": 46,
   "metadata": {},
   "outputs": [
    {
     "name": "stdout",
     "output_type": "stream",
     "text": [
      "Dataframe shape is (106, 169)\n",
      "Dataframe shape is (103, 169)\n"
     ]
    }
   ],
   "source": [
    "print(f\"Dataframe shape is {fingerprints_df.shape}\")\n",
    "fingerprints_df = fingerprints_df.dropna(axis=0, how='any')\n",
    "print(f\"Dataframe shape is {fingerprints_df.shape}\")"
   ]
  },
  {
   "cell_type": "code",
   "execution_count": 47,
   "metadata": {},
   "outputs": [],
   "source": [
    "fingerprints_df.to_csv(f'{embedding_folder}/fingerprint.csv', index=False)"
   ]
  },
  {
   "cell_type": "markdown",
   "metadata": {},
   "source": [
    "### Preprocess Spectra"
   ]
  },
  {
   "cell_type": "code",
   "execution_count": 48,
   "metadata": {},
   "outputs": [
    {
     "data": {
      "text/plain": [
       "3144"
      ]
     },
     "execution_count": 48,
     "metadata": {},
     "output_type": "execute_result"
    }
   ],
   "source": [
    "spectra_documents = preprocess_file(spectra)\n",
    "len(spectra_documents)"
   ]
  },
  {
   "cell_type": "markdown",
   "metadata": {},
   "source": [
    "### Train Spec2Vec Model"
   ]
  },
  {
   "cell_type": "code",
   "execution_count": 49,
   "metadata": {},
   "outputs": [],
   "source": [
    "EPOCHS = 10\n",
    "WORKERS = 6\n",
    "PROCESS_LOGGER = True"
   ]
  },
  {
   "cell_type": "code",
   "execution_count": 50,
   "metadata": {},
   "outputs": [
    {
     "name": "stdout",
     "output_type": "stream",
     "text": [
      "  Epoch 1 of 10.Change in loss after epoch 1: 649373.625\n",
      "  Epoch 2 of 10.Change in loss after epoch 2: 545320.375\n",
      "  Epoch 3 of 10.Change in loss after epoch 3: 539171.5\n",
      "  Epoch 4 of 10.Change in loss after epoch 4: 517972.0\n",
      "  Epoch 5 of 10.Change in loss after epoch 5: 526741.5\n",
      "  Epoch 6 of 10.Change in loss after epoch 6: 498357.25\n",
      "  Epoch 7 of 10.Change in loss after epoch 7: 502363.75\n",
      "  Epoch 8 of 10.Change in loss after epoch 8: 491027.5\n",
      "  Epoch 9 of 10.Change in loss after epoch 9: 467041.0\n",
      "  Epoch 10 of 10.Change in loss after epoch 10: 408274.5\n"
     ]
    }
   ],
   "source": [
    "if model_file is None:\n",
    "    model = train_new_word2vec_model(spectra_documents, iterations=EPOCHS, workers=WORKERS, progress_logger=PROCESS_LOGGER)\n",
    "\n",
    "    model_file = f'{model_folder}/spec2vec.model'\n",
    "    model.save(model_file)"
   ]
  },
  {
   "cell_type": "markdown",
   "metadata": {},
   "source": [
    "### Construct Spec2Vec Embeddings"
   ]
  },
  {
   "cell_type": "code",
   "execution_count": 51,
   "metadata": {},
   "outputs": [],
   "source": [
    "model = gensim.models.Word2Vec.load(model_file)\n",
    "model = Spec2Vec(model=model)"
   ]
  },
  {
   "cell_type": "code",
   "execution_count": 52,
   "metadata": {},
   "outputs": [],
   "source": [
    "embedding_df = []\n",
    "for spectra in spectra_documents:\n",
    "    title = spectra.metadata.get('title')\n",
    "    inchikey = spectra.metadata.get('inchikey')\n",
    "\n",
    "    embedding = calc_vector(model.model, spectra)\n",
    "    embedding_df.append((title, inchikey, *embedding))\n",
    "embedding_df = pd.DataFrame(embedding_df, columns=['name', 'inchi_key', *[str(i) for i in range(len(embedding))]])"
   ]
  },
  {
   "cell_type": "code",
   "execution_count": 53,
   "metadata": {},
   "outputs": [],
   "source": [
    "# Sanitize data in string columns\n",
    "embedding_df[embedding_df.columns[embedding_df.dtypes == 'object']] = embedding_df[embedding_df.columns[embedding_df.dtypes == 'object']].applymap(lambda x: x.strip() if isinstance(x, str) else x)"
   ]
  },
  {
   "cell_type": "code",
   "execution_count": 54,
   "metadata": {},
   "outputs": [],
   "source": [
    "embedding_df.to_csv(f'{embedding_folder}/spec2vec.csv', index=False)"
   ]
  },
  {
   "cell_type": "markdown",
   "metadata": {},
   "source": [
    "### Merge Fingerprints and Embeddings"
   ]
  },
  {
   "cell_type": "code",
   "execution_count": 55,
   "metadata": {},
   "outputs": [
    {
     "data": {
      "text/plain": [
       "(103, 169)"
      ]
     },
     "execution_count": 55,
     "metadata": {},
     "output_type": "execute_result"
    }
   ],
   "source": [
    "fingerprint_df = pd.read_csv(f'{embedding_folder}/fingerprint.csv')\n",
    "fingerprint_df.shape"
   ]
  },
  {
   "cell_type": "code",
   "execution_count": 56,
   "metadata": {},
   "outputs": [
    {
     "data": {
      "text/plain": [
       "(3144, 302)"
      ]
     },
     "execution_count": 56,
     "metadata": {},
     "output_type": "execute_result"
    }
   ],
   "source": [
    "embedding_df = pd.read_csv(f'{embedding_folder}/spec2vec.csv')\n",
    "embedding_df.shape"
   ]
  },
  {
   "cell_type": "code",
   "execution_count": 57,
   "metadata": {},
   "outputs": [
    {
     "name": "stdout",
     "output_type": "stream",
     "text": [
      "Missing in fingerprint:\n",
      "{'OIBARLCQMDCDSG-NSHDSACASA-N', 'AYONZGOWFAKCNA-UHFFFAOYSA-N'}\n",
      "Missing in embedding:\n",
      "{'PXHFJGOVGANQGI-UHFFFAOYSA-N', 'HBWAMRSFAPVOKZ-UHFFFAOYSA-N', 'JZGPZUIFYWMNKG-UHFFFAOYSA-N', 'ORYOBNFVKJSNIY-UHFFFAOYSA-N', 'HGGWBFIRNWOJCL-CPDXTSBQSA-N'}\n"
     ]
    }
   ],
   "source": [
    "fingerprint_keys = set(fingerprint_df['inchi_key'])\n",
    "embedding_keys = set(embedding_df['inchi_key'])\n",
    "\n",
    "print(\"Missing in fingerprint:\")\n",
    "print(fingerprint_keys - embedding_keys)\n",
    "print(\"Missing in embedding:\")\n",
    "print(embedding_keys - fingerprint_keys)"
   ]
  },
  {
   "cell_type": "code",
   "execution_count": 58,
   "metadata": {},
   "outputs": [],
   "source": [
    "prefixed_fingerprint_df = fingerprint_df.copy()\n",
    "prefixed_fingerprint_df.set_index('inchi_key', inplace=True)\n",
    "prefixed_fingerprint_df = prefixed_fingerprint_df[prefixed_fingerprint_df.columns[prefixed_fingerprint_df.dtypes != 'object']]\n",
    "prefixed_fingerprint_df = prefixed_fingerprint_df.add_prefix('fingerprint_')"
   ]
  },
  {
   "cell_type": "code",
   "execution_count": 59,
   "metadata": {},
   "outputs": [],
   "source": [
    "prefixed_embedding_df = embedding_df.copy()\n",
    "prefixed_embedding_df.set_index('inchi_key', inplace=True)\n",
    "prefixed_embedding_df = prefixed_embedding_df[prefixed_embedding_df.columns[prefixed_embedding_df.dtypes != 'object']]\n",
    "prefixed_embedding_df = prefixed_embedding_df.add_prefix('embedding_')"
   ]
  },
  {
   "cell_type": "code",
   "execution_count": 60,
   "metadata": {},
   "outputs": [
    {
     "data": {
      "text/plain": [
       "(3025, 467)"
      ]
     },
     "execution_count": 60,
     "metadata": {},
     "output_type": "execute_result"
    }
   ],
   "source": [
    "merged_df = prefixed_fingerprint_df.join(prefixed_embedding_df, how='inner')\n",
    "merged_df.reset_index(inplace=True)\n",
    "merged_df.shape"
   ]
  },
  {
   "cell_type": "code",
   "execution_count": 62,
   "metadata": {},
   "outputs": [],
   "source": [
    "merged_df.to_csv(f'{embedding_folder}/merged.csv', index=False)"
   ]
  }
 ],
 "metadata": {
  "kernelspec": {
   "display_name": "ijs",
   "language": "python",
   "name": "python3"
  },
  "language_info": {
   "codemirror_mode": {
    "name": "ipython",
    "version": 3
   },
   "file_extension": ".py",
   "mimetype": "text/x-python",
   "name": "python",
   "nbconvert_exporter": "python",
   "pygments_lexer": "ipython3",
   "version": "3.9.16"
  },
  "orig_nbformat": 4
 },
 "nbformat": 4,
 "nbformat_minor": 2
}
