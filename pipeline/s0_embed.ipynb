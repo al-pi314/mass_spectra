{
 "cells": [
  {
   "cell_type": "markdown",
   "metadata": {},
   "source": [
    "# This is Step 0 in the Pipeline - Embedding\n",
    "With this notebook we generate molecular fingerprints and Spec2Vec embeddings."
   ]
  },
  {
   "cell_type": "markdown",
   "metadata": {},
   "source": [
    "### Imports"
   ]
  },
  {
   "cell_type": "code",
   "execution_count": 108,
   "metadata": {},
   "outputs": [],
   "source": [
    "import pandas as pd\n",
    "import os\n",
    "from spec2vec.model_building import train_new_word2vec_model\n",
    "from mass_spectra.to_fingerprint import generate_fingerprint, AVAILABLE_FINGERPRINTS\n",
    "from mass_spectra.train_spec2vec import preprocess_file\n",
    "from spec2vec import Spec2Vec, calc_vector\n",
    "import gensim"
   ]
  },
  {
   "cell_type": "code",
   "execution_count": 109,
   "metadata": {},
   "outputs": [
    {
     "data": {
      "text/plain": [
       "<module 'mass_spectra.train_spec2vec' from 'c:\\\\Users\\\\aleks\\\\Projects\\\\IJS\\\\mass_spectra\\\\mass_spectra\\\\train_spec2vec.py'>"
      ]
     },
     "execution_count": 109,
     "metadata": {},
     "output_type": "execute_result"
    }
   ],
   "source": [
    "import importlib\n",
    "import mass_spectra.train_spec2vec\n",
    "importlib.reload(mass_spectra.train_spec2vec)"
   ]
  },
  {
   "cell_type": "markdown",
   "metadata": {},
   "source": [
    "### Define source files and output folder"
   ]
  },
  {
   "cell_type": "code",
   "execution_count": 110,
   "metadata": {},
   "outputs": [],
   "source": [
    "metadata = './source/dataset/Metadata_test_TMS_derivatives.xlsx'\n",
    "spectra = './source/dataset/Test dataset_TMS_RAW.mgf'\n",
    "model_folder = './source/spec2vec/all_positive/'\n",
    "embedding_folder = './source/embedding/all_positive_all_fingerprints/'"
   ]
  },
  {
   "cell_type": "code",
   "execution_count": 111,
   "metadata": {},
   "outputs": [],
   "source": [
    "model_file = './source/spec2vec/all_positive/spec2vec.model' # Can be None if the pipeline should train a new model, otherwise specify path to model file (.model ending)"
   ]
  },
  {
   "cell_type": "code",
   "execution_count": 112,
   "metadata": {},
   "outputs": [],
   "source": [
    "assert os.path.isfile(metadata)\n",
    "assert os.path.isfile(spectra)\n",
    "assert os.path.isdir(model_folder)\n",
    "assert os.path.isdir(embedding_folder)\n",
    "assert model_file is None or os.path.isfile(model_file)\n",
    "assert metadata.endswith('.xlsx')\n",
    "assert spectra.endswith('.mgf')\n",
    "assert model_file is None or model_file.endswith('.model')"
   ]
  },
  {
   "cell_type": "markdown",
   "metadata": {},
   "source": [
    "### Define Parameters"
   ]
  },
  {
   "cell_type": "code",
   "execution_count": 113,
   "metadata": {},
   "outputs": [
    {
     "data": {
      "text/plain": [
       "['AtomPairs2DFingerprinter',\n",
       " 'CircularFingerprinter',\n",
       " 'EStateFingerprinter',\n",
       " 'ExtendedFingerprinter',\n",
       " 'KlekotaRothFingerprinter',\n",
       " 'MACCSFingerprinter',\n",
       " 'PubchemFingerprinter',\n",
       " 'SubstructureFingerprinter']"
      ]
     },
     "execution_count": 113,
     "metadata": {},
     "output_type": "execute_result"
    }
   ],
   "source": [
    "AVAILABLE_FINGERPRINTS"
   ]
  },
  {
   "cell_type": "code",
   "execution_count": 114,
   "metadata": {},
   "outputs": [],
   "source": [
    "FINGERPRINTS = ['EStateFingerprinter', 'MACCSFingerprinter', 'PubchemFingerprinter', 'SubstructureFingerprinter']"
   ]
  },
  {
   "cell_type": "code",
   "execution_count": 115,
   "metadata": {},
   "outputs": [],
   "source": [
    "FINGERPRINT_NAMES = [v.replace('Fingerprinter', '') for v in FINGERPRINTS]"
   ]
  },
  {
   "cell_type": "code",
   "execution_count": 116,
   "metadata": {},
   "outputs": [],
   "source": [
    "REMOVE_CONSTANT_BITS = True\n",
    "REMOVE_DUPLICATE_BITS = True"
   ]
  },
  {
   "cell_type": "code",
   "execution_count": 117,
   "metadata": {},
   "outputs": [],
   "source": [
    "assert set(FINGERPRINTS).issubset(set(AVAILABLE_FINGERPRINTS))"
   ]
  },
  {
   "cell_type": "markdown",
   "metadata": {},
   "source": [
    "### Read Source Files"
   ]
  },
  {
   "cell_type": "code",
   "execution_count": 118,
   "metadata": {},
   "outputs": [
    {
     "name": "stdout",
     "output_type": "stream",
     "text": [
      "<class 'pandas.core.frame.DataFrame'>\n",
      "RangeIndex: 106 entries, 0 to 105\n",
      "Data columns (total 15 columns):\n",
      " #   Column                    Non-Null Count  Dtype  \n",
      "---  ------                    --------------  -----  \n",
      " 0   Name                      106 non-null    object \n",
      " 1   Molecular formula         106 non-null    object \n",
      " 2   Exact mass                106 non-null    float64\n",
      " 3   PubChem ID                106 non-null    object \n",
      " 4   InChI                     105 non-null    object \n",
      " 5   InChI Key                 106 non-null    object \n",
      " 6   SMILEs                    105 non-null    object \n",
      " 7   Parent compound           106 non-null    object \n",
      " 8   Molecular formula.1       106 non-null    object \n",
      " 9   Exact mass.1              106 non-null    float64\n",
      " 10  PubChem ID.1              106 non-null    object \n",
      " 11  InChI parent              106 non-null    object \n",
      " 12  InChI Key parent          106 non-null    object \n",
      " 13  SMILEs parent             106 non-null    object \n",
      " 14  present_in_train_dataset  106 non-null    int64  \n",
      "dtypes: float64(2), int64(1), object(12)\n",
      "memory usage: 12.5+ KB\n"
     ]
    }
   ],
   "source": [
    "metadata_df = pd.read_excel(metadata)\n",
    "metadata_df.info()"
   ]
  },
  {
   "cell_type": "code",
   "execution_count": 119,
   "metadata": {},
   "outputs": [
    {
     "name": "stdout",
     "output_type": "stream",
     "text": [
      "Dataframe shape is (106, 15)\n",
      "Dataframe shape is (105, 15)\n"
     ]
    }
   ],
   "source": [
    "print(f\"Dataframe shape is {metadata_df.shape}\")\n",
    "metadata_df = metadata_df.dropna(axis=0, how='any')\n",
    "print(f\"Dataframe shape is {metadata_df.shape}\")"
   ]
  },
  {
   "cell_type": "code",
   "execution_count": 120,
   "metadata": {},
   "outputs": [],
   "source": [
    "# Sanitize source columns\n",
    "def sanitize(s):\n",
    "    s = s.lower()\n",
    "    s = s.strip()\n",
    "    s = s.replace(' ', '_')\n",
    "    return s\n",
    "metadata_df.rename(columns={c: sanitize(c) for c in metadata_df.columns}, inplace=True)\n",
    "\n",
    "# Sanitize data in string columns\n",
    "metadata_df[metadata_df.columns[metadata_df.dtypes == 'object']] = metadata_df[metadata_df.columns[metadata_df.dtypes == 'object']].applymap(lambda x: x.strip() if isinstance(x, str) else x)"
   ]
  },
  {
   "cell_type": "code",
   "execution_count": 121,
   "metadata": {},
   "outputs": [
    {
     "name": "stdout",
     "output_type": "stream",
     "text": [
      "<class 'pandas.core.frame.DataFrame'>\n",
      "Index: 105 entries, 0 to 105\n",
      "Data columns (total 15 columns):\n",
      " #   Column                    Non-Null Count  Dtype  \n",
      "---  ------                    --------------  -----  \n",
      " 0   name                      105 non-null    object \n",
      " 1   molecular_formula         105 non-null    object \n",
      " 2   exact_mass                105 non-null    float64\n",
      " 3   pubchem_id                105 non-null    object \n",
      " 4   inchi                     105 non-null    object \n",
      " 5   inchi_key                 105 non-null    object \n",
      " 6   smiles                    105 non-null    object \n",
      " 7   parent_compound           105 non-null    object \n",
      " 8   molecular_formula.1       105 non-null    object \n",
      " 9   exact_mass.1              105 non-null    float64\n",
      " 10  pubchem_id.1              105 non-null    object \n",
      " 11  inchi_parent              105 non-null    object \n",
      " 12  inchi_key_parent          105 non-null    object \n",
      " 13  smiles_parent             105 non-null    object \n",
      " 14  present_in_train_dataset  105 non-null    int64  \n",
      "dtypes: float64(2), int64(1), object(12)\n",
      "memory usage: 13.1+ KB\n"
     ]
    }
   ],
   "source": [
    "metadata_df.info()"
   ]
  },
  {
   "cell_type": "code",
   "execution_count": 122,
   "metadata": {},
   "outputs": [],
   "source": [
    "DESCRIPTIVE_COLUMNS = ['inchi_key', 'inchi', 'name']"
   ]
  },
  {
   "cell_type": "code",
   "execution_count": 123,
   "metadata": {},
   "outputs": [
    {
     "data": {
      "text/html": [
       "<div>\n",
       "<style scoped>\n",
       "    .dataframe tbody tr th:only-of-type {\n",
       "        vertical-align: middle;\n",
       "    }\n",
       "\n",
       "    .dataframe tbody tr th {\n",
       "        vertical-align: top;\n",
       "    }\n",
       "\n",
       "    .dataframe thead th {\n",
       "        text-align: right;\n",
       "    }\n",
       "</style>\n",
       "<table border=\"1\" class=\"dataframe\">\n",
       "  <thead>\n",
       "    <tr style=\"text-align: right;\">\n",
       "      <th></th>\n",
       "      <th>inchi_key</th>\n",
       "      <th>inchi</th>\n",
       "      <th>name</th>\n",
       "    </tr>\n",
       "  </thead>\n",
       "  <tbody>\n",
       "    <tr>\n",
       "      <th>0</th>\n",
       "      <td>FWZOFSHJDAIJQE-UHFFFAOYSA-N</td>\n",
       "      <td>InChI=1S/C27H46O2Si2/c1-11-12-13-14-22-18-25(2...</td>\n",
       "      <td>Cannabidiol, O,O-bis trimethylsilyl ester</td>\n",
       "    </tr>\n",
       "    <tr>\n",
       "      <th>1</th>\n",
       "      <td>VUNXPEWGQXFNOL-UHFFFAOYSA-N</td>\n",
       "      <td>InChI=1S/C24H34O2Si/c1-8-9-10-11-18-15-21-23(2...</td>\n",
       "      <td>Cannabinol, O-trimethylsilyl-</td>\n",
       "    </tr>\n",
       "    <tr>\n",
       "      <th>2</th>\n",
       "      <td>JFPSLJJGWCHYOE-WOJBJXKFSA-N</td>\n",
       "      <td>InChI=1S/C24H38O2Si/c1-8-9-10-11-18-15-21-23(2...</td>\n",
       "      <td>Δ9-tetrahydrocannabinol, TMS derivative</td>\n",
       "    </tr>\n",
       "  </tbody>\n",
       "</table>\n",
       "</div>"
      ],
      "text/plain": [
       "                     inchi_key  \\\n",
       "0  FWZOFSHJDAIJQE-UHFFFAOYSA-N   \n",
       "1  VUNXPEWGQXFNOL-UHFFFAOYSA-N   \n",
       "2  JFPSLJJGWCHYOE-WOJBJXKFSA-N   \n",
       "\n",
       "                                               inchi  \\\n",
       "0  InChI=1S/C27H46O2Si2/c1-11-12-13-14-22-18-25(2...   \n",
       "1  InChI=1S/C24H34O2Si/c1-8-9-10-11-18-15-21-23(2...   \n",
       "2  InChI=1S/C24H38O2Si/c1-8-9-10-11-18-15-21-23(2...   \n",
       "\n",
       "                                        name  \n",
       "0  Cannabidiol, O,O-bis trimethylsilyl ester  \n",
       "1              Cannabinol, O-trimethylsilyl-  \n",
       "2    Δ9-tetrahydrocannabinol, TMS derivative  "
      ]
     },
     "execution_count": 123,
     "metadata": {},
     "output_type": "execute_result"
    }
   ],
   "source": [
    "metadata_df[DESCRIPTIVE_COLUMNS].head(3)"
   ]
  },
  {
   "attachments": {},
   "cell_type": "markdown",
   "metadata": {},
   "source": [
    "### Construct Fingerprints"
   ]
  },
  {
   "cell_type": "code",
   "execution_count": 124,
   "metadata": {},
   "outputs": [
    {
     "name": "stdout",
     "output_type": "stream",
     "text": [
      "Generating EStateFingerprinter fingerprint\n",
      "Converting 105 InChI keys to 79 bit EStateFingerprinter fingerprint\n"
     ]
    },
    {
     "name": "stdout",
     "output_type": "stream",
     "text": [
      "Error Number 0 at idx 89 converting InChI key InChI=1S/C25H37NO4Si2/c1-16(27)25(30-32(6,7)8)12-11-18-19-15-17-9-10-20(29-31(3,4)5)22-21(17)24(18,23(25)28-22)13-14-26(19)2/h9-12: HTTPSConnectionPool(host='www.ebi.ac.uk', port=443): Max retries exceeded with url: /unichem/legacy/rest/inchi/InChI=1S/C25H37NO4Si2/c1-16(27)25(30-32(6,7)8)12-11-18-19-15-17-9-10-20(29-31(3,4)5)22-21(17)24(18,23(25)28-22)13-14-26(19)2/h9-12 (Caused by ResponseError('too many 400 error responses'))\n",
      "Error Number 1 at idx 89 converting InChI key InChI=1S/C25H37NO4Si2/c1-16(27)25(30-32(6,7)8)12-11-18-19-15-17-9-10-20(29-31(3,4)5)22-21(17)24(18,23(25)28-22)13-14-26(19)2/h9-12: HTTPSConnectionPool(host='www.ebi.ac.uk', port=443): Max retries exceeded with url: /unichem/legacy/rest/inchi/InChI=1S/C25H37NO4Si2/c1-16(27)25(30-32(6,7)8)12-11-18-19-15-17-9-10-20(29-31(3,4)5)22-21(17)24(18,23(25)28-22)13-14-26(19)2/h9-12 (Caused by ResponseError('too many 400 error responses'))\n",
      "Error Number 2 at idx 89 converting InChI key InChI=1S/C25H37NO4Si2/c1-16(27)25(30-32(6,7)8)12-11-18-19-15-17-9-10-20(29-31(3,4)5)22-21(17)24(18,23(25)28-22)13-14-26(19)2/h9-12: HTTPSConnectionPool(host='www.ebi.ac.uk', port=443): Max retries exceeded with url: /unichem/legacy/rest/inchi/InChI=1S/C25H37NO4Si2/c1-16(27)25(30-32(6,7)8)12-11-18-19-15-17-9-10-20(29-31(3,4)5)22-21(17)24(18,23(25)28-22)13-14-26(19)2/h9-12 (Caused by ResponseError('too many 400 error responses'))\n",
      "Cound not convert InChI key InChI=1S/C25H37NO4Si2/c1-16(27)25(30-32(6,7)8)12-11-18-19-15-17-9-10-20(29-31(3,4)5)22-21(17)24(18,23(25)28-22)13-14-26(19)2/h9-12...skipping\n",
      "Generating MACCSFingerprinter fingerprint\n",
      "Converting 105 InChI keys to 166 bit MACCSFingerprinter fingerprint\n",
      "Error Number 0 at idx 89 converting InChI key InChI=1S/C25H37NO4Si2/c1-16(27)25(30-32(6,7)8)12-11-18-19-15-17-9-10-20(29-31(3,4)5)22-21(17)24(18,23(25)28-22)13-14-26(19)2/h9-12: HTTPSConnectionPool(host='www.ebi.ac.uk', port=443): Max retries exceeded with url: /unichem/legacy/rest/inchi/InChI=1S/C25H37NO4Si2/c1-16(27)25(30-32(6,7)8)12-11-18-19-15-17-9-10-20(29-31(3,4)5)22-21(17)24(18,23(25)28-22)13-14-26(19)2/h9-12 (Caused by ResponseError('too many 400 error responses'))\n",
      "Error Number 1 at idx 89 converting InChI key InChI=1S/C25H37NO4Si2/c1-16(27)25(30-32(6,7)8)12-11-18-19-15-17-9-10-20(29-31(3,4)5)22-21(17)24(18,23(25)28-22)13-14-26(19)2/h9-12: HTTPSConnectionPool(host='www.ebi.ac.uk', port=443): Max retries exceeded with url: /unichem/legacy/rest/inchi/InChI=1S/C25H37NO4Si2/c1-16(27)25(30-32(6,7)8)12-11-18-19-15-17-9-10-20(29-31(3,4)5)22-21(17)24(18,23(25)28-22)13-14-26(19)2/h9-12 (Caused by ResponseError('too many 400 error responses'))\n",
      "Error Number 2 at idx 89 converting InChI key InChI=1S/C25H37NO4Si2/c1-16(27)25(30-32(6,7)8)12-11-18-19-15-17-9-10-20(29-31(3,4)5)22-21(17)24(18,23(25)28-22)13-14-26(19)2/h9-12: HTTPSConnectionPool(host='www.ebi.ac.uk', port=443): Max retries exceeded with url: /unichem/legacy/rest/inchi/InChI=1S/C25H37NO4Si2/c1-16(27)25(30-32(6,7)8)12-11-18-19-15-17-9-10-20(29-31(3,4)5)22-21(17)24(18,23(25)28-22)13-14-26(19)2/h9-12 (Caused by ResponseError('too many 400 error responses'))\n",
      "Cound not convert InChI key InChI=1S/C25H37NO4Si2/c1-16(27)25(30-32(6,7)8)12-11-18-19-15-17-9-10-20(29-31(3,4)5)22-21(17)24(18,23(25)28-22)13-14-26(19)2/h9-12...skipping\n",
      "Generating PubchemFingerprinter fingerprint\n",
      "Converting 105 InChI keys to 881 bit PubchemFingerprinter fingerprint\n",
      "Error Number 0 at idx 89 converting InChI key InChI=1S/C25H37NO4Si2/c1-16(27)25(30-32(6,7)8)12-11-18-19-15-17-9-10-20(29-31(3,4)5)22-21(17)24(18,23(25)28-22)13-14-26(19)2/h9-12: HTTPSConnectionPool(host='www.ebi.ac.uk', port=443): Max retries exceeded with url: /unichem/legacy/rest/inchi/InChI=1S/C25H37NO4Si2/c1-16(27)25(30-32(6,7)8)12-11-18-19-15-17-9-10-20(29-31(3,4)5)22-21(17)24(18,23(25)28-22)13-14-26(19)2/h9-12 (Caused by ResponseError('too many 400 error responses'))\n",
      "Error Number 1 at idx 89 converting InChI key InChI=1S/C25H37NO4Si2/c1-16(27)25(30-32(6,7)8)12-11-18-19-15-17-9-10-20(29-31(3,4)5)22-21(17)24(18,23(25)28-22)13-14-26(19)2/h9-12: HTTPSConnectionPool(host='www.ebi.ac.uk', port=443): Max retries exceeded with url: /unichem/legacy/rest/inchi/InChI=1S/C25H37NO4Si2/c1-16(27)25(30-32(6,7)8)12-11-18-19-15-17-9-10-20(29-31(3,4)5)22-21(17)24(18,23(25)28-22)13-14-26(19)2/h9-12 (Caused by ResponseError('too many 400 error responses'))\n",
      "Error Number 2 at idx 89 converting InChI key InChI=1S/C25H37NO4Si2/c1-16(27)25(30-32(6,7)8)12-11-18-19-15-17-9-10-20(29-31(3,4)5)22-21(17)24(18,23(25)28-22)13-14-26(19)2/h9-12: HTTPSConnectionPool(host='www.ebi.ac.uk', port=443): Max retries exceeded with url: /unichem/legacy/rest/inchi/InChI=1S/C25H37NO4Si2/c1-16(27)25(30-32(6,7)8)12-11-18-19-15-17-9-10-20(29-31(3,4)5)22-21(17)24(18,23(25)28-22)13-14-26(19)2/h9-12 (Caused by ResponseError('too many 400 error responses'))\n",
      "Cound not convert InChI key InChI=1S/C25H37NO4Si2/c1-16(27)25(30-32(6,7)8)12-11-18-19-15-17-9-10-20(29-31(3,4)5)22-21(17)24(18,23(25)28-22)13-14-26(19)2/h9-12...skipping\n",
      "Generating SubstructureFingerprinter fingerprint\n",
      "Converting 105 InChI keys to 307 bit SubstructureFingerprinter fingerprint\n",
      "Error Number 0 at idx 89 converting InChI key InChI=1S/C25H37NO4Si2/c1-16(27)25(30-32(6,7)8)12-11-18-19-15-17-9-10-20(29-31(3,4)5)22-21(17)24(18,23(25)28-22)13-14-26(19)2/h9-12: HTTPSConnectionPool(host='www.ebi.ac.uk', port=443): Max retries exceeded with url: /unichem/legacy/rest/inchi/InChI=1S/C25H37NO4Si2/c1-16(27)25(30-32(6,7)8)12-11-18-19-15-17-9-10-20(29-31(3,4)5)22-21(17)24(18,23(25)28-22)13-14-26(19)2/h9-12 (Caused by ResponseError('too many 400 error responses'))\n",
      "Error Number 1 at idx 89 converting InChI key InChI=1S/C25H37NO4Si2/c1-16(27)25(30-32(6,7)8)12-11-18-19-15-17-9-10-20(29-31(3,4)5)22-21(17)24(18,23(25)28-22)13-14-26(19)2/h9-12: HTTPSConnectionPool(host='www.ebi.ac.uk', port=443): Max retries exceeded with url: /unichem/legacy/rest/inchi/InChI=1S/C25H37NO4Si2/c1-16(27)25(30-32(6,7)8)12-11-18-19-15-17-9-10-20(29-31(3,4)5)22-21(17)24(18,23(25)28-22)13-14-26(19)2/h9-12 (Caused by ResponseError('too many 400 error responses'))\n",
      "Error Number 2 at idx 89 converting InChI key InChI=1S/C25H37NO4Si2/c1-16(27)25(30-32(6,7)8)12-11-18-19-15-17-9-10-20(29-31(3,4)5)22-21(17)24(18,23(25)28-22)13-14-26(19)2/h9-12: HTTPSConnectionPool(host='www.ebi.ac.uk', port=443): Max retries exceeded with url: /unichem/legacy/rest/inchi/InChI=1S/C25H37NO4Si2/c1-16(27)25(30-32(6,7)8)12-11-18-19-15-17-9-10-20(29-31(3,4)5)22-21(17)24(18,23(25)28-22)13-14-26(19)2/h9-12 (Caused by ResponseError('too many 400 error responses'))\n",
      "Cound not convert InChI key InChI=1S/C25H37NO4Si2/c1-16(27)25(30-32(6,7)8)12-11-18-19-15-17-9-10-20(29-31(3,4)5)22-21(17)24(18,23(25)28-22)13-14-26(19)2/h9-12...skipping\n"
     ]
    }
   ],
   "source": [
    "# Generate fingerprints (can take some time depending on the number of molecules)\n",
    "# If the fingerprint is not available it will be replaced by None values\n",
    "fingerprints = generate_fingerprint(FINGERPRINTS, metadata_df['inchi'])"
   ]
  },
  {
   "cell_type": "code",
   "execution_count": 125,
   "metadata": {},
   "outputs": [],
   "source": [
    "# check if inchi is set as index and if not set it\n",
    "for k, v in fingerprints.items():\n",
    "    if not v.index.name == 'inchi':\n",
    "        fingerprints[k].set_index('inchi', inplace=True)"
   ]
  },
  {
   "cell_type": "code",
   "execution_count": 126,
   "metadata": {},
   "outputs": [
    {
     "data": {
      "text/plain": [
       "(104, 1433)"
      ]
     },
     "execution_count": 126,
     "metadata": {},
     "output_type": "execute_result"
    }
   ],
   "source": [
    "# combine all generated fingerprints with prefixed column names\n",
    "merged = None\n",
    "for fp, fp_df in fingerprints.items():\n",
    "    tmp = fp_df.copy()\n",
    "    tmp.columns = [f'{fp.lower().replace(\"fingerprinter\", \"\")}_{c}' for c in tmp.columns]\n",
    "    if merged is None:\n",
    "        merged = tmp\n",
    "    else:\n",
    "        merged = merged.join(tmp, how='inner')\n",
    "merged.shape"
   ]
  },
  {
   "cell_type": "code",
   "execution_count": 127,
   "metadata": {},
   "outputs": [
    {
     "data": {
      "text/plain": [
       "(104, 604)"
      ]
     },
     "execution_count": 127,
     "metadata": {},
     "output_type": "execute_result"
    }
   ],
   "source": [
    "if REMOVE_CONSTANT_BITS:\n",
    "    merged = merged[merged.columns[merged.nunique() > 1]]\n",
    "merged.shape"
   ]
  },
  {
   "cell_type": "code",
   "execution_count": 128,
   "metadata": {},
   "outputs": [
    {
     "data": {
      "text/plain": [
       "(104, 302)"
      ]
     },
     "execution_count": 128,
     "metadata": {},
     "output_type": "execute_result"
    }
   ],
   "source": [
    "if REMOVE_DUPLICATE_BITS:\n",
    "    merged = merged.T.drop_duplicates().T\n",
    "merged.shape"
   ]
  },
  {
   "cell_type": "code",
   "execution_count": 129,
   "metadata": {},
   "outputs": [
    {
     "name": "stdout",
     "output_type": "stream",
     "text": [
      "<class 'pandas.core.frame.DataFrame'>\n",
      "RangeIndex: 104 entries, 0 to 103\n",
      "Columns: 305 entries, inchi_key to substructure_bit_306\n",
      "dtypes: int64(302), object(3)\n",
      "memory usage: 247.9+ KB\n"
     ]
    }
   ],
   "source": [
    "descriptive_data = metadata_df[DESCRIPTIVE_COLUMNS].set_index('inchi')\n",
    "fingerprints_df = descriptive_data.join(merged, how='inner').reset_index()\n",
    "other_columns = [c for c in fingerprints_df.columns if c not in DESCRIPTIVE_COLUMNS]\n",
    "fingerprints_df = fingerprints_df[DESCRIPTIVE_COLUMNS + other_columns]\n",
    "fingerprints_df.info()"
   ]
  },
  {
   "cell_type": "code",
   "execution_count": 130,
   "metadata": {},
   "outputs": [
    {
     "data": {
      "text/html": [
       "<div>\n",
       "<style scoped>\n",
       "    .dataframe tbody tr th:only-of-type {\n",
       "        vertical-align: middle;\n",
       "    }\n",
       "\n",
       "    .dataframe tbody tr th {\n",
       "        vertical-align: top;\n",
       "    }\n",
       "\n",
       "    .dataframe thead th {\n",
       "        text-align: right;\n",
       "    }\n",
       "</style>\n",
       "<table border=\"1\" class=\"dataframe\">\n",
       "  <thead>\n",
       "    <tr style=\"text-align: right;\">\n",
       "      <th></th>\n",
       "      <th>inchi_key</th>\n",
       "      <th>inchi</th>\n",
       "      <th>name</th>\n",
       "      <th>estate_bit_6</th>\n",
       "      <th>estate_bit_7</th>\n",
       "      <th>estate_bit_8</th>\n",
       "      <th>estate_bit_9</th>\n",
       "      <th>estate_bit_10</th>\n",
       "      <th>estate_bit_11</th>\n",
       "      <th>estate_bit_12</th>\n",
       "      <th>...</th>\n",
       "      <th>substructure_bit_134</th>\n",
       "      <th>substructure_bit_135</th>\n",
       "      <th>substructure_bit_278</th>\n",
       "      <th>substructure_bit_286</th>\n",
       "      <th>substructure_bit_290</th>\n",
       "      <th>substructure_bit_299</th>\n",
       "      <th>substructure_bit_300</th>\n",
       "      <th>substructure_bit_302</th>\n",
       "      <th>substructure_bit_304</th>\n",
       "      <th>substructure_bit_306</th>\n",
       "    </tr>\n",
       "  </thead>\n",
       "  <tbody>\n",
       "    <tr>\n",
       "      <th>0</th>\n",
       "      <td>FWZOFSHJDAIJQE-UHFFFAOYSA-N</td>\n",
       "      <td>InChI=1S/C27H46O2Si2/c1-11-12-13-14-22-18-25(2...</td>\n",
       "      <td>Cannabidiol, O,O-bis trimethylsilyl ester</td>\n",
       "      <td>1</td>\n",
       "      <td>1</td>\n",
       "      <td>1</td>\n",
       "      <td>0</td>\n",
       "      <td>1</td>\n",
       "      <td>1</td>\n",
       "      <td>1</td>\n",
       "      <td>...</td>\n",
       "      <td>0</td>\n",
       "      <td>0</td>\n",
       "      <td>0</td>\n",
       "      <td>0</td>\n",
       "      <td>0</td>\n",
       "      <td>0</td>\n",
       "      <td>0</td>\n",
       "      <td>0</td>\n",
       "      <td>0</td>\n",
       "      <td>1</td>\n",
       "    </tr>\n",
       "    <tr>\n",
       "      <th>1</th>\n",
       "      <td>VUNXPEWGQXFNOL-UHFFFAOYSA-N</td>\n",
       "      <td>InChI=1S/C24H34O2Si/c1-8-9-10-11-18-15-21-23(2...</td>\n",
       "      <td>Cannabinol, O-trimethylsilyl-</td>\n",
       "      <td>1</td>\n",
       "      <td>0</td>\n",
       "      <td>1</td>\n",
       "      <td>0</td>\n",
       "      <td>0</td>\n",
       "      <td>1</td>\n",
       "      <td>0</td>\n",
       "      <td>...</td>\n",
       "      <td>0</td>\n",
       "      <td>0</td>\n",
       "      <td>1</td>\n",
       "      <td>0</td>\n",
       "      <td>0</td>\n",
       "      <td>0</td>\n",
       "      <td>0</td>\n",
       "      <td>0</td>\n",
       "      <td>0</td>\n",
       "      <td>1</td>\n",
       "    </tr>\n",
       "    <tr>\n",
       "      <th>2</th>\n",
       "      <td>JFPSLJJGWCHYOE-WOJBJXKFSA-N</td>\n",
       "      <td>InChI=1S/C24H38O2Si/c1-8-9-10-11-18-15-21-23(2...</td>\n",
       "      <td>Δ9-tetrahydrocannabinol, TMS derivative</td>\n",
       "      <td>1</td>\n",
       "      <td>0</td>\n",
       "      <td>1</td>\n",
       "      <td>0</td>\n",
       "      <td>1</td>\n",
       "      <td>1</td>\n",
       "      <td>0</td>\n",
       "      <td>...</td>\n",
       "      <td>0</td>\n",
       "      <td>0</td>\n",
       "      <td>1</td>\n",
       "      <td>0</td>\n",
       "      <td>0</td>\n",
       "      <td>0</td>\n",
       "      <td>0</td>\n",
       "      <td>0</td>\n",
       "      <td>0</td>\n",
       "      <td>1</td>\n",
       "    </tr>\n",
       "  </tbody>\n",
       "</table>\n",
       "<p>3 rows × 305 columns</p>\n",
       "</div>"
      ],
      "text/plain": [
       "                     inchi_key  \\\n",
       "0  FWZOFSHJDAIJQE-UHFFFAOYSA-N   \n",
       "1  VUNXPEWGQXFNOL-UHFFFAOYSA-N   \n",
       "2  JFPSLJJGWCHYOE-WOJBJXKFSA-N   \n",
       "\n",
       "                                               inchi  \\\n",
       "0  InChI=1S/C27H46O2Si2/c1-11-12-13-14-22-18-25(2...   \n",
       "1  InChI=1S/C24H34O2Si/c1-8-9-10-11-18-15-21-23(2...   \n",
       "2  InChI=1S/C24H38O2Si/c1-8-9-10-11-18-15-21-23(2...   \n",
       "\n",
       "                                        name  estate_bit_6  estate_bit_7  \\\n",
       "0  Cannabidiol, O,O-bis trimethylsilyl ester             1             1   \n",
       "1              Cannabinol, O-trimethylsilyl-             1             0   \n",
       "2    Δ9-tetrahydrocannabinol, TMS derivative             1             0   \n",
       "\n",
       "   estate_bit_8  estate_bit_9  estate_bit_10  estate_bit_11  estate_bit_12  \\\n",
       "0             1             0              1              1              1   \n",
       "1             1             0              0              1              0   \n",
       "2             1             0              1              1              0   \n",
       "\n",
       "   ...  substructure_bit_134  substructure_bit_135  substructure_bit_278  \\\n",
       "0  ...                     0                     0                     0   \n",
       "1  ...                     0                     0                     1   \n",
       "2  ...                     0                     0                     1   \n",
       "\n",
       "   substructure_bit_286  substructure_bit_290  substructure_bit_299  \\\n",
       "0                     0                     0                     0   \n",
       "1                     0                     0                     0   \n",
       "2                     0                     0                     0   \n",
       "\n",
       "   substructure_bit_300  substructure_bit_302  substructure_bit_304  \\\n",
       "0                     0                     0                     0   \n",
       "1                     0                     0                     0   \n",
       "2                     0                     0                     0   \n",
       "\n",
       "   substructure_bit_306  \n",
       "0                     1  \n",
       "1                     1  \n",
       "2                     1  \n",
       "\n",
       "[3 rows x 305 columns]"
      ]
     },
     "execution_count": 130,
     "metadata": {},
     "output_type": "execute_result"
    }
   ],
   "source": [
    "fingerprints_df.head(3)"
   ]
  },
  {
   "cell_type": "code",
   "execution_count": 131,
   "metadata": {},
   "outputs": [
    {
     "name": "stdout",
     "output_type": "stream",
     "text": [
      "Dataframe shape is (104, 305)\n",
      "Dataframe shape is (104, 305)\n"
     ]
    }
   ],
   "source": [
    "print(f\"Dataframe shape is {fingerprints_df.shape}\")\n",
    "fingerprints_df = fingerprints_df.dropna(axis=0, how='any')\n",
    "print(f\"Dataframe shape is {fingerprints_df.shape}\")"
   ]
  },
  {
   "cell_type": "code",
   "execution_count": 132,
   "metadata": {},
   "outputs": [],
   "source": [
    "fingerprints_df.to_csv(f'{embedding_folder}/fingerprint.csv', index=False)"
   ]
  },
  {
   "cell_type": "markdown",
   "metadata": {},
   "source": [
    "### Preprocess Spectra"
   ]
  },
  {
   "cell_type": "code",
   "execution_count": 133,
   "metadata": {},
   "outputs": [
    {
     "data": {
      "text/plain": [
       "3144"
      ]
     },
     "execution_count": 133,
     "metadata": {},
     "output_type": "execute_result"
    }
   ],
   "source": [
    "spectra_documents = preprocess_file(spectra)\n",
    "len(spectra_documents)"
   ]
  },
  {
   "cell_type": "markdown",
   "metadata": {},
   "source": [
    "### Train Spec2Vec Model"
   ]
  },
  {
   "cell_type": "code",
   "execution_count": 134,
   "metadata": {},
   "outputs": [],
   "source": [
    "EPOCHS = 25\n",
    "WORKERS = 6\n",
    "PROCESS_LOGGER = True"
   ]
  },
  {
   "cell_type": "code",
   "execution_count": 135,
   "metadata": {},
   "outputs": [],
   "source": [
    "if model_file is None:\n",
    "    model = train_new_word2vec_model(spectra_documents, iterations=EPOCHS, workers=WORKERS, progress_logger=PROCESS_LOGGER)\n",
    "\n",
    "    model_file = f'{model_folder}/spec2vec.model'\n",
    "    model.save(model_file)"
   ]
  },
  {
   "cell_type": "markdown",
   "metadata": {},
   "source": [
    "### Construct Spec2Vec Embeddings"
   ]
  },
  {
   "cell_type": "code",
   "execution_count": 136,
   "metadata": {},
   "outputs": [],
   "source": [
    "model = gensim.models.Word2Vec.load(model_file)\n",
    "model = Spec2Vec(model=model)"
   ]
  },
  {
   "cell_type": "code",
   "execution_count": 137,
   "metadata": {},
   "outputs": [
    {
     "data": {
      "text/plain": [
       "(3144, 300)"
      ]
     },
     "execution_count": 137,
     "metadata": {},
     "output_type": "execute_result"
    }
   ],
   "source": [
    "embedding_df = []\n",
    "for spectra in spectra_documents:\n",
    "    inchikey = spectra.metadata.get('inchikey')\n",
    "\n",
    "    embedding = calc_vector(model.model, spectra)\n",
    "    embedding_df.append((inchikey, *embedding))\n",
    "embedding_df = pd.DataFrame(embedding_df, columns=['inchi_key', *[str(i) for i in range(len(embedding))]])\n",
    "embedding_df.set_index('inchi_key', inplace=True)\n",
    "embedding_df.shape"
   ]
  },
  {
   "cell_type": "code",
   "execution_count": 138,
   "metadata": {},
   "outputs": [
    {
     "data": {
      "text/plain": [
       "(3082, 303)"
      ]
     },
     "execution_count": 138,
     "metadata": {},
     "output_type": "execute_result"
    }
   ],
   "source": [
    "descriptive_data = metadata_df[DESCRIPTIVE_COLUMNS].set_index('inchi_key')\n",
    "embedding_df = descriptive_data.join(embedding_df, how='inner').reset_index()\n",
    "other_columns = [c for c in embedding_df.columns if c not in DESCRIPTIVE_COLUMNS]\n",
    "embedding_df = embedding_df[DESCRIPTIVE_COLUMNS + other_columns]\n",
    "embedding_df.shape"
   ]
  },
  {
   "cell_type": "code",
   "execution_count": 139,
   "metadata": {},
   "outputs": [],
   "source": [
    "embedding_df.to_csv(f'{embedding_folder}/spec2vec.csv', index=False)"
   ]
  },
  {
   "cell_type": "markdown",
   "metadata": {},
   "source": [
    "### Merge Fingerprints and Embeddings"
   ]
  },
  {
   "cell_type": "code",
   "execution_count": 140,
   "metadata": {},
   "outputs": [
    {
     "data": {
      "text/plain": [
       "(104, 305)"
      ]
     },
     "execution_count": 140,
     "metadata": {},
     "output_type": "execute_result"
    }
   ],
   "source": [
    "fingerprint_df = pd.read_csv(f'{embedding_folder}/fingerprint.csv')\n",
    "fingerprint_df.shape"
   ]
  },
  {
   "cell_type": "code",
   "execution_count": 141,
   "metadata": {},
   "outputs": [
    {
     "data": {
      "text/plain": [
       "(3082, 303)"
      ]
     },
     "execution_count": 141,
     "metadata": {},
     "output_type": "execute_result"
    }
   ],
   "source": [
    "embedding_df = pd.read_csv(f'{embedding_folder}/spec2vec.csv')\n",
    "embedding_df.shape"
   ]
  },
  {
   "cell_type": "code",
   "execution_count": 142,
   "metadata": {},
   "outputs": [
    {
     "name": "stdout",
     "output_type": "stream",
     "text": [
      "Missing in fingerprint:\n",
      "{'OIBARLCQMDCDSG-NSHDSACASA-N', 'AYONZGOWFAKCNA-UHFFFAOYSA-N'}\n",
      "Missing in embedding:\n",
      "{'HBWAMRSFAPVOKZ-UHFFFAOYSA-N'}\n"
     ]
    }
   ],
   "source": [
    "fingerprint_keys = set(fingerprint_df['inchi_key'])\n",
    "embedding_keys = set(embedding_df['inchi_key'])\n",
    "\n",
    "print(\"Missing in fingerprint:\")\n",
    "print(fingerprint_keys - embedding_keys)\n",
    "print(\"Missing in embedding:\")\n",
    "print(embedding_keys - fingerprint_keys)"
   ]
  },
  {
   "cell_type": "code",
   "execution_count": 143,
   "metadata": {},
   "outputs": [],
   "source": [
    "prefixed_fingerprint_df = fingerprint_df.copy()\n",
    "prefixed_fingerprint_df.set_index(DESCRIPTIVE_COLUMNS, inplace=True)\n",
    "prefixed_fingerprint_df = prefixed_fingerprint_df[prefixed_fingerprint_df.columns[prefixed_fingerprint_df.dtypes != 'object']]\n",
    "prefixed_fingerprint_df = prefixed_fingerprint_df.add_prefix('fingerprint_')"
   ]
  },
  {
   "cell_type": "code",
   "execution_count": 144,
   "metadata": {},
   "outputs": [],
   "source": [
    "prefixed_embedding_df = embedding_df.copy()\n",
    "prefixed_embedding_df.set_index(DESCRIPTIVE_COLUMNS, inplace=True)\n",
    "prefixed_embedding_df = prefixed_embedding_df[prefixed_embedding_df.columns[prefixed_embedding_df.dtypes != 'object']]\n",
    "prefixed_embedding_df = prefixed_embedding_df.add_prefix('embedding_')"
   ]
  },
  {
   "cell_type": "code",
   "execution_count": 145,
   "metadata": {},
   "outputs": [
    {
     "data": {
      "text/plain": [
       "(3052, 605)"
      ]
     },
     "execution_count": 145,
     "metadata": {},
     "output_type": "execute_result"
    }
   ],
   "source": [
    "merged_df = prefixed_fingerprint_df.join(prefixed_embedding_df, how='inner')\n",
    "merged_df.reset_index(inplace=True)\n",
    "merged_df.shape"
   ]
  },
  {
   "cell_type": "code",
   "execution_count": 146,
   "metadata": {},
   "outputs": [],
   "source": [
    "merged_df.to_csv(f'{embedding_folder}/merged.csv', index=False)"
   ]
  }
 ],
 "metadata": {
  "kernelspec": {
   "display_name": "ijs",
   "language": "python",
   "name": "python3"
  },
  "language_info": {
   "codemirror_mode": {
    "name": "ipython",
    "version": 3
   },
   "file_extension": ".py",
   "mimetype": "text/x-python",
   "name": "python",
   "nbconvert_exporter": "python",
   "pygments_lexer": "ipython3",
   "version": "3.9.16"
  },
  "orig_nbformat": 4
 },
 "nbformat": 4,
 "nbformat_minor": 2
}
